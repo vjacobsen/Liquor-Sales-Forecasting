{
  "nbformat": 4,
  "nbformat_minor": 0,
  "metadata": {
    "colab": {
      "name": "Liquor Sales Forecast",
      "provenance": [],
      "collapsed_sections": [
        "AIQhCOKNknSQ",
        "P5TozIiG5aPW"
      ],
      "toc_visible": true,
      "authorship_tag": "ABX9TyMj+xH9mIckcE05H+XQ9yK8",
      "include_colab_link": true
    },
    "kernelspec": {
      "name": "python3",
      "display_name": "Python 3"
    }
  },
  "cells": [
    {
      "cell_type": "markdown",
      "metadata": {
        "id": "view-in-github",
        "colab_type": "text"
      },
      "source": [
        "<a href=\"https://colab.research.google.com/github/vjacobsen/Liquor-Sales-Forecasting/blob/main/Liquor_Sales_Forecast.ipynb\" target=\"_parent\"><img src=\"https://colab.research.google.com/assets/colab-badge.svg\" alt=\"Open In Colab\"/></a>"
      ]
    },
    {
      "cell_type": "code",
      "metadata": {
        "id": "dKyt09H7lzc3",
        "colab": {
          "base_uri": "https://localhost:8080/"
        },
        "outputId": "9a7a23cd-93f6-4b0b-fb2c-5ba3ed9f052f"
      },
      "source": [
        " import pandas as pd\n",
        "import numpy as np\n",
        "from datetime import date\n",
        "import matplotlib.pyplot as plt\n",
        "import seaborn as sns\n",
        "\n",
        "### Provide your credentials to the runtime\n",
        "from google.colab import auth\n",
        "auth.authenticate_user()\n",
        "print('Authenticated')\n",
        "\n",
        "## Optional: Enable data table display\n",
        "%load_ext google.colab.data_table"
      ],
      "execution_count": 254,
      "outputs": [
        {
          "output_type": "stream",
          "text": [
            "Authenticated\n",
            "The google.colab.data_table extension is already loaded. To reload it, use:\n",
            "  %reload_ext google.colab.data_table\n"
          ],
          "name": "stdout"
        }
      ]
    },
    {
      "cell_type": "markdown",
      "metadata": {
        "id": "_RfUUwW896r6"
      },
      "source": [
        "## BigCoud Query"
      ]
    },
    {
      "cell_type": "code",
      "metadata": {
        "id": "JzMv3jdaaCMm"
      },
      "source": [
        "# Set up BigQuery client\n",
        "project_id = 'iowa-liquor-sales-266301'\n",
        "\n",
        "from google.cloud import bigquery\n",
        "\n",
        "client = bigquery.Client(project=project_id)"
      ],
      "execution_count": 255,
      "outputs": []
    },
    {
      "cell_type": "code",
      "metadata": {
        "id": "dm3lkHgJIoMV",
        "colab": {
          "base_uri": "https://localhost:8080/",
          "height": 197
        },
        "outputId": "363d8dd1-bf17-479e-a98f-b54f016b5d63"
      },
      "source": [
        "sales_data = client.query('''\n",
        "\n",
        "SELECT \n",
        "date, \n",
        "item_number,\n",
        "item_description,\n",
        "vendor_number, \n",
        "category_name, \n",
        "SUM(sale_dollars) as sales_amount, \n",
        "SUM(bottles_sold) as sales_bottles,\n",
        "CAST(EXTRACT(YEAR FROM date) as string) as year,\n",
        "CAST(EXTRACT(WEEK FROM date) as string) as week,\n",
        "CAST(EXTRACT(MONTH FROM date) as string) as month \n",
        "\n",
        "FROM `bigquery-public-data.iowa_liquor_sales.sales`\n",
        "\n",
        "WHERE \n",
        "date > DATE_SUB(\n",
        "  (SELECT MAX(date) FROM `bigquery-public-data.iowa_liquor_sales.sales`), \n",
        "INTERVAL 4 YEAR) AND \n",
        "#store_name LIKE \"%Wal-Mart%\" AND\n",
        "vendor_number = '421'\n",
        "\n",
        "GROUP BY\n",
        "date, \n",
        "item_number,\n",
        "sale_dollars, \n",
        "vendor_number, \n",
        "category_name, \n",
        "item_description\n",
        "\n",
        "''').to_dataframe()\n",
        "\n",
        "sales_data.sample(5)"
      ],
      "execution_count": 256,
      "outputs": [
        {
          "output_type": "execute_result",
          "data": {
            "application/vnd.google.colaboratory.module+javascript": "\n      import \"https://ssl.gstatic.com/colaboratory/data_table/a6224c040fa35dcf/data_table.js\";\n\n      window.createDataTable({\n        data: [[{\n            'v': 171482,\n            'f': \"171482\",\n        },\n\"2019-10-10\",\n\"69631\",\n\"Dr McGillicuddys Cherry Mini\",\n\"421\",\n\"Imported Schnapps\",\n{\n            'v': 7.5,\n            'f': \"7.5\",\n        },\n{\n            'v': 1,\n            'f': \"1\",\n        },\n\"2019\",\n\"40\",\n\"10\"],\n [{\n            'v': 173703,\n            'f': \"173703\",\n        },\n\"2017-03-28\",\n\"69634\",\n\"Dr. Mcgillicuddy's Cherry Schnapps\",\n\"421\",\n\"Imported Schnapps\",\n{\n            'v': 24.0,\n            'f': \"24.0\",\n        },\n{\n            'v': 3,\n            'f': \"3\",\n        },\n\"2017\",\n\"13\",\n\"3\"],\n [{\n            'v': 83345,\n            'f': \"83345\",\n        },\n\"2020-08-24\",\n\"59037\",\n\"Desert Island Long Island Iced Tea Cocktail\",\n\"421\",\n\"Cocktails /RTD\",\n{\n            'v': 313.92,\n            'f': \"313.92\",\n        },\n{\n            'v': 48,\n            'f': \"48\",\n        },\n\"2020\",\n\"34\",\n\"8\"],\n [{\n            'v': 234081,\n            'f': \"234081\",\n        },\n\"2017-04-03\",\n\"86884\",\n\"Southern Comfort\",\n\"421\",\n\"Whiskey Liqueur\",\n{\n            'v': 114.72,\n            'f': \"114.72\",\n        },\n{\n            'v': 16,\n            'f': \"16\",\n        },\n\"2017\",\n\"14\",\n\"4\"],\n [{\n            'v': 123714,\n            'f': \"123714\",\n        },\n\"2019-03-06\",\n\"64866\",\n\"Fireball Cinnamon Whiskey\",\n\"421\",\n\"Whiskey Liqueur\",\n{\n            'v': 4536.0,\n            'f': \"4536.0\",\n        },\n{\n            'v': 336,\n            'f': \"336\",\n        },\n\"2019\",\n\"9\",\n\"3\"]],\n        columns: [[\"number\", \"index\"], [\"string\", \"date\"], [\"string\", \"item_number\"], [\"string\", \"item_description\"], [\"string\", \"vendor_number\"], [\"string\", \"category_name\"], [\"number\", \"sales_amount\"], [\"number\", \"sales_bottles\"], [\"string\", \"year\"], [\"string\", \"week\"], [\"string\", \"month\"]],\n        columnOptions: [{\"width\": \"1px\", \"className\": \"index_column\"}],\n        rowsPerPage: 25,\n        helpUrl: \"https://colab.research.google.com/notebooks/data_table.ipynb\",\n        suppressOutputScrolling: true,\n        minimumWidth: undefined,\n      });\n    ",
            "text/html": [
              "<div>\n",
              "<style scoped>\n",
              "    .dataframe tbody tr th:only-of-type {\n",
              "        vertical-align: middle;\n",
              "    }\n",
              "\n",
              "    .dataframe tbody tr th {\n",
              "        vertical-align: top;\n",
              "    }\n",
              "\n",
              "    .dataframe thead th {\n",
              "        text-align: right;\n",
              "    }\n",
              "</style>\n",
              "<table border=\"1\" class=\"dataframe\">\n",
              "  <thead>\n",
              "    <tr style=\"text-align: right;\">\n",
              "      <th></th>\n",
              "      <th>date</th>\n",
              "      <th>item_number</th>\n",
              "      <th>item_description</th>\n",
              "      <th>vendor_number</th>\n",
              "      <th>category_name</th>\n",
              "      <th>sales_amount</th>\n",
              "      <th>sales_bottles</th>\n",
              "      <th>year</th>\n",
              "      <th>week</th>\n",
              "      <th>month</th>\n",
              "    </tr>\n",
              "  </thead>\n",
              "  <tbody>\n",
              "    <tr>\n",
              "      <th>171482</th>\n",
              "      <td>2019-10-10</td>\n",
              "      <td>69631</td>\n",
              "      <td>Dr McGillicuddys Cherry Mini</td>\n",
              "      <td>421</td>\n",
              "      <td>Imported Schnapps</td>\n",
              "      <td>7.50</td>\n",
              "      <td>1</td>\n",
              "      <td>2019</td>\n",
              "      <td>40</td>\n",
              "      <td>10</td>\n",
              "    </tr>\n",
              "    <tr>\n",
              "      <th>173703</th>\n",
              "      <td>2017-03-28</td>\n",
              "      <td>69634</td>\n",
              "      <td>Dr. Mcgillicuddy's Cherry Schnapps</td>\n",
              "      <td>421</td>\n",
              "      <td>Imported Schnapps</td>\n",
              "      <td>24.00</td>\n",
              "      <td>3</td>\n",
              "      <td>2017</td>\n",
              "      <td>13</td>\n",
              "      <td>3</td>\n",
              "    </tr>\n",
              "    <tr>\n",
              "      <th>83345</th>\n",
              "      <td>2020-08-24</td>\n",
              "      <td>59037</td>\n",
              "      <td>Desert Island Long Island Iced Tea Cocktail</td>\n",
              "      <td>421</td>\n",
              "      <td>Cocktails /RTD</td>\n",
              "      <td>313.92</td>\n",
              "      <td>48</td>\n",
              "      <td>2020</td>\n",
              "      <td>34</td>\n",
              "      <td>8</td>\n",
              "    </tr>\n",
              "    <tr>\n",
              "      <th>234081</th>\n",
              "      <td>2017-04-03</td>\n",
              "      <td>86884</td>\n",
              "      <td>Southern Comfort</td>\n",
              "      <td>421</td>\n",
              "      <td>Whiskey Liqueur</td>\n",
              "      <td>114.72</td>\n",
              "      <td>16</td>\n",
              "      <td>2017</td>\n",
              "      <td>14</td>\n",
              "      <td>4</td>\n",
              "    </tr>\n",
              "    <tr>\n",
              "      <th>123714</th>\n",
              "      <td>2019-03-06</td>\n",
              "      <td>64866</td>\n",
              "      <td>Fireball Cinnamon Whiskey</td>\n",
              "      <td>421</td>\n",
              "      <td>Whiskey Liqueur</td>\n",
              "      <td>4536.00</td>\n",
              "      <td>336</td>\n",
              "      <td>2019</td>\n",
              "      <td>9</td>\n",
              "      <td>3</td>\n",
              "    </tr>\n",
              "  </tbody>\n",
              "</table>\n",
              "</div>"
            ],
            "text/plain": [
              "              date item_number  ... week month\n",
              "171482  2019-10-10       69631  ...   40    10\n",
              "173703  2017-03-28       69634  ...   13     3\n",
              "83345   2020-08-24       59037  ...   34     8\n",
              "234081  2017-04-03       86884  ...   14     4\n",
              "123714  2019-03-06       64866  ...    9     3\n",
              "\n",
              "[5 rows x 10 columns]"
            ]
          },
          "metadata": {
            "tags": []
          },
          "execution_count": 256
        }
      ]
    },
    {
      "cell_type": "markdown",
      "metadata": {
        "id": "jYD2Yt4TcQa4"
      },
      "source": [
        "## Data Preprocessing"
      ]
    },
    {
      "cell_type": "code",
      "metadata": {
        "id": "brRqjmPkWRpo",
        "colab": {
          "base_uri": "https://localhost:8080/",
          "height": 214
        },
        "outputId": "f7bb6983-5864-4f29-86f7-ee283e88438b"
      },
      "source": [
        "# Rename columns\n",
        "sales_data = sales_data.rename(columns={'sales_amount':'sales_dollars'})\n",
        "\n",
        "# Create forecast key\n",
        "sales_data['forecast_key'] = sales_data['item_number']\n",
        "\n",
        "# Convert date to date\n",
        "sales_data['date'] = pd.to_datetime(sales_data['date'])\n",
        "\n",
        "# Number of unique keys\n",
        "print(\"Number of items:\", len(sales_data['item_number'].unique()))\n",
        "\n",
        "mapping_table = sales_data.drop_duplicates('forecast_key')[['item_number',\n",
        "                                                            'category_name',\n",
        "                                                            'item_description',\n",
        "                                                            'forecast_key',\n",
        "                                                            'vendor_number']].set_index('forecast_key')\n",
        "mapping_table.head(5)"
      ],
      "execution_count": 257,
      "outputs": [
        {
          "output_type": "stream",
          "text": [
            "Number of items: 369\n"
          ],
          "name": "stdout"
        },
        {
          "output_type": "execute_result",
          "data": {
            "application/vnd.google.colaboratory.module+javascript": "\n      import \"https://ssl.gstatic.com/colaboratory/data_table/a6224c040fa35dcf/data_table.js\";\n\n      window.createDataTable({\n        data: [[\"76436\",\n\"76436\",\nnull,\n\"Old St. Nick's Egg Nog\",\n\"421\"],\n [\"903563\",\n\"903563\",\n\"Special Order Items\",\n\"Rain Vodka\",\n\"421\"],\n [\"86637\",\n\"86637\",\n\"Triple Sec\",\n\"Tortilla Triple Sec\",\n\"421\"],\n [\"100015\",\n\"100015\",\nnull,\n\"Fireball Bag in Box\",\n\"421\"],\n [\"42167\",\n\"42167\",\n\"Aged Dark Rum\",\n\"Myers's Original Dark Rum\",\n\"421\"]],\n        columns: [[\"string\", \"forecast_key\"], [\"string\", \"item_number\"], [\"string\", \"category_name\"], [\"string\", \"item_description\"], [\"string\", \"vendor_number\"]],\n        columnOptions: [{\"width\": \"1px\", \"className\": \"index_column\"}],\n        rowsPerPage: 25,\n        helpUrl: \"https://colab.research.google.com/notebooks/data_table.ipynb\",\n        suppressOutputScrolling: true,\n        minimumWidth: undefined,\n      });\n    ",
            "text/html": [
              "<div>\n",
              "<style scoped>\n",
              "    .dataframe tbody tr th:only-of-type {\n",
              "        vertical-align: middle;\n",
              "    }\n",
              "\n",
              "    .dataframe tbody tr th {\n",
              "        vertical-align: top;\n",
              "    }\n",
              "\n",
              "    .dataframe thead th {\n",
              "        text-align: right;\n",
              "    }\n",
              "</style>\n",
              "<table border=\"1\" class=\"dataframe\">\n",
              "  <thead>\n",
              "    <tr style=\"text-align: right;\">\n",
              "      <th></th>\n",
              "      <th>item_number</th>\n",
              "      <th>category_name</th>\n",
              "      <th>item_description</th>\n",
              "      <th>vendor_number</th>\n",
              "    </tr>\n",
              "    <tr>\n",
              "      <th>forecast_key</th>\n",
              "      <th></th>\n",
              "      <th></th>\n",
              "      <th></th>\n",
              "      <th></th>\n",
              "    </tr>\n",
              "  </thead>\n",
              "  <tbody>\n",
              "    <tr>\n",
              "      <th>76436</th>\n",
              "      <td>76436</td>\n",
              "      <td>None</td>\n",
              "      <td>Old St. Nick's Egg Nog</td>\n",
              "      <td>421</td>\n",
              "    </tr>\n",
              "    <tr>\n",
              "      <th>903563</th>\n",
              "      <td>903563</td>\n",
              "      <td>Special Order Items</td>\n",
              "      <td>Rain Vodka</td>\n",
              "      <td>421</td>\n",
              "    </tr>\n",
              "    <tr>\n",
              "      <th>86637</th>\n",
              "      <td>86637</td>\n",
              "      <td>Triple Sec</td>\n",
              "      <td>Tortilla Triple Sec</td>\n",
              "      <td>421</td>\n",
              "    </tr>\n",
              "    <tr>\n",
              "      <th>100015</th>\n",
              "      <td>100015</td>\n",
              "      <td>None</td>\n",
              "      <td>Fireball Bag in Box</td>\n",
              "      <td>421</td>\n",
              "    </tr>\n",
              "    <tr>\n",
              "      <th>42167</th>\n",
              "      <td>42167</td>\n",
              "      <td>Aged Dark Rum</td>\n",
              "      <td>Myers's Original Dark Rum</td>\n",
              "      <td>421</td>\n",
              "    </tr>\n",
              "  </tbody>\n",
              "</table>\n",
              "</div>"
            ],
            "text/plain": [
              "             item_number  ... vendor_number\n",
              "forecast_key              ...              \n",
              "76436              76436  ...           421\n",
              "903563            903563  ...           421\n",
              "86637              86637  ...           421\n",
              "100015            100015  ...           421\n",
              "42167              42167  ...           421\n",
              "\n",
              "[5 rows x 4 columns]"
            ]
          },
          "metadata": {
            "tags": []
          },
          "execution_count": 257
        }
      ]
    },
    {
      "cell_type": "markdown",
      "metadata": {
        "id": "wp8otPsRMkHi"
      },
      "source": [
        "### Expand missing dates \n",
        "\n"
      ]
    },
    {
      "cell_type": "code",
      "metadata": {
        "id": "0dXalfkVMqbk",
        "colab": {
          "base_uri": "https://localhost:8080/"
        },
        "outputId": "dceffdf5-c9d6-4783-ba20-d098c3f6bebe"
      },
      "source": [
        "from IPython.display import clear_output\n",
        "\n",
        "# Create continuous date range for forecasts\n",
        "def date_populator(df):\n",
        "  first_date = df['date'].min()\n",
        "  current_dates = pd.date_range(first_date, last_date)\n",
        "  current_dates = pd.DataFrame(current_dates)\n",
        "  current_dates['type'] = 'historical'\n",
        "  current_dates = current_dates.rename(columns={0:'date'})\n",
        "  df = df.merge(current_dates, on='date',how='right')\n",
        "\n",
        "  return df\n",
        "\n",
        "last_date = sales_data['date'].max()\n",
        "print(last_date)\n",
        "\n",
        "sales_data = sales_data.groupby('forecast_key').apply(date_populator)\n",
        "\n",
        "sales_data['date'] = pd.to_datetime(sales_data['date'])\n",
        "sales_data = sales_data.drop(columns=['forecast_key'])\n",
        "sales_data = sales_data.reset_index()\n",
        "\n",
        "# year_week key\n",
        "sales_data['year_week'] = (sales_data['date'].dt.year.astype(str) + \"_\" + sales_data['date'].dt.isocalendar().week.astype(str))"
      ],
      "execution_count": 258,
      "outputs": [
        {
          "output_type": "stream",
          "text": [
            "2020-10-30 00:00:00\n"
          ],
          "name": "stdout"
        }
      ]
    },
    {
      "cell_type": "code",
      "metadata": {
        "id": "kxnKJDhNsg-3",
        "colab": {
          "base_uri": "https://localhost:8080/",
          "height": 214
        },
        "outputId": "b60f5e21-eb16-406f-af21-b773ee060dd0"
      },
      "source": [
        "# Drop last week and first week (might have incomplete data)\n",
        "latest_week = sales_data[sales_data['date']==sales_data['date'].max()]['year_week'].values[0]\n",
        "earliest_week = sales_data[sales_data['date']==sales_data['date'].min()]['year_week'].values[0]\n",
        "print(earliest_week,latest_week)\n",
        "\n",
        "sales_data = sales_data[((sales_data['year_week']!=earliest_week) & \n",
        "                         (sales_data['year_week']!=latest_week)\n",
        "                         )].copy()\n",
        "\n",
        "# Fill NA values with 0 \n",
        "sales_data['sales_bottles'] = sales_data['sales_bottles'].fillna(0)\n",
        "\n",
        "sales_data.head()"
      ],
      "execution_count": 259,
      "outputs": [
        {
          "output_type": "stream",
          "text": [
            "2016_44 2020_44\n"
          ],
          "name": "stdout"
        },
        {
          "output_type": "execute_result",
          "data": {
            "application/vnd.google.colaboratory.module+javascript": "\n      import \"https://ssl.gstatic.com/colaboratory/data_table/a6224c040fa35dcf/data_table.js\";\n\n      window.createDataTable({\n        data: [[{\n            'v': 0,\n            'f': \"0\",\n        },\n\"100015\",\n{\n            'v': 0,\n            'f': \"0\",\n        },\n\"2017-08-25 00:00:00\",\n\"100015\",\n\"Fireball Bag in Box\",\n\"421\",\n{\n            'v': null,\n            'f': \"null\",\n        },\n{\n            'v': 135.0,\n            'f': \"135.0\",\n        },\n{\n            'v': 3.0,\n            'f': \"3.0\",\n        },\n\"2017\",\n\"34\",\n\"8\",\n\"historical\",\n\"2017_34\"],\n [{\n            'v': 1,\n            'f': \"1\",\n        },\n\"100015\",\n{\n            'v': 1,\n            'f': \"1\",\n        },\n\"2017-08-25 00:00:00\",\n\"100015\",\n\"Fireball Bag in Box\",\n\"421\",\n{\n            'v': null,\n            'f': \"null\",\n        },\n{\n            'v': 90.0,\n            'f': \"90.0\",\n        },\n{\n            'v': 2.0,\n            'f': \"2.0\",\n        },\n\"2017\",\n\"34\",\n\"8\",\n\"historical\",\n\"2017_34\"],\n [{\n            'v': 2,\n            'f': \"2\",\n        },\n\"100015\",\n{\n            'v': 2,\n            'f': \"2\",\n        },\n\"2017-08-25 00:00:00\",\n\"100015\",\n\"Fireball Bag in Box\",\n\"421\",\n{\n            'v': null,\n            'f': \"null\",\n        },\n{\n            'v': 45.0,\n            'f': \"45.0\",\n        },\n{\n            'v': 1.0,\n            'f': \"1.0\",\n        },\n\"2017\",\n\"34\",\n\"8\",\n\"historical\",\n\"2017_34\"],\n [{\n            'v': 3,\n            'f': \"3\",\n        },\n\"100015\",\n{\n            'v': 3,\n            'f': \"3\",\n        },\n\"2017-08-26 00:00:00\",\nNaN,\nNaN,\nNaN,\n{\n            'v': NaN,\n            'f': \"NaN\",\n        },\n{\n            'v': NaN,\n            'f': \"NaN\",\n        },\n{\n            'v': 0.0,\n            'f': \"0.0\",\n        },\nNaN,\nNaN,\nNaN,\n\"historical\",\n\"2017_34\"],\n [{\n            'v': 4,\n            'f': \"4\",\n        },\n\"100015\",\n{\n            'v': 4,\n            'f': \"4\",\n        },\n\"2017-08-27 00:00:00\",\nNaN,\nNaN,\nNaN,\n{\n            'v': NaN,\n            'f': \"NaN\",\n        },\n{\n            'v': NaN,\n            'f': \"NaN\",\n        },\n{\n            'v': 0.0,\n            'f': \"0.0\",\n        },\nNaN,\nNaN,\nNaN,\n\"historical\",\n\"2017_34\"]],\n        columns: [[\"number\", \"index\"], [\"string\", \"forecast_key\"], [\"number\", \"level_1\"], [\"string\", \"date\"], [\"string\", \"item_number\"], [\"string\", \"item_description\"], [\"string\", \"vendor_number\"], [\"number\", \"category_name\"], [\"number\", \"sales_dollars\"], [\"number\", \"sales_bottles\"], [\"string\", \"year\"], [\"string\", \"week\"], [\"string\", \"month\"], [\"string\", \"type\"], [\"string\", \"year_week\"]],\n        columnOptions: [{\"width\": \"1px\", \"className\": \"index_column\"}],\n        rowsPerPage: 25,\n        helpUrl: \"https://colab.research.google.com/notebooks/data_table.ipynb\",\n        suppressOutputScrolling: true,\n        minimumWidth: undefined,\n      });\n    ",
            "text/html": [
              "<div>\n",
              "<style scoped>\n",
              "    .dataframe tbody tr th:only-of-type {\n",
              "        vertical-align: middle;\n",
              "    }\n",
              "\n",
              "    .dataframe tbody tr th {\n",
              "        vertical-align: top;\n",
              "    }\n",
              "\n",
              "    .dataframe thead th {\n",
              "        text-align: right;\n",
              "    }\n",
              "</style>\n",
              "<table border=\"1\" class=\"dataframe\">\n",
              "  <thead>\n",
              "    <tr style=\"text-align: right;\">\n",
              "      <th></th>\n",
              "      <th>forecast_key</th>\n",
              "      <th>level_1</th>\n",
              "      <th>date</th>\n",
              "      <th>item_number</th>\n",
              "      <th>item_description</th>\n",
              "      <th>vendor_number</th>\n",
              "      <th>category_name</th>\n",
              "      <th>sales_dollars</th>\n",
              "      <th>sales_bottles</th>\n",
              "      <th>year</th>\n",
              "      <th>week</th>\n",
              "      <th>month</th>\n",
              "      <th>type</th>\n",
              "      <th>year_week</th>\n",
              "    </tr>\n",
              "  </thead>\n",
              "  <tbody>\n",
              "    <tr>\n",
              "      <th>0</th>\n",
              "      <td>100015</td>\n",
              "      <td>0</td>\n",
              "      <td>2017-08-25</td>\n",
              "      <td>100015</td>\n",
              "      <td>Fireball Bag in Box</td>\n",
              "      <td>421</td>\n",
              "      <td>None</td>\n",
              "      <td>135.0</td>\n",
              "      <td>3.0</td>\n",
              "      <td>2017</td>\n",
              "      <td>34</td>\n",
              "      <td>8</td>\n",
              "      <td>historical</td>\n",
              "      <td>2017_34</td>\n",
              "    </tr>\n",
              "    <tr>\n",
              "      <th>1</th>\n",
              "      <td>100015</td>\n",
              "      <td>1</td>\n",
              "      <td>2017-08-25</td>\n",
              "      <td>100015</td>\n",
              "      <td>Fireball Bag in Box</td>\n",
              "      <td>421</td>\n",
              "      <td>None</td>\n",
              "      <td>90.0</td>\n",
              "      <td>2.0</td>\n",
              "      <td>2017</td>\n",
              "      <td>34</td>\n",
              "      <td>8</td>\n",
              "      <td>historical</td>\n",
              "      <td>2017_34</td>\n",
              "    </tr>\n",
              "    <tr>\n",
              "      <th>2</th>\n",
              "      <td>100015</td>\n",
              "      <td>2</td>\n",
              "      <td>2017-08-25</td>\n",
              "      <td>100015</td>\n",
              "      <td>Fireball Bag in Box</td>\n",
              "      <td>421</td>\n",
              "      <td>None</td>\n",
              "      <td>45.0</td>\n",
              "      <td>1.0</td>\n",
              "      <td>2017</td>\n",
              "      <td>34</td>\n",
              "      <td>8</td>\n",
              "      <td>historical</td>\n",
              "      <td>2017_34</td>\n",
              "    </tr>\n",
              "    <tr>\n",
              "      <th>3</th>\n",
              "      <td>100015</td>\n",
              "      <td>3</td>\n",
              "      <td>2017-08-26</td>\n",
              "      <td>NaN</td>\n",
              "      <td>NaN</td>\n",
              "      <td>NaN</td>\n",
              "      <td>NaN</td>\n",
              "      <td>NaN</td>\n",
              "      <td>0.0</td>\n",
              "      <td>NaN</td>\n",
              "      <td>NaN</td>\n",
              "      <td>NaN</td>\n",
              "      <td>historical</td>\n",
              "      <td>2017_34</td>\n",
              "    </tr>\n",
              "    <tr>\n",
              "      <th>4</th>\n",
              "      <td>100015</td>\n",
              "      <td>4</td>\n",
              "      <td>2017-08-27</td>\n",
              "      <td>NaN</td>\n",
              "      <td>NaN</td>\n",
              "      <td>NaN</td>\n",
              "      <td>NaN</td>\n",
              "      <td>NaN</td>\n",
              "      <td>0.0</td>\n",
              "      <td>NaN</td>\n",
              "      <td>NaN</td>\n",
              "      <td>NaN</td>\n",
              "      <td>historical</td>\n",
              "      <td>2017_34</td>\n",
              "    </tr>\n",
              "  </tbody>\n",
              "</table>\n",
              "</div>"
            ],
            "text/plain": [
              "  forecast_key  level_1       date item_number  ... week month        type  year_week\n",
              "0       100015        0 2017-08-25      100015  ...   34     8  historical    2017_34\n",
              "1       100015        1 2017-08-25      100015  ...   34     8  historical    2017_34\n",
              "2       100015        2 2017-08-25      100015  ...   34     8  historical    2017_34\n",
              "3       100015        3 2017-08-26         NaN  ...  NaN   NaN  historical    2017_34\n",
              "4       100015        4 2017-08-27         NaN  ...  NaN   NaN  historical    2017_34\n",
              "\n",
              "[5 rows x 14 columns]"
            ]
          },
          "metadata": {
            "tags": []
          },
          "execution_count": 259
        }
      ]
    },
    {
      "cell_type": "markdown",
      "metadata": {
        "id": "EIk7IXm8kAen"
      },
      "source": [
        "### Generate future data to forecast"
      ]
    },
    {
      "cell_type": "code",
      "metadata": {
        "id": "D8ULjMuhqlCy",
        "colab": {
          "base_uri": "https://localhost:8080/",
          "height": 214
        },
        "outputId": "89ad2a1f-86fe-4dab-bacf-3e58190c5934"
      },
      "source": [
        "# Create date range for forecasts, 6 months forward looking\n",
        "\n",
        "weeks_to_forecast = 52\n",
        "\n",
        "last_date = sales_data['date'].max()\n",
        "print(last_date)\n",
        "\n",
        "forecast_future_dates = pd.date_range(last_date, \n",
        "                                      last_date + np.timedelta64(weeks_to_forecast,'W') \n",
        "                                      )\n",
        "\n",
        "forecast_future_dates = pd.DataFrame(forecast_future_dates)\n",
        "forecast_future_dates['type'] = 'forecast'\n",
        "forecast_future_dates = forecast_future_dates.rename(columns={0:'date'})\n",
        "forecast_future_dates['date'] = forecast_future_dates['date'].dt.date\n",
        "\n",
        "forecast_future_dates['merge_dates'] = 'merge'\n",
        "\n",
        "sales_data['merge_dates'] = 'merge'\n",
        "unique_keys = sales_data.drop_duplicates('forecast_key')[['merge_dates','forecast_key']]\n",
        "\n",
        "# Add forecasts to sales data\n",
        "sales_data = sales_data.append(unique_keys.merge(forecast_future_dates))\n",
        "\n",
        "sales_data.drop(columns='merge_dates',inplace=True)\n",
        "\n",
        "sales_data['date'] = pd.to_datetime(sales_data['date'])\n",
        "\n",
        "sales_data.head()"
      ],
      "execution_count": 260,
      "outputs": [
        {
          "output_type": "stream",
          "text": [
            "2020-10-25 00:00:00\n"
          ],
          "name": "stdout"
        },
        {
          "output_type": "execute_result",
          "data": {
            "application/vnd.google.colaboratory.module+javascript": "\n      import \"https://ssl.gstatic.com/colaboratory/data_table/a6224c040fa35dcf/data_table.js\";\n\n      window.createDataTable({\n        data: [[{\n            'v': 0,\n            'f': \"0\",\n        },\n\"100015\",\n{\n            'v': 0.0,\n            'f': \"0.0\",\n        },\n\"2017-08-25 00:00:00\",\n\"100015\",\n\"Fireball Bag in Box\",\n\"421\",\n{\n            'v': null,\n            'f': \"null\",\n        },\n{\n            'v': 135.0,\n            'f': \"135.0\",\n        },\n{\n            'v': 3.0,\n            'f': \"3.0\",\n        },\n\"2017\",\n\"34\",\n\"8\",\n\"historical\",\n\"2017_34\"],\n [{\n            'v': 1,\n            'f': \"1\",\n        },\n\"100015\",\n{\n            'v': 1.0,\n            'f': \"1.0\",\n        },\n\"2017-08-25 00:00:00\",\n\"100015\",\n\"Fireball Bag in Box\",\n\"421\",\n{\n            'v': null,\n            'f': \"null\",\n        },\n{\n            'v': 90.0,\n            'f': \"90.0\",\n        },\n{\n            'v': 2.0,\n            'f': \"2.0\",\n        },\n\"2017\",\n\"34\",\n\"8\",\n\"historical\",\n\"2017_34\"],\n [{\n            'v': 2,\n            'f': \"2\",\n        },\n\"100015\",\n{\n            'v': 2.0,\n            'f': \"2.0\",\n        },\n\"2017-08-25 00:00:00\",\n\"100015\",\n\"Fireball Bag in Box\",\n\"421\",\n{\n            'v': null,\n            'f': \"null\",\n        },\n{\n            'v': 45.0,\n            'f': \"45.0\",\n        },\n{\n            'v': 1.0,\n            'f': \"1.0\",\n        },\n\"2017\",\n\"34\",\n\"8\",\n\"historical\",\n\"2017_34\"],\n [{\n            'v': 3,\n            'f': \"3\",\n        },\n\"100015\",\n{\n            'v': 3.0,\n            'f': \"3.0\",\n        },\n\"2017-08-26 00:00:00\",\nNaN,\nNaN,\nNaN,\n{\n            'v': NaN,\n            'f': \"NaN\",\n        },\n{\n            'v': NaN,\n            'f': \"NaN\",\n        },\n{\n            'v': 0.0,\n            'f': \"0.0\",\n        },\nNaN,\nNaN,\nNaN,\n\"historical\",\n\"2017_34\"],\n [{\n            'v': 4,\n            'f': \"4\",\n        },\n\"100015\",\n{\n            'v': 4.0,\n            'f': \"4.0\",\n        },\n\"2017-08-27 00:00:00\",\nNaN,\nNaN,\nNaN,\n{\n            'v': NaN,\n            'f': \"NaN\",\n        },\n{\n            'v': NaN,\n            'f': \"NaN\",\n        },\n{\n            'v': 0.0,\n            'f': \"0.0\",\n        },\nNaN,\nNaN,\nNaN,\n\"historical\",\n\"2017_34\"]],\n        columns: [[\"number\", \"index\"], [\"string\", \"forecast_key\"], [\"number\", \"level_1\"], [\"string\", \"date\"], [\"string\", \"item_number\"], [\"string\", \"item_description\"], [\"string\", \"vendor_number\"], [\"number\", \"category_name\"], [\"number\", \"sales_dollars\"], [\"number\", \"sales_bottles\"], [\"string\", \"year\"], [\"string\", \"week\"], [\"string\", \"month\"], [\"string\", \"type\"], [\"string\", \"year_week\"]],\n        columnOptions: [{\"width\": \"1px\", \"className\": \"index_column\"}],\n        rowsPerPage: 25,\n        helpUrl: \"https://colab.research.google.com/notebooks/data_table.ipynb\",\n        suppressOutputScrolling: true,\n        minimumWidth: undefined,\n      });\n    ",
            "text/html": [
              "<div>\n",
              "<style scoped>\n",
              "    .dataframe tbody tr th:only-of-type {\n",
              "        vertical-align: middle;\n",
              "    }\n",
              "\n",
              "    .dataframe tbody tr th {\n",
              "        vertical-align: top;\n",
              "    }\n",
              "\n",
              "    .dataframe thead th {\n",
              "        text-align: right;\n",
              "    }\n",
              "</style>\n",
              "<table border=\"1\" class=\"dataframe\">\n",
              "  <thead>\n",
              "    <tr style=\"text-align: right;\">\n",
              "      <th></th>\n",
              "      <th>forecast_key</th>\n",
              "      <th>level_1</th>\n",
              "      <th>date</th>\n",
              "      <th>item_number</th>\n",
              "      <th>item_description</th>\n",
              "      <th>vendor_number</th>\n",
              "      <th>category_name</th>\n",
              "      <th>sales_dollars</th>\n",
              "      <th>sales_bottles</th>\n",
              "      <th>year</th>\n",
              "      <th>week</th>\n",
              "      <th>month</th>\n",
              "      <th>type</th>\n",
              "      <th>year_week</th>\n",
              "    </tr>\n",
              "  </thead>\n",
              "  <tbody>\n",
              "    <tr>\n",
              "      <th>0</th>\n",
              "      <td>100015</td>\n",
              "      <td>0.0</td>\n",
              "      <td>2017-08-25</td>\n",
              "      <td>100015</td>\n",
              "      <td>Fireball Bag in Box</td>\n",
              "      <td>421</td>\n",
              "      <td>None</td>\n",
              "      <td>135.0</td>\n",
              "      <td>3.0</td>\n",
              "      <td>2017</td>\n",
              "      <td>34</td>\n",
              "      <td>8</td>\n",
              "      <td>historical</td>\n",
              "      <td>2017_34</td>\n",
              "    </tr>\n",
              "    <tr>\n",
              "      <th>1</th>\n",
              "      <td>100015</td>\n",
              "      <td>1.0</td>\n",
              "      <td>2017-08-25</td>\n",
              "      <td>100015</td>\n",
              "      <td>Fireball Bag in Box</td>\n",
              "      <td>421</td>\n",
              "      <td>None</td>\n",
              "      <td>90.0</td>\n",
              "      <td>2.0</td>\n",
              "      <td>2017</td>\n",
              "      <td>34</td>\n",
              "      <td>8</td>\n",
              "      <td>historical</td>\n",
              "      <td>2017_34</td>\n",
              "    </tr>\n",
              "    <tr>\n",
              "      <th>2</th>\n",
              "      <td>100015</td>\n",
              "      <td>2.0</td>\n",
              "      <td>2017-08-25</td>\n",
              "      <td>100015</td>\n",
              "      <td>Fireball Bag in Box</td>\n",
              "      <td>421</td>\n",
              "      <td>None</td>\n",
              "      <td>45.0</td>\n",
              "      <td>1.0</td>\n",
              "      <td>2017</td>\n",
              "      <td>34</td>\n",
              "      <td>8</td>\n",
              "      <td>historical</td>\n",
              "      <td>2017_34</td>\n",
              "    </tr>\n",
              "    <tr>\n",
              "      <th>3</th>\n",
              "      <td>100015</td>\n",
              "      <td>3.0</td>\n",
              "      <td>2017-08-26</td>\n",
              "      <td>NaN</td>\n",
              "      <td>NaN</td>\n",
              "      <td>NaN</td>\n",
              "      <td>NaN</td>\n",
              "      <td>NaN</td>\n",
              "      <td>0.0</td>\n",
              "      <td>NaN</td>\n",
              "      <td>NaN</td>\n",
              "      <td>NaN</td>\n",
              "      <td>historical</td>\n",
              "      <td>2017_34</td>\n",
              "    </tr>\n",
              "    <tr>\n",
              "      <th>4</th>\n",
              "      <td>100015</td>\n",
              "      <td>4.0</td>\n",
              "      <td>2017-08-27</td>\n",
              "      <td>NaN</td>\n",
              "      <td>NaN</td>\n",
              "      <td>NaN</td>\n",
              "      <td>NaN</td>\n",
              "      <td>NaN</td>\n",
              "      <td>0.0</td>\n",
              "      <td>NaN</td>\n",
              "      <td>NaN</td>\n",
              "      <td>NaN</td>\n",
              "      <td>historical</td>\n",
              "      <td>2017_34</td>\n",
              "    </tr>\n",
              "  </tbody>\n",
              "</table>\n",
              "</div>"
            ],
            "text/plain": [
              "  forecast_key  level_1       date item_number  ... week month        type  year_week\n",
              "0       100015      0.0 2017-08-25      100015  ...   34     8  historical    2017_34\n",
              "1       100015      1.0 2017-08-25      100015  ...   34     8  historical    2017_34\n",
              "2       100015      2.0 2017-08-25      100015  ...   34     8  historical    2017_34\n",
              "3       100015      3.0 2017-08-26         NaN  ...  NaN   NaN  historical    2017_34\n",
              "4       100015      4.0 2017-08-27         NaN  ...  NaN   NaN  historical    2017_34\n",
              "\n",
              "[5 rows x 14 columns]"
            ]
          },
          "metadata": {
            "tags": []
          },
          "execution_count": 260
        }
      ]
    },
    {
      "cell_type": "markdown",
      "metadata": {
        "id": "944IMvwMWSiC"
      },
      "source": [
        "## Feature Engineering"
      ]
    },
    {
      "cell_type": "code",
      "metadata": {
        "id": "vT22s1b2kdZm"
      },
      "source": [
        "# Variable to forecast\n",
        "target_value = 'sales_bottles'"
      ],
      "execution_count": 261,
      "outputs": []
    },
    {
      "cell_type": "markdown",
      "metadata": {
        "id": "P452aSoVf6gL"
      },
      "source": [
        "### Weeks since start of sales"
      ]
    },
    {
      "cell_type": "code",
      "metadata": {
        "id": "-VlZv-UbrNZH",
        "colab": {
          "base_uri": "https://localhost:8080/",
          "height": 197
        },
        "outputId": "0bb25900-0695-474b-b9e1-fed65768e2b6"
      },
      "source": [
        "# Weeks since start of sales, given by \"trend\" column\n",
        "date_column = 'date'\n",
        "first_dates = sales_data.groupby('forecast_key')[date_column].min().to_dict()\n",
        "\n",
        "sales_data['first_date'] = [first_dates.get(x) for x in sales_data['forecast_key']]\n",
        "\n",
        "sales_data['trend']  = sales_data['date'] - sales_data['first_date'] # days difference\n",
        "sales_data['trend'] = sales_data['trend']/np.timedelta64(1,'W') # convert to weeks\n",
        "sales_data['trend'] = np.ceil(sales_data['trend']) # round up\n",
        "\n",
        "# Drop uneeded columns\n",
        "sales_data = sales_data[['forecast_key',target_value,'date','trend','type']]\n",
        "\n",
        "sales_data.head()"
      ],
      "execution_count": 262,
      "outputs": [
        {
          "output_type": "execute_result",
          "data": {
            "application/vnd.google.colaboratory.module+javascript": "\n      import \"https://ssl.gstatic.com/colaboratory/data_table/a6224c040fa35dcf/data_table.js\";\n\n      window.createDataTable({\n        data: [[{\n            'v': 0,\n            'f': \"0\",\n        },\n\"100015\",\n{\n            'v': 3.0,\n            'f': \"3.0\",\n        },\n\"2017-08-25 00:00:00\",\n{\n            'v': 0.0,\n            'f': \"0.0\",\n        },\n\"historical\"],\n [{\n            'v': 1,\n            'f': \"1\",\n        },\n\"100015\",\n{\n            'v': 2.0,\n            'f': \"2.0\",\n        },\n\"2017-08-25 00:00:00\",\n{\n            'v': 0.0,\n            'f': \"0.0\",\n        },\n\"historical\"],\n [{\n            'v': 2,\n            'f': \"2\",\n        },\n\"100015\",\n{\n            'v': 1.0,\n            'f': \"1.0\",\n        },\n\"2017-08-25 00:00:00\",\n{\n            'v': 0.0,\n            'f': \"0.0\",\n        },\n\"historical\"],\n [{\n            'v': 3,\n            'f': \"3\",\n        },\n\"100015\",\n{\n            'v': 0.0,\n            'f': \"0.0\",\n        },\n\"2017-08-26 00:00:00\",\n{\n            'v': 1.0,\n            'f': \"1.0\",\n        },\n\"historical\"],\n [{\n            'v': 4,\n            'f': \"4\",\n        },\n\"100015\",\n{\n            'v': 0.0,\n            'f': \"0.0\",\n        },\n\"2017-08-27 00:00:00\",\n{\n            'v': 1.0,\n            'f': \"1.0\",\n        },\n\"historical\"]],\n        columns: [[\"number\", \"index\"], [\"string\", \"forecast_key\"], [\"number\", \"sales_bottles\"], [\"string\", \"date\"], [\"number\", \"trend\"], [\"string\", \"type\"]],\n        columnOptions: [{\"width\": \"1px\", \"className\": \"index_column\"}],\n        rowsPerPage: 25,\n        helpUrl: \"https://colab.research.google.com/notebooks/data_table.ipynb\",\n        suppressOutputScrolling: true,\n        minimumWidth: undefined,\n      });\n    ",
            "text/html": [
              "<div>\n",
              "<style scoped>\n",
              "    .dataframe tbody tr th:only-of-type {\n",
              "        vertical-align: middle;\n",
              "    }\n",
              "\n",
              "    .dataframe tbody tr th {\n",
              "        vertical-align: top;\n",
              "    }\n",
              "\n",
              "    .dataframe thead th {\n",
              "        text-align: right;\n",
              "    }\n",
              "</style>\n",
              "<table border=\"1\" class=\"dataframe\">\n",
              "  <thead>\n",
              "    <tr style=\"text-align: right;\">\n",
              "      <th></th>\n",
              "      <th>forecast_key</th>\n",
              "      <th>sales_bottles</th>\n",
              "      <th>date</th>\n",
              "      <th>trend</th>\n",
              "      <th>type</th>\n",
              "    </tr>\n",
              "  </thead>\n",
              "  <tbody>\n",
              "    <tr>\n",
              "      <th>0</th>\n",
              "      <td>100015</td>\n",
              "      <td>3.0</td>\n",
              "      <td>2017-08-25</td>\n",
              "      <td>0.0</td>\n",
              "      <td>historical</td>\n",
              "    </tr>\n",
              "    <tr>\n",
              "      <th>1</th>\n",
              "      <td>100015</td>\n",
              "      <td>2.0</td>\n",
              "      <td>2017-08-25</td>\n",
              "      <td>0.0</td>\n",
              "      <td>historical</td>\n",
              "    </tr>\n",
              "    <tr>\n",
              "      <th>2</th>\n",
              "      <td>100015</td>\n",
              "      <td>1.0</td>\n",
              "      <td>2017-08-25</td>\n",
              "      <td>0.0</td>\n",
              "      <td>historical</td>\n",
              "    </tr>\n",
              "    <tr>\n",
              "      <th>3</th>\n",
              "      <td>100015</td>\n",
              "      <td>0.0</td>\n",
              "      <td>2017-08-26</td>\n",
              "      <td>1.0</td>\n",
              "      <td>historical</td>\n",
              "    </tr>\n",
              "    <tr>\n",
              "      <th>4</th>\n",
              "      <td>100015</td>\n",
              "      <td>0.0</td>\n",
              "      <td>2017-08-27</td>\n",
              "      <td>1.0</td>\n",
              "      <td>historical</td>\n",
              "    </tr>\n",
              "  </tbody>\n",
              "</table>\n",
              "</div>"
            ],
            "text/plain": [
              "  forecast_key  sales_bottles       date  trend        type\n",
              "0       100015            3.0 2017-08-25    0.0  historical\n",
              "1       100015            2.0 2017-08-25    0.0  historical\n",
              "2       100015            1.0 2017-08-25    0.0  historical\n",
              "3       100015            0.0 2017-08-26    1.0  historical\n",
              "4       100015            0.0 2017-08-27    1.0  historical"
            ]
          },
          "metadata": {
            "tags": []
          },
          "execution_count": 262
        }
      ]
    },
    {
      "cell_type": "markdown",
      "metadata": {
        "id": "EA7Le4yKD_6V"
      },
      "source": [
        "### Date features\n"
      ]
    },
    {
      "cell_type": "code",
      "metadata": {
        "id": "ID29lbYDEBIk",
        "colab": {
          "base_uri": "https://localhost:8080/",
          "height": 197
        },
        "outputId": "0a2dbede-1f39-4a4a-d18e-11aa62a7ba47"
      },
      "source": [
        "sales_data['month'] = sales_data['date'].dt.month\n",
        "sales_data['year'] = sales_data['date'].dt.year\n",
        "sales_data['week'] = sales_data['date'].dt.week\n",
        "\n",
        "sales_data.head()"
      ],
      "execution_count": 263,
      "outputs": [
        {
          "output_type": "execute_result",
          "data": {
            "application/vnd.google.colaboratory.module+javascript": "\n      import \"https://ssl.gstatic.com/colaboratory/data_table/a6224c040fa35dcf/data_table.js\";\n\n      window.createDataTable({\n        data: [[{\n            'v': 0,\n            'f': \"0\",\n        },\n\"100015\",\n{\n            'v': 3.0,\n            'f': \"3.0\",\n        },\n\"2017-08-25 00:00:00\",\n{\n            'v': 0.0,\n            'f': \"0.0\",\n        },\n\"historical\",\n{\n            'v': 8,\n            'f': \"8\",\n        },\n{\n            'v': 2017,\n            'f': \"2017\",\n        },\n{\n            'v': 34,\n            'f': \"34\",\n        }],\n [{\n            'v': 1,\n            'f': \"1\",\n        },\n\"100015\",\n{\n            'v': 2.0,\n            'f': \"2.0\",\n        },\n\"2017-08-25 00:00:00\",\n{\n            'v': 0.0,\n            'f': \"0.0\",\n        },\n\"historical\",\n{\n            'v': 8,\n            'f': \"8\",\n        },\n{\n            'v': 2017,\n            'f': \"2017\",\n        },\n{\n            'v': 34,\n            'f': \"34\",\n        }],\n [{\n            'v': 2,\n            'f': \"2\",\n        },\n\"100015\",\n{\n            'v': 1.0,\n            'f': \"1.0\",\n        },\n\"2017-08-25 00:00:00\",\n{\n            'v': 0.0,\n            'f': \"0.0\",\n        },\n\"historical\",\n{\n            'v': 8,\n            'f': \"8\",\n        },\n{\n            'v': 2017,\n            'f': \"2017\",\n        },\n{\n            'v': 34,\n            'f': \"34\",\n        }],\n [{\n            'v': 3,\n            'f': \"3\",\n        },\n\"100015\",\n{\n            'v': 0.0,\n            'f': \"0.0\",\n        },\n\"2017-08-26 00:00:00\",\n{\n            'v': 1.0,\n            'f': \"1.0\",\n        },\n\"historical\",\n{\n            'v': 8,\n            'f': \"8\",\n        },\n{\n            'v': 2017,\n            'f': \"2017\",\n        },\n{\n            'v': 34,\n            'f': \"34\",\n        }],\n [{\n            'v': 4,\n            'f': \"4\",\n        },\n\"100015\",\n{\n            'v': 0.0,\n            'f': \"0.0\",\n        },\n\"2017-08-27 00:00:00\",\n{\n            'v': 1.0,\n            'f': \"1.0\",\n        },\n\"historical\",\n{\n            'v': 8,\n            'f': \"8\",\n        },\n{\n            'v': 2017,\n            'f': \"2017\",\n        },\n{\n            'v': 34,\n            'f': \"34\",\n        }]],\n        columns: [[\"number\", \"index\"], [\"string\", \"forecast_key\"], [\"number\", \"sales_bottles\"], [\"string\", \"date\"], [\"number\", \"trend\"], [\"string\", \"type\"], [\"number\", \"month\"], [\"number\", \"year\"], [\"number\", \"week\"]],\n        columnOptions: [{\"width\": \"1px\", \"className\": \"index_column\"}],\n        rowsPerPage: 25,\n        helpUrl: \"https://colab.research.google.com/notebooks/data_table.ipynb\",\n        suppressOutputScrolling: true,\n        minimumWidth: undefined,\n      });\n    ",
            "text/html": [
              "<div>\n",
              "<style scoped>\n",
              "    .dataframe tbody tr th:only-of-type {\n",
              "        vertical-align: middle;\n",
              "    }\n",
              "\n",
              "    .dataframe tbody tr th {\n",
              "        vertical-align: top;\n",
              "    }\n",
              "\n",
              "    .dataframe thead th {\n",
              "        text-align: right;\n",
              "    }\n",
              "</style>\n",
              "<table border=\"1\" class=\"dataframe\">\n",
              "  <thead>\n",
              "    <tr style=\"text-align: right;\">\n",
              "      <th></th>\n",
              "      <th>forecast_key</th>\n",
              "      <th>sales_bottles</th>\n",
              "      <th>date</th>\n",
              "      <th>trend</th>\n",
              "      <th>type</th>\n",
              "      <th>month</th>\n",
              "      <th>year</th>\n",
              "      <th>week</th>\n",
              "    </tr>\n",
              "  </thead>\n",
              "  <tbody>\n",
              "    <tr>\n",
              "      <th>0</th>\n",
              "      <td>100015</td>\n",
              "      <td>3.0</td>\n",
              "      <td>2017-08-25</td>\n",
              "      <td>0.0</td>\n",
              "      <td>historical</td>\n",
              "      <td>8</td>\n",
              "      <td>2017</td>\n",
              "      <td>34</td>\n",
              "    </tr>\n",
              "    <tr>\n",
              "      <th>1</th>\n",
              "      <td>100015</td>\n",
              "      <td>2.0</td>\n",
              "      <td>2017-08-25</td>\n",
              "      <td>0.0</td>\n",
              "      <td>historical</td>\n",
              "      <td>8</td>\n",
              "      <td>2017</td>\n",
              "      <td>34</td>\n",
              "    </tr>\n",
              "    <tr>\n",
              "      <th>2</th>\n",
              "      <td>100015</td>\n",
              "      <td>1.0</td>\n",
              "      <td>2017-08-25</td>\n",
              "      <td>0.0</td>\n",
              "      <td>historical</td>\n",
              "      <td>8</td>\n",
              "      <td>2017</td>\n",
              "      <td>34</td>\n",
              "    </tr>\n",
              "    <tr>\n",
              "      <th>3</th>\n",
              "      <td>100015</td>\n",
              "      <td>0.0</td>\n",
              "      <td>2017-08-26</td>\n",
              "      <td>1.0</td>\n",
              "      <td>historical</td>\n",
              "      <td>8</td>\n",
              "      <td>2017</td>\n",
              "      <td>34</td>\n",
              "    </tr>\n",
              "    <tr>\n",
              "      <th>4</th>\n",
              "      <td>100015</td>\n",
              "      <td>0.0</td>\n",
              "      <td>2017-08-27</td>\n",
              "      <td>1.0</td>\n",
              "      <td>historical</td>\n",
              "      <td>8</td>\n",
              "      <td>2017</td>\n",
              "      <td>34</td>\n",
              "    </tr>\n",
              "  </tbody>\n",
              "</table>\n",
              "</div>"
            ],
            "text/plain": [
              "  forecast_key  sales_bottles       date  trend        type  month  year  week\n",
              "0       100015            3.0 2017-08-25    0.0  historical      8  2017    34\n",
              "1       100015            2.0 2017-08-25    0.0  historical      8  2017    34\n",
              "2       100015            1.0 2017-08-25    0.0  historical      8  2017    34\n",
              "3       100015            0.0 2017-08-26    1.0  historical      8  2017    34\n",
              "4       100015            0.0 2017-08-27    1.0  historical      8  2017    34"
            ]
          },
          "metadata": {
            "tags": []
          },
          "execution_count": 263
        }
      ]
    },
    {
      "cell_type": "markdown",
      "metadata": {
        "id": "rLmiFK0Nd3xr"
      },
      "source": [
        "### Holidays\n",
        "Holidays are an important factor that drive sales. The week before and week after holidays might also have increased demand."
      ]
    },
    {
      "cell_type": "code",
      "metadata": {
        "id": "sP_FYZDVWUu2",
        "colab": {
          "base_uri": "https://localhost:8080/",
          "height": 197
        },
        "outputId": "e960b4de-d262-4ecd-dad0-02ef877dee75"
      },
      "source": [
        "import holidays\n",
        "\n",
        "# US holiday dictionary\n",
        "us_holidays = holidays.UnitedStates()\n",
        "\n",
        "# Is day a holiday?\n",
        "sales_data['is_holiday'] = [date in us_holidays for date in sales_data['date']]\n",
        "sales_data['is_holiday'] = sales_data['is_holiday'].astype(int)\n",
        "\n",
        "# Is week before a holiday?\n",
        "sales_data['week_before_holiday'] = [date in us_holidays for date in (sales_data['date']-np.timedelta64(1,'W'))]\n",
        "sales_data['week_before_holiday'] = sales_data['week_before_holiday'].astype(int)\n",
        "\n",
        "# Is week after a holiday?\n",
        "sales_data['week_after_holiday'] = [date in us_holidays for date in (sales_data['date']+np.timedelta64(1,'W'))]\n",
        "sales_data['week_after_holiday'] = sales_data['week_after_holiday'].astype(int)\n",
        "\n",
        "# Convert int64 cols to str\n",
        "sales_data = pd.concat([sales_data.select_dtypes(exclude=['int']), \n",
        "                        sales_data.select_dtypes(include=['int']).astype(str)],\n",
        "                       axis=1)\n",
        "\n",
        "sales_data.head()"
      ],
      "execution_count": 264,
      "outputs": [
        {
          "output_type": "execute_result",
          "data": {
            "application/vnd.google.colaboratory.module+javascript": "\n      import \"https://ssl.gstatic.com/colaboratory/data_table/a6224c040fa35dcf/data_table.js\";\n\n      window.createDataTable({\n        data: [[{\n            'v': 0,\n            'f': \"0\",\n        },\n\"100015\",\n{\n            'v': 3.0,\n            'f': \"3.0\",\n        },\n\"2017-08-25 00:00:00\",\n{\n            'v': 0.0,\n            'f': \"0.0\",\n        },\n\"historical\",\n\"8\",\n\"2017\",\n\"34\",\n\"0\",\n\"0\",\n\"0\"],\n [{\n            'v': 1,\n            'f': \"1\",\n        },\n\"100015\",\n{\n            'v': 2.0,\n            'f': \"2.0\",\n        },\n\"2017-08-25 00:00:00\",\n{\n            'v': 0.0,\n            'f': \"0.0\",\n        },\n\"historical\",\n\"8\",\n\"2017\",\n\"34\",\n\"0\",\n\"0\",\n\"0\"],\n [{\n            'v': 2,\n            'f': \"2\",\n        },\n\"100015\",\n{\n            'v': 1.0,\n            'f': \"1.0\",\n        },\n\"2017-08-25 00:00:00\",\n{\n            'v': 0.0,\n            'f': \"0.0\",\n        },\n\"historical\",\n\"8\",\n\"2017\",\n\"34\",\n\"0\",\n\"0\",\n\"0\"],\n [{\n            'v': 3,\n            'f': \"3\",\n        },\n\"100015\",\n{\n            'v': 0.0,\n            'f': \"0.0\",\n        },\n\"2017-08-26 00:00:00\",\n{\n            'v': 1.0,\n            'f': \"1.0\",\n        },\n\"historical\",\n\"8\",\n\"2017\",\n\"34\",\n\"0\",\n\"0\",\n\"0\"],\n [{\n            'v': 4,\n            'f': \"4\",\n        },\n\"100015\",\n{\n            'v': 0.0,\n            'f': \"0.0\",\n        },\n\"2017-08-27 00:00:00\",\n{\n            'v': 1.0,\n            'f': \"1.0\",\n        },\n\"historical\",\n\"8\",\n\"2017\",\n\"34\",\n\"0\",\n\"0\",\n\"0\"]],\n        columns: [[\"number\", \"index\"], [\"string\", \"forecast_key\"], [\"number\", \"sales_bottles\"], [\"string\", \"date\"], [\"number\", \"trend\"], [\"string\", \"type\"], [\"string\", \"month\"], [\"string\", \"year\"], [\"string\", \"week\"], [\"string\", \"is_holiday\"], [\"string\", \"week_before_holiday\"], [\"string\", \"week_after_holiday\"]],\n        columnOptions: [{\"width\": \"1px\", \"className\": \"index_column\"}],\n        rowsPerPage: 25,\n        helpUrl: \"https://colab.research.google.com/notebooks/data_table.ipynb\",\n        suppressOutputScrolling: true,\n        minimumWidth: undefined,\n      });\n    ",
            "text/html": [
              "<div>\n",
              "<style scoped>\n",
              "    .dataframe tbody tr th:only-of-type {\n",
              "        vertical-align: middle;\n",
              "    }\n",
              "\n",
              "    .dataframe tbody tr th {\n",
              "        vertical-align: top;\n",
              "    }\n",
              "\n",
              "    .dataframe thead th {\n",
              "        text-align: right;\n",
              "    }\n",
              "</style>\n",
              "<table border=\"1\" class=\"dataframe\">\n",
              "  <thead>\n",
              "    <tr style=\"text-align: right;\">\n",
              "      <th></th>\n",
              "      <th>forecast_key</th>\n",
              "      <th>sales_bottles</th>\n",
              "      <th>date</th>\n",
              "      <th>trend</th>\n",
              "      <th>type</th>\n",
              "      <th>month</th>\n",
              "      <th>year</th>\n",
              "      <th>week</th>\n",
              "      <th>is_holiday</th>\n",
              "      <th>week_before_holiday</th>\n",
              "      <th>week_after_holiday</th>\n",
              "    </tr>\n",
              "  </thead>\n",
              "  <tbody>\n",
              "    <tr>\n",
              "      <th>0</th>\n",
              "      <td>100015</td>\n",
              "      <td>3.0</td>\n",
              "      <td>2017-08-25</td>\n",
              "      <td>0.0</td>\n",
              "      <td>historical</td>\n",
              "      <td>8</td>\n",
              "      <td>2017</td>\n",
              "      <td>34</td>\n",
              "      <td>0</td>\n",
              "      <td>0</td>\n",
              "      <td>0</td>\n",
              "    </tr>\n",
              "    <tr>\n",
              "      <th>1</th>\n",
              "      <td>100015</td>\n",
              "      <td>2.0</td>\n",
              "      <td>2017-08-25</td>\n",
              "      <td>0.0</td>\n",
              "      <td>historical</td>\n",
              "      <td>8</td>\n",
              "      <td>2017</td>\n",
              "      <td>34</td>\n",
              "      <td>0</td>\n",
              "      <td>0</td>\n",
              "      <td>0</td>\n",
              "    </tr>\n",
              "    <tr>\n",
              "      <th>2</th>\n",
              "      <td>100015</td>\n",
              "      <td>1.0</td>\n",
              "      <td>2017-08-25</td>\n",
              "      <td>0.0</td>\n",
              "      <td>historical</td>\n",
              "      <td>8</td>\n",
              "      <td>2017</td>\n",
              "      <td>34</td>\n",
              "      <td>0</td>\n",
              "      <td>0</td>\n",
              "      <td>0</td>\n",
              "    </tr>\n",
              "    <tr>\n",
              "      <th>3</th>\n",
              "      <td>100015</td>\n",
              "      <td>0.0</td>\n",
              "      <td>2017-08-26</td>\n",
              "      <td>1.0</td>\n",
              "      <td>historical</td>\n",
              "      <td>8</td>\n",
              "      <td>2017</td>\n",
              "      <td>34</td>\n",
              "      <td>0</td>\n",
              "      <td>0</td>\n",
              "      <td>0</td>\n",
              "    </tr>\n",
              "    <tr>\n",
              "      <th>4</th>\n",
              "      <td>100015</td>\n",
              "      <td>0.0</td>\n",
              "      <td>2017-08-27</td>\n",
              "      <td>1.0</td>\n",
              "      <td>historical</td>\n",
              "      <td>8</td>\n",
              "      <td>2017</td>\n",
              "      <td>34</td>\n",
              "      <td>0</td>\n",
              "      <td>0</td>\n",
              "      <td>0</td>\n",
              "    </tr>\n",
              "  </tbody>\n",
              "</table>\n",
              "</div>"
            ],
            "text/plain": [
              "  forecast_key  sales_bottles  ... week_before_holiday  week_after_holiday\n",
              "0       100015            3.0  ...                   0                   0\n",
              "1       100015            2.0  ...                   0                   0\n",
              "2       100015            1.0  ...                   0                   0\n",
              "3       100015            0.0  ...                   0                   0\n",
              "4       100015            0.0  ...                   0                   0\n",
              "\n",
              "[5 rows x 11 columns]"
            ]
          },
          "metadata": {
            "tags": []
          },
          "execution_count": 264
        }
      ]
    },
    {
      "cell_type": "markdown",
      "metadata": {
        "id": "XLJgCw2CMfuk"
      },
      "source": [
        "### Group by week"
      ]
    },
    {
      "cell_type": "code",
      "metadata": {
        "colab": {
          "base_uri": "https://localhost:8080/",
          "height": 197
        },
        "id": "5f0EZn4Ta5sM",
        "outputId": "9856abb7-f108-4524-f46f-3b8a804fc157"
      },
      "source": [
        "from datetime import timedelta\n",
        "\n",
        "sales_data['week_end_date'] = [(x + timedelta(6-x.weekday())).date() for x in sales_data['date']]\n",
        "sales_data.head()"
      ],
      "execution_count": 266,
      "outputs": [
        {
          "output_type": "execute_result",
          "data": {
            "application/vnd.google.colaboratory.module+javascript": "\n      import \"https://ssl.gstatic.com/colaboratory/data_table/a6224c040fa35dcf/data_table.js\";\n\n      window.createDataTable({\n        data: [[{\n            'v': 0,\n            'f': \"0\",\n        },\n\"100015\",\n{\n            'v': 3.0,\n            'f': \"3.0\",\n        },\n\"2017-08-25 00:00:00\",\n{\n            'v': 0.0,\n            'f': \"0.0\",\n        },\n\"historical\",\n\"8\",\n\"2017\",\n\"34\",\n\"0\",\n\"0\",\n\"0\",\n\"2017-08-27\"],\n [{\n            'v': 1,\n            'f': \"1\",\n        },\n\"100015\",\n{\n            'v': 2.0,\n            'f': \"2.0\",\n        },\n\"2017-08-25 00:00:00\",\n{\n            'v': 0.0,\n            'f': \"0.0\",\n        },\n\"historical\",\n\"8\",\n\"2017\",\n\"34\",\n\"0\",\n\"0\",\n\"0\",\n\"2017-08-27\"],\n [{\n            'v': 2,\n            'f': \"2\",\n        },\n\"100015\",\n{\n            'v': 1.0,\n            'f': \"1.0\",\n        },\n\"2017-08-25 00:00:00\",\n{\n            'v': 0.0,\n            'f': \"0.0\",\n        },\n\"historical\",\n\"8\",\n\"2017\",\n\"34\",\n\"0\",\n\"0\",\n\"0\",\n\"2017-08-27\"],\n [{\n            'v': 3,\n            'f': \"3\",\n        },\n\"100015\",\n{\n            'v': 0.0,\n            'f': \"0.0\",\n        },\n\"2017-08-26 00:00:00\",\n{\n            'v': 1.0,\n            'f': \"1.0\",\n        },\n\"historical\",\n\"8\",\n\"2017\",\n\"34\",\n\"0\",\n\"0\",\n\"0\",\n\"2017-08-27\"],\n [{\n            'v': 4,\n            'f': \"4\",\n        },\n\"100015\",\n{\n            'v': 0.0,\n            'f': \"0.0\",\n        },\n\"2017-08-27 00:00:00\",\n{\n            'v': 1.0,\n            'f': \"1.0\",\n        },\n\"historical\",\n\"8\",\n\"2017\",\n\"34\",\n\"0\",\n\"0\",\n\"0\",\n\"2017-08-27\"]],\n        columns: [[\"number\", \"index\"], [\"string\", \"forecast_key\"], [\"number\", \"sales_bottles\"], [\"string\", \"date\"], [\"number\", \"trend\"], [\"string\", \"type\"], [\"string\", \"month\"], [\"string\", \"year\"], [\"string\", \"week\"], [\"string\", \"is_holiday\"], [\"string\", \"week_before_holiday\"], [\"string\", \"week_after_holiday\"], [\"string\", \"week_end_date\"]],\n        columnOptions: [{\"width\": \"1px\", \"className\": \"index_column\"}],\n        rowsPerPage: 25,\n        helpUrl: \"https://colab.research.google.com/notebooks/data_table.ipynb\",\n        suppressOutputScrolling: true,\n        minimumWidth: undefined,\n      });\n    ",
            "text/html": [
              "<div>\n",
              "<style scoped>\n",
              "    .dataframe tbody tr th:only-of-type {\n",
              "        vertical-align: middle;\n",
              "    }\n",
              "\n",
              "    .dataframe tbody tr th {\n",
              "        vertical-align: top;\n",
              "    }\n",
              "\n",
              "    .dataframe thead th {\n",
              "        text-align: right;\n",
              "    }\n",
              "</style>\n",
              "<table border=\"1\" class=\"dataframe\">\n",
              "  <thead>\n",
              "    <tr style=\"text-align: right;\">\n",
              "      <th></th>\n",
              "      <th>forecast_key</th>\n",
              "      <th>sales_bottles</th>\n",
              "      <th>date</th>\n",
              "      <th>trend</th>\n",
              "      <th>type</th>\n",
              "      <th>month</th>\n",
              "      <th>year</th>\n",
              "      <th>week</th>\n",
              "      <th>is_holiday</th>\n",
              "      <th>week_before_holiday</th>\n",
              "      <th>week_after_holiday</th>\n",
              "      <th>week_end_date</th>\n",
              "    </tr>\n",
              "  </thead>\n",
              "  <tbody>\n",
              "    <tr>\n",
              "      <th>0</th>\n",
              "      <td>100015</td>\n",
              "      <td>3.0</td>\n",
              "      <td>2017-08-25</td>\n",
              "      <td>0.0</td>\n",
              "      <td>historical</td>\n",
              "      <td>8</td>\n",
              "      <td>2017</td>\n",
              "      <td>34</td>\n",
              "      <td>0</td>\n",
              "      <td>0</td>\n",
              "      <td>0</td>\n",
              "      <td>2017-08-27</td>\n",
              "    </tr>\n",
              "    <tr>\n",
              "      <th>1</th>\n",
              "      <td>100015</td>\n",
              "      <td>2.0</td>\n",
              "      <td>2017-08-25</td>\n",
              "      <td>0.0</td>\n",
              "      <td>historical</td>\n",
              "      <td>8</td>\n",
              "      <td>2017</td>\n",
              "      <td>34</td>\n",
              "      <td>0</td>\n",
              "      <td>0</td>\n",
              "      <td>0</td>\n",
              "      <td>2017-08-27</td>\n",
              "    </tr>\n",
              "    <tr>\n",
              "      <th>2</th>\n",
              "      <td>100015</td>\n",
              "      <td>1.0</td>\n",
              "      <td>2017-08-25</td>\n",
              "      <td>0.0</td>\n",
              "      <td>historical</td>\n",
              "      <td>8</td>\n",
              "      <td>2017</td>\n",
              "      <td>34</td>\n",
              "      <td>0</td>\n",
              "      <td>0</td>\n",
              "      <td>0</td>\n",
              "      <td>2017-08-27</td>\n",
              "    </tr>\n",
              "    <tr>\n",
              "      <th>3</th>\n",
              "      <td>100015</td>\n",
              "      <td>0.0</td>\n",
              "      <td>2017-08-26</td>\n",
              "      <td>1.0</td>\n",
              "      <td>historical</td>\n",
              "      <td>8</td>\n",
              "      <td>2017</td>\n",
              "      <td>34</td>\n",
              "      <td>0</td>\n",
              "      <td>0</td>\n",
              "      <td>0</td>\n",
              "      <td>2017-08-27</td>\n",
              "    </tr>\n",
              "    <tr>\n",
              "      <th>4</th>\n",
              "      <td>100015</td>\n",
              "      <td>0.0</td>\n",
              "      <td>2017-08-27</td>\n",
              "      <td>1.0</td>\n",
              "      <td>historical</td>\n",
              "      <td>8</td>\n",
              "      <td>2017</td>\n",
              "      <td>34</td>\n",
              "      <td>0</td>\n",
              "      <td>0</td>\n",
              "      <td>0</td>\n",
              "      <td>2017-08-27</td>\n",
              "    </tr>\n",
              "  </tbody>\n",
              "</table>\n",
              "</div>"
            ],
            "text/plain": [
              "  forecast_key  sales_bottles  ... week_after_holiday  week_end_date\n",
              "0       100015            3.0  ...                  0     2017-08-27\n",
              "1       100015            2.0  ...                  0     2017-08-27\n",
              "2       100015            1.0  ...                  0     2017-08-27\n",
              "3       100015            0.0  ...                  0     2017-08-27\n",
              "4       100015            0.0  ...                  0     2017-08-27\n",
              "\n",
              "[5 rows x 12 columns]"
            ]
          },
          "metadata": {
            "tags": []
          },
          "execution_count": 266
        }
      ]
    },
    {
      "cell_type": "code",
      "metadata": {
        "id": "RsIEUt37MfBx"
      },
      "source": [
        "# Group by week \n",
        "target_field_sum = sales_data.groupby(['forecast_key','week_end_date'])[target_value].sum()\n",
        "features_max = sales_data.groupby(['forecast_key','week_end_date']).max().drop(columns=[target_value])\n",
        "processed_dataset = features_max.join(target_field_sum).reset_index()       \n"
      ],
      "execution_count": 268,
      "outputs": []
    },
    {
      "cell_type": "code",
      "metadata": {
        "colab": {
          "base_uri": "https://localhost:8080/",
          "height": 197
        },
        "id": "wn6aKP-wdJoT",
        "outputId": "c4c53a01-44ff-4ac7-9c8a-7498cd3ced86"
      },
      "source": [
        "processed_dataset.head()"
      ],
      "execution_count": 269,
      "outputs": [
        {
          "output_type": "execute_result",
          "data": {
            "application/vnd.google.colaboratory.module+javascript": "\n      import \"https://ssl.gstatic.com/colaboratory/data_table/a6224c040fa35dcf/data_table.js\";\n\n      window.createDataTable({\n        data: [[{\n            'v': 0,\n            'f': \"0\",\n        },\n\"100015\",\n\"2017-08-27\",\n\"2017-08-27 00:00:00\",\n{\n            'v': 1.0,\n            'f': \"1.0\",\n        },\n\"historical\",\n\"8\",\n\"2017\",\n\"34\",\n\"0\",\n\"0\",\n\"0\",\n{\n            'v': 6.0,\n            'f': \"6.0\",\n        }],\n [{\n            'v': 1,\n            'f': \"1\",\n        },\n\"100015\",\n\"2017-09-03\",\n\"2017-09-03 00:00:00\",\n{\n            'v': 2.0,\n            'f': \"2.0\",\n        },\n\"historical\",\n\"9\",\n\"2017\",\n\"35\",\n\"0\",\n\"0\",\n\"1\",\n{\n            'v': 94.0,\n            'f': \"94.0\",\n        }],\n [{\n            'v': 2,\n            'f': \"2\",\n        },\n\"100015\",\n\"2017-09-10\",\n\"2017-09-10 00:00:00\",\n{\n            'v': 3.0,\n            'f': \"3.0\",\n        },\n\"historical\",\n\"9\",\n\"2017\",\n\"36\",\n\"1\",\n\"0\",\n\"0\",\n{\n            'v': 50.0,\n            'f': \"50.0\",\n        }],\n [{\n            'v': 3,\n            'f': \"3\",\n        },\n\"100015\",\n\"2017-09-17\",\n\"2017-09-17 00:00:00\",\n{\n            'v': 4.0,\n            'f': \"4.0\",\n        },\n\"historical\",\n\"9\",\n\"2017\",\n\"37\",\n\"0\",\n\"1\",\n\"0\",\n{\n            'v': 65.0,\n            'f': \"65.0\",\n        }],\n [{\n            'v': 4,\n            'f': \"4\",\n        },\n\"100015\",\n\"2017-09-24\",\n\"2017-09-24 00:00:00\",\n{\n            'v': 5.0,\n            'f': \"5.0\",\n        },\n\"historical\",\n\"9\",\n\"2017\",\n\"38\",\n\"0\",\n\"0\",\n\"0\",\n{\n            'v': 40.0,\n            'f': \"40.0\",\n        }]],\n        columns: [[\"number\", \"index\"], [\"string\", \"forecast_key\"], [\"string\", \"week_end_date\"], [\"string\", \"date\"], [\"number\", \"trend\"], [\"string\", \"type\"], [\"string\", \"month\"], [\"string\", \"year\"], [\"string\", \"week\"], [\"string\", \"is_holiday\"], [\"string\", \"week_before_holiday\"], [\"string\", \"week_after_holiday\"], [\"number\", \"sales_bottles\"]],\n        columnOptions: [{\"width\": \"1px\", \"className\": \"index_column\"}],\n        rowsPerPage: 25,\n        helpUrl: \"https://colab.research.google.com/notebooks/data_table.ipynb\",\n        suppressOutputScrolling: true,\n        minimumWidth: undefined,\n      });\n    ",
            "text/html": [
              "<div>\n",
              "<style scoped>\n",
              "    .dataframe tbody tr th:only-of-type {\n",
              "        vertical-align: middle;\n",
              "    }\n",
              "\n",
              "    .dataframe tbody tr th {\n",
              "        vertical-align: top;\n",
              "    }\n",
              "\n",
              "    .dataframe thead th {\n",
              "        text-align: right;\n",
              "    }\n",
              "</style>\n",
              "<table border=\"1\" class=\"dataframe\">\n",
              "  <thead>\n",
              "    <tr style=\"text-align: right;\">\n",
              "      <th></th>\n",
              "      <th>forecast_key</th>\n",
              "      <th>week_end_date</th>\n",
              "      <th>date</th>\n",
              "      <th>trend</th>\n",
              "      <th>type</th>\n",
              "      <th>month</th>\n",
              "      <th>year</th>\n",
              "      <th>week</th>\n",
              "      <th>is_holiday</th>\n",
              "      <th>week_before_holiday</th>\n",
              "      <th>week_after_holiday</th>\n",
              "      <th>sales_bottles</th>\n",
              "    </tr>\n",
              "  </thead>\n",
              "  <tbody>\n",
              "    <tr>\n",
              "      <th>0</th>\n",
              "      <td>100015</td>\n",
              "      <td>2017-08-27</td>\n",
              "      <td>2017-08-27</td>\n",
              "      <td>1.0</td>\n",
              "      <td>historical</td>\n",
              "      <td>8</td>\n",
              "      <td>2017</td>\n",
              "      <td>34</td>\n",
              "      <td>0</td>\n",
              "      <td>0</td>\n",
              "      <td>0</td>\n",
              "      <td>6.0</td>\n",
              "    </tr>\n",
              "    <tr>\n",
              "      <th>1</th>\n",
              "      <td>100015</td>\n",
              "      <td>2017-09-03</td>\n",
              "      <td>2017-09-03</td>\n",
              "      <td>2.0</td>\n",
              "      <td>historical</td>\n",
              "      <td>9</td>\n",
              "      <td>2017</td>\n",
              "      <td>35</td>\n",
              "      <td>0</td>\n",
              "      <td>0</td>\n",
              "      <td>1</td>\n",
              "      <td>94.0</td>\n",
              "    </tr>\n",
              "    <tr>\n",
              "      <th>2</th>\n",
              "      <td>100015</td>\n",
              "      <td>2017-09-10</td>\n",
              "      <td>2017-09-10</td>\n",
              "      <td>3.0</td>\n",
              "      <td>historical</td>\n",
              "      <td>9</td>\n",
              "      <td>2017</td>\n",
              "      <td>36</td>\n",
              "      <td>1</td>\n",
              "      <td>0</td>\n",
              "      <td>0</td>\n",
              "      <td>50.0</td>\n",
              "    </tr>\n",
              "    <tr>\n",
              "      <th>3</th>\n",
              "      <td>100015</td>\n",
              "      <td>2017-09-17</td>\n",
              "      <td>2017-09-17</td>\n",
              "      <td>4.0</td>\n",
              "      <td>historical</td>\n",
              "      <td>9</td>\n",
              "      <td>2017</td>\n",
              "      <td>37</td>\n",
              "      <td>0</td>\n",
              "      <td>1</td>\n",
              "      <td>0</td>\n",
              "      <td>65.0</td>\n",
              "    </tr>\n",
              "    <tr>\n",
              "      <th>4</th>\n",
              "      <td>100015</td>\n",
              "      <td>2017-09-24</td>\n",
              "      <td>2017-09-24</td>\n",
              "      <td>5.0</td>\n",
              "      <td>historical</td>\n",
              "      <td>9</td>\n",
              "      <td>2017</td>\n",
              "      <td>38</td>\n",
              "      <td>0</td>\n",
              "      <td>0</td>\n",
              "      <td>0</td>\n",
              "      <td>40.0</td>\n",
              "    </tr>\n",
              "  </tbody>\n",
              "</table>\n",
              "</div>"
            ],
            "text/plain": [
              "  forecast_key week_end_date  ... week_after_holiday  sales_bottles\n",
              "0       100015    2017-08-27  ...                  0            6.0\n",
              "1       100015    2017-09-03  ...                  1           94.0\n",
              "2       100015    2017-09-10  ...                  0           50.0\n",
              "3       100015    2017-09-17  ...                  0           65.0\n",
              "4       100015    2017-09-24  ...                  0           40.0\n",
              "\n",
              "[5 rows x 12 columns]"
            ]
          },
          "metadata": {
            "tags": []
          },
          "execution_count": 269
        }
      ]
    },
    {
      "cell_type": "markdown",
      "metadata": {
        "id": "MQR01SFNIjSE"
      },
      "source": [
        "## Item Segmentation\n",
        "Intermittent, discontinued, new or normal. Two rules used:\n",
        "\n",
        "\n",
        "If sales in the last 3 months are 0, product is discontinued\n",
        "\n",
        "If % of weeks with 0 demand over total weeks is greater than 1.32, sales are intermittent. \n",
        "ADI is given by calculating \n",
        "\n",
        "\n",
        "```\n",
        "ADI = Total Number of Periods/Number of Periods with Sales\n",
        "```\n",
        "\n",
        "\n"
      ]
    },
    {
      "cell_type": "code",
      "metadata": {
        "id": "DkqikuOJIicf"
      },
      "source": [
        "from tqdm import tqdm\n",
        "tqdm.pandas()\n",
        "\n",
        "predicted_var = target_value\n",
        "\n",
        "zero_sales_periods_cutoff = 12 # weeks of zero sales to classify discontinued\n",
        "\n",
        "def series_classifier(key_group):\n",
        "  key_group = key_group[key_group['type']=='historical'] # only historical data\n",
        "\n",
        "  # Average Demand Interval\n",
        "  zero_sales_weeks = key_group[key_group[predicted_var]==0][predicted_var].count()\n",
        "  total_weeks = key_group[predicted_var].count() \n",
        "  adi = total_weeks/(total_weeks - zero_sales_weeks) # average demand interval\n",
        "\n",
        "  # Inttermittence\n",
        "  date_cutoff = key_group['date'].max() - pd.Timedelta(zero_sales_periods_cutoff,unit='w')\n",
        "  last_12_weeks_df = key_group[key_group['date'] > date_cutoff]\n",
        "  last_12_weeks_sales = last_12_weeks_df[predicted_var].sum() \n",
        "\n",
        "  # Classify key\n",
        "  if last_12_weeks_sales==0:\n",
        "    return \"discontinued\"\n",
        "\n",
        "  elif adi>1.32:\n",
        "    return \"intermittent\"\n",
        "\n",
        "  elif len(key_group)<52:\n",
        "    return \"new\"\n",
        "\n",
        "  else:\n",
        "    return \"normal\"\n",
        "\n",
        "classified_keys = processed_dataset.groupby('forecast_key').apply(series_classifier)\n",
        "classified_keys.name = \"key_class\"\n",
        "\n",
        "processed_dataset = processed_dataset.merge(classified_keys,\n",
        "                                            how='left',\n",
        "                                            left_on='forecast_key',\n",
        "                                            right_index=True)"
      ],
      "execution_count": 270,
      "outputs": []
    },
    {
      "cell_type": "code",
      "metadata": {
        "id": "fOswJBeTfldh",
        "colab": {
          "base_uri": "https://localhost:8080/",
          "height": 375
        },
        "outputId": "a253e953-7f16-4ee3-da0a-3ce48e475ce7"
      },
      "source": [
        "sns.set(style=\"white\")\n",
        "sns.set_context(\"talk\")\n",
        "sns.set_palette(\"Set2\")\n",
        "\n",
        "f, ax = plt.subplots(figsize=(5, 5))\n",
        "\n",
        "plot_df = classified_keys.value_counts().to_frame()\n",
        "\n",
        "sns.barplot(x=plot_df['key_class'],y=plot_df.index,)\n",
        "\n",
        "ax.set(xlabel='Count of Keys', ylabel='Key Type')\n",
        "plt.title(\"Forecast Key Segmentation\")\n",
        "plt.show()"
      ],
      "execution_count": 271,
      "outputs": [
        {
          "output_type": "display_data",
          "data": {
            "image/png": "[encoded data removed]",
            "text/plain": [
              "<Figure size 360x360 with 1 Axes>"
            ]
          },
          "metadata": {
            "tags": []
          }
        }
      ]
    },
    {
      "cell_type": "code",
      "metadata": {
        "id": "QWp70QIXiIEu"
      },
      "source": [
        "# Subset keys to disco and intermittent only\n",
        "processed_dataset = processed_dataset[processed_dataset['key_class']!='discontinued']"
      ],
      "execution_count": 272,
      "outputs": []
    },
    {
      "cell_type": "markdown",
      "metadata": {
        "id": "rvZGDvDuhxG_"
      },
      "source": [
        "# Forecasting"
      ]
    },
    {
      "cell_type": "markdown",
      "metadata": {
        "id": "vkAxI3tSOVg7"
      },
      "source": [
        "## Data set up"
      ]
    },
    {
      "cell_type": "code",
      "metadata": {
        "id": "2aeX_25Qisw1"
      },
      "source": [
        "# Identify date columns\n",
        "date_column = 'date'\n",
        "\n",
        "# Select features to include in model run. Can also include \"month\"\n",
        "features = ['month',\n",
        "            'is_holiday', \n",
        "            'week_before_holiday', \n",
        "            'week_after_holiday', \n",
        "            'trend']\n",
        "\n",
        "#target variable to be predicted\n",
        "predicted_var = [target_value]\n",
        "\n",
        "#staging variables to subset dataset to features\n",
        "y_cols = predicted_var + ['type']\n",
        "x_cols = features + ['type']"
      ],
      "execution_count": 273,
      "outputs": []
    },
    {
      "cell_type": "markdown",
      "metadata": {
        "id": "IDk2Aw_rZ63G"
      },
      "source": [
        "## SciKit Machine Learning"
      ]
    },
    {
      "cell_type": "code",
      "metadata": {
        "id": "cNGJPmtphyX8"
      },
      "source": [
        "# Import\n",
        "from sklearn.model_selection import TimeSeriesSplit, GridSearchCV, RandomizedSearchCV\n",
        "from sklearn.linear_model import ElasticNet, ElasticNetCV, RANSACRegressor\n",
        "from sklearn.neighbors import KNeighborsRegressor\n",
        "from sklearn.model_selection import train_test_split\n",
        "from sklearn.metrics import mean_squared_error, mean_absolute_error\n",
        "from sklearn.preprocessing import RobustScaler, OneHotEncoder, LabelEncoder, PowerTransformer, OrdinalEncoder, StandardScaler, PolynomialFeatures\n",
        "from sklearn.compose import ColumnTransformer, make_column_transformer,make_column_selector,TransformedTargetRegressor\n",
        "from sklearn.pipeline import Pipeline\n",
        "from sklearn import linear_model, metrics\n",
        "from xgboost import plot_importance, plot_tree\n",
        "import xgboost as xgb\n",
        "from datetime import datetime, timedelta, date\n",
        "\n",
        "from scipy import stats\n",
        "from statsmodels.tsa.holtwinters import ExponentialSmoothing\n",
        "from scipy.stats import uniform, randint\n",
        "import statsmodels.api as sm\n",
        "from pylab import rcParams\n",
        "\n",
        "import math\n",
        "import warnings\n",
        "from IPython.display import clear_output\n",
        "import os"
      ],
      "execution_count": 274,
      "outputs": []
    },
    {
      "cell_type": "markdown",
      "metadata": {
        "id": "CQ4u1L_5JbEo"
      },
      "source": [
        "### Machine Learning Models and Pipelines"
      ]
    },
    {
      "cell_type": "code",
      "metadata": {
        "id": "D_ZmypXLiG_b"
      },
      "source": [
        "### Pipelines\n",
        "\n",
        "# For ElasticNet, we'll one hot encode data. For XGBoost we only need to label encode.\n",
        "# ElasticNet will need to have interaction features created\n",
        "# Pipelines for different types are created and then combined into a column transformer that will feed into final pipeline\n",
        "\n",
        "# Feature transformers\n",
        "numeric_transformer = Pipeline([('scaler',StandardScaler())\n",
        "                                #('interactions',PolynomialFeatures(interaction_only=True))\n",
        "                                ])\n",
        "\n",
        "categorical_transformer = Pipeline([('onehot',OneHotEncoder(handle_unknown='ignore'))])\n",
        "\n",
        "# Preprocessor\n",
        "preprocessor = make_column_transformer((numeric_transformer, make_column_selector(dtype_exclude='object')),\n",
        "                                       (categorical_transformer, make_column_selector(dtype_include='object')),\n",
        "                                       sparse_threshold=0)\n",
        "\n",
        "# XGBoost Pipeline\n",
        "pipe_xgboost = Pipeline([('xgb', xgb.XGBRegressor(objective=\"reg:squarederror\"))])\n",
        "\n",
        "# ElasticNet Pipeline\n",
        "pipe_elasticnet = Pipeline([('elnt', ElasticNet())])\n",
        "\n",
        "# Target Transformed XGBoost Pipeline\n",
        "tt = TransformedTargetRegressor(regressor=xgb.XGBRegressor(objective=\"reg:squarederror\"), \n",
        "                                transformer=PowerTransformer(standardize=False))\n",
        "pipe_xgb_transf = Pipeline([('xgb_tt', tt)])\n",
        "\n",
        "# KNN Regressor Pipeline\n",
        "pipe_knn = Pipeline([('knn',KNeighborsRegressor())])\n",
        "\n",
        "\n",
        "# Parameters\n",
        "\n",
        "# XGBoost Parameters\n",
        "xgb_params = {\"xgb__colsample_bytree\": uniform(0.7, 0.3),\n",
        "          \"xgb__gamma\": uniform(0, 0.5),\n",
        "          \"xgb__learning_rate\": uniform(0.003, 0.3), # default 0.1 \n",
        "          \"xgb__max_depth\": randint(2, 3), # default 3\n",
        "          \"xgb__n_estimators\": randint(100, 250), # default 100\n",
        "          \"xgb__subsample\": uniform(0.6, 0.4)}\n",
        "\n",
        "# Target Transformed XGBoost Parameters\n",
        "xgb_tt_params = {\"xgb_tt__regressor__colsample_bytree\": uniform(0.7, 0.3),\n",
        "          \"xgb_tt__regressor__gamma\": uniform(0, 0.5),\n",
        "          \"xgb_tt__regressor__learning_rate\": uniform(0.003, 0.3), # default 0.1 \n",
        "          \"xgb_tt__regressor__max_depth\": randint(2, 3), # default 3\n",
        "          \"xgb_tt__regressor__n_estimators\": randint(100, 250), # default 100\n",
        "          \"xgb_tt__regressor__subsample\": uniform(0.6, 0.4)}\n",
        "\n",
        "fit_params = {}#{'early_stopping_rounds':5}\n",
        "\n",
        "# ElasticNet Parameters\n",
        "elnt_l1_params = [.1, .5, .7, .9, .95, .99, 1]\n",
        "elnt_alphas_params = [0.0125, 0.025, 0.05, .125, .25, .5, 1., 2., 4.]\n",
        "elnt_params = [{'elnt__l1_ratio':elnt_l1_params,'elnt__alpha':elnt_alphas_params}]\n",
        "\n",
        "# KNN Parameters\n",
        "n_neighbors = [2,3,4,5]\n",
        "knn_params = [{'knn__n_neighbors':n_neighbors}]\n",
        "\n",
        "\n",
        "# Hyperparameter search pipes\n",
        "\n",
        "jobs=-1\n",
        "\n",
        "time_split = TimeSeriesSplit(n_splits = 3)\n",
        "\n",
        "# XGB\n",
        "rs_xgb =  RandomizedSearchCV(estimator=pipe_xgboost, \n",
        "                             param_distributions=xgb_params,\n",
        "                             random_state=42, \n",
        "                             n_iter=4, \n",
        "                             cv=time_split, \n",
        "                             n_jobs=jobs, \n",
        "                             return_train_score=True,\n",
        "                             scoring='neg_mean_squared_error')\n",
        "# XGB Target Transformed\n",
        "rs_xgb_tt =  RandomizedSearchCV(estimator=pipe_xgb_transf, \n",
        "                             param_distributions=xgb_tt_params,\n",
        "                             random_state=42, \n",
        "                             n_iter=4, \n",
        "                             cv=time_split, \n",
        "                             n_jobs=jobs, \n",
        "                             return_train_score=True,\n",
        "                             scoring='neg_mean_squared_error')\n",
        "\n",
        "# ElasticNet\n",
        "gs_elnt = GridSearchCV(estimator=pipe_elasticnet,\n",
        "                    param_grid=elnt_params,\n",
        "                    cv=4,\n",
        "                    scoring='neg_mean_squared_error',\n",
        "                    n_jobs=jobs)\n",
        "\n",
        "# KNN\n",
        "gs_knn = GridSearchCV(estimator=pipe_knn,\n",
        "                     param_grid=knn_params,\n",
        "                     cv=4,\n",
        "                     scoring='neg_mean_squared_error',\n",
        "                     n_jobs=jobs)\n",
        "# ElasticNet\n",
        "elntcv = ElasticNetCV(cv=4, \n",
        "                      random_state=42, \n",
        "                      l1_ratio = [.1, .5, .7, .9, .95, .99, 1], \n",
        "                      alphas=[0.0125, 0.025, 0.05, .125, .25, .5, 1., 2., 4.])\n",
        "\n",
        "# ElasticNet\n",
        "elntcv_tt = TransformedTargetRegressor(regressor=elntcv, \n",
        "                                       transformer=PowerTransformer(standardize=False,method='yeo-johnson'))\n",
        "\n",
        "\n",
        "# Auxiliary lists and dictionaries for batch forecasting\n",
        "\n",
        "# List of pipelines for iteration\n",
        "cv_searchers = [elntcv, rs_xgb, gs_knn, rs_xgb, \n",
        "                elntcv, elntcv_tt,rs_xgb_tt] \n",
        "\n",
        "# Dictionary of pipelines and classifier types for ease of reference\n",
        "cv_search_dict = {0:'ElasticNet', 1:'XGBoost', 2:'KNN',3:'XGBoost_Trended',\n",
        "                  4:'ElasticNet_Trended',5:'ElntCV_tt_Trended',6:'XGB_tt_Trended'}\n",
        "\n",
        "trended_non_trend_cutoff = 3 # this is the position of the first trended model in cv_search_dict"
      ],
      "execution_count": 275,
      "outputs": []
    },
    {
      "cell_type": "markdown",
      "metadata": {
        "id": "INEqux7Vkrjl"
      },
      "source": [
        "## Dataset prep"
      ]
    },
    {
      "cell_type": "code",
      "metadata": {
        "id": "VfOESlSOiV78"
      },
      "source": [
        "def train_test(X, Y, tst_size=0.20, time_aligned=True):\n",
        "    \n",
        "    first = X.index.min()\n",
        "    last = X.index.max()\n",
        "    \n",
        "    global trim_date\n",
        "    \n",
        "    # subset train and test independent and dependent variables, split sequentially on trim date\n",
        "    if time_aligned == True:\n",
        "        \n",
        "        delta = last - first\n",
        "        weeks = (delta.days)/7 + 1\n",
        "        train_weeks = round((1-tst_size)*weeks)\n",
        "        test_weeks = round(tst_size*weeks)\n",
        "        trim_date = last - timedelta(test_weeks*7)\n",
        "        \n",
        "        X_train = X.loc[X.index <= trim_date]\n",
        "        x_test = X.loc[X.index > trim_date]\n",
        "        Y_train = Y.loc[X.index <= trim_date]\n",
        "        y_test = Y.loc[X.index > trim_date]\n",
        "\n",
        "    else:\n",
        "        X_train, x_test, Y_train, y_test = train_test_split(X, Y, random_state=42, test_size=tst_size)\n",
        "    \n",
        "    return X_train, x_test, Y_train, y_test\n",
        "\n",
        "\n",
        "def split_input_historical(X, Y): # split dataset by historical and forecasts\n",
        "    \n",
        "    Y = Y[Y['type'] == 'historical']\n",
        "    Y = Y.drop(columns='type')\n",
        "    x_forecast = X[X['type'] == 'forecast']\n",
        "    X = X[X['type'] == 'historical']\n",
        "    x_forecast = x_forecast.drop(columns='type')\n",
        "    X = X.drop(columns='type')\n",
        "\n",
        "    return X, Y, x_forecast\n",
        "\n",
        "\n",
        "def dataset_prep(df):\n",
        "    \n",
        "    # separate dependent and independent variables\n",
        "    Y = df[y_cols]\n",
        "    X = df[x_cols]\n",
        "\n",
        "    # split into historical and input\n",
        "    X, Y, x_forecast = split_input_historical(X, Y)\n",
        "     \n",
        "    # train/test split\n",
        "    X_train, x_test, Y_train, y_test = train_test(X, Y)\n",
        "    \n",
        "    return X_train, x_test, Y_train, y_test, x_forecast, X\n",
        "\n",
        "\n",
        "def mape_score_2(y_pred, y_true):\n",
        "    \n",
        "    error = abs(y_true - y_pred)\n",
        "    ape = error/y_true\n",
        "    \n",
        "    return round(np.average(abs(ape), weights=y_true), 2)\n",
        "\n",
        "\n",
        "def isolate_trend(df,X_train,x_test,x_forecast):\n",
        "    \n",
        "    # Isolate trend feature\n",
        "    trend_all = df['trend'].values.reshape(-1,1) # trend components for all periods\n",
        "    trend_historical = df[df['type']=='historical']['trend'].values.reshape(-1,1)\n",
        "    trend_X_train = X_train['trend'].values.reshape(-1,1)\n",
        "    trend_x_test = x_test['trend'].values.reshape(-1,1)\n",
        "    trend_x_forecast = x_forecast['trend'].values.reshape(-1,1)\n",
        "\n",
        "    # Remove trend feature from dataset\n",
        "    X_train = X_train.drop(columns='trend')\n",
        "    x_test = x_test.drop(columns='trend')\n",
        "    x_forecast = x_forecast.drop(columns='trend')\n",
        "    all_x = df[x_cols].drop(columns=['type','trend']) \n",
        "    \n",
        "    return trend_all,trend_historical,trend_X_train,trend_x_test,trend_x_forecast,X_train,x_test,x_forecast,all_x\n",
        "    \n",
        "\n",
        "def detrend(df,trend_historical,trend_X_train,trend_x_test,Y_train,y_test):\n",
        "     \n",
        "    all_actuals = df[df['type']=='historical'][predicted_var].values\n",
        "    trend = ransac.fit(trend_historical, all_actuals)\n",
        "    \n",
        "    # Detrend Y Train\n",
        "    Y_train = Y_train - trend.predict(trend_X_train) \n",
        "    \n",
        "    # Detrend Y test\n",
        "    trend_test = trend.predict(trend_x_test)\n",
        "    y_test = y_test - trend_test\n",
        "\n",
        "    return Y_train,y_test,trend,all_actuals,trend_test\n",
        "    \n",
        "    \n",
        "def plot_trend_graph(y_true,y_pred,trend_test,y_pred_no_trend):\n",
        "    \n",
        "    if idx>=trended_non_trend_cutoff:\n",
        "        print('Trended Model', idx)  \n",
        "                      \n",
        "        # Create basic plot\n",
        "        df_for_trend_plot = pd.DataFrame(y_true)\n",
        "        df_for_trend_plot['trended_pred'] = y_pred\n",
        "        df_for_trend_plot['isolated_trend'] = trend_test\n",
        "        df_for_trend_plot['detrended_pred'] = y_pred_no_trend\n",
        "        df_for_trend_plot.plot(figsize=(15,5))\n",
        "        \n",
        "        return plt.show()\n",
        "\n",
        "\n",
        "def train_test_mapper(row):\n",
        "    \n",
        "    if row['type']=='forecast':\n",
        "        return 'forecast'\n",
        "    elif row['trim_date']>=row[date_column]:\n",
        "        return 'train'\n",
        "    else:\n",
        "        return 'test'"
      ],
      "execution_count": 276,
      "outputs": []
    },
    {
      "cell_type": "code",
      "metadata": {
        "id": "2OkmqjNSiaBJ"
      },
      "source": [
        "# Create ransac regressor to model trend\n",
        "from sklearn.linear_model import RANSACRegressor\n",
        "ransac = RANSACRegressor(random_state=42)"
      ],
      "execution_count": 277,
      "outputs": []
    },
    {
      "cell_type": "markdown",
      "metadata": {
        "id": "AIQhCOKNknSQ"
      },
      "source": [
        "## Batch forecaster (ML) functions"
      ]
    },
    {
      "cell_type": "code",
      "metadata": {
        "id": "Ud2xcaSninm2"
      },
      "source": [
        "# This function takes in a dataframe with historical data, splits in train test, \n",
        "# runs model pipelines and outputs best forecast and mape for each forecast key\n",
        "\n",
        "def forecast_apply(data,trended_non_trend_cutoff=3,plot_trend=False): \n",
        "    \n",
        "    global y_true,y_pred, best_forecast\n",
        "    \n",
        "    data = data.set_index(date_column) # Make sure index is date\n",
        "\n",
        "    # Train/Test split\n",
        "    X_train, x_test, Y_train, y_test, x_forecast, X = dataset_prep(data)\n",
        "    \n",
        "    # Actual sales\n",
        "    y_true = y_test[predicted_var].values.reshape(1,-1)[0]\n",
        "\n",
        "    # Filter out low data availabiltiy keys\n",
        "    if len(X_train)>5 and len(x_test)>5 and len(x_forecast)>2:\n",
        "        \n",
        "        # Get trend components for each subset and drop Trend feature\n",
        "        trend_all,trend_historical,trend_X_train,trend_x_test,\\\n",
        "        trend_x_forecast,X_train,x_test,x_forecast,all_x = isolate_trend(data,X_train,x_test,x_forecast)\n",
        "\n",
        "        # Processor fit\n",
        "        processor_fit = preprocessor.fit(X_train) # Preprocessor is previously defined\n",
        "\n",
        "        # Processor transform\n",
        "        processor_transform = processor_fit.transform(X_train)\n",
        "\n",
        "        X_train = (processor_fit.transform(X_train))\n",
        "        x_test = (processor_fit.transform(x_test))\n",
        "        x_forecast = (processor_fit.transform(x_forecast))\n",
        "        all_x = (processor_fit.transform(all_x))\n",
        "\n",
        "        # Initialize loop variables\n",
        "        best_score = 10000000000\n",
        "        best_model = ''\n",
        "\n",
        "        # Loop through model dict to find best model\n",
        "        for idx, searchcv in enumerate(cv_searchers):\n",
        "          try:  \n",
        "            # Detrend data for specific models. Order matters, trended models need to be last in cv_searchers dict\n",
        "            # Fit and Detrend, we use all historical data for this to capture overall trend.\n",
        "\n",
        "            if idx==trended_non_trend_cutoff: \n",
        "                # Detrended Y is given by subtracting Trend from Y_true   \n",
        "                Y_train,y_test,trend,all_actuals,trend_test = detrend(data,trend_historical,trend_X_train,trend_x_test,Y_train,y_test)\n",
        "\n",
        "            # Fit grid search\n",
        "            searchcv.fit(X_train, Y_train)\n",
        "\n",
        "            # Predict on test data with best params\n",
        "            y_pred = searchcv.predict(x_test)\n",
        "            \n",
        "            # Auxiliary transformation for compatibility with models\n",
        "            if len(y_pred.shape)>1:\n",
        "                y_pred = y_pred.reshape(1,-1)[0]\n",
        "            \n",
        "            # Add trend back to prediction if model is trended\n",
        "            if idx >= trended_non_trend_cutoff: \n",
        "                trend_test = trend.predict(trend_x_test).reshape(1,-1)[0]\n",
        "                y_pred = y_pred + trend_test\n",
        "            \n",
        "            # Auxiliary transformation for compatibility with models\n",
        "            if len(y_pred.shape)>1:\n",
        "                y_pred = y_pred.reshape(1,-1)[0]\n",
        "            \n",
        "            # Calculate MAPE\n",
        "            scoring = mape_score_2(y_true, y_pred)\n",
        "            \n",
        "            # Plot trend graph?\n",
        "            if idx >= trended_non_trend_cutoff: \n",
        "                if plot_trend==True:\n",
        "                    y_pred_no_trend = searchcv.predict(x_test)\n",
        "                    print('Trended Model', cv_search_dict.get(idx))                \n",
        "                    # Create basic plot\n",
        "                    df_for_trend_plot = pd.DataFrame(y_true)\n",
        "                    df_for_trend_plot['trended_pred'] = y_pred\n",
        "                    df_for_trend_plot['isolated_trend'] = trend_test\n",
        "                    df_for_trend_plot['detrended_pred'] = y_pred_no_trend\n",
        "\n",
        "                    df_for_trend_plot.plot(figsize=(15,5))\n",
        "                    plt.show()\n",
        "            \n",
        "            # Select best (lowest MAPE) model\n",
        "            if scoring < best_score:\n",
        "                best_score = scoring\n",
        "                best_search = searchcv\n",
        "                best_model = idx\n",
        "                \n",
        "                # Need to add trend back to predictions if trended model\n",
        "                if best_model >= trended_non_trend_cutoff:\n",
        "                    best_forecast = searchcv.predict(all_x) + trend.predict(trend_all).reshape(1,-1)[0]\n",
        "                else:\n",
        "                    best_forecast = searchcv.predict(all_x)\n",
        "            \n",
        "            # Set up resulting dataframe\n",
        "            data['forecast'] = best_forecast\n",
        "            data['mape'] = best_score\n",
        "            data['best_model'] = cv_search_dict.get(best_model)\n",
        "            data['trim_date'] = trim_date\n",
        "          except:\n",
        "            pass\n",
        "        \n",
        "        return_df = data[['forecast','mape','best_model','trim_date','type']]\n",
        "        clear_output()\n",
        "        \n",
        "        return return_df"
      ],
      "execution_count": 278,
      "outputs": []
    },
    {
      "cell_type": "markdown",
      "metadata": {
        "id": "DOoVp04hOYAp"
      },
      "source": [
        "## Execute ML forecasts"
      ]
    },
    {
      "cell_type": "code",
      "metadata": {
        "id": "nNCtz7szi5Le",
        "colab": {
          "base_uri": "https://localhost:8080/"
        },
        "outputId": "54a77b8b-c303-413e-8cd9-909391c273d3"
      },
      "source": [
        "# Progress bar set up\n",
        "warnings.filterwarnings(\"ignore\")\n",
        "from tqdm import tqdm\n",
        "tqdm.pandas()\n",
        "\n",
        "# Apply forecast function to each key\n",
        "indv_forecast = processed_dataset.groupby(['forecast_key']).progress_apply(forecast_apply)\n",
        "\n",
        "# Format results\n",
        "indv_forecast = indv_forecast.reset_index()\n",
        "indv_forecast['type'] = indv_forecast.apply(train_test_mapper,axis=1)"
      ],
      "execution_count": 279,
      "outputs": [
        {
          "output_type": "stream",
          "text": [
            "100%|██████████| 201/201 [03:19<00:00,  1.01it/s]\n"
          ],
          "name": "stderr"
        }
      ]
    },
    {
      "cell_type": "markdown",
      "metadata": {
        "id": "7SIPAIwKROWs"
      },
      "source": [
        "## Breakdown forecast to days"
      ]
    },
    {
      "cell_type": "markdown",
      "metadata": {
        "id": "J5wg2-3chPdY"
      },
      "source": [
        ""
      ]
    },
    {
      "cell_type": "code",
      "metadata": {
        "id": "dcl8qzd3TFtf"
      },
      "source": [
        "# Map week number to each date_week on forecasts\n",
        "year_week_map = sales_data[['forecast_key','date','week_end_date']]\n",
        "indv_forecast = indv_forecast.merge(year_week_map,on=['forecast_key','date'])\n",
        "\n",
        "# Expand forecasts from weeks to days\n",
        "days = sales_data[['forecast_key','date','is_holiday','week_end_date']]\n",
        "\n",
        "# Forecast date is actually a week end indicator date\n",
        "indv_forecast = indv_forecast.rename(columns={'date':'week_date'})\n",
        "indv_forecast = indv_forecast.merge(days,on=['forecast_key','week_end_date'])\n",
        "\n",
        "# Drop duplicates\n",
        "indv_forecast = indv_forecast.drop_duplicates(subset=['forecast_key','date'])\n",
        "\n",
        "# Breakdown weekly forecast to daily\n",
        "indv_forecast['day_of_week'] = indv_forecast['date'].dt.weekday\n",
        "\n",
        "def breakdown_fcst(row):\n",
        "  if row['day_of_week'] <5:\n",
        "    return round(row['forecast']/5,0)\n",
        "  else:\n",
        "    return 0\n",
        "\n",
        "indv_forecast['forecast'] = indv_forecast.apply(breakdown_fcst,axis=1)"
      ],
      "execution_count": 280,
      "outputs": []
    },
    {
      "cell_type": "code",
      "metadata": {
        "id": "u1fOiRwr3Lwy"
      },
      "source": [
        "# Subsets: historical and forecast\n",
        "historical_predictions = indv_forecast[indv_forecast['type']!='forecast']\n",
        "forecasts = indv_forecast[indv_forecast['type']=='forecast'].set_index('forecast_key')"
      ],
      "execution_count": 281,
      "outputs": []
    },
    {
      "cell_type": "markdown",
      "metadata": {
        "id": "VB0WQre5SjsJ"
      },
      "source": [
        "## Data report"
      ]
    },
    {
      "cell_type": "code",
      "metadata": {
        "id": "abkZBcuf_FSp",
        "colab": {
          "base_uri": "https://localhost:8080/",
          "height": 559
        },
        "outputId": "3a0d62f1-c1d0-4b72-b988-11ab215b8f91"
      },
      "source": [
        "# Plots\n",
        "import plotly.express as px\n",
        "\n",
        "fig = px.line(processed_dataset.groupby(['date']).sum().reset_index(),\n",
        "              x='date',\n",
        "              y=target_value, \n",
        "              title='Historical Sales')\n",
        "fig.show()\n",
        "\n",
        "\n",
        "mape_df = indv_forecast.groupby('forecast_key').agg({'mape':'mean','forecast':sum})\n",
        "print(\"Weighted MAPE:\", np.average(mape_df['mape'],weights=mape_df['forecast']))\n",
        "\n",
        "# Format and add attributes to tables\n",
        "mape_df = mape_df.join(mapping_table)"
      ],
      "execution_count": 283,
      "outputs": [
        {
          "output_type": "display_data",
          "data": {
            "text/html": [
              "<html>\n",
              "<head><meta charset=\"utf-8\" /></head>\n",
              "<body>\n",
              "    <div>\n",
              "            <script src=\"https://cdnjs.cloudflare.com/ajax/libs/mathjax/2.7.5/MathJax.js?config=TeX-AMS-MML_SVG\"></script><script type=\"text/javascript\">if (window.MathJax) {MathJax.Hub.Config({SVG: {font: \"STIX-Web\"}});}</script>\n",
              "                <script type=\"text/javascript\">window.PlotlyConfig = {MathJaxConfig: 'local'};</script>\n",
              "        <script src=\"https://cdn.plot.ly/plotly-latest.min.js\"></script>    \n",
              "            <div id=\"120c99cc-a989-43f3-b88d-a95fbd402cf6\" class=\"plotly-graph-div\" style=\"height:525px; width:100%;\"></div>\n",
              "            <script type=\"text/javascript\">\n",
              "                \n",
              "                    window.PLOTLYENV=window.PLOTLYENV || {};\n",
              "                    \n",
              "                if (document.getElementById(\"120c99cc-a989-43f3-b88d-a95fbd402cf6\")) {\n",
              "                    Plotly.newPlot(\n",
              "                        '120c99cc-a989-43f3-b88d-a95fbd402cf6',\n",
              "                        [{\"hoverlabel\": {\"namelength\": 0}, \"hovertemplate\": \"date=%{x}<br>sales_bottles=%{y}\", \"legendgroup\": \"\", \"line\": {\"color\": \"#636efa\", \"dash\": \"solid\"}, \"mode\": \"lines\", \"name\": \"\", \"showlegend\": false, \"type\": \"scatter\", \"x\": [\"2016-11-13T00:00:00\", \"2016-11-20T00:00:00\", \"2016-11-27T00:00:00\", \"2016-12-04T00:00:00\", \"2016-12-11T00:00:00\", \"2016-12-18T00:00:00\", \"2016-12-25T00:00:00\", \"2017-01-01T00:00:00\", \"2017-01-08T00:00:00\", \"2017-01-15T00:00:00\", \"2017-01-22T00:00:00\", \"2017-01-29T00:00:00\", \"2017-02-05T00:00:00\", \"2017-02-12T00:00:00\", \"2017-02-19T00:00:00\", \"2017-02-26T00:00:00\", \"2017-03-05T00:00:00\", \"2017-03-12T00:00:00\", \"2017-03-19T00:00:00\", \"2017-03-26T00:00:00\", \"2017-04-02T00:00:00\", \"2017-04-09T00:00:00\", \"2017-04-16T00:00:00\", \"2017-04-23T00:00:00\", \"2017-04-30T00:00:00\", \"2017-05-07T00:00:00\", \"2017-05-14T00:00:00\", \"2017-05-21T00:00:00\", \"2017-05-28T00:00:00\", \"2017-06-04T00:00:00\", \"2017-06-11T00:00:00\", \"2017-06-18T00:00:00\", \"2017-06-25T00:00:00\", \"2017-07-02T00:00:00\", \"2017-07-09T00:00:00\", \"2017-07-16T00:00:00\", \"2017-07-23T00:00:00\", \"2017-07-30T00:00:00\", \"2017-08-06T00:00:00\", \"2017-08-13T00:00:00\", \"2017-08-20T00:00:00\", \"2017-08-27T00:00:00\", \"2017-09-03T00:00:00\", \"2017-09-10T00:00:00\", \"2017-09-17T00:00:00\", \"2017-09-24T00:00:00\", \"2017-10-01T00:00:00\", \"2017-10-08T00:00:00\", \"2017-10-15T00:00:00\", \"2017-10-22T00:00:00\", \"2017-10-29T00:00:00\", \"2017-11-05T00:00:00\", \"2017-11-12T00:00:00\", \"2017-11-19T00:00:00\", \"2017-11-26T00:00:00\", \"2017-12-03T00:00:00\", \"2017-12-10T00:00:00\", \"2017-12-17T00:00:00\", \"2017-12-24T00:00:00\", \"2017-12-31T00:00:00\", \"2018-01-07T00:00:00\", \"2018-01-14T00:00:00\", \"2018-01-21T00:00:00\", \"2018-01-28T00:00:00\", \"2018-02-04T00:00:00\", \"2018-02-11T00:00:00\", \"2018-02-18T00:00:00\", \"2018-02-25T00:00:00\", \"2018-03-04T00:00:00\", \"2018-03-11T00:00:00\", \"2018-03-18T00:00:00\", \"2018-03-25T00:00:00\", \"2018-04-01T00:00:00\", \"2018-04-08T00:00:00\", \"2018-04-15T00:00:00\", \"2018-04-22T00:00:00\", \"2018-04-29T00:00:00\", \"2018-05-06T00:00:00\", \"2018-05-13T00:00:00\", \"2018-05-20T00:00:00\", \"2018-05-27T00:00:00\", \"2018-06-03T00:00:00\", \"2018-06-10T00:00:00\", \"2018-06-17T00:00:00\", \"2018-06-24T00:00:00\", \"2018-07-01T00:00:00\", \"2018-07-08T00:00:00\", \"2018-07-15T00:00:00\", \"2018-07-22T00:00:00\", \"2018-07-29T00:00:00\", \"2018-08-05T00:00:00\", \"2018-08-12T00:00:00\", \"2018-08-19T00:00:00\", \"2018-08-26T00:00:00\", \"2018-09-02T00:00:00\", \"2018-09-09T00:00:00\", \"2018-09-16T00:00:00\", \"2018-09-23T00:00:00\", \"2018-09-30T00:00:00\", \"2018-10-07T00:00:00\", \"2018-10-14T00:00:00\", \"2018-10-21T00:00:00\", \"2018-10-28T00:00:00\", \"2018-11-04T00:00:00\", \"2018-11-11T00:00:00\", \"2018-11-18T00:00:00\", \"2018-11-25T00:00:00\", \"2018-12-02T00:00:00\", \"2018-12-09T00:00:00\", \"2018-12-16T00:00:00\", \"2018-12-23T00:00:00\", \"2018-12-30T00:00:00\", \"2019-01-06T00:00:00\", \"2019-01-13T00:00:00\", \"2019-01-20T00:00:00\", \"2019-01-27T00:00:00\", \"2019-02-03T00:00:00\", \"2019-02-10T00:00:00\", \"2019-02-17T00:00:00\", \"2019-02-24T00:00:00\", \"2019-03-03T00:00:00\", \"2019-03-10T00:00:00\", \"2019-03-17T00:00:00\", \"2019-03-24T00:00:00\", \"2019-03-31T00:00:00\", \"2019-04-07T00:00:00\", \"2019-04-14T00:00:00\", \"2019-04-21T00:00:00\", \"2019-04-28T00:00:00\", \"2019-05-05T00:00:00\", \"2019-05-12T00:00:00\", \"2019-05-19T00:00:00\", \"2019-05-26T00:00:00\", \"2019-06-02T00:00:00\", \"2019-06-09T00:00:00\", \"2019-06-16T00:00:00\", \"2019-06-23T00:00:00\", \"2019-06-30T00:00:00\", \"2019-07-07T00:00:00\", \"2019-07-14T00:00:00\", \"2019-07-21T00:00:00\", \"2019-07-28T00:00:00\", \"2019-08-04T00:00:00\", \"2019-08-11T00:00:00\", \"2019-08-18T00:00:00\", \"2019-08-25T00:00:00\", \"2019-09-01T00:00:00\", \"2019-09-08T00:00:00\", \"2019-09-15T00:00:00\", \"2019-09-22T00:00:00\", \"2019-09-29T00:00:00\", \"2019-10-06T00:00:00\", \"2019-10-13T00:00:00\", \"2019-10-20T00:00:00\", \"2019-10-27T00:00:00\", \"2019-11-03T00:00:00\", \"2019-11-10T00:00:00\", \"2019-11-17T00:00:00\", \"2019-11-24T00:00:00\", \"2019-12-01T00:00:00\", \"2019-12-08T00:00:00\", \"2019-12-15T00:00:00\", \"2019-12-22T00:00:00\", \"2019-12-29T00:00:00\", \"2020-01-05T00:00:00\", \"2020-01-12T00:00:00\", \"2020-01-19T00:00:00\", \"2020-01-26T00:00:00\", \"2020-02-02T00:00:00\", \"2020-02-09T00:00:00\", \"2020-02-16T00:00:00\", \"2020-02-23T00:00:00\", \"2020-03-01T00:00:00\", \"2020-03-08T00:00:00\", \"2020-03-15T00:00:00\", \"2020-03-22T00:00:00\", \"2020-03-29T00:00:00\", \"2020-04-05T00:00:00\", \"2020-04-12T00:00:00\", \"2020-04-19T00:00:00\", \"2020-04-26T00:00:00\", \"2020-05-03T00:00:00\", \"2020-05-10T00:00:00\", \"2020-05-17T00:00:00\", \"2020-05-24T00:00:00\", \"2020-05-31T00:00:00\", \"2020-06-07T00:00:00\", \"2020-06-14T00:00:00\", \"2020-06-21T00:00:00\", \"2020-06-28T00:00:00\", \"2020-07-05T00:00:00\", \"2020-07-12T00:00:00\", \"2020-07-19T00:00:00\", \"2020-07-26T00:00:00\", \"2020-08-02T00:00:00\", \"2020-08-09T00:00:00\", \"2020-08-16T00:00:00\", \"2020-08-23T00:00:00\", \"2020-08-30T00:00:00\", \"2020-09-06T00:00:00\", \"2020-09-13T00:00:00\", \"2020-09-20T00:00:00\", \"2020-09-27T00:00:00\", \"2020-10-04T00:00:00\", \"2020-10-11T00:00:00\", \"2020-10-18T00:00:00\", \"2020-10-25T00:00:00\", \"2020-11-01T00:00:00\", \"2020-11-08T00:00:00\", \"2020-11-15T00:00:00\", \"2020-11-22T00:00:00\", \"2020-11-29T00:00:00\", \"2020-12-06T00:00:00\", \"2020-12-13T00:00:00\", \"2020-12-20T00:00:00\", \"2020-12-27T00:00:00\", \"2021-01-03T00:00:00\", \"2021-01-10T00:00:00\", \"2021-01-17T00:00:00\", \"2021-01-24T00:00:00\", \"2021-01-31T00:00:00\", \"2021-02-07T00:00:00\", \"2021-02-14T00:00:00\", \"2021-02-21T00:00:00\", \"2021-02-28T00:00:00\", \"2021-03-07T00:00:00\", \"2021-03-14T00:00:00\", \"2021-03-21T00:00:00\", \"2021-03-28T00:00:00\", \"2021-04-04T00:00:00\", \"2021-04-11T00:00:00\", \"2021-04-18T00:00:00\", \"2021-04-25T00:00:00\", \"2021-05-02T00:00:00\", \"2021-05-09T00:00:00\", \"2021-05-16T00:00:00\", \"2021-05-23T00:00:00\", \"2021-05-30T00:00:00\", \"2021-06-06T00:00:00\", \"2021-06-13T00:00:00\", \"2021-06-20T00:00:00\", \"2021-06-27T00:00:00\", \"2021-07-04T00:00:00\", \"2021-07-11T00:00:00\", \"2021-07-18T00:00:00\", \"2021-07-25T00:00:00\", \"2021-08-01T00:00:00\", \"2021-08-08T00:00:00\", \"2021-08-15T00:00:00\", \"2021-08-22T00:00:00\", \"2021-08-29T00:00:00\", \"2021-09-05T00:00:00\", \"2021-09-12T00:00:00\", \"2021-09-19T00:00:00\", \"2021-09-26T00:00:00\", \"2021-10-03T00:00:00\", \"2021-10-10T00:00:00\", \"2021-10-17T00:00:00\", \"2021-10-24T00:00:00\"], \"xaxis\": \"x\", \"y\": [44324.0, 55332.0, 26241.0, 56798.0, 48197.0, 55478.0, 80218.0, 40273.0, 27268.0, 43097.0, 35765.0, 39333.0, 39056.0, 43861.0, 41817.0, 39370.0, 41653.0, 47084.0, 42738.0, 40384.0, 39580.0, 45896.0, 50213.0, 40841.0, 42724.0, 47425.0, 46424.0, 48091.0, 60784.0, 25405.0, 59472.0, 51353.0, 48315.0, 50885.0, 38773.0, 36498.0, 60794.0, 46976.0, 45702.0, 54269.0, 52568.0, 48124.0, 54143.0, 36187.0, 61159.0, 49344.0, 46047.0, 59974.0, 62300.0, 58516.0, 52353.0, 39674.0, 58245.0, 62996.0, 35427.0, 61756.0, 56599.0, 54045.0, 73991.0, 47068.0, 31858.0, 56800.0, 47486.0, 46474.0, 47411.0, 54808.0, 50149.0, 51277.0, 48926.0, 57409.0, 52084.0, 55090.0, 50207.0, 55339.0, 65346.0, 50271.0, 57926.0, 58161.0, 57294.0, 55024.0, 69735.0, 45587.0, 56890.0, 61908.0, 52566.0, 73618.0, 38821.0, 67112.0, 57310.0, 56393.0, 60551.0, 61034.0, 60497.0, 61921.0, 72425.0, 49281.0, 59856.0, 60436.0, 58110.0, 62342.0, 63288.0, 76417.0, 65505.0, 63883.0, 66921.0, 80006.0, 41369.0, 75998.0, 63332.0, 77131.0, 92036.0, 54220.0, 53362.0, 55990.0, 59816.0, 56659.0, 61292.0, 68301.0, 72209.0, 64624.0, 64840.0, 75829.0, 70268.0, 61723.0, 72073.0, 71382.0, 86654.0, 71451.0, 84008.0, 69961.0, 86034.0, 75196.0, 82190.0, 79142.0, 72888.0, 80646.0, 72620.0, 93656.0, 81088.0, 72506.0, 73998.0, 70316.0, 84099.0, 70321.0, 73147.0, 76478.0, 86726.0, 75641.0, 74521.0, 76431.0, 69968.0, 79306.0, 89238.0, 77645.0, 80127.0, 84977.0, 88451.0, 92319.0, 92097.0, 70812.0, 86272.0, 86200.0, 97083.0, 87392.0, 61984.0, 74694.0, 72224.0, 81398.0, 71233.0, 72888.0, 82901.0, 79499.0, 75585.0, 77745.0, 89847.0, 99107.0, 86225.0, 73996.0, 95377.0, 77797.0, 89932.0, 90567.0, 93560.0, 94728.0, 97258.0, 92474.0, 99219.0, 96167.0, 97239.0, 110967.0, 103811.0, 84546.0, 85041.0, 92855.0, 90873.0, 102842.0, 92316.0, 104332.0, 96246.0, 98758.0, 87755.0, 105859.0, 97341.0, 107185.0, 102086.0, 100713.0, 100307.0, 0.0, 0.0, 0.0, 0.0, 0.0, 0.0, 0.0, 0.0, 0.0, 0.0, 0.0, 0.0, 0.0, 0.0, 0.0, 0.0, 0.0, 0.0, 0.0, 0.0, 0.0, 0.0, 0.0, 0.0, 0.0, 0.0, 0.0, 0.0, 0.0, 0.0, 0.0, 0.0, 0.0, 0.0, 0.0, 0.0, 0.0, 0.0, 0.0, 0.0, 0.0, 0.0, 0.0, 0.0, 0.0, 0.0, 0.0, 0.0, 0.0, 0.0, 0.0, 0.0], \"yaxis\": \"y\"}],\n",
              "                        {\"legend\": {\"tracegroupgap\": 0}, \"template\": {\"data\": {\"bar\": [{\"error_x\": {\"color\": \"#2a3f5f\"}, \"error_y\": {\"color\": \"#2a3f5f\"}, \"marker\": {\"line\": {\"color\": \"#E5ECF6\", \"width\": 0.5}}, \"type\": \"bar\"}], \"barpolar\": [{\"marker\": {\"line\": {\"color\": \"#E5ECF6\", \"width\": 0.5}}, \"type\": \"barpolar\"}], \"carpet\": [{\"aaxis\": {\"endlinecolor\": \"#2a3f5f\", \"gridcolor\": \"white\", \"linecolor\": \"white\", \"minorgridcolor\": \"white\", \"startlinecolor\": \"#2a3f5f\"}, \"baxis\": {\"endlinecolor\": \"#2a3f5f\", \"gridcolor\": \"white\", \"linecolor\": \"white\", \"minorgridcolor\": \"white\", \"startlinecolor\": \"#2a3f5f\"}, \"type\": \"carpet\"}], \"choropleth\": [{\"colorbar\": {\"outlinewidth\": 0, \"ticks\": \"\"}, \"type\": \"choropleth\"}], \"contour\": [{\"colorbar\": {\"outlinewidth\": 0, \"ticks\": \"\"}, \"colorscale\": [[0.0, \"#0d0887\"], [0.1111111111111111, \"#46039f\"], [0.2222222222222222, \"#7201a8\"], [0.3333333333333333, \"#9c179e\"], [0.4444444444444444, \"#bd3786\"], [0.5555555555555556, \"#d8576b\"], [0.6666666666666666, \"#ed7953\"], [0.7777777777777778, \"#fb9f3a\"], [0.8888888888888888, \"#fdca26\"], [1.0, \"#f0f921\"]], \"type\": \"contour\"}], \"contourcarpet\": [{\"colorbar\": {\"outlinewidth\": 0, \"ticks\": \"\"}, \"type\": \"contourcarpet\"}], \"heatmap\": [{\"colorbar\": {\"outlinewidth\": 0, \"ticks\": \"\"}, \"colorscale\": [[0.0, \"#0d0887\"], [0.1111111111111111, \"#46039f\"], [0.2222222222222222, \"#7201a8\"], [0.3333333333333333, \"#9c179e\"], [0.4444444444444444, \"#bd3786\"], [0.5555555555555556, \"#d8576b\"], [0.6666666666666666, \"#ed7953\"], [0.7777777777777778, \"#fb9f3a\"], [0.8888888888888888, \"#fdca26\"], [1.0, \"#f0f921\"]], \"type\": \"heatmap\"}], \"heatmapgl\": [{\"colorbar\": {\"outlinewidth\": 0, \"ticks\": \"\"}, \"colorscale\": [[0.0, \"#0d0887\"], [0.1111111111111111, \"#46039f\"], [0.2222222222222222, \"#7201a8\"], [0.3333333333333333, \"#9c179e\"], [0.4444444444444444, \"#bd3786\"], [0.5555555555555556, \"#d8576b\"], [0.6666666666666666, \"#ed7953\"], [0.7777777777777778, \"#fb9f3a\"], [0.8888888888888888, \"#fdca26\"], [1.0, \"#f0f921\"]], \"type\": \"heatmapgl\"}], \"histogram\": [{\"marker\": {\"colorbar\": {\"outlinewidth\": 0, \"ticks\": \"\"}}, \"type\": \"histogram\"}], \"histogram2d\": [{\"colorbar\": {\"outlinewidth\": 0, \"ticks\": \"\"}, \"colorscale\": [[0.0, \"#0d0887\"], [0.1111111111111111, \"#46039f\"], [0.2222222222222222, \"#7201a8\"], [0.3333333333333333, \"#9c179e\"], [0.4444444444444444, \"#bd3786\"], [0.5555555555555556, \"#d8576b\"], [0.6666666666666666, \"#ed7953\"], [0.7777777777777778, \"#fb9f3a\"], [0.8888888888888888, \"#fdca26\"], [1.0, \"#f0f921\"]], \"type\": \"histogram2d\"}], \"histogram2dcontour\": [{\"colorbar\": {\"outlinewidth\": 0, \"ticks\": \"\"}, \"colorscale\": [[0.0, \"#0d0887\"], [0.1111111111111111, \"#46039f\"], [0.2222222222222222, \"#7201a8\"], [0.3333333333333333, \"#9c179e\"], [0.4444444444444444, \"#bd3786\"], [0.5555555555555556, \"#d8576b\"], [0.6666666666666666, \"#ed7953\"], [0.7777777777777778, \"#fb9f3a\"], [0.8888888888888888, \"#fdca26\"], [1.0, \"#f0f921\"]], \"type\": \"histogram2dcontour\"}], \"mesh3d\": [{\"colorbar\": {\"outlinewidth\": 0, \"ticks\": \"\"}, \"type\": \"mesh3d\"}], \"parcoords\": [{\"line\": {\"colorbar\": {\"outlinewidth\": 0, \"ticks\": \"\"}}, \"type\": \"parcoords\"}], \"pie\": [{\"automargin\": true, \"type\": \"pie\"}], \"scatter\": [{\"marker\": {\"colorbar\": {\"outlinewidth\": 0, \"ticks\": \"\"}}, \"type\": \"scatter\"}], \"scatter3d\": [{\"line\": {\"colorbar\": {\"outlinewidth\": 0, \"ticks\": \"\"}}, \"marker\": {\"colorbar\": {\"outlinewidth\": 0, \"ticks\": \"\"}}, \"type\": \"scatter3d\"}], \"scattercarpet\": [{\"marker\": {\"colorbar\": {\"outlinewidth\": 0, \"ticks\": \"\"}}, \"type\": \"scattercarpet\"}], \"scattergeo\": [{\"marker\": {\"colorbar\": {\"outlinewidth\": 0, \"ticks\": \"\"}}, \"type\": \"scattergeo\"}], \"scattergl\": [{\"marker\": {\"colorbar\": {\"outlinewidth\": 0, \"ticks\": \"\"}}, \"type\": \"scattergl\"}], \"scattermapbox\": [{\"marker\": {\"colorbar\": {\"outlinewidth\": 0, \"ticks\": \"\"}}, \"type\": \"scattermapbox\"}], \"scatterpolar\": [{\"marker\": {\"colorbar\": {\"outlinewidth\": 0, \"ticks\": \"\"}}, \"type\": \"scatterpolar\"}], \"scatterpolargl\": [{\"marker\": {\"colorbar\": {\"outlinewidth\": 0, \"ticks\": \"\"}}, \"type\": \"scatterpolargl\"}], \"scatterternary\": [{\"marker\": {\"colorbar\": {\"outlinewidth\": 0, \"ticks\": \"\"}}, \"type\": \"scatterternary\"}], \"surface\": [{\"colorbar\": {\"outlinewidth\": 0, \"ticks\": \"\"}, \"colorscale\": [[0.0, \"#0d0887\"], [0.1111111111111111, \"#46039f\"], [0.2222222222222222, \"#7201a8\"], [0.3333333333333333, \"#9c179e\"], [0.4444444444444444, \"#bd3786\"], [0.5555555555555556, \"#d8576b\"], [0.6666666666666666, \"#ed7953\"], [0.7777777777777778, \"#fb9f3a\"], [0.8888888888888888, \"#fdca26\"], [1.0, \"#f0f921\"]], \"type\": \"surface\"}], \"table\": [{\"cells\": {\"fill\": {\"color\": \"#EBF0F8\"}, \"line\": {\"color\": \"white\"}}, \"header\": {\"fill\": {\"color\": \"#C8D4E3\"}, \"line\": {\"color\": \"white\"}}, \"type\": \"table\"}]}, \"layout\": {\"annotationdefaults\": {\"arrowcolor\": \"#2a3f5f\", \"arrowhead\": 0, \"arrowwidth\": 1}, \"coloraxis\": {\"colorbar\": {\"outlinewidth\": 0, \"ticks\": \"\"}}, \"colorscale\": {\"diverging\": [[0, \"#8e0152\"], [0.1, \"#c51b7d\"], [0.2, \"#de77ae\"], [0.3, \"#f1b6da\"], [0.4, \"#fde0ef\"], [0.5, \"#f7f7f7\"], [0.6, \"#e6f5d0\"], [0.7, \"#b8e186\"], [0.8, \"#7fbc41\"], [0.9, \"#4d9221\"], [1, \"#276419\"]], \"sequential\": [[0.0, \"#0d0887\"], [0.1111111111111111, \"#46039f\"], [0.2222222222222222, \"#7201a8\"], [0.3333333333333333, \"#9c179e\"], [0.4444444444444444, \"#bd3786\"], [0.5555555555555556, \"#d8576b\"], [0.6666666666666666, \"#ed7953\"], [0.7777777777777778, \"#fb9f3a\"], [0.8888888888888888, \"#fdca26\"], [1.0, \"#f0f921\"]], \"sequentialminus\": [[0.0, \"#0d0887\"], [0.1111111111111111, \"#46039f\"], [0.2222222222222222, \"#7201a8\"], [0.3333333333333333, \"#9c179e\"], [0.4444444444444444, \"#bd3786\"], [0.5555555555555556, \"#d8576b\"], [0.6666666666666666, \"#ed7953\"], [0.7777777777777778, \"#fb9f3a\"], [0.8888888888888888, \"#fdca26\"], [1.0, \"#f0f921\"]]}, \"colorway\": [\"#636efa\", \"#EF553B\", \"#00cc96\", \"#ab63fa\", \"#FFA15A\", \"#19d3f3\", \"#FF6692\", \"#B6E880\", \"#FF97FF\", \"#FECB52\"], \"font\": {\"color\": \"#2a3f5f\"}, \"geo\": {\"bgcolor\": \"white\", \"lakecolor\": \"white\", \"landcolor\": \"#E5ECF6\", \"showlakes\": true, \"showland\": true, \"subunitcolor\": \"white\"}, \"hoverlabel\": {\"align\": \"left\"}, \"hovermode\": \"closest\", \"mapbox\": {\"style\": \"light\"}, \"paper_bgcolor\": \"white\", \"plot_bgcolor\": \"#E5ECF6\", \"polar\": {\"angularaxis\": {\"gridcolor\": \"white\", \"linecolor\": \"white\", \"ticks\": \"\"}, \"bgcolor\": \"#E5ECF6\", \"radialaxis\": {\"gridcolor\": \"white\", \"linecolor\": \"white\", \"ticks\": \"\"}}, \"scene\": {\"xaxis\": {\"backgroundcolor\": \"#E5ECF6\", \"gridcolor\": \"white\", \"gridwidth\": 2, \"linecolor\": \"white\", \"showbackground\": true, \"ticks\": \"\", \"zerolinecolor\": \"white\"}, \"yaxis\": {\"backgroundcolor\": \"#E5ECF6\", \"gridcolor\": \"white\", \"gridwidth\": 2, \"linecolor\": \"white\", \"showbackground\": true, \"ticks\": \"\", \"zerolinecolor\": \"white\"}, \"zaxis\": {\"backgroundcolor\": \"#E5ECF6\", \"gridcolor\": \"white\", \"gridwidth\": 2, \"linecolor\": \"white\", \"showbackground\": true, \"ticks\": \"\", \"zerolinecolor\": \"white\"}}, \"shapedefaults\": {\"line\": {\"color\": \"#2a3f5f\"}}, \"ternary\": {\"aaxis\": {\"gridcolor\": \"white\", \"linecolor\": \"white\", \"ticks\": \"\"}, \"baxis\": {\"gridcolor\": \"white\", \"linecolor\": \"white\", \"ticks\": \"\"}, \"bgcolor\": \"#E5ECF6\", \"caxis\": {\"gridcolor\": \"white\", \"linecolor\": \"white\", \"ticks\": \"\"}}, \"title\": {\"x\": 0.05}, \"xaxis\": {\"automargin\": true, \"gridcolor\": \"white\", \"linecolor\": \"white\", \"ticks\": \"\", \"title\": {\"standoff\": 15}, \"zerolinecolor\": \"white\", \"zerolinewidth\": 2}, \"yaxis\": {\"automargin\": true, \"gridcolor\": \"white\", \"linecolor\": \"white\", \"ticks\": \"\", \"title\": {\"standoff\": 15}, \"zerolinecolor\": \"white\", \"zerolinewidth\": 2}}}, \"title\": {\"text\": \"Historical Sales\"}, \"xaxis\": {\"anchor\": \"y\", \"domain\": [0.0, 1.0], \"title\": {\"text\": \"date\"}}, \"yaxis\": {\"anchor\": \"x\", \"domain\": [0.0, 1.0], \"title\": {\"text\": \"sales_bottles\"}}},\n",
              "                        {\"responsive\": true}\n",
              "                    ).then(function(){\n",
              "                            \n",
              "var gd = document.getElementById('120c99cc-a989-43f3-b88d-a95fbd402cf6');\n",
              "var x = new MutationObserver(function (mutations, observer) {{\n",
              "        var display = window.getComputedStyle(gd).display;\n",
              "        if (!display || display === 'none') {{\n",
              "            console.log([gd, 'removed!']);\n",
              "            Plotly.purge(gd);\n",
              "            observer.disconnect();\n",
              "        }}\n",
              "}});\n",
              "\n",
              "// Listen for the removal of the full notebook cells\n",
              "var notebookContainer = gd.closest('#notebook-container');\n",
              "if (notebookContainer) {{\n",
              "    x.observe(notebookContainer, {childList: true});\n",
              "}}\n",
              "\n",
              "// Listen for the clearing of the current output cell\n",
              "var outputEl = gd.closest('.output');\n",
              "if (outputEl) {{\n",
              "    x.observe(outputEl, {childList: true});\n",
              "}}\n",
              "\n",
              "                        })\n",
              "                };\n",
              "                \n",
              "            </script>\n",
              "        </div>\n",
              "</body>\n",
              "</html>"
            ]
          },
          "metadata": {
            "tags": []
          }
        },
        {
          "output_type": "stream",
          "text": [
            "Weighted MAPE: 0.22015405317179812\n"
          ],
          "name": "stdout"
        }
      ]
    },
    {
      "cell_type": "code",
      "metadata": {
        "id": "nRXO42PFwNtA",
        "colab": {
          "base_uri": "https://localhost:8080/",
          "height": 239
        },
        "outputId": "bdbdde1d-8233-4e00-fd91-632738a90bd2"
      },
      "source": [
        "# Model performance statistics\n",
        "best_model_mape = indv_forecast.groupby(['best_model','forecast_key'])['mape'].median().reset_index()\n",
        "best_model_mape = best_model_mape.groupby('best_model')['mape'].median()\n",
        "\n",
        "best_model_count = indv_forecast.groupby('forecast_key')['best_model'].agg(lambda x: stats.mode(x)[0])\n",
        "best_model_count = best_model_count.value_counts().to_frame()\n",
        "best_model_count = best_model_count.join(best_model_mape)\n",
        "best_model_count"
      ],
      "execution_count": 284,
      "outputs": [
        {
          "output_type": "execute_result",
          "data": {
            "application/vnd.google.colaboratory.module+javascript": "\n      import \"https://ssl.gstatic.com/colaboratory/data_table/a6224c040fa35dcf/data_table.js\";\n\n      window.createDataTable({\n        data: [[\"ElasticNet\",\n{\n            'v': 40,\n            'f': \"40\",\n        },\n{\n            'v': 0.43,\n            'f': \"0.43\",\n        }],\n [\"XGBoost\",\n{\n            'v': 37,\n            'f': \"37\",\n        },\n{\n            'v': 0.96,\n            'f': \"0.96\",\n        }],\n [\"ElasticNet_Trended\",\n{\n            'v': 30,\n            'f': \"30\",\n        },\n{\n            'v': 0.29000000000000004,\n            'f': \"0.29000000000000004\",\n        }],\n [\"XGBoost_Trended\",\n{\n            'v': 20,\n            'f': \"20\",\n        },\n{\n            'v': 0.32,\n            'f': \"0.32\",\n        }],\n [\"KNN\",\n{\n            'v': 17,\n            'f': \"17\",\n        },\n{\n            'v': 0.36,\n            'f': \"0.36\",\n        }],\n [\"XGB_tt_Trended\",\n{\n            'v': 9,\n            'f': \"9\",\n        },\n{\n            'v': 0.28,\n            'f': \"0.28\",\n        }],\n [\"ElntCV_tt_Trended\",\n{\n            'v': 8,\n            'f': \"8\",\n        },\n{\n            'v': 0.24,\n            'f': \"0.24\",\n        }]],\n        columns: [[\"string\", \"index\"], [\"number\", \"best_model\"], [\"number\", \"mape\"]],\n        columnOptions: [{\"width\": \"1px\", \"className\": \"index_column\"}],\n        rowsPerPage: 25,\n        helpUrl: \"https://colab.research.google.com/notebooks/data_table.ipynb\",\n        suppressOutputScrolling: true,\n        minimumWidth: undefined,\n      });\n    ",
            "text/html": [
              "<div>\n",
              "<style scoped>\n",
              "    .dataframe tbody tr th:only-of-type {\n",
              "        vertical-align: middle;\n",
              "    }\n",
              "\n",
              "    .dataframe tbody tr th {\n",
              "        vertical-align: top;\n",
              "    }\n",
              "\n",
              "    .dataframe thead th {\n",
              "        text-align: right;\n",
              "    }\n",
              "</style>\n",
              "<table border=\"1\" class=\"dataframe\">\n",
              "  <thead>\n",
              "    <tr style=\"text-align: right;\">\n",
              "      <th></th>\n",
              "      <th>best_model</th>\n",
              "      <th>mape</th>\n",
              "    </tr>\n",
              "  </thead>\n",
              "  <tbody>\n",
              "    <tr>\n",
              "      <th>ElasticNet</th>\n",
              "      <td>40</td>\n",
              "      <td>0.43</td>\n",
              "    </tr>\n",
              "    <tr>\n",
              "      <th>XGBoost</th>\n",
              "      <td>37</td>\n",
              "      <td>0.96</td>\n",
              "    </tr>\n",
              "    <tr>\n",
              "      <th>ElasticNet_Trended</th>\n",
              "      <td>30</td>\n",
              "      <td>0.29</td>\n",
              "    </tr>\n",
              "    <tr>\n",
              "      <th>XGBoost_Trended</th>\n",
              "      <td>20</td>\n",
              "      <td>0.32</td>\n",
              "    </tr>\n",
              "    <tr>\n",
              "      <th>KNN</th>\n",
              "      <td>17</td>\n",
              "      <td>0.36</td>\n",
              "    </tr>\n",
              "    <tr>\n",
              "      <th>XGB_tt_Trended</th>\n",
              "      <td>9</td>\n",
              "      <td>0.28</td>\n",
              "    </tr>\n",
              "    <tr>\n",
              "      <th>ElntCV_tt_Trended</th>\n",
              "      <td>8</td>\n",
              "      <td>0.24</td>\n",
              "    </tr>\n",
              "  </tbody>\n",
              "</table>\n",
              "</div>"
            ],
            "text/plain": [
              "                    best_model  mape\n",
              "ElasticNet                  40  0.43\n",
              "XGBoost                     37  0.96\n",
              "ElasticNet_Trended          30  0.29\n",
              "XGBoost_Trended             20  0.32\n",
              "KNN                         17  0.36\n",
              "XGB_tt_Trended               9  0.28\n",
              "ElntCV_tt_Trended            8  0.24"
            ]
          },
          "metadata": {
            "tags": []
          },
          "execution_count": 284
        }
      ]
    },
    {
      "cell_type": "code",
      "metadata": {
        "colab": {
          "base_uri": "https://localhost:8080/",
          "height": 355
        },
        "id": "IazF1JMQPsFS",
        "outputId": "c316c086-5968-4d6d-d3d1-5e66ddaaed80"
      },
      "source": [
        "fig, ax1 = plt.subplots(figsize=(5,5))\n",
        "\n",
        "ax1 = sns.barplot(y=best_model_count.index,x='best_model',data=best_model_count)\n",
        "plt.show()"
      ],
      "execution_count": 285,
      "outputs": [
        {
          "output_type": "display_data",
          "data": {
            "image/png": "[encoded data removed]",
            "text/plain": [
              "<Figure size 360x360 with 1 Axes>"
            ]
          },
          "metadata": {
            "tags": []
          }
        }
      ]
    },
    {
      "cell_type": "markdown",
      "metadata": {
        "id": "REC5ojIRySUN"
      },
      "source": [
        "# Export to BigQuery"
      ]
    },
    {
      "cell_type": "code",
      "metadata": {
        "id": "BxotIZv8zHOu",
        "colab": {
          "base_uri": "https://localhost:8080/",
          "height": 357
        },
        "outputId": "94edc558-d884-4d61-c17f-e6432b8c52b3"
      },
      "source": [
        "historical_sales = sales_data[['date','forecast_key',target_value]]\n",
        "historical_sales = historical_sales.groupby(['forecast_key','date']).sum().reset_index()\n",
        "\n",
        "formatted_forecasts = indv_forecast.merge(historical_sales,\n",
        "                                          on=['date','forecast_key'],\n",
        "                                          how='left'\n",
        "                                          )\n",
        "\n",
        "formatted_forecasts = formatted_forecasts.set_index('forecast_key').join(mapping_table)\n",
        "formatted_forecasts.sample(5)"
      ],
      "execution_count": 286,
      "outputs": [
        {
          "output_type": "execute_result",
          "data": {
            "application/vnd.google.colaboratory.module+javascript": "\n      import \"https://ssl.gstatic.com/colaboratory/data_table/a6224c040fa35dcf/data_table.js\";\n\n      window.createDataTable({\n        data: [[\"69634\",\n\"2018-11-25 00:00:00\",\n{\n            'v': 16.0,\n            'f': \"16.0\",\n        },\n{\n            'v': 0.29,\n            'f': \"0.29\",\n        },\n\"XGBoost_Trended\",\n\"2020-01-12 00:00:00\",\n\"train\",\n\"2018-11-25\",\n\"2018-11-23 00:00:00\",\n\"0\",\n{\n            'v': 4,\n            'f': \"4\",\n        },\n{\n            'v': 0.0,\n            'f': \"0.0\",\n        },\n\"69634\",\n\"Imported Schnapps\",\n\"Dr McGillicuddys Cherry\",\n\"421\"],\n [\"27100\",\n\"2020-06-28 00:00:00\",\n{\n            'v': 9.0,\n            'f': \"9.0\",\n        },\n{\n            'v': 1.97,\n            'f': \"1.97\",\n        },\n\"ElasticNet\",\n\"2020-01-12 00:00:00\",\n\"test\",\n\"2020-06-28\",\n\"2020-06-22 00:00:00\",\n\"0\",\n{\n            'v': 0,\n            'f': \"0\",\n        },\n{\n            'v': 89.0,\n            'f': \"89.0\",\n        },\n\"27100\",\n\"Straight Rye Whiskies\",\n\"Sazerac Rye\",\n\"421\"],\n [\"73851\",\n\"2020-08-09 00:00:00\",\n{\n            'v': 3.0,\n            'f': \"3.0\",\n        },\n{\n            'v': 0.74,\n            'f': \"0.74\",\n        },\n\"XGB_tt_Trended\",\n\"2020-07-05 00:00:00\",\n\"test\",\n\"2020-08-09\",\n\"2020-08-05 00:00:00\",\n\"0\",\n{\n            'v': 2,\n            'f': \"2\",\n        },\n{\n            'v': 0.0,\n            'f': \"0.0\",\n        },\n\"73851\",\n\"American Vodkas\",\n\"Firefly Lemonade Vodka Mini\",\n\"421\"],\n [\"18006\",\n\"2018-09-23 00:00:00\",\n{\n            'v': 99.0,\n            'f': \"99.0\",\n        },\n{\n            'v': 1.6,\n            'f': \"1.6\",\n        },\n\"XGBoost\",\n\"2020-01-12 00:00:00\",\n\"train\",\n\"2018-09-23\",\n\"2018-09-19 00:00:00\",\n\"0\",\n{\n            'v': 2,\n            'f': \"2\",\n        },\n{\n            'v': 338.0,\n            'f': \"338.0\",\n        },\n\"18006\",\n\"Straight Bourbon Whiskies\",\n\"Buffalo Trace Bourbon\",\n\"421\"],\n [\"86916\",\n\"2017-11-12 00:00:00\",\n{\n            'v': 18.0,\n            'f': \"18.0\",\n        },\n{\n            'v': 0.26,\n            'f': \"0.26\",\n        },\n\"ElasticNet_Trended\",\n\"2020-01-12 00:00:00\",\n\"train\",\n\"2017-11-12\",\n\"2017-11-08 00:00:00\",\n\"0\",\n{\n            'v': 2,\n            'f': \"2\",\n        },\n{\n            'v': 51.0,\n            'f': \"51.0\",\n        },\n\"86916\",\n\"Whiskey Liqueur\",\n\"Southern Comfort 100prf\",\n\"421\"]],\n        columns: [[\"string\", \"forecast_key\"], [\"string\", \"week_date\"], [\"number\", \"forecast\"], [\"number\", \"mape\"], [\"string\", \"best_model\"], [\"string\", \"trim_date\"], [\"string\", \"type\"], [\"string\", \"week_end_date\"], [\"string\", \"date\"], [\"string\", \"is_holiday\"], [\"number\", \"day_of_week\"], [\"number\", \"sales_bottles\"], [\"string\", \"item_number\"], [\"string\", \"category_name\"], [\"string\", \"item_description\"], [\"string\", \"vendor_number\"]],\n        columnOptions: [{\"width\": \"1px\", \"className\": \"index_column\"}],\n        rowsPerPage: 25,\n        helpUrl: \"https://colab.research.google.com/notebooks/data_table.ipynb\",\n        suppressOutputScrolling: true,\n        minimumWidth: undefined,\n      });\n    ",
            "text/html": [
              "<div>\n",
              "<style scoped>\n",
              "    .dataframe tbody tr th:only-of-type {\n",
              "        vertical-align: middle;\n",
              "    }\n",
              "\n",
              "    .dataframe tbody tr th {\n",
              "        vertical-align: top;\n",
              "    }\n",
              "\n",
              "    .dataframe thead th {\n",
              "        text-align: right;\n",
              "    }\n",
              "</style>\n",
              "<table border=\"1\" class=\"dataframe\">\n",
              "  <thead>\n",
              "    <tr style=\"text-align: right;\">\n",
              "      <th></th>\n",
              "      <th>week_date</th>\n",
              "      <th>forecast</th>\n",
              "      <th>mape</th>\n",
              "      <th>best_model</th>\n",
              "      <th>trim_date</th>\n",
              "      <th>type</th>\n",
              "      <th>week_end_date</th>\n",
              "      <th>date</th>\n",
              "      <th>is_holiday</th>\n",
              "      <th>day_of_week</th>\n",
              "      <th>sales_bottles</th>\n",
              "      <th>item_number</th>\n",
              "      <th>category_name</th>\n",
              "      <th>item_description</th>\n",
              "      <th>vendor_number</th>\n",
              "    </tr>\n",
              "    <tr>\n",
              "      <th>forecast_key</th>\n",
              "      <th></th>\n",
              "      <th></th>\n",
              "      <th></th>\n",
              "      <th></th>\n",
              "      <th></th>\n",
              "      <th></th>\n",
              "      <th></th>\n",
              "      <th></th>\n",
              "      <th></th>\n",
              "      <th></th>\n",
              "      <th></th>\n",
              "      <th></th>\n",
              "      <th></th>\n",
              "      <th></th>\n",
              "      <th></th>\n",
              "    </tr>\n",
              "  </thead>\n",
              "  <tbody>\n",
              "    <tr>\n",
              "      <th>69634</th>\n",
              "      <td>2018-11-25</td>\n",
              "      <td>16.0</td>\n",
              "      <td>0.29</td>\n",
              "      <td>XGBoost_Trended</td>\n",
              "      <td>2020-01-12</td>\n",
              "      <td>train</td>\n",
              "      <td>2018-11-25</td>\n",
              "      <td>2018-11-23</td>\n",
              "      <td>0</td>\n",
              "      <td>4</td>\n",
              "      <td>0.0</td>\n",
              "      <td>69634</td>\n",
              "      <td>Imported Schnapps</td>\n",
              "      <td>Dr McGillicuddys Cherry</td>\n",
              "      <td>421</td>\n",
              "    </tr>\n",
              "    <tr>\n",
              "      <th>27100</th>\n",
              "      <td>2020-06-28</td>\n",
              "      <td>9.0</td>\n",
              "      <td>1.97</td>\n",
              "      <td>ElasticNet</td>\n",
              "      <td>2020-01-12</td>\n",
              "      <td>test</td>\n",
              "      <td>2020-06-28</td>\n",
              "      <td>2020-06-22</td>\n",
              "      <td>0</td>\n",
              "      <td>0</td>\n",
              "      <td>89.0</td>\n",
              "      <td>27100</td>\n",
              "      <td>Straight Rye Whiskies</td>\n",
              "      <td>Sazerac Rye</td>\n",
              "      <td>421</td>\n",
              "    </tr>\n",
              "    <tr>\n",
              "      <th>73851</th>\n",
              "      <td>2020-08-09</td>\n",
              "      <td>3.0</td>\n",
              "      <td>0.74</td>\n",
              "      <td>XGB_tt_Trended</td>\n",
              "      <td>2020-07-05</td>\n",
              "      <td>test</td>\n",
              "      <td>2020-08-09</td>\n",
              "      <td>2020-08-05</td>\n",
              "      <td>0</td>\n",
              "      <td>2</td>\n",
              "      <td>0.0</td>\n",
              "      <td>73851</td>\n",
              "      <td>American Vodkas</td>\n",
              "      <td>Firefly Lemonade Vodka Mini</td>\n",
              "      <td>421</td>\n",
              "    </tr>\n",
              "    <tr>\n",
              "      <th>18006</th>\n",
              "      <td>2018-09-23</td>\n",
              "      <td>99.0</td>\n",
              "      <td>1.60</td>\n",
              "      <td>XGBoost</td>\n",
              "      <td>2020-01-12</td>\n",
              "      <td>train</td>\n",
              "      <td>2018-09-23</td>\n",
              "      <td>2018-09-19</td>\n",
              "      <td>0</td>\n",
              "      <td>2</td>\n",
              "      <td>338.0</td>\n",
              "      <td>18006</td>\n",
              "      <td>Straight Bourbon Whiskies</td>\n",
              "      <td>Buffalo Trace Bourbon</td>\n",
              "      <td>421</td>\n",
              "    </tr>\n",
              "    <tr>\n",
              "      <th>86916</th>\n",
              "      <td>2017-11-12</td>\n",
              "      <td>18.0</td>\n",
              "      <td>0.26</td>\n",
              "      <td>ElasticNet_Trended</td>\n",
              "      <td>2020-01-12</td>\n",
              "      <td>train</td>\n",
              "      <td>2017-11-12</td>\n",
              "      <td>2017-11-08</td>\n",
              "      <td>0</td>\n",
              "      <td>2</td>\n",
              "      <td>51.0</td>\n",
              "      <td>86916</td>\n",
              "      <td>Whiskey Liqueur</td>\n",
              "      <td>Southern Comfort 100prf</td>\n",
              "      <td>421</td>\n",
              "    </tr>\n",
              "  </tbody>\n",
              "</table>\n",
              "</div>"
            ],
            "text/plain": [
              "              week_date  forecast  ...             item_description vendor_number\n",
              "forecast_key                       ...                                           \n",
              "69634        2018-11-25      16.0  ...      Dr McGillicuddys Cherry           421\n",
              "27100        2020-06-28       9.0  ...                  Sazerac Rye           421\n",
              "73851        2020-08-09       3.0  ...  Firefly Lemonade Vodka Mini           421\n",
              "18006        2018-09-23      99.0  ...        Buffalo Trace Bourbon           421\n",
              "86916        2017-11-12      18.0  ...      Southern Comfort 100prf           421\n",
              "\n",
              "[5 rows x 15 columns]"
            ]
          },
          "metadata": {
            "tags": []
          },
          "execution_count": 286
        }
      ]
    },
    {
      "cell_type": "code",
      "metadata": {
        "id": "qQCklQJKbYUX"
      },
      "source": [
        "formatted_forecasts[target_value] =  formatted_forecasts[target_value].where(formatted_forecasts['type']!='forecast',np.nan)"
      ],
      "execution_count": 287,
      "outputs": []
    },
    {
      "cell_type": "code",
      "metadata": {
        "id": "iWD80vffz1zf"
      },
      "source": [
        "# Save locally\n",
        "mape_df[['mape']].to_csv('mape_df.csv')\n",
        "formatted_forecasts.to_csv('forecasts.csv')"
      ],
      "execution_count": 288,
      "outputs": []
    },
    {
      "cell_type": "markdown",
      "metadata": {
        "id": "jRP9F4UdKFeW"
      },
      "source": [
        "### Set up project and credentials"
      ]
    },
    {
      "cell_type": "code",
      "metadata": {
        "id": "7cGC5tiyCs9w"
      },
      "source": [
        "from google.cloud import bigquery\n",
        "\n",
        "project_id = 'iowa-liquor-sales-266301'\n",
        "bq_dataset_name = \"forecasting\"\n",
        "\n",
        "# Construct a BigQuery client object.\n",
        "client = bigquery.Client(project = project_id)\n",
        "\n",
        "metrics_path = \"/content/mape_df.csv\"\n",
        "forecasts_path = \"/content/forecasts.csv\"\n",
        "\n",
        "file_paths = [metrics_path,forecasts_path]\n",
        "table_names = [\"ml_metrics\",\"ml_forecasts\"]"
      ],
      "execution_count": 289,
      "outputs": []
    },
    {
      "cell_type": "markdown",
      "metadata": {
        "id": "LbIXCZbGKMgB"
      },
      "source": [
        "### Load tables to Big Query"
      ]
    },
    {
      "cell_type": "code",
      "metadata": {
        "id": "1Pyop4PcAPk2",
        "colab": {
          "base_uri": "https://localhost:8080/"
        },
        "outputId": "a6ca82dd-80a7-48f2-c76c-faad2575c40a"
      },
      "source": [
        "for file_path,tb_name in zip(file_paths,table_names):\n",
        "  \n",
        "  table_id = \"{}.{}.{}\".format(project_id,bq_dataset_name,tb_name)\n",
        "\n",
        "  job_config = bigquery.LoadJobConfig(\n",
        "      source_format=bigquery.SourceFormat.CSV, \n",
        "      skip_leading_rows=1, \n",
        "      autodetect=True,\n",
        "      \n",
        "  )\n",
        "\n",
        "  job_config.write_disposition = 'WRITE_TRUNCATE' \n",
        "\n",
        "  with open(file_path, \"rb\") as source_file:\n",
        "      job = client.load_table_from_file(source_file, table_id,job_config=job_config)\n",
        "      \n",
        "  job.result()  # Waits for the job to complete.\n",
        "\n",
        "  table = client.get_table(table_id)  # Make an API request.\n",
        "\n",
        "  print(\n",
        "      \"Loaded {} rows and {} columns to {}\".format(\n",
        "          table.num_rows, len(table.schema), table_id\n",
        "      )\n",
        "  )"
      ],
      "execution_count": 290,
      "outputs": [
        {
          "output_type": "stream",
          "text": [
            "Loaded 161 rows and 2 columns to iowa-liquor-sales-266301.forecasting.ml_metrics\n",
            "Loaded 231936 rows and 16 columns to iowa-liquor-sales-266301.forecasting.ml_forecasts\n"
          ],
          "name": "stdout"
        }
      ]
    },
    {
      "cell_type": "code",
      "metadata": {
        "id": "sc806Rgr6_zf"
      },
      "source": [
        "# Need to join actual sales\n",
        "historical_predictions = historical_predictions.merge(processed_dataset[['forecast_key','date',target_value,'trend']],\n",
        "                                                      how='left',\n",
        "                                                      on=['date','forecast_key'])"
      ],
      "execution_count": 291,
      "outputs": []
    },
    {
      "cell_type": "markdown",
      "metadata": {
        "id": "P5TozIiG5aPW"
      },
      "source": [
        "# Random key report"
      ]
    },
    {
      "cell_type": "code",
      "metadata": {
        "id": "0P5DMCzF5cHf"
      },
      "source": [
        "sns.set_style('white')\n",
        "sns.set_context('talk')\n",
        "\n",
        "# Ransac regressor to extract trend\n",
        "from sklearn.linear_model import RANSACRegressor,HuberRegressor, LinearRegression\n",
        "ransac2 = RANSACRegressor(random_state=42)\n",
        "huber = HuberRegressor()\n",
        "lr = LinearRegression()\n",
        "\n",
        "def plot_rand_key(rand=True):\n",
        "\n",
        "  global data_actuals,trend_data\n",
        "    \n",
        "  key = specific_key\n",
        "  if rand==True:\n",
        "    key = pd.DataFrame(forecasts.index.unique()).sample().values[0][0] # get sample key\n",
        "\n",
        "  print(key)\n",
        "  \n",
        "  data_fcst = forecasts.loc[key].groupby('week_date').sum()\n",
        "  \n",
        "  data_actuals = historical_predictions[(historical_predictions['forecast_key']==key) & (historical_predictions['type']!='forecast')]\n",
        "  \n",
        "  # Predict trendline \n",
        "  cols = ['week_date','trend'] + [predicted_var]\n",
        "  \n",
        "  trend_data = data_actuals.dropna()\n",
        "  trend_y = trend_data[predicted_var[0]].values.reshape(-1,1)\n",
        "  trend_x = trend_data['trend'].values.reshape(-1,1)\n",
        "  trend_data['trend_line_huber'] = huber.fit(trend_x,trend_y).predict(trend_x)\n",
        "  trend_data['trend_line_lr'] = lr.fit(trend_x,trend_y).predict(trend_x)\n",
        "  \n",
        "  try:\n",
        "    trend_data['trend_line_ransac'] = ransac.fit(trend_x,trend_y).predict(trend_x)\n",
        "  except: \n",
        "    trend_data['trend_line_ransac'] = 0\n",
        "  \n",
        "  trend_data['detrended_actuals'] = trend_data[predicted_var[0]] - trend_data['trend_line_ransac']\n",
        "  \n",
        "  # Power Transform\n",
        "  trend_data['pt_actuals'] = PowerTransformer().fit_transform(trend_data['detrended_actuals'].values.reshape(-1,1))\n",
        "\n",
        "  # Plot Time Series ----------------------------------------\n",
        "  plt.figure(figsize=(14,6))\n",
        "\n",
        "  # Actuals\n",
        "  sns.lineplot(x=\"week_date\", y=predicted_var[0],color=\"grey\",linewidth=2,data=data_actuals)\n",
        "\n",
        "  # Plot trend \n",
        "  sns.lineplot(x='date', y='trend_line_ransac' ,color='lime', alpha=0.7, data=trend_data)\n",
        "\n",
        "\n",
        "  # Forecast \n",
        "  sns.lineplot(x=\"week_date\", y='forecast',color='#42779B', alpha=1,linewidth=3, data=data_fcst)\n",
        "\n",
        "  # Historical predictions \n",
        "  ##sns.lineplot(x=\"date\", y='indv_forecast',hue='type', alpha=0.8, data=data_fcst)\n",
        "  sns.lineplot(x=\"week_date\", y='forecast', color='#42779B', alpha=0.5, data=data_fcst)\n",
        "\n",
        "  plt.xticks(rotation=30)\n",
        "  plt.title('Actuals vs Historical - {}'.format(key))\n",
        "  plt.legend(labels = ['Actuals','Trend', 'Forecast','Historical Prediction',])\n",
        "  plt.show()\n",
        "\n",
        "  # Histogram ---------------------------------------------\n",
        "  plt.figure(figsize=(15,5))\n",
        "  plt.subplot(1, 3, 1)\n",
        "  sns.distplot(trend_data[predicted_var[0]],color='gray')\n",
        "  plt.title('Original Sales Dist')\n",
        "\n",
        "  plt.subplot(1, 3, 2)\n",
        "  sns.distplot(trend_data['detrended_actuals'],color='purple')\n",
        "  plt.title('Detrended Dist')\n",
        "\n",
        "  plt.subplot(1, 3, 3)\n",
        "  sns.distplot(trend_data['pt_actuals'],color='#42779B')\n",
        "  plt.title('Detrended - Power Transformed')\n",
        "  plt.tight_layout()\n",
        "  plt.show()\n",
        "  \n",
        "  # Stationarize series plot\n",
        "  fig, ax1 = plt.subplots(figsize=(12,5))\n",
        "  ax1 = sns.lineplot(x=\"date\", y=predicted_var[0],color='gray', alpha=0.6, data=trend_data)\n",
        "  #ax1 = sns.lineplot(x=\"date\", y='detrended_actuals',color='purple', alpha=0.5, data=trend_data)\n",
        "  ax1.legend(['Actuals','Detrended'],loc='upper left')\n",
        "  ax2 = ax1.twinx()\n",
        "  ax2 = sns.lineplot(x=\"date\", y='pt_actuals',color='#42779B', alpha=0.5, data=trend_data)\n",
        "  ax2.legend(['Power Transformed'],loc='upper right')\n",
        "  plt.show()"
      ],
      "execution_count": 295,
      "outputs": []
    },
    {
      "cell_type": "code",
      "metadata": {
        "id": "dqjdE8gY6efy",
        "colab": {
          "base_uri": "https://localhost:8080/",
          "height": 1000
        },
        "outputId": "89a06164-437f-49fb-c344-e539a92a76ea"
      },
      "source": [
        "#Sample key\n",
        "specific_key = '64870'\n",
        "plot_rand_key(rand=False)"
      ],
      "execution_count": 296,
      "outputs": [
        {
          "output_type": "stream",
          "text": [
            "64870\n"
          ],
          "name": "stdout"
        },
        {
          "output_type": "display_data",
          "data": {
            "image/png": "[encoded data removed]",
            "text/plain": [
              "<Figure size 1008x432 with 1 Axes>"
            ]
          },
          "metadata": {
            "tags": []
          }
        },
        {
          "output_type": "display_data",
          "data": {
            "image/png": "[encoded data removed]",
            "text/plain": [
              "<Figure size 1080x360 with 3 Axes>"
            ]
          },
          "metadata": {
            "tags": []
          }
        },
        {
          "output_type": "display_data",
          "data": {
            "image/png": "[encoded data removed]",
            "text/plain": [
              "<Figure size 864x360 with 2 Axes>"
            ]
          },
          "metadata": {
            "tags": []
          }
        }
      ]
    },
    {
      "cell_type": "code",
      "metadata": {
        "id": "KoQQdVC9R9dG"
      },
      "source": [
        ""
      ],
      "execution_count": null,
      "outputs": []
    }
  ]
}