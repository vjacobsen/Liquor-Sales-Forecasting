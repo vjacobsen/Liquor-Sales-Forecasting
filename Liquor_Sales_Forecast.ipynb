{
  "nbformat": 4,
  "nbformat_minor": 0,
  "metadata": {
    "colab": {
      "name": "Liquor Sales Forecast",
      "provenance": [],
      "collapsed_sections": [
        "AIQhCOKNknSQ",
        "P5TozIiG5aPW"
      ],
      "toc_visible": true,
      "authorship_tag": "ABX9TyOh+hn9jlQoQiXe2CnUL8OY",
      "include_colab_link": true
    },
    "kernelspec": {
      "name": "python3",
      "display_name": "Python 3"
    }
  },
  "cells": [
    {
      "cell_type": "markdown",
      "metadata": {
        "id": "view-in-github",
        "colab_type": "text"
      },
      "source": [
        "<a href=\"https://colab.research.google.com/github/vjacobsen/Liquor-Sales-Inventory-Forecast/blob/main/Liquor_Sales_Forecast.ipynb\" target=\"_parent\"><img src=\"https://colab.research.google.com/assets/colab-badge.svg\" alt=\"Open In Colab\"/></a>"
      ]
    },
    {
      "cell_type": "code",
      "metadata": {
        "id": "dKyt09H7lzc3",
        "colab": {
          "base_uri": "https://localhost:8080/"
        },
        "outputId": "b1166c33-1fc7-4a03-9e9b-9a1a387be213"
      },
      "source": [
        "import pandas as pd\n",
        "import numpy as np\n",
        "from datetime import date\n",
        "import matplotlib.pyplot as plt\n",
        "import seaborn as sns\n",
        "\n",
        "### Provide your credentials to the runtime\n",
        "from google.colab import auth\n",
        "auth.authenticate_user()\n",
        "print('Authenticated')\n",
        "\n",
        "## Optional: Enable data table display\n",
        "%load_ext google.colab.data_table"
      ],
      "execution_count": 1,
      "outputs": [
        {
          "output_type": "stream",
          "text": [
            "Authenticated\n"
          ],
          "name": "stdout"
        }
      ]
    },
    {
      "cell_type": "markdown",
      "metadata": {
        "id": "_RfUUwW896r6"
      },
      "source": [
        "## BigCoud Query"
      ]
    },
    {
      "cell_type": "code",
      "metadata": {
        "id": "JzMv3jdaaCMm"
      },
      "source": [
        "# Set up BigQuery client\n",
        "project_id = 'iowa-liquor-sales-266301'\n",
        "\n",
        "from google.cloud import bigquery\n",
        "\n",
        "client = bigquery.Client(project=project_id)"
      ],
      "execution_count": 2,
      "outputs": []
    },
    {
      "cell_type": "code",
      "metadata": {
        "id": "dm3lkHgJIoMV",
        "colab": {
          "base_uri": "https://localhost:8080/",
          "height": 194
        },
        "outputId": "ace9e632-0d99-4ce1-8b92-1ed9cb03e693"
      },
      "source": [
        "sales_data = client.query('''\n",
        "\n",
        "SELECT \n",
        "date, \n",
        "item_number,\n",
        "item_description,\n",
        "vendor_number, \n",
        "category_name, \n",
        "SUM(sale_dollars) as sales_amount, \n",
        "SUM(bottles_sold) as sales_bottles,\n",
        "CAST(EXTRACT(YEAR FROM date) as string) as year,\n",
        "CAST(EXTRACT(WEEK FROM date) as string) as week,\n",
        "CAST(EXTRACT(MONTH FROM date) as string) as month \n",
        "\n",
        "FROM `bigquery-public-data.iowa_liquor_sales.sales`\n",
        "\n",
        "WHERE \n",
        "date > DATE_SUB(\n",
        "  (SELECT MAX(date) FROM `bigquery-public-data.iowa_liquor_sales.sales`), \n",
        "INTERVAL 4 YEAR) AND \n",
        "#store_name LIKE \"%Wal-Mart%\" AND\n",
        "vendor_number = '421'\n",
        "\n",
        "GROUP BY\n",
        "date, \n",
        "item_number,\n",
        "vendor_number, \n",
        "category_name, \n",
        "item_description\n",
        "\n",
        "''').to_dataframe()\n",
        "\n",
        "sales_data.sample(5)"
      ],
      "execution_count": 3,
      "outputs": [
        {
          "output_type": "execute_result",
          "data": {
            "application/vnd.google.colaboratory.module+javascript": "\n      import \"https://ssl.gstatic.com/colaboratory/data_table/a6224c040fa35dcf/data_table.js\";\n\n      window.createDataTable({\n        data: [[{\n            'v': 5316,\n            'f': \"5316\",\n        },\n\"2019-01-31\",\n\"38088\",\n\"Platinum 7x Vodka\",\n\"421\",\n\"American Vodkas\",\n{\n            'v': 2534.64,\n            'f': \"2534.64\",\n        },\n{\n            'v': 179,\n            'f': \"179\",\n        },\n\"2019\",\n\"4\",\n\"1\"],\n [{\n            'v': 60728,\n            'f': \"60728\",\n        },\n\"2018-09-19\",\n\"69631\",\n\"Dr. Mcgillicuddy's Cherry Mini\",\n\"421\",\n\"Imported Schnapps\",\n{\n            'v': 307.5,\n            'f': \"307.5\",\n        },\n{\n            'v': 41,\n            'f': \"41\",\n        },\n\"2018\",\n\"37\",\n\"9\"],\n [{\n            'v': 56080,\n            'f': \"56080\",\n        },\n\"2019-08-27\",\n\"43644\",\n\"Parrot Bay Key Lime\",\n\"421\",\n\"Flavored Rum\",\n{\n            'v': 168.75,\n            'f': \"168.75\",\n        },\n{\n            'v': 15,\n            'f': \"15\",\n        },\n\"2019\",\n\"34\",\n\"8\"],\n [{\n            'v': 7367,\n            'f': \"7367\",\n        },\n\"2019-02-05\",\n\"66636\",\n\"Romana Sambuca Italian Liquore\",\n\"421\",\n\"Imported Cordials & Liqueurs\",\n{\n            'v': 607.5,\n            'f': \"607.5\",\n        },\n{\n            'v': 30,\n            'f': \"30\",\n        },\n\"2019\",\n\"5\",\n\"2\"],\n [{\n            'v': 14438,\n            'f': \"14438\",\n        },\n\"2017-03-02\",\n\"34366\",\n\"Fris Danish Vodka\",\n\"421\",\n\"Imported Vodkas\",\n{\n            'v': 194.73999999999998,\n            'f': \"194.73999999999998\",\n        },\n{\n            'v': 26,\n            'f': \"26\",\n        },\n\"2017\",\n\"9\",\n\"3\"]],\n        columns: [[\"number\", \"index\"], [\"string\", \"date\"], [\"string\", \"item_number\"], [\"string\", \"item_description\"], [\"string\", \"vendor_number\"], [\"string\", \"category_name\"], [\"number\", \"sales_amount\"], [\"number\", \"sales_bottles\"], [\"string\", \"year\"], [\"string\", \"week\"], [\"string\", \"month\"]],\n        columnOptions: [{\"width\": \"1px\", \"className\": \"index_column\"}],\n        rowsPerPage: 25,\n        helpUrl: \"https://colab.research.google.com/notebooks/data_table.ipynb\",\n        suppressOutputScrolling: true,\n        minimumWidth: undefined,\n      });\n    ",
            "text/html": [
              "<div>\n",
              "<style scoped>\n",
              "    .dataframe tbody tr th:only-of-type {\n",
              "        vertical-align: middle;\n",
              "    }\n",
              "\n",
              "    .dataframe tbody tr th {\n",
              "        vertical-align: top;\n",
              "    }\n",
              "\n",
              "    .dataframe thead th {\n",
              "        text-align: right;\n",
              "    }\n",
              "</style>\n",
              "<table border=\"1\" class=\"dataframe\">\n",
              "  <thead>\n",
              "    <tr style=\"text-align: right;\">\n",
              "      <th></th>\n",
              "      <th>date</th>\n",
              "      <th>item_number</th>\n",
              "      <th>item_description</th>\n",
              "      <th>vendor_number</th>\n",
              "      <th>category_name</th>\n",
              "      <th>sales_amount</th>\n",
              "      <th>sales_bottles</th>\n",
              "      <th>year</th>\n",
              "      <th>week</th>\n",
              "      <th>month</th>\n",
              "    </tr>\n",
              "  </thead>\n",
              "  <tbody>\n",
              "    <tr>\n",
              "      <th>5316</th>\n",
              "      <td>2019-01-31</td>\n",
              "      <td>38088</td>\n",
              "      <td>Platinum 7x Vodka</td>\n",
              "      <td>421</td>\n",
              "      <td>American Vodkas</td>\n",
              "      <td>2534.64</td>\n",
              "      <td>179</td>\n",
              "      <td>2019</td>\n",
              "      <td>4</td>\n",
              "      <td>1</td>\n",
              "    </tr>\n",
              "    <tr>\n",
              "      <th>60728</th>\n",
              "      <td>2018-09-19</td>\n",
              "      <td>69631</td>\n",
              "      <td>Dr. Mcgillicuddy's Cherry Mini</td>\n",
              "      <td>421</td>\n",
              "      <td>Imported Schnapps</td>\n",
              "      <td>307.50</td>\n",
              "      <td>41</td>\n",
              "      <td>2018</td>\n",
              "      <td>37</td>\n",
              "      <td>9</td>\n",
              "    </tr>\n",
              "    <tr>\n",
              "      <th>56080</th>\n",
              "      <td>2019-08-27</td>\n",
              "      <td>43644</td>\n",
              "      <td>Parrot Bay Key Lime</td>\n",
              "      <td>421</td>\n",
              "      <td>Flavored Rum</td>\n",
              "      <td>168.75</td>\n",
              "      <td>15</td>\n",
              "      <td>2019</td>\n",
              "      <td>34</td>\n",
              "      <td>8</td>\n",
              "    </tr>\n",
              "    <tr>\n",
              "      <th>7367</th>\n",
              "      <td>2019-02-05</td>\n",
              "      <td>66636</td>\n",
              "      <td>Romana Sambuca Italian Liquore</td>\n",
              "      <td>421</td>\n",
              "      <td>Imported Cordials &amp; Liqueurs</td>\n",
              "      <td>607.50</td>\n",
              "      <td>30</td>\n",
              "      <td>2019</td>\n",
              "      <td>5</td>\n",
              "      <td>2</td>\n",
              "    </tr>\n",
              "    <tr>\n",
              "      <th>14438</th>\n",
              "      <td>2017-03-02</td>\n",
              "      <td>34366</td>\n",
              "      <td>Fris Danish Vodka</td>\n",
              "      <td>421</td>\n",
              "      <td>Imported Vodkas</td>\n",
              "      <td>194.74</td>\n",
              "      <td>26</td>\n",
              "      <td>2017</td>\n",
              "      <td>9</td>\n",
              "      <td>3</td>\n",
              "    </tr>\n",
              "  </tbody>\n",
              "</table>\n",
              "</div>"
            ],
            "text/plain": [
              "             date item_number                item_description  ...  year week  month\n",
              "5316   2019-01-31       38088               Platinum 7x Vodka  ...  2019    4      1\n",
              "60728  2018-09-19       69631  Dr. Mcgillicuddy's Cherry Mini  ...  2018   37      9\n",
              "56080  2019-08-27       43644             Parrot Bay Key Lime  ...  2019   34      8\n",
              "7367   2019-02-05       66636  Romana Sambuca Italian Liquore  ...  2019    5      2\n",
              "14438  2017-03-02       34366               Fris Danish Vodka  ...  2017    9      3\n",
              "\n",
              "[5 rows x 10 columns]"
            ]
          },
          "metadata": {
            "tags": []
          },
          "execution_count": 3
        }
      ]
    },
    {
      "cell_type": "markdown",
      "metadata": {
        "id": "jYD2Yt4TcQa4"
      },
      "source": [
        "## Data Preprocessing"
      ]
    },
    {
      "cell_type": "code",
      "metadata": {
        "id": "brRqjmPkWRpo",
        "colab": {
          "base_uri": "https://localhost:8080/",
          "height": 211
        },
        "outputId": "59c97f3f-359b-4139-c0c2-644d01d063a2"
      },
      "source": [
        "# Rename columns\n",
        "sales_data = sales_data.rename(columns={'sales_amount':'sales_dollars'})\n",
        "\n",
        "# Create forecast key\n",
        "sales_data['forecast_key'] = sales_data['item_number']\n",
        "\n",
        "# Convert date to date\n",
        "sales_data['date'] = pd.to_datetime(sales_data['date'])\n",
        "\n",
        "# Number of unique keys\n",
        "print(\"Number of items:\", len(sales_data['item_number'].unique()))\n",
        "\n",
        "mapping_table = sales_data.drop_duplicates('forecast_key')[['item_number',\n",
        "                                                            'category_name',\n",
        "                                                            'item_description',\n",
        "                                                            'forecast_key',\n",
        "                                                            'vendor_number']].set_index('forecast_key')\n",
        "mapping_table.head(5)"
      ],
      "execution_count": 4,
      "outputs": [
        {
          "output_type": "stream",
          "text": [
            "Number of items: 369\n"
          ],
          "name": "stdout"
        },
        {
          "output_type": "execute_result",
          "data": {
            "application/vnd.google.colaboratory.module+javascript": "\n      import \"https://ssl.gstatic.com/colaboratory/data_table/a6224c040fa35dcf/data_table.js\";\n\n      window.createDataTable({\n        data: [[\"77487\",\n\"77487\",\n\"Imported Distilled Spirit Specialty\",\n\"Tortilla Gold Dss\",\n\"421\"],\n [\"903122\",\n\"903122\",\n\"Special Order Items\",\n\"Wiser's 18 Year Old\",\n\"421\"],\n [\"66992\",\n\"66992\",\n\"Single Malt Scotch\",\n\"Pulteney Stroma Liqueur\",\n\"421\"],\n [\"17766\",\n\"17766\",\n\"Single Barrel Bourbon Whiskies\",\n\"Eagle Rare\",\n\"421\"],\n [\"27100\",\n\"27100\",\n\"Straight Rye Whiskies\",\n\"Sazerac Rye\",\n\"421\"]],\n        columns: [[\"string\", \"forecast_key\"], [\"string\", \"item_number\"], [\"string\", \"category_name\"], [\"string\", \"item_description\"], [\"string\", \"vendor_number\"]],\n        columnOptions: [{\"width\": \"1px\", \"className\": \"index_column\"}],\n        rowsPerPage: 25,\n        helpUrl: \"https://colab.research.google.com/notebooks/data_table.ipynb\",\n        suppressOutputScrolling: true,\n        minimumWidth: undefined,\n      });\n    ",
            "text/html": [
              "<div>\n",
              "<style scoped>\n",
              "    .dataframe tbody tr th:only-of-type {\n",
              "        vertical-align: middle;\n",
              "    }\n",
              "\n",
              "    .dataframe tbody tr th {\n",
              "        vertical-align: top;\n",
              "    }\n",
              "\n",
              "    .dataframe thead th {\n",
              "        text-align: right;\n",
              "    }\n",
              "</style>\n",
              "<table border=\"1\" class=\"dataframe\">\n",
              "  <thead>\n",
              "    <tr style=\"text-align: right;\">\n",
              "      <th></th>\n",
              "      <th>item_number</th>\n",
              "      <th>category_name</th>\n",
              "      <th>item_description</th>\n",
              "      <th>vendor_number</th>\n",
              "    </tr>\n",
              "    <tr>\n",
              "      <th>forecast_key</th>\n",
              "      <th></th>\n",
              "      <th></th>\n",
              "      <th></th>\n",
              "      <th></th>\n",
              "    </tr>\n",
              "  </thead>\n",
              "  <tbody>\n",
              "    <tr>\n",
              "      <th>77487</th>\n",
              "      <td>77487</td>\n",
              "      <td>Imported Distilled Spirit Specialty</td>\n",
              "      <td>Tortilla Gold Dss</td>\n",
              "      <td>421</td>\n",
              "    </tr>\n",
              "    <tr>\n",
              "      <th>903122</th>\n",
              "      <td>903122</td>\n",
              "      <td>Special Order Items</td>\n",
              "      <td>Wiser's 18 Year Old</td>\n",
              "      <td>421</td>\n",
              "    </tr>\n",
              "    <tr>\n",
              "      <th>66992</th>\n",
              "      <td>66992</td>\n",
              "      <td>Single Malt Scotch</td>\n",
              "      <td>Pulteney Stroma Liqueur</td>\n",
              "      <td>421</td>\n",
              "    </tr>\n",
              "    <tr>\n",
              "      <th>17766</th>\n",
              "      <td>17766</td>\n",
              "      <td>Single Barrel Bourbon Whiskies</td>\n",
              "      <td>Eagle Rare</td>\n",
              "      <td>421</td>\n",
              "    </tr>\n",
              "    <tr>\n",
              "      <th>27100</th>\n",
              "      <td>27100</td>\n",
              "      <td>Straight Rye Whiskies</td>\n",
              "      <td>Sazerac Rye</td>\n",
              "      <td>421</td>\n",
              "    </tr>\n",
              "  </tbody>\n",
              "</table>\n",
              "</div>"
            ],
            "text/plain": [
              "             item_number  ... vendor_number\n",
              "forecast_key              ...              \n",
              "77487              77487  ...           421\n",
              "903122            903122  ...           421\n",
              "66992              66992  ...           421\n",
              "17766              17766  ...           421\n",
              "27100              27100  ...           421\n",
              "\n",
              "[5 rows x 4 columns]"
            ]
          },
          "metadata": {
            "tags": []
          },
          "execution_count": 4
        }
      ]
    },
    {
      "cell_type": "markdown",
      "metadata": {
        "id": "wp8otPsRMkHi"
      },
      "source": [
        "### Expand missing dates \n",
        "\n"
      ]
    },
    {
      "cell_type": "code",
      "metadata": {
        "id": "0dXalfkVMqbk",
        "colab": {
          "base_uri": "https://localhost:8080/"
        },
        "outputId": "10558cd4-3f28-4fac-ef96-1ce7830c6f00"
      },
      "source": [
        "from IPython.display import clear_output\n",
        "\n",
        "# Create continuous date range for forecasts\n",
        "def date_populator(df):\n",
        "  first_date = df['date'].min()\n",
        "  current_dates = pd.date_range(first_date, last_date)\n",
        "  current_dates = pd.DataFrame(current_dates)\n",
        "  current_dates['type'] = 'historical'\n",
        "  current_dates = current_dates.rename(columns={0:'date'})\n",
        "  df = df.merge(current_dates, on='date',how='right')\n",
        "\n",
        "  return df\n",
        "\n",
        "last_date = sales_data['date'].max()\n",
        "print(last_date)\n",
        "\n",
        "sales_data = sales_data.groupby('forecast_key').apply(date_populator)\n",
        "\n",
        "sales_data['date'] = pd.to_datetime(sales_data['date'])\n",
        "sales_data = sales_data.drop(columns=['forecast_key'])\n",
        "sales_data = sales_data.reset_index()\n",
        "\n",
        "# year_week key\n",
        "sales_data['year_week'] = (sales_data['date'].dt.year.astype(str) + \"_\" + sales_data['date'].dt.isocalendar().week.astype(str))"
      ],
      "execution_count": 5,
      "outputs": [
        {
          "output_type": "stream",
          "text": [
            "2020-10-30 00:00:00\n"
          ],
          "name": "stdout"
        }
      ]
    },
    {
      "cell_type": "code",
      "metadata": {
        "id": "kxnKJDhNsg-3",
        "colab": {
          "base_uri": "https://localhost:8080/",
          "height": 211
        },
        "outputId": "9a857117-ceb0-47d1-c27c-5ec446784d5e"
      },
      "source": [
        "# Drop last week and first week (might have incomplete data)\n",
        "latest_week = sales_data[sales_data['date']==sales_data['date'].max()]['year_week'].values[0]\n",
        "earliest_week = sales_data[sales_data['date']==sales_data['date'].min()]['year_week'].values[0]\n",
        "print(earliest_week,latest_week)\n",
        "\n",
        "sales_data = sales_data[((sales_data['year_week']!=earliest_week) & \n",
        "                         (sales_data['year_week']!=latest_week)\n",
        "                         )].copy()\n",
        "\n",
        "# Fill NA values with 0 \n",
        "sales_data['sales_bottles'] = sales_data['sales_bottles'].fillna(0)\n",
        "\n",
        "sales_data.head()"
      ],
      "execution_count": 6,
      "outputs": [
        {
          "output_type": "stream",
          "text": [
            "2016_44 2020_44\n"
          ],
          "name": "stdout"
        },
        {
          "output_type": "execute_result",
          "data": {
            "application/vnd.google.colaboratory.module+javascript": "\n      import \"https://ssl.gstatic.com/colaboratory/data_table/a6224c040fa35dcf/data_table.js\";\n\n      window.createDataTable({\n        data: [[{\n            'v': 0,\n            'f': \"0\",\n        },\n\"100015\",\n{\n            'v': 0,\n            'f': \"0\",\n        },\n\"2017-08-25 00:00:00\",\n\"100015\",\n\"Fireball Bag in Box\",\n\"421\",\n{\n            'v': null,\n            'f': \"null\",\n        },\n{\n            'v': 270.0,\n            'f': \"270.0\",\n        },\n{\n            'v': 6.0,\n            'f': \"6.0\",\n        },\n\"2017\",\n\"34\",\n\"8\",\n\"historical\",\n\"2017_34\"],\n [{\n            'v': 1,\n            'f': \"1\",\n        },\n\"100015\",\n{\n            'v': 1,\n            'f': \"1\",\n        },\n\"2017-08-26 00:00:00\",\nNaN,\nNaN,\nNaN,\n{\n            'v': NaN,\n            'f': \"NaN\",\n        },\n{\n            'v': NaN,\n            'f': \"NaN\",\n        },\n{\n            'v': 0.0,\n            'f': \"0.0\",\n        },\nNaN,\nNaN,\nNaN,\n\"historical\",\n\"2017_34\"],\n [{\n            'v': 2,\n            'f': \"2\",\n        },\n\"100015\",\n{\n            'v': 2,\n            'f': \"2\",\n        },\n\"2017-08-27 00:00:00\",\nNaN,\nNaN,\nNaN,\n{\n            'v': NaN,\n            'f': \"NaN\",\n        },\n{\n            'v': NaN,\n            'f': \"NaN\",\n        },\n{\n            'v': 0.0,\n            'f': \"0.0\",\n        },\nNaN,\nNaN,\nNaN,\n\"historical\",\n\"2017_34\"],\n [{\n            'v': 3,\n            'f': \"3\",\n        },\n\"100015\",\n{\n            'v': 3,\n            'f': \"3\",\n        },\n\"2017-08-28 00:00:00\",\n\"100015\",\n\"Fireball Bag in Box\",\n\"421\",\n{\n            'v': null,\n            'f': \"null\",\n        },\n{\n            'v': 990.0,\n            'f': \"990.0\",\n        },\n{\n            'v': 22.0,\n            'f': \"22.0\",\n        },\n\"2017\",\n\"35\",\n\"8\",\n\"historical\",\n\"2017_35\"],\n [{\n            'v': 4,\n            'f': \"4\",\n        },\n\"100015\",\n{\n            'v': 4,\n            'f': \"4\",\n        },\n\"2017-08-29 00:00:00\",\n\"100015\",\n\"Fireball Bag in Box\",\n\"421\",\n{\n            'v': null,\n            'f': \"null\",\n        },\n{\n            'v': 450.0,\n            'f': \"450.0\",\n        },\n{\n            'v': 10.0,\n            'f': \"10.0\",\n        },\n\"2017\",\n\"35\",\n\"8\",\n\"historical\",\n\"2017_35\"]],\n        columns: [[\"number\", \"index\"], [\"string\", \"forecast_key\"], [\"number\", \"level_1\"], [\"string\", \"date\"], [\"string\", \"item_number\"], [\"string\", \"item_description\"], [\"string\", \"vendor_number\"], [\"number\", \"category_name\"], [\"number\", \"sales_dollars\"], [\"number\", \"sales_bottles\"], [\"string\", \"year\"], [\"string\", \"week\"], [\"string\", \"month\"], [\"string\", \"type\"], [\"string\", \"year_week\"]],\n        columnOptions: [{\"width\": \"1px\", \"className\": \"index_column\"}],\n        rowsPerPage: 25,\n        helpUrl: \"https://colab.research.google.com/notebooks/data_table.ipynb\",\n        suppressOutputScrolling: true,\n        minimumWidth: undefined,\n      });\n    ",
            "text/html": [
              "<div>\n",
              "<style scoped>\n",
              "    .dataframe tbody tr th:only-of-type {\n",
              "        vertical-align: middle;\n",
              "    }\n",
              "\n",
              "    .dataframe tbody tr th {\n",
              "        vertical-align: top;\n",
              "    }\n",
              "\n",
              "    .dataframe thead th {\n",
              "        text-align: right;\n",
              "    }\n",
              "</style>\n",
              "<table border=\"1\" class=\"dataframe\">\n",
              "  <thead>\n",
              "    <tr style=\"text-align: right;\">\n",
              "      <th></th>\n",
              "      <th>forecast_key</th>\n",
              "      <th>level_1</th>\n",
              "      <th>date</th>\n",
              "      <th>item_number</th>\n",
              "      <th>item_description</th>\n",
              "      <th>vendor_number</th>\n",
              "      <th>category_name</th>\n",
              "      <th>sales_dollars</th>\n",
              "      <th>sales_bottles</th>\n",
              "      <th>year</th>\n",
              "      <th>week</th>\n",
              "      <th>month</th>\n",
              "      <th>type</th>\n",
              "      <th>year_week</th>\n",
              "    </tr>\n",
              "  </thead>\n",
              "  <tbody>\n",
              "    <tr>\n",
              "      <th>0</th>\n",
              "      <td>100015</td>\n",
              "      <td>0</td>\n",
              "      <td>2017-08-25</td>\n",
              "      <td>100015</td>\n",
              "      <td>Fireball Bag in Box</td>\n",
              "      <td>421</td>\n",
              "      <td>None</td>\n",
              "      <td>270.0</td>\n",
              "      <td>6.0</td>\n",
              "      <td>2017</td>\n",
              "      <td>34</td>\n",
              "      <td>8</td>\n",
              "      <td>historical</td>\n",
              "      <td>2017_34</td>\n",
              "    </tr>\n",
              "    <tr>\n",
              "      <th>1</th>\n",
              "      <td>100015</td>\n",
              "      <td>1</td>\n",
              "      <td>2017-08-26</td>\n",
              "      <td>NaN</td>\n",
              "      <td>NaN</td>\n",
              "      <td>NaN</td>\n",
              "      <td>NaN</td>\n",
              "      <td>NaN</td>\n",
              "      <td>0.0</td>\n",
              "      <td>NaN</td>\n",
              "      <td>NaN</td>\n",
              "      <td>NaN</td>\n",
              "      <td>historical</td>\n",
              "      <td>2017_34</td>\n",
              "    </tr>\n",
              "    <tr>\n",
              "      <th>2</th>\n",
              "      <td>100015</td>\n",
              "      <td>2</td>\n",
              "      <td>2017-08-27</td>\n",
              "      <td>NaN</td>\n",
              "      <td>NaN</td>\n",
              "      <td>NaN</td>\n",
              "      <td>NaN</td>\n",
              "      <td>NaN</td>\n",
              "      <td>0.0</td>\n",
              "      <td>NaN</td>\n",
              "      <td>NaN</td>\n",
              "      <td>NaN</td>\n",
              "      <td>historical</td>\n",
              "      <td>2017_34</td>\n",
              "    </tr>\n",
              "    <tr>\n",
              "      <th>3</th>\n",
              "      <td>100015</td>\n",
              "      <td>3</td>\n",
              "      <td>2017-08-28</td>\n",
              "      <td>100015</td>\n",
              "      <td>Fireball Bag in Box</td>\n",
              "      <td>421</td>\n",
              "      <td>None</td>\n",
              "      <td>990.0</td>\n",
              "      <td>22.0</td>\n",
              "      <td>2017</td>\n",
              "      <td>35</td>\n",
              "      <td>8</td>\n",
              "      <td>historical</td>\n",
              "      <td>2017_35</td>\n",
              "    </tr>\n",
              "    <tr>\n",
              "      <th>4</th>\n",
              "      <td>100015</td>\n",
              "      <td>4</td>\n",
              "      <td>2017-08-29</td>\n",
              "      <td>100015</td>\n",
              "      <td>Fireball Bag in Box</td>\n",
              "      <td>421</td>\n",
              "      <td>None</td>\n",
              "      <td>450.0</td>\n",
              "      <td>10.0</td>\n",
              "      <td>2017</td>\n",
              "      <td>35</td>\n",
              "      <td>8</td>\n",
              "      <td>historical</td>\n",
              "      <td>2017_35</td>\n",
              "    </tr>\n",
              "  </tbody>\n",
              "</table>\n",
              "</div>"
            ],
            "text/plain": [
              "  forecast_key  level_1       date item_number  ... week month        type  year_week\n",
              "0       100015        0 2017-08-25      100015  ...   34     8  historical    2017_34\n",
              "1       100015        1 2017-08-26         NaN  ...  NaN   NaN  historical    2017_34\n",
              "2       100015        2 2017-08-27         NaN  ...  NaN   NaN  historical    2017_34\n",
              "3       100015        3 2017-08-28      100015  ...   35     8  historical    2017_35\n",
              "4       100015        4 2017-08-29      100015  ...   35     8  historical    2017_35\n",
              "\n",
              "[5 rows x 14 columns]"
            ]
          },
          "metadata": {
            "tags": []
          },
          "execution_count": 6
        }
      ]
    },
    {
      "cell_type": "markdown",
      "metadata": {
        "id": "EIk7IXm8kAen"
      },
      "source": [
        "### Generate future data to forecast"
      ]
    },
    {
      "cell_type": "code",
      "metadata": {
        "id": "D8ULjMuhqlCy",
        "colab": {
          "base_uri": "https://localhost:8080/",
          "height": 211
        },
        "outputId": "4f5c153f-b293-4ef6-cddf-ac23c8d27eef"
      },
      "source": [
        "# Create date range for forecasts, 12 months forward looking\n",
        "\n",
        "weeks_to_forecast = 52\n",
        "\n",
        "last_date = sales_data['date'].max()\n",
        "print(last_date)\n",
        "\n",
        "forecast_future_dates = pd.date_range(last_date, \n",
        "                                      last_date + np.timedelta64(weeks_to_forecast,'W') \n",
        "                                      )\n",
        "\n",
        "forecast_future_dates = pd.DataFrame(forecast_future_dates)\n",
        "forecast_future_dates['type'] = 'forecast'\n",
        "forecast_future_dates = forecast_future_dates.rename(columns={0:'date'})\n",
        "forecast_future_dates['date'] = forecast_future_dates['date'].dt.date\n",
        "\n",
        "forecast_future_dates['merge_dates'] = 'merge'\n",
        "\n",
        "sales_data['merge_dates'] = 'merge'\n",
        "unique_keys = sales_data.drop_duplicates('forecast_key')[['merge_dates','forecast_key']]\n",
        "\n",
        "# Add forecasts to sales data\n",
        "sales_data = sales_data.append(unique_keys.merge(forecast_future_dates))\n",
        "\n",
        "sales_data.drop(columns='merge_dates',inplace=True)\n",
        "\n",
        "sales_data['date'] = pd.to_datetime(sales_data['date'])\n",
        "\n",
        "sales_data.head()"
      ],
      "execution_count": 7,
      "outputs": [
        {
          "output_type": "stream",
          "text": [
            "2020-10-25 00:00:00\n"
          ],
          "name": "stdout"
        },
        {
          "output_type": "execute_result",
          "data": {
            "application/vnd.google.colaboratory.module+javascript": "\n      import \"https://ssl.gstatic.com/colaboratory/data_table/a6224c040fa35dcf/data_table.js\";\n\n      window.createDataTable({\n        data: [[{\n            'v': 0,\n            'f': \"0\",\n        },\n\"100015\",\n{\n            'v': 0.0,\n            'f': \"0.0\",\n        },\n\"2017-08-25 00:00:00\",\n\"100015\",\n\"Fireball Bag in Box\",\n\"421\",\n{\n            'v': null,\n            'f': \"null\",\n        },\n{\n            'v': 270.0,\n            'f': \"270.0\",\n        },\n{\n            'v': 6.0,\n            'f': \"6.0\",\n        },\n\"2017\",\n\"34\",\n\"8\",\n\"historical\",\n\"2017_34\"],\n [{\n            'v': 1,\n            'f': \"1\",\n        },\n\"100015\",\n{\n            'v': 1.0,\n            'f': \"1.0\",\n        },\n\"2017-08-26 00:00:00\",\nNaN,\nNaN,\nNaN,\n{\n            'v': NaN,\n            'f': \"NaN\",\n        },\n{\n            'v': NaN,\n            'f': \"NaN\",\n        },\n{\n            'v': 0.0,\n            'f': \"0.0\",\n        },\nNaN,\nNaN,\nNaN,\n\"historical\",\n\"2017_34\"],\n [{\n            'v': 2,\n            'f': \"2\",\n        },\n\"100015\",\n{\n            'v': 2.0,\n            'f': \"2.0\",\n        },\n\"2017-08-27 00:00:00\",\nNaN,\nNaN,\nNaN,\n{\n            'v': NaN,\n            'f': \"NaN\",\n        },\n{\n            'v': NaN,\n            'f': \"NaN\",\n        },\n{\n            'v': 0.0,\n            'f': \"0.0\",\n        },\nNaN,\nNaN,\nNaN,\n\"historical\",\n\"2017_34\"],\n [{\n            'v': 3,\n            'f': \"3\",\n        },\n\"100015\",\n{\n            'v': 3.0,\n            'f': \"3.0\",\n        },\n\"2017-08-28 00:00:00\",\n\"100015\",\n\"Fireball Bag in Box\",\n\"421\",\n{\n            'v': null,\n            'f': \"null\",\n        },\n{\n            'v': 990.0,\n            'f': \"990.0\",\n        },\n{\n            'v': 22.0,\n            'f': \"22.0\",\n        },\n\"2017\",\n\"35\",\n\"8\",\n\"historical\",\n\"2017_35\"],\n [{\n            'v': 4,\n            'f': \"4\",\n        },\n\"100015\",\n{\n            'v': 4.0,\n            'f': \"4.0\",\n        },\n\"2017-08-29 00:00:00\",\n\"100015\",\n\"Fireball Bag in Box\",\n\"421\",\n{\n            'v': null,\n            'f': \"null\",\n        },\n{\n            'v': 450.0,\n            'f': \"450.0\",\n        },\n{\n            'v': 10.0,\n            'f': \"10.0\",\n        },\n\"2017\",\n\"35\",\n\"8\",\n\"historical\",\n\"2017_35\"]],\n        columns: [[\"number\", \"index\"], [\"string\", \"forecast_key\"], [\"number\", \"level_1\"], [\"string\", \"date\"], [\"string\", \"item_number\"], [\"string\", \"item_description\"], [\"string\", \"vendor_number\"], [\"number\", \"category_name\"], [\"number\", \"sales_dollars\"], [\"number\", \"sales_bottles\"], [\"string\", \"year\"], [\"string\", \"week\"], [\"string\", \"month\"], [\"string\", \"type\"], [\"string\", \"year_week\"]],\n        columnOptions: [{\"width\": \"1px\", \"className\": \"index_column\"}],\n        rowsPerPage: 25,\n        helpUrl: \"https://colab.research.google.com/notebooks/data_table.ipynb\",\n        suppressOutputScrolling: true,\n        minimumWidth: undefined,\n      });\n    ",
            "text/html": [
              "<div>\n",
              "<style scoped>\n",
              "    .dataframe tbody tr th:only-of-type {\n",
              "        vertical-align: middle;\n",
              "    }\n",
              "\n",
              "    .dataframe tbody tr th {\n",
              "        vertical-align: top;\n",
              "    }\n",
              "\n",
              "    .dataframe thead th {\n",
              "        text-align: right;\n",
              "    }\n",
              "</style>\n",
              "<table border=\"1\" class=\"dataframe\">\n",
              "  <thead>\n",
              "    <tr style=\"text-align: right;\">\n",
              "      <th></th>\n",
              "      <th>forecast_key</th>\n",
              "      <th>level_1</th>\n",
              "      <th>date</th>\n",
              "      <th>item_number</th>\n",
              "      <th>item_description</th>\n",
              "      <th>vendor_number</th>\n",
              "      <th>category_name</th>\n",
              "      <th>sales_dollars</th>\n",
              "      <th>sales_bottles</th>\n",
              "      <th>year</th>\n",
              "      <th>week</th>\n",
              "      <th>month</th>\n",
              "      <th>type</th>\n",
              "      <th>year_week</th>\n",
              "    </tr>\n",
              "  </thead>\n",
              "  <tbody>\n",
              "    <tr>\n",
              "      <th>0</th>\n",
              "      <td>100015</td>\n",
              "      <td>0.0</td>\n",
              "      <td>2017-08-25</td>\n",
              "      <td>100015</td>\n",
              "      <td>Fireball Bag in Box</td>\n",
              "      <td>421</td>\n",
              "      <td>None</td>\n",
              "      <td>270.0</td>\n",
              "      <td>6.0</td>\n",
              "      <td>2017</td>\n",
              "      <td>34</td>\n",
              "      <td>8</td>\n",
              "      <td>historical</td>\n",
              "      <td>2017_34</td>\n",
              "    </tr>\n",
              "    <tr>\n",
              "      <th>1</th>\n",
              "      <td>100015</td>\n",
              "      <td>1.0</td>\n",
              "      <td>2017-08-26</td>\n",
              "      <td>NaN</td>\n",
              "      <td>NaN</td>\n",
              "      <td>NaN</td>\n",
              "      <td>NaN</td>\n",
              "      <td>NaN</td>\n",
              "      <td>0.0</td>\n",
              "      <td>NaN</td>\n",
              "      <td>NaN</td>\n",
              "      <td>NaN</td>\n",
              "      <td>historical</td>\n",
              "      <td>2017_34</td>\n",
              "    </tr>\n",
              "    <tr>\n",
              "      <th>2</th>\n",
              "      <td>100015</td>\n",
              "      <td>2.0</td>\n",
              "      <td>2017-08-27</td>\n",
              "      <td>NaN</td>\n",
              "      <td>NaN</td>\n",
              "      <td>NaN</td>\n",
              "      <td>NaN</td>\n",
              "      <td>NaN</td>\n",
              "      <td>0.0</td>\n",
              "      <td>NaN</td>\n",
              "      <td>NaN</td>\n",
              "      <td>NaN</td>\n",
              "      <td>historical</td>\n",
              "      <td>2017_34</td>\n",
              "    </tr>\n",
              "    <tr>\n",
              "      <th>3</th>\n",
              "      <td>100015</td>\n",
              "      <td>3.0</td>\n",
              "      <td>2017-08-28</td>\n",
              "      <td>100015</td>\n",
              "      <td>Fireball Bag in Box</td>\n",
              "      <td>421</td>\n",
              "      <td>None</td>\n",
              "      <td>990.0</td>\n",
              "      <td>22.0</td>\n",
              "      <td>2017</td>\n",
              "      <td>35</td>\n",
              "      <td>8</td>\n",
              "      <td>historical</td>\n",
              "      <td>2017_35</td>\n",
              "    </tr>\n",
              "    <tr>\n",
              "      <th>4</th>\n",
              "      <td>100015</td>\n",
              "      <td>4.0</td>\n",
              "      <td>2017-08-29</td>\n",
              "      <td>100015</td>\n",
              "      <td>Fireball Bag in Box</td>\n",
              "      <td>421</td>\n",
              "      <td>None</td>\n",
              "      <td>450.0</td>\n",
              "      <td>10.0</td>\n",
              "      <td>2017</td>\n",
              "      <td>35</td>\n",
              "      <td>8</td>\n",
              "      <td>historical</td>\n",
              "      <td>2017_35</td>\n",
              "    </tr>\n",
              "  </tbody>\n",
              "</table>\n",
              "</div>"
            ],
            "text/plain": [
              "  forecast_key  level_1       date item_number  ... week month        type  year_week\n",
              "0       100015      0.0 2017-08-25      100015  ...   34     8  historical    2017_34\n",
              "1       100015      1.0 2017-08-26         NaN  ...  NaN   NaN  historical    2017_34\n",
              "2       100015      2.0 2017-08-27         NaN  ...  NaN   NaN  historical    2017_34\n",
              "3       100015      3.0 2017-08-28      100015  ...   35     8  historical    2017_35\n",
              "4       100015      4.0 2017-08-29      100015  ...   35     8  historical    2017_35\n",
              "\n",
              "[5 rows x 14 columns]"
            ]
          },
          "metadata": {
            "tags": []
          },
          "execution_count": 7
        }
      ]
    },
    {
      "cell_type": "markdown",
      "metadata": {
        "id": "944IMvwMWSiC"
      },
      "source": [
        "## Feature Engineering"
      ]
    },
    {
      "cell_type": "code",
      "metadata": {
        "id": "vT22s1b2kdZm"
      },
      "source": [
        "# Variable to forecast\n",
        "target_value = 'sales_bottles'"
      ],
      "execution_count": 8,
      "outputs": []
    },
    {
      "cell_type": "markdown",
      "metadata": {
        "id": "P452aSoVf6gL"
      },
      "source": [
        "### Weeks since start of sales"
      ]
    },
    {
      "cell_type": "code",
      "metadata": {
        "id": "-VlZv-UbrNZH",
        "colab": {
          "base_uri": "https://localhost:8080/",
          "height": 194
        },
        "outputId": "2b66781c-7b13-46c2-dedd-ee923dec4b29"
      },
      "source": [
        "# Weeks since start of sales, given by \"trend\" column\n",
        "date_column = 'date'\n",
        "first_dates = sales_data.groupby('forecast_key')[date_column].min().to_dict()\n",
        "\n",
        "sales_data['first_date'] = [first_dates.get(x) for x in sales_data['forecast_key']]\n",
        "\n",
        "sales_data['trend']  = sales_data['date'] - sales_data['first_date'] # days difference\n",
        "sales_data['trend'] = sales_data['trend']/np.timedelta64(1,'W') # convert to weeks\n",
        "sales_data['trend'] = np.ceil(sales_data['trend']) # round up\n",
        "\n",
        "# Drop uneeded columns\n",
        "sales_data = sales_data[['forecast_key',target_value,'date','trend','type']]\n",
        "\n",
        "sales_data.head()"
      ],
      "execution_count": 9,
      "outputs": [
        {
          "output_type": "execute_result",
          "data": {
            "application/vnd.google.colaboratory.module+javascript": "\n      import \"https://ssl.gstatic.com/colaboratory/data_table/a6224c040fa35dcf/data_table.js\";\n\n      window.createDataTable({\n        data: [[{\n            'v': 0,\n            'f': \"0\",\n        },\n\"100015\",\n{\n            'v': 6.0,\n            'f': \"6.0\",\n        },\n\"2017-08-25 00:00:00\",\n{\n            'v': 0.0,\n            'f': \"0.0\",\n        },\n\"historical\"],\n [{\n            'v': 1,\n            'f': \"1\",\n        },\n\"100015\",\n{\n            'v': 0.0,\n            'f': \"0.0\",\n        },\n\"2017-08-26 00:00:00\",\n{\n            'v': 1.0,\n            'f': \"1.0\",\n        },\n\"historical\"],\n [{\n            'v': 2,\n            'f': \"2\",\n        },\n\"100015\",\n{\n            'v': 0.0,\n            'f': \"0.0\",\n        },\n\"2017-08-27 00:00:00\",\n{\n            'v': 1.0,\n            'f': \"1.0\",\n        },\n\"historical\"],\n [{\n            'v': 3,\n            'f': \"3\",\n        },\n\"100015\",\n{\n            'v': 22.0,\n            'f': \"22.0\",\n        },\n\"2017-08-28 00:00:00\",\n{\n            'v': 1.0,\n            'f': \"1.0\",\n        },\n\"historical\"],\n [{\n            'v': 4,\n            'f': \"4\",\n        },\n\"100015\",\n{\n            'v': 10.0,\n            'f': \"10.0\",\n        },\n\"2017-08-29 00:00:00\",\n{\n            'v': 1.0,\n            'f': \"1.0\",\n        },\n\"historical\"]],\n        columns: [[\"number\", \"index\"], [\"string\", \"forecast_key\"], [\"number\", \"sales_bottles\"], [\"string\", \"date\"], [\"number\", \"trend\"], [\"string\", \"type\"]],\n        columnOptions: [{\"width\": \"1px\", \"className\": \"index_column\"}],\n        rowsPerPage: 25,\n        helpUrl: \"https://colab.research.google.com/notebooks/data_table.ipynb\",\n        suppressOutputScrolling: true,\n        minimumWidth: undefined,\n      });\n    ",
            "text/html": [
              "<div>\n",
              "<style scoped>\n",
              "    .dataframe tbody tr th:only-of-type {\n",
              "        vertical-align: middle;\n",
              "    }\n",
              "\n",
              "    .dataframe tbody tr th {\n",
              "        vertical-align: top;\n",
              "    }\n",
              "\n",
              "    .dataframe thead th {\n",
              "        text-align: right;\n",
              "    }\n",
              "</style>\n",
              "<table border=\"1\" class=\"dataframe\">\n",
              "  <thead>\n",
              "    <tr style=\"text-align: right;\">\n",
              "      <th></th>\n",
              "      <th>forecast_key</th>\n",
              "      <th>sales_bottles</th>\n",
              "      <th>date</th>\n",
              "      <th>trend</th>\n",
              "      <th>type</th>\n",
              "    </tr>\n",
              "  </thead>\n",
              "  <tbody>\n",
              "    <tr>\n",
              "      <th>0</th>\n",
              "      <td>100015</td>\n",
              "      <td>6.0</td>\n",
              "      <td>2017-08-25</td>\n",
              "      <td>0.0</td>\n",
              "      <td>historical</td>\n",
              "    </tr>\n",
              "    <tr>\n",
              "      <th>1</th>\n",
              "      <td>100015</td>\n",
              "      <td>0.0</td>\n",
              "      <td>2017-08-26</td>\n",
              "      <td>1.0</td>\n",
              "      <td>historical</td>\n",
              "    </tr>\n",
              "    <tr>\n",
              "      <th>2</th>\n",
              "      <td>100015</td>\n",
              "      <td>0.0</td>\n",
              "      <td>2017-08-27</td>\n",
              "      <td>1.0</td>\n",
              "      <td>historical</td>\n",
              "    </tr>\n",
              "    <tr>\n",
              "      <th>3</th>\n",
              "      <td>100015</td>\n",
              "      <td>22.0</td>\n",
              "      <td>2017-08-28</td>\n",
              "      <td>1.0</td>\n",
              "      <td>historical</td>\n",
              "    </tr>\n",
              "    <tr>\n",
              "      <th>4</th>\n",
              "      <td>100015</td>\n",
              "      <td>10.0</td>\n",
              "      <td>2017-08-29</td>\n",
              "      <td>1.0</td>\n",
              "      <td>historical</td>\n",
              "    </tr>\n",
              "  </tbody>\n",
              "</table>\n",
              "</div>"
            ],
            "text/plain": [
              "  forecast_key  sales_bottles       date  trend        type\n",
              "0       100015            6.0 2017-08-25    0.0  historical\n",
              "1       100015            0.0 2017-08-26    1.0  historical\n",
              "2       100015            0.0 2017-08-27    1.0  historical\n",
              "3       100015           22.0 2017-08-28    1.0  historical\n",
              "4       100015           10.0 2017-08-29    1.0  historical"
            ]
          },
          "metadata": {
            "tags": []
          },
          "execution_count": 9
        }
      ]
    },
    {
      "cell_type": "markdown",
      "metadata": {
        "id": "EA7Le4yKD_6V"
      },
      "source": [
        "### Date features\n"
      ]
    },
    {
      "cell_type": "code",
      "metadata": {
        "id": "ID29lbYDEBIk",
        "colab": {
          "base_uri": "https://localhost:8080/",
          "height": 248
        },
        "outputId": "996fb35b-22dd-43f8-829e-50c756fc2b10"
      },
      "source": [
        "sales_data['month'] = sales_data['date'].dt.month\n",
        "sales_data['year'] = sales_data['date'].dt.year\n",
        "sales_data['week'] = sales_data['date'].dt.week\n",
        "\n",
        "sales_data.head()"
      ],
      "execution_count": 10,
      "outputs": [
        {
          "output_type": "stream",
          "text": [
            "/usr/local/lib/python3.6/dist-packages/ipykernel_launcher.py:3: FutureWarning: Series.dt.weekofyear and Series.dt.week have been deprecated.  Please use Series.dt.isocalendar().week instead.\n",
            "  This is separate from the ipykernel package so we can avoid doing imports until\n"
          ],
          "name": "stderr"
        },
        {
          "output_type": "execute_result",
          "data": {
            "application/vnd.google.colaboratory.module+javascript": "\n      import \"https://ssl.gstatic.com/colaboratory/data_table/a6224c040fa35dcf/data_table.js\";\n\n      window.createDataTable({\n        data: [[{\n            'v': 0,\n            'f': \"0\",\n        },\n\"100015\",\n{\n            'v': 6.0,\n            'f': \"6.0\",\n        },\n\"2017-08-25 00:00:00\",\n{\n            'v': 0.0,\n            'f': \"0.0\",\n        },\n\"historical\",\n{\n            'v': 8,\n            'f': \"8\",\n        },\n{\n            'v': 2017,\n            'f': \"2017\",\n        },\n{\n            'v': 34,\n            'f': \"34\",\n        }],\n [{\n            'v': 1,\n            'f': \"1\",\n        },\n\"100015\",\n{\n            'v': 0.0,\n            'f': \"0.0\",\n        },\n\"2017-08-26 00:00:00\",\n{\n            'v': 1.0,\n            'f': \"1.0\",\n        },\n\"historical\",\n{\n            'v': 8,\n            'f': \"8\",\n        },\n{\n            'v': 2017,\n            'f': \"2017\",\n        },\n{\n            'v': 34,\n            'f': \"34\",\n        }],\n [{\n            'v': 2,\n            'f': \"2\",\n        },\n\"100015\",\n{\n            'v': 0.0,\n            'f': \"0.0\",\n        },\n\"2017-08-27 00:00:00\",\n{\n            'v': 1.0,\n            'f': \"1.0\",\n        },\n\"historical\",\n{\n            'v': 8,\n            'f': \"8\",\n        },\n{\n            'v': 2017,\n            'f': \"2017\",\n        },\n{\n            'v': 34,\n            'f': \"34\",\n        }],\n [{\n            'v': 3,\n            'f': \"3\",\n        },\n\"100015\",\n{\n            'v': 22.0,\n            'f': \"22.0\",\n        },\n\"2017-08-28 00:00:00\",\n{\n            'v': 1.0,\n            'f': \"1.0\",\n        },\n\"historical\",\n{\n            'v': 8,\n            'f': \"8\",\n        },\n{\n            'v': 2017,\n            'f': \"2017\",\n        },\n{\n            'v': 35,\n            'f': \"35\",\n        }],\n [{\n            'v': 4,\n            'f': \"4\",\n        },\n\"100015\",\n{\n            'v': 10.0,\n            'f': \"10.0\",\n        },\n\"2017-08-29 00:00:00\",\n{\n            'v': 1.0,\n            'f': \"1.0\",\n        },\n\"historical\",\n{\n            'v': 8,\n            'f': \"8\",\n        },\n{\n            'v': 2017,\n            'f': \"2017\",\n        },\n{\n            'v': 35,\n            'f': \"35\",\n        }]],\n        columns: [[\"number\", \"index\"], [\"string\", \"forecast_key\"], [\"number\", \"sales_bottles\"], [\"string\", \"date\"], [\"number\", \"trend\"], [\"string\", \"type\"], [\"number\", \"month\"], [\"number\", \"year\"], [\"number\", \"week\"]],\n        columnOptions: [{\"width\": \"1px\", \"className\": \"index_column\"}],\n        rowsPerPage: 25,\n        helpUrl: \"https://colab.research.google.com/notebooks/data_table.ipynb\",\n        suppressOutputScrolling: true,\n        minimumWidth: undefined,\n      });\n    ",
            "text/html": [
              "<div>\n",
              "<style scoped>\n",
              "    .dataframe tbody tr th:only-of-type {\n",
              "        vertical-align: middle;\n",
              "    }\n",
              "\n",
              "    .dataframe tbody tr th {\n",
              "        vertical-align: top;\n",
              "    }\n",
              "\n",
              "    .dataframe thead th {\n",
              "        text-align: right;\n",
              "    }\n",
              "</style>\n",
              "<table border=\"1\" class=\"dataframe\">\n",
              "  <thead>\n",
              "    <tr style=\"text-align: right;\">\n",
              "      <th></th>\n",
              "      <th>forecast_key</th>\n",
              "      <th>sales_bottles</th>\n",
              "      <th>date</th>\n",
              "      <th>trend</th>\n",
              "      <th>type</th>\n",
              "      <th>month</th>\n",
              "      <th>year</th>\n",
              "      <th>week</th>\n",
              "    </tr>\n",
              "  </thead>\n",
              "  <tbody>\n",
              "    <tr>\n",
              "      <th>0</th>\n",
              "      <td>100015</td>\n",
              "      <td>6.0</td>\n",
              "      <td>2017-08-25</td>\n",
              "      <td>0.0</td>\n",
              "      <td>historical</td>\n",
              "      <td>8</td>\n",
              "      <td>2017</td>\n",
              "      <td>34</td>\n",
              "    </tr>\n",
              "    <tr>\n",
              "      <th>1</th>\n",
              "      <td>100015</td>\n",
              "      <td>0.0</td>\n",
              "      <td>2017-08-26</td>\n",
              "      <td>1.0</td>\n",
              "      <td>historical</td>\n",
              "      <td>8</td>\n",
              "      <td>2017</td>\n",
              "      <td>34</td>\n",
              "    </tr>\n",
              "    <tr>\n",
              "      <th>2</th>\n",
              "      <td>100015</td>\n",
              "      <td>0.0</td>\n",
              "      <td>2017-08-27</td>\n",
              "      <td>1.0</td>\n",
              "      <td>historical</td>\n",
              "      <td>8</td>\n",
              "      <td>2017</td>\n",
              "      <td>34</td>\n",
              "    </tr>\n",
              "    <tr>\n",
              "      <th>3</th>\n",
              "      <td>100015</td>\n",
              "      <td>22.0</td>\n",
              "      <td>2017-08-28</td>\n",
              "      <td>1.0</td>\n",
              "      <td>historical</td>\n",
              "      <td>8</td>\n",
              "      <td>2017</td>\n",
              "      <td>35</td>\n",
              "    </tr>\n",
              "    <tr>\n",
              "      <th>4</th>\n",
              "      <td>100015</td>\n",
              "      <td>10.0</td>\n",
              "      <td>2017-08-29</td>\n",
              "      <td>1.0</td>\n",
              "      <td>historical</td>\n",
              "      <td>8</td>\n",
              "      <td>2017</td>\n",
              "      <td>35</td>\n",
              "    </tr>\n",
              "  </tbody>\n",
              "</table>\n",
              "</div>"
            ],
            "text/plain": [
              "  forecast_key  sales_bottles       date  trend        type  month  year  week\n",
              "0       100015            6.0 2017-08-25    0.0  historical      8  2017    34\n",
              "1       100015            0.0 2017-08-26    1.0  historical      8  2017    34\n",
              "2       100015            0.0 2017-08-27    1.0  historical      8  2017    34\n",
              "3       100015           22.0 2017-08-28    1.0  historical      8  2017    35\n",
              "4       100015           10.0 2017-08-29    1.0  historical      8  2017    35"
            ]
          },
          "metadata": {
            "tags": []
          },
          "execution_count": 10
        }
      ]
    },
    {
      "cell_type": "markdown",
      "metadata": {
        "id": "rLmiFK0Nd3xr"
      },
      "source": [
        "### Holidays\n",
        "Holidays are an important factor that drive sales. The week before and week after holidays might also have increased demand."
      ]
    },
    {
      "cell_type": "code",
      "metadata": {
        "id": "sP_FYZDVWUu2",
        "colab": {
          "base_uri": "https://localhost:8080/",
          "height": 194
        },
        "outputId": "1d527849-a151-4235-b052-2438bfacd1db"
      },
      "source": [
        "import holidays\n",
        "\n",
        "# US holiday dictionary\n",
        "us_holidays = holidays.UnitedStates()\n",
        "\n",
        "# Is day a holiday?\n",
        "sales_data['is_holiday'] = [date in us_holidays for date in sales_data['date']]\n",
        "sales_data['is_holiday'] = sales_data['is_holiday'].astype(int)\n",
        "\n",
        "# Is week before a holiday?\n",
        "sales_data['week_before_holiday'] = [date in us_holidays for date in (sales_data['date']-np.timedelta64(1,'W'))]\n",
        "sales_data['week_before_holiday'] = sales_data['week_before_holiday'].astype(int)\n",
        "\n",
        "# Is week after a holiday?\n",
        "sales_data['week_after_holiday'] = [date in us_holidays for date in (sales_data['date']+np.timedelta64(1,'W'))]\n",
        "sales_data['week_after_holiday'] = sales_data['week_after_holiday'].astype(int)\n",
        "\n",
        "# Convert int64 cols to str\n",
        "sales_data = pd.concat([sales_data.select_dtypes(exclude=['int']), \n",
        "                        sales_data.select_dtypes(include=['int']).astype(str)],\n",
        "                       axis=1)\n",
        "\n",
        "sales_data.head()"
      ],
      "execution_count": 11,
      "outputs": [
        {
          "output_type": "execute_result",
          "data": {
            "application/vnd.google.colaboratory.module+javascript": "\n      import \"https://ssl.gstatic.com/colaboratory/data_table/a6224c040fa35dcf/data_table.js\";\n\n      window.createDataTable({\n        data: [[{\n            'v': 0,\n            'f': \"0\",\n        },\n\"100015\",\n{\n            'v': 6.0,\n            'f': \"6.0\",\n        },\n\"2017-08-25 00:00:00\",\n{\n            'v': 0.0,\n            'f': \"0.0\",\n        },\n\"historical\",\n\"8\",\n\"2017\",\n\"34\",\n\"0\",\n\"0\",\n\"0\"],\n [{\n            'v': 1,\n            'f': \"1\",\n        },\n\"100015\",\n{\n            'v': 0.0,\n            'f': \"0.0\",\n        },\n\"2017-08-26 00:00:00\",\n{\n            'v': 1.0,\n            'f': \"1.0\",\n        },\n\"historical\",\n\"8\",\n\"2017\",\n\"34\",\n\"0\",\n\"0\",\n\"0\"],\n [{\n            'v': 2,\n            'f': \"2\",\n        },\n\"100015\",\n{\n            'v': 0.0,\n            'f': \"0.0\",\n        },\n\"2017-08-27 00:00:00\",\n{\n            'v': 1.0,\n            'f': \"1.0\",\n        },\n\"historical\",\n\"8\",\n\"2017\",\n\"34\",\n\"0\",\n\"0\",\n\"0\"],\n [{\n            'v': 3,\n            'f': \"3\",\n        },\n\"100015\",\n{\n            'v': 22.0,\n            'f': \"22.0\",\n        },\n\"2017-08-28 00:00:00\",\n{\n            'v': 1.0,\n            'f': \"1.0\",\n        },\n\"historical\",\n\"8\",\n\"2017\",\n\"35\",\n\"0\",\n\"0\",\n\"1\"],\n [{\n            'v': 4,\n            'f': \"4\",\n        },\n\"100015\",\n{\n            'v': 10.0,\n            'f': \"10.0\",\n        },\n\"2017-08-29 00:00:00\",\n{\n            'v': 1.0,\n            'f': \"1.0\",\n        },\n\"historical\",\n\"8\",\n\"2017\",\n\"35\",\n\"0\",\n\"0\",\n\"0\"]],\n        columns: [[\"number\", \"index\"], [\"string\", \"forecast_key\"], [\"number\", \"sales_bottles\"], [\"string\", \"date\"], [\"number\", \"trend\"], [\"string\", \"type\"], [\"string\", \"month\"], [\"string\", \"year\"], [\"string\", \"week\"], [\"string\", \"is_holiday\"], [\"string\", \"week_before_holiday\"], [\"string\", \"week_after_holiday\"]],\n        columnOptions: [{\"width\": \"1px\", \"className\": \"index_column\"}],\n        rowsPerPage: 25,\n        helpUrl: \"https://colab.research.google.com/notebooks/data_table.ipynb\",\n        suppressOutputScrolling: true,\n        minimumWidth: undefined,\n      });\n    ",
            "text/html": [
              "<div>\n",
              "<style scoped>\n",
              "    .dataframe tbody tr th:only-of-type {\n",
              "        vertical-align: middle;\n",
              "    }\n",
              "\n",
              "    .dataframe tbody tr th {\n",
              "        vertical-align: top;\n",
              "    }\n",
              "\n",
              "    .dataframe thead th {\n",
              "        text-align: right;\n",
              "    }\n",
              "</style>\n",
              "<table border=\"1\" class=\"dataframe\">\n",
              "  <thead>\n",
              "    <tr style=\"text-align: right;\">\n",
              "      <th></th>\n",
              "      <th>forecast_key</th>\n",
              "      <th>sales_bottles</th>\n",
              "      <th>date</th>\n",
              "      <th>trend</th>\n",
              "      <th>type</th>\n",
              "      <th>month</th>\n",
              "      <th>year</th>\n",
              "      <th>week</th>\n",
              "      <th>is_holiday</th>\n",
              "      <th>week_before_holiday</th>\n",
              "      <th>week_after_holiday</th>\n",
              "    </tr>\n",
              "  </thead>\n",
              "  <tbody>\n",
              "    <tr>\n",
              "      <th>0</th>\n",
              "      <td>100015</td>\n",
              "      <td>6.0</td>\n",
              "      <td>2017-08-25</td>\n",
              "      <td>0.0</td>\n",
              "      <td>historical</td>\n",
              "      <td>8</td>\n",
              "      <td>2017</td>\n",
              "      <td>34</td>\n",
              "      <td>0</td>\n",
              "      <td>0</td>\n",
              "      <td>0</td>\n",
              "    </tr>\n",
              "    <tr>\n",
              "      <th>1</th>\n",
              "      <td>100015</td>\n",
              "      <td>0.0</td>\n",
              "      <td>2017-08-26</td>\n",
              "      <td>1.0</td>\n",
              "      <td>historical</td>\n",
              "      <td>8</td>\n",
              "      <td>2017</td>\n",
              "      <td>34</td>\n",
              "      <td>0</td>\n",
              "      <td>0</td>\n",
              "      <td>0</td>\n",
              "    </tr>\n",
              "    <tr>\n",
              "      <th>2</th>\n",
              "      <td>100015</td>\n",
              "      <td>0.0</td>\n",
              "      <td>2017-08-27</td>\n",
              "      <td>1.0</td>\n",
              "      <td>historical</td>\n",
              "      <td>8</td>\n",
              "      <td>2017</td>\n",
              "      <td>34</td>\n",
              "      <td>0</td>\n",
              "      <td>0</td>\n",
              "      <td>0</td>\n",
              "    </tr>\n",
              "    <tr>\n",
              "      <th>3</th>\n",
              "      <td>100015</td>\n",
              "      <td>22.0</td>\n",
              "      <td>2017-08-28</td>\n",
              "      <td>1.0</td>\n",
              "      <td>historical</td>\n",
              "      <td>8</td>\n",
              "      <td>2017</td>\n",
              "      <td>35</td>\n",
              "      <td>0</td>\n",
              "      <td>0</td>\n",
              "      <td>1</td>\n",
              "    </tr>\n",
              "    <tr>\n",
              "      <th>4</th>\n",
              "      <td>100015</td>\n",
              "      <td>10.0</td>\n",
              "      <td>2017-08-29</td>\n",
              "      <td>1.0</td>\n",
              "      <td>historical</td>\n",
              "      <td>8</td>\n",
              "      <td>2017</td>\n",
              "      <td>35</td>\n",
              "      <td>0</td>\n",
              "      <td>0</td>\n",
              "      <td>0</td>\n",
              "    </tr>\n",
              "  </tbody>\n",
              "</table>\n",
              "</div>"
            ],
            "text/plain": [
              "  forecast_key  sales_bottles  ... week_before_holiday  week_after_holiday\n",
              "0       100015            6.0  ...                   0                   0\n",
              "1       100015            0.0  ...                   0                   0\n",
              "2       100015            0.0  ...                   0                   0\n",
              "3       100015           22.0  ...                   0                   1\n",
              "4       100015           10.0  ...                   0                   0\n",
              "\n",
              "[5 rows x 11 columns]"
            ]
          },
          "metadata": {
            "tags": []
          },
          "execution_count": 11
        }
      ]
    },
    {
      "cell_type": "markdown",
      "metadata": {
        "id": "XLJgCw2CMfuk"
      },
      "source": [
        "### Group by week"
      ]
    },
    {
      "cell_type": "code",
      "metadata": {
        "colab": {
          "base_uri": "https://localhost:8080/",
          "height": 194
        },
        "id": "5f0EZn4Ta5sM",
        "outputId": "51dab136-a049-4204-f487-eedc95a22c76"
      },
      "source": [
        "from datetime import timedelta\n",
        "\n",
        "sales_data['week_end_date'] = [(x + timedelta(6-x.weekday())).date() for x in sales_data['date']]\n",
        "sales_data.head()"
      ],
      "execution_count": 12,
      "outputs": [
        {
          "output_type": "execute_result",
          "data": {
            "application/vnd.google.colaboratory.module+javascript": "\n      import \"https://ssl.gstatic.com/colaboratory/data_table/a6224c040fa35dcf/data_table.js\";\n\n      window.createDataTable({\n        data: [[{\n            'v': 0,\n            'f': \"0\",\n        },\n\"100015\",\n{\n            'v': 6.0,\n            'f': \"6.0\",\n        },\n\"2017-08-25 00:00:00\",\n{\n            'v': 0.0,\n            'f': \"0.0\",\n        },\n\"historical\",\n\"8\",\n\"2017\",\n\"34\",\n\"0\",\n\"0\",\n\"0\",\n\"2017-08-27\"],\n [{\n            'v': 1,\n            'f': \"1\",\n        },\n\"100015\",\n{\n            'v': 0.0,\n            'f': \"0.0\",\n        },\n\"2017-08-26 00:00:00\",\n{\n            'v': 1.0,\n            'f': \"1.0\",\n        },\n\"historical\",\n\"8\",\n\"2017\",\n\"34\",\n\"0\",\n\"0\",\n\"0\",\n\"2017-08-27\"],\n [{\n            'v': 2,\n            'f': \"2\",\n        },\n\"100015\",\n{\n            'v': 0.0,\n            'f': \"0.0\",\n        },\n\"2017-08-27 00:00:00\",\n{\n            'v': 1.0,\n            'f': \"1.0\",\n        },\n\"historical\",\n\"8\",\n\"2017\",\n\"34\",\n\"0\",\n\"0\",\n\"0\",\n\"2017-08-27\"],\n [{\n            'v': 3,\n            'f': \"3\",\n        },\n\"100015\",\n{\n            'v': 22.0,\n            'f': \"22.0\",\n        },\n\"2017-08-28 00:00:00\",\n{\n            'v': 1.0,\n            'f': \"1.0\",\n        },\n\"historical\",\n\"8\",\n\"2017\",\n\"35\",\n\"0\",\n\"0\",\n\"1\",\n\"2017-09-03\"],\n [{\n            'v': 4,\n            'f': \"4\",\n        },\n\"100015\",\n{\n            'v': 10.0,\n            'f': \"10.0\",\n        },\n\"2017-08-29 00:00:00\",\n{\n            'v': 1.0,\n            'f': \"1.0\",\n        },\n\"historical\",\n\"8\",\n\"2017\",\n\"35\",\n\"0\",\n\"0\",\n\"0\",\n\"2017-09-03\"]],\n        columns: [[\"number\", \"index\"], [\"string\", \"forecast_key\"], [\"number\", \"sales_bottles\"], [\"string\", \"date\"], [\"number\", \"trend\"], [\"string\", \"type\"], [\"string\", \"month\"], [\"string\", \"year\"], [\"string\", \"week\"], [\"string\", \"is_holiday\"], [\"string\", \"week_before_holiday\"], [\"string\", \"week_after_holiday\"], [\"string\", \"week_end_date\"]],\n        columnOptions: [{\"width\": \"1px\", \"className\": \"index_column\"}],\n        rowsPerPage: 25,\n        helpUrl: \"https://colab.research.google.com/notebooks/data_table.ipynb\",\n        suppressOutputScrolling: true,\n        minimumWidth: undefined,\n      });\n    ",
            "text/html": [
              "<div>\n",
              "<style scoped>\n",
              "    .dataframe tbody tr th:only-of-type {\n",
              "        vertical-align: middle;\n",
              "    }\n",
              "\n",
              "    .dataframe tbody tr th {\n",
              "        vertical-align: top;\n",
              "    }\n",
              "\n",
              "    .dataframe thead th {\n",
              "        text-align: right;\n",
              "    }\n",
              "</style>\n",
              "<table border=\"1\" class=\"dataframe\">\n",
              "  <thead>\n",
              "    <tr style=\"text-align: right;\">\n",
              "      <th></th>\n",
              "      <th>forecast_key</th>\n",
              "      <th>sales_bottles</th>\n",
              "      <th>date</th>\n",
              "      <th>trend</th>\n",
              "      <th>type</th>\n",
              "      <th>month</th>\n",
              "      <th>year</th>\n",
              "      <th>week</th>\n",
              "      <th>is_holiday</th>\n",
              "      <th>week_before_holiday</th>\n",
              "      <th>week_after_holiday</th>\n",
              "      <th>week_end_date</th>\n",
              "    </tr>\n",
              "  </thead>\n",
              "  <tbody>\n",
              "    <tr>\n",
              "      <th>0</th>\n",
              "      <td>100015</td>\n",
              "      <td>6.0</td>\n",
              "      <td>2017-08-25</td>\n",
              "      <td>0.0</td>\n",
              "      <td>historical</td>\n",
              "      <td>8</td>\n",
              "      <td>2017</td>\n",
              "      <td>34</td>\n",
              "      <td>0</td>\n",
              "      <td>0</td>\n",
              "      <td>0</td>\n",
              "      <td>2017-08-27</td>\n",
              "    </tr>\n",
              "    <tr>\n",
              "      <th>1</th>\n",
              "      <td>100015</td>\n",
              "      <td>0.0</td>\n",
              "      <td>2017-08-26</td>\n",
              "      <td>1.0</td>\n",
              "      <td>historical</td>\n",
              "      <td>8</td>\n",
              "      <td>2017</td>\n",
              "      <td>34</td>\n",
              "      <td>0</td>\n",
              "      <td>0</td>\n",
              "      <td>0</td>\n",
              "      <td>2017-08-27</td>\n",
              "    </tr>\n",
              "    <tr>\n",
              "      <th>2</th>\n",
              "      <td>100015</td>\n",
              "      <td>0.0</td>\n",
              "      <td>2017-08-27</td>\n",
              "      <td>1.0</td>\n",
              "      <td>historical</td>\n",
              "      <td>8</td>\n",
              "      <td>2017</td>\n",
              "      <td>34</td>\n",
              "      <td>0</td>\n",
              "      <td>0</td>\n",
              "      <td>0</td>\n",
              "      <td>2017-08-27</td>\n",
              "    </tr>\n",
              "    <tr>\n",
              "      <th>3</th>\n",
              "      <td>100015</td>\n",
              "      <td>22.0</td>\n",
              "      <td>2017-08-28</td>\n",
              "      <td>1.0</td>\n",
              "      <td>historical</td>\n",
              "      <td>8</td>\n",
              "      <td>2017</td>\n",
              "      <td>35</td>\n",
              "      <td>0</td>\n",
              "      <td>0</td>\n",
              "      <td>1</td>\n",
              "      <td>2017-09-03</td>\n",
              "    </tr>\n",
              "    <tr>\n",
              "      <th>4</th>\n",
              "      <td>100015</td>\n",
              "      <td>10.0</td>\n",
              "      <td>2017-08-29</td>\n",
              "      <td>1.0</td>\n",
              "      <td>historical</td>\n",
              "      <td>8</td>\n",
              "      <td>2017</td>\n",
              "      <td>35</td>\n",
              "      <td>0</td>\n",
              "      <td>0</td>\n",
              "      <td>0</td>\n",
              "      <td>2017-09-03</td>\n",
              "    </tr>\n",
              "  </tbody>\n",
              "</table>\n",
              "</div>"
            ],
            "text/plain": [
              "  forecast_key  sales_bottles  ... week_after_holiday  week_end_date\n",
              "0       100015            6.0  ...                  0     2017-08-27\n",
              "1       100015            0.0  ...                  0     2017-08-27\n",
              "2       100015            0.0  ...                  0     2017-08-27\n",
              "3       100015           22.0  ...                  1     2017-09-03\n",
              "4       100015           10.0  ...                  0     2017-09-03\n",
              "\n",
              "[5 rows x 12 columns]"
            ]
          },
          "metadata": {
            "tags": []
          },
          "execution_count": 12
        }
      ]
    },
    {
      "cell_type": "code",
      "metadata": {
        "id": "RsIEUt37MfBx"
      },
      "source": [
        "# Group by week \n",
        "target_field_sum = sales_data.groupby(['forecast_key','week_end_date'])[target_value].sum()\n",
        "features_max = sales_data.groupby(['forecast_key','week_end_date']).max().drop(columns=[target_value])\n",
        "processed_dataset = features_max.join(target_field_sum).reset_index()       \n"
      ],
      "execution_count": 13,
      "outputs": []
    },
    {
      "cell_type": "code",
      "metadata": {
        "colab": {
          "base_uri": "https://localhost:8080/",
          "height": 194
        },
        "id": "wn6aKP-wdJoT",
        "outputId": "cd2178d7-aaff-4e7d-a1a6-b494705c1455"
      },
      "source": [
        "processed_dataset.head()"
      ],
      "execution_count": 14,
      "outputs": [
        {
          "output_type": "execute_result",
          "data": {
            "application/vnd.google.colaboratory.module+javascript": "\n      import \"https://ssl.gstatic.com/colaboratory/data_table/a6224c040fa35dcf/data_table.js\";\n\n      window.createDataTable({\n        data: [[{\n            'v': 0,\n            'f': \"0\",\n        },\n\"100015\",\n\"2017-08-27\",\n\"2017-08-27 00:00:00\",\n{\n            'v': 1.0,\n            'f': \"1.0\",\n        },\n\"historical\",\n\"8\",\n\"2017\",\n\"34\",\n\"0\",\n\"0\",\n\"0\",\n{\n            'v': 6.0,\n            'f': \"6.0\",\n        }],\n [{\n            'v': 1,\n            'f': \"1\",\n        },\n\"100015\",\n\"2017-09-03\",\n\"2017-09-03 00:00:00\",\n{\n            'v': 2.0,\n            'f': \"2.0\",\n        },\n\"historical\",\n\"9\",\n\"2017\",\n\"35\",\n\"0\",\n\"0\",\n\"1\",\n{\n            'v': 94.0,\n            'f': \"94.0\",\n        }],\n [{\n            'v': 2,\n            'f': \"2\",\n        },\n\"100015\",\n\"2017-09-10\",\n\"2017-09-10 00:00:00\",\n{\n            'v': 3.0,\n            'f': \"3.0\",\n        },\n\"historical\",\n\"9\",\n\"2017\",\n\"36\",\n\"1\",\n\"0\",\n\"0\",\n{\n            'v': 50.0,\n            'f': \"50.0\",\n        }],\n [{\n            'v': 3,\n            'f': \"3\",\n        },\n\"100015\",\n\"2017-09-17\",\n\"2017-09-17 00:00:00\",\n{\n            'v': 4.0,\n            'f': \"4.0\",\n        },\n\"historical\",\n\"9\",\n\"2017\",\n\"37\",\n\"0\",\n\"1\",\n\"0\",\n{\n            'v': 65.0,\n            'f': \"65.0\",\n        }],\n [{\n            'v': 4,\n            'f': \"4\",\n        },\n\"100015\",\n\"2017-09-24\",\n\"2017-09-24 00:00:00\",\n{\n            'v': 5.0,\n            'f': \"5.0\",\n        },\n\"historical\",\n\"9\",\n\"2017\",\n\"38\",\n\"0\",\n\"0\",\n\"0\",\n{\n            'v': 40.0,\n            'f': \"40.0\",\n        }]],\n        columns: [[\"number\", \"index\"], [\"string\", \"forecast_key\"], [\"string\", \"week_end_date\"], [\"string\", \"date\"], [\"number\", \"trend\"], [\"string\", \"type\"], [\"string\", \"month\"], [\"string\", \"year\"], [\"string\", \"week\"], [\"string\", \"is_holiday\"], [\"string\", \"week_before_holiday\"], [\"string\", \"week_after_holiday\"], [\"number\", \"sales_bottles\"]],\n        columnOptions: [{\"width\": \"1px\", \"className\": \"index_column\"}],\n        rowsPerPage: 25,\n        helpUrl: \"https://colab.research.google.com/notebooks/data_table.ipynb\",\n        suppressOutputScrolling: true,\n        minimumWidth: undefined,\n      });\n    ",
            "text/html": [
              "<div>\n",
              "<style scoped>\n",
              "    .dataframe tbody tr th:only-of-type {\n",
              "        vertical-align: middle;\n",
              "    }\n",
              "\n",
              "    .dataframe tbody tr th {\n",
              "        vertical-align: top;\n",
              "    }\n",
              "\n",
              "    .dataframe thead th {\n",
              "        text-align: right;\n",
              "    }\n",
              "</style>\n",
              "<table border=\"1\" class=\"dataframe\">\n",
              "  <thead>\n",
              "    <tr style=\"text-align: right;\">\n",
              "      <th></th>\n",
              "      <th>forecast_key</th>\n",
              "      <th>week_end_date</th>\n",
              "      <th>date</th>\n",
              "      <th>trend</th>\n",
              "      <th>type</th>\n",
              "      <th>month</th>\n",
              "      <th>year</th>\n",
              "      <th>week</th>\n",
              "      <th>is_holiday</th>\n",
              "      <th>week_before_holiday</th>\n",
              "      <th>week_after_holiday</th>\n",
              "      <th>sales_bottles</th>\n",
              "    </tr>\n",
              "  </thead>\n",
              "  <tbody>\n",
              "    <tr>\n",
              "      <th>0</th>\n",
              "      <td>100015</td>\n",
              "      <td>2017-08-27</td>\n",
              "      <td>2017-08-27</td>\n",
              "      <td>1.0</td>\n",
              "      <td>historical</td>\n",
              "      <td>8</td>\n",
              "      <td>2017</td>\n",
              "      <td>34</td>\n",
              "      <td>0</td>\n",
              "      <td>0</td>\n",
              "      <td>0</td>\n",
              "      <td>6.0</td>\n",
              "    </tr>\n",
              "    <tr>\n",
              "      <th>1</th>\n",
              "      <td>100015</td>\n",
              "      <td>2017-09-03</td>\n",
              "      <td>2017-09-03</td>\n",
              "      <td>2.0</td>\n",
              "      <td>historical</td>\n",
              "      <td>9</td>\n",
              "      <td>2017</td>\n",
              "      <td>35</td>\n",
              "      <td>0</td>\n",
              "      <td>0</td>\n",
              "      <td>1</td>\n",
              "      <td>94.0</td>\n",
              "    </tr>\n",
              "    <tr>\n",
              "      <th>2</th>\n",
              "      <td>100015</td>\n",
              "      <td>2017-09-10</td>\n",
              "      <td>2017-09-10</td>\n",
              "      <td>3.0</td>\n",
              "      <td>historical</td>\n",
              "      <td>9</td>\n",
              "      <td>2017</td>\n",
              "      <td>36</td>\n",
              "      <td>1</td>\n",
              "      <td>0</td>\n",
              "      <td>0</td>\n",
              "      <td>50.0</td>\n",
              "    </tr>\n",
              "    <tr>\n",
              "      <th>3</th>\n",
              "      <td>100015</td>\n",
              "      <td>2017-09-17</td>\n",
              "      <td>2017-09-17</td>\n",
              "      <td>4.0</td>\n",
              "      <td>historical</td>\n",
              "      <td>9</td>\n",
              "      <td>2017</td>\n",
              "      <td>37</td>\n",
              "      <td>0</td>\n",
              "      <td>1</td>\n",
              "      <td>0</td>\n",
              "      <td>65.0</td>\n",
              "    </tr>\n",
              "    <tr>\n",
              "      <th>4</th>\n",
              "      <td>100015</td>\n",
              "      <td>2017-09-24</td>\n",
              "      <td>2017-09-24</td>\n",
              "      <td>5.0</td>\n",
              "      <td>historical</td>\n",
              "      <td>9</td>\n",
              "      <td>2017</td>\n",
              "      <td>38</td>\n",
              "      <td>0</td>\n",
              "      <td>0</td>\n",
              "      <td>0</td>\n",
              "      <td>40.0</td>\n",
              "    </tr>\n",
              "  </tbody>\n",
              "</table>\n",
              "</div>"
            ],
            "text/plain": [
              "  forecast_key week_end_date  ... week_after_holiday  sales_bottles\n",
              "0       100015    2017-08-27  ...                  0            6.0\n",
              "1       100015    2017-09-03  ...                  1           94.0\n",
              "2       100015    2017-09-10  ...                  0           50.0\n",
              "3       100015    2017-09-17  ...                  0           65.0\n",
              "4       100015    2017-09-24  ...                  0           40.0\n",
              "\n",
              "[5 rows x 12 columns]"
            ]
          },
          "metadata": {
            "tags": []
          },
          "execution_count": 14
        }
      ]
    },
    {
      "cell_type": "markdown",
      "metadata": {
        "id": "MQR01SFNIjSE"
      },
      "source": [
        "## Item Segmentation\n",
        "Intermittent, discontinued, new or normal. Two rules used:\n",
        "\n",
        "\n",
        "If sales in the last 3 months are 0, product is discontinued\n",
        "\n",
        "If % of weeks with 0 demand over total weeks is greater than 1.32, sales are intermittent. \n",
        "The average inter demand interval (ADI) is given by calculating \n",
        "\n",
        "\n",
        "> $Average \\ Inter-demand \\ Interval = \\frac{Periods \\ Active}{Number \\ of \\ Periods \\ with \\ Sales}$\n",
        "\n",
        "\n",
        "\n"
      ]
    },
    {
      "cell_type": "code",
      "metadata": {
        "id": "DkqikuOJIicf",
        "colab": {
          "base_uri": "https://localhost:8080/"
        },
        "outputId": "e05bc029-7082-40e2-bc04-a519818d9d1b"
      },
      "source": [
        "from tqdm import tqdm\n",
        "tqdm.pandas()\n",
        "\n",
        "predicted_var = target_value\n",
        "\n",
        "zero_sales_periods_cutoff = 12 # weeks of zero sales to classify discontinued\n",
        "\n",
        "def series_classifier(key_group):\n",
        "  key_group = key_group[key_group['type']=='historical'] # only historical data\n",
        "\n",
        "  # Average Demand Interval\n",
        "  zero_sales_weeks = key_group[key_group[predicted_var]==0][predicted_var].count()\n",
        "  total_weeks = key_group[predicted_var].count() \n",
        "  adi = total_weeks/(total_weeks - zero_sales_weeks) # average demand interval\n",
        "\n",
        "  # Inttermittence\n",
        "  date_cutoff = key_group['date'].max() - pd.Timedelta(zero_sales_periods_cutoff,unit='w')\n",
        "  last_12_weeks_df = key_group[key_group['date'] > date_cutoff]\n",
        "  last_12_weeks_sales = last_12_weeks_df[predicted_var].sum() \n",
        "\n",
        "  # Classify key\n",
        "  if last_12_weeks_sales==0:\n",
        "    return \"discontinued\"\n",
        "\n",
        "  elif adi>1.32:\n",
        "    return \"intermittent\"\n",
        "\n",
        "  elif len(key_group)<52:\n",
        "    return \"new\"\n",
        "\n",
        "  else:\n",
        "    return \"normal\"\n",
        "\n",
        "classified_keys = processed_dataset.groupby('forecast_key').apply(series_classifier)\n",
        "classified_keys.name = \"key_class\"\n",
        "\n",
        "processed_dataset = processed_dataset.merge(classified_keys,\n",
        "                                            how='left',\n",
        "                                            left_on='forecast_key',\n",
        "                                            right_index=True)"
      ],
      "execution_count": 15,
      "outputs": [
        {
          "output_type": "stream",
          "text": [
            "/usr/local/lib/python3.6/dist-packages/ipykernel_launcher.py:14: RuntimeWarning: divide by zero encountered in long_scalars\n",
            "  \n"
          ],
          "name": "stderr"
        }
      ]
    },
    {
      "cell_type": "code",
      "metadata": {
        "id": "fOswJBeTfldh",
        "colab": {
          "base_uri": "https://localhost:8080/",
          "height": 375
        },
        "outputId": "4e829f5c-99e3-4fbb-d3d4-dc9a2f839338"
      },
      "source": [
        "sns.set(style=\"white\")\n",
        "sns.set_context(\"talk\")\n",
        "sns.set_palette(\"Set2\")\n",
        "\n",
        "f, ax = plt.subplots(figsize=(5, 5))\n",
        "\n",
        "plot_df = classified_keys.value_counts().to_frame()\n",
        "\n",
        "sns.barplot(x=plot_df['key_class'],y=plot_df.index,)\n",
        "\n",
        "ax.set(xlabel='Count of Keys', ylabel='Key Type')\n",
        "plt.title(\"Forecast Key Segmentation\")\n",
        "plt.show()"
      ],
      "execution_count": 16,
      "outputs": [
        {
          "output_type": "display_data",
          "data": {
            "image/png": "[encoded data removed]",
            "text/plain": [
              "<Figure size 360x360 with 1 Axes>"
            ]
          },
          "metadata": {
            "tags": []
          }
        }
      ]
    },
    {
      "cell_type": "code",
      "metadata": {
        "id": "QWp70QIXiIEu"
      },
      "source": [
        "# Subset keys to disco and intermittent only\n",
        "processed_dataset = processed_dataset[processed_dataset['key_class']!='discontinued']"
      ],
      "execution_count": 17,
      "outputs": []
    },
    {
      "cell_type": "markdown",
      "metadata": {
        "id": "rvZGDvDuhxG_"
      },
      "source": [
        "# Forecasting"
      ]
    },
    {
      "cell_type": "markdown",
      "metadata": {
        "id": "vkAxI3tSOVg7"
      },
      "source": [
        "## Data set up"
      ]
    },
    {
      "cell_type": "code",
      "metadata": {
        "id": "2aeX_25Qisw1"
      },
      "source": [
        "# Identify date columns\n",
        "date_column = 'date'\n",
        "\n",
        "# Select features to include in model run. Can also include \"month\"\n",
        "features = ['month',\n",
        "            'is_holiday', \n",
        "            'week_before_holiday', \n",
        "            'week_after_holiday', \n",
        "            'trend']\n",
        "\n",
        "#target variable to be predicted\n",
        "predicted_var = [target_value]\n",
        "\n",
        "#staging variables to subset dataset to features\n",
        "y_cols = predicted_var + ['type']\n",
        "x_cols = features + ['type']"
      ],
      "execution_count": 18,
      "outputs": []
    },
    {
      "cell_type": "markdown",
      "metadata": {
        "id": "IDk2Aw_rZ63G"
      },
      "source": [
        "## SciKit Machine Learning"
      ]
    },
    {
      "cell_type": "code",
      "metadata": {
        "id": "cNGJPmtphyX8",
        "colab": {
          "base_uri": "https://localhost:8080/"
        },
        "outputId": "b4cae77b-352f-481d-dcd1-a8b345794c04"
      },
      "source": [
        "# Import\n",
        "from sklearn.model_selection import TimeSeriesSplit, GridSearchCV, RandomizedSearchCV\n",
        "from sklearn.linear_model import ElasticNet, ElasticNetCV, RANSACRegressor\n",
        "from sklearn.neighbors import KNeighborsRegressor\n",
        "from sklearn.model_selection import train_test_split\n",
        "from sklearn.metrics import mean_squared_error, mean_absolute_error\n",
        "from sklearn.preprocessing import RobustScaler, OneHotEncoder, LabelEncoder, PowerTransformer, OrdinalEncoder, StandardScaler, PolynomialFeatures\n",
        "from sklearn.compose import ColumnTransformer, make_column_transformer,make_column_selector,TransformedTargetRegressor\n",
        "from sklearn.pipeline import Pipeline\n",
        "from sklearn import linear_model, metrics\n",
        "from xgboost import plot_importance, plot_tree\n",
        "import xgboost as xgb\n",
        "from datetime import datetime, timedelta, date\n",
        "\n",
        "from scipy import stats\n",
        "from statsmodels.tsa.holtwinters import ExponentialSmoothing\n",
        "from scipy.stats import uniform, randint\n",
        "import statsmodels.api as sm\n",
        "from pylab import rcParams\n",
        "\n",
        "import math\n",
        "import warnings\n",
        "from IPython.display import clear_output\n",
        "import os"
      ],
      "execution_count": 19,
      "outputs": [
        {
          "output_type": "stream",
          "text": [
            "/usr/local/lib/python3.6/dist-packages/statsmodels/tools/_testing.py:19: FutureWarning: pandas.util.testing is deprecated. Use the functions in the public API at pandas.testing instead.\n",
            "  import pandas.util.testing as tm\n"
          ],
          "name": "stderr"
        }
      ]
    },
    {
      "cell_type": "markdown",
      "metadata": {
        "id": "CQ4u1L_5JbEo"
      },
      "source": [
        "### Machine Learning Models and Pipelines"
      ]
    },
    {
      "cell_type": "code",
      "metadata": {
        "id": "D_ZmypXLiG_b"
      },
      "source": [
        "### Pipelines\n",
        "\n",
        "# For ElasticNet, we'll one hot encode data. For XGBoost we only need to label encode.\n",
        "# ElasticNet will need to have interaction features created\n",
        "# Pipelines for different types are created and then combined into a column transformer that will feed into final pipeline\n",
        "\n",
        "# Feature transformers\n",
        "numeric_transformer = Pipeline([('scaler',StandardScaler())\n",
        "                                #('interactions',PolynomialFeatures(interaction_only=True))\n",
        "                                ])\n",
        "\n",
        "categorical_transformer = Pipeline([('onehot',OneHotEncoder(handle_unknown='ignore'))])\n",
        "\n",
        "# Preprocessor\n",
        "preprocessor = make_column_transformer((numeric_transformer, make_column_selector(dtype_exclude='object')),\n",
        "                                       (categorical_transformer, make_column_selector(dtype_include='object')),\n",
        "                                       sparse_threshold=0)\n",
        "\n",
        "# XGBoost Pipeline\n",
        "pipe_xgboost = Pipeline([('xgb', xgb.XGBRegressor(objective=\"reg:squarederror\"))])\n",
        "\n",
        "# ElasticNet Pipeline\n",
        "pipe_elasticnet = Pipeline([('elnt', ElasticNet())])\n",
        "\n",
        "# Target Transformed XGBoost Pipeline\n",
        "tt = TransformedTargetRegressor(regressor=xgb.XGBRegressor(objective=\"reg:squarederror\"), \n",
        "                                transformer=PowerTransformer(standardize=False))\n",
        "pipe_xgb_transf = Pipeline([('xgb_tt', tt)])\n",
        "\n",
        "# KNN Regressor Pipeline\n",
        "pipe_knn = Pipeline([('knn',KNeighborsRegressor())])\n",
        "\n",
        "\n",
        "# Parameters\n",
        "\n",
        "# XGBoost Parameters\n",
        "xgb_params = {\"xgb__colsample_bytree\": uniform(0.7, 0.3),\n",
        "          \"xgb__gamma\": uniform(0, 0.5),\n",
        "          \"xgb__learning_rate\": uniform(0.003, 0.3), # default 0.1 \n",
        "          \"xgb__max_depth\": randint(2, 3), # default 3\n",
        "          \"xgb__n_estimators\": randint(100, 250), # default 100\n",
        "          \"xgb__subsample\": uniform(0.6, 0.4)}\n",
        "\n",
        "# Target Transformed XGBoost Parameters\n",
        "xgb_tt_params = {\"xgb_tt__regressor__colsample_bytree\": uniform(0.7, 0.3),\n",
        "          \"xgb_tt__regressor__gamma\": uniform(0, 0.5),\n",
        "          \"xgb_tt__regressor__learning_rate\": uniform(0.003, 0.3), # default 0.1 \n",
        "          \"xgb_tt__regressor__max_depth\": randint(2, 3), # default 3\n",
        "          \"xgb_tt__regressor__n_estimators\": randint(100, 250), # default 100\n",
        "          \"xgb_tt__regressor__subsample\": uniform(0.6, 0.4)}\n",
        "\n",
        "fit_params = {}#{'early_stopping_rounds':5}\n",
        "\n",
        "# ElasticNet Parameters\n",
        "elnt_l1_params = [.1, .5, .7, .9, .95, .99, 1]\n",
        "elnt_alphas_params = [0.0125, 0.025, 0.05, .125, .25, .5, 1., 2., 4.]\n",
        "elnt_params = [{'elnt__l1_ratio':elnt_l1_params,'elnt__alpha':elnt_alphas_params}]\n",
        "\n",
        "# KNN Parameters\n",
        "n_neighbors = [2,3,4,5]\n",
        "knn_params = [{'knn__n_neighbors':n_neighbors}]\n",
        "\n",
        "\n",
        "# Hyperparameter search pipes\n",
        "\n",
        "jobs=-1\n",
        "\n",
        "time_split = TimeSeriesSplit(n_splits = 3)\n",
        "\n",
        "# XGB\n",
        "rs_xgb =  RandomizedSearchCV(estimator=pipe_xgboost, \n",
        "                             param_distributions=xgb_params,\n",
        "                             random_state=42, \n",
        "                             n_iter=4, \n",
        "                             cv=time_split, \n",
        "                             n_jobs=jobs, \n",
        "                             return_train_score=True,\n",
        "                             scoring='neg_mean_squared_error')\n",
        "# XGB Target Transformed\n",
        "rs_xgb_tt =  RandomizedSearchCV(estimator=pipe_xgb_transf, \n",
        "                             param_distributions=xgb_tt_params,\n",
        "                             random_state=42, \n",
        "                             n_iter=4, \n",
        "                             cv=time_split, \n",
        "                             n_jobs=jobs, \n",
        "                             return_train_score=True,\n",
        "                             scoring='neg_mean_squared_error')\n",
        "\n",
        "# ElasticNet\n",
        "gs_elnt = GridSearchCV(estimator=pipe_elasticnet,\n",
        "                    param_grid=elnt_params,\n",
        "                    cv=4,\n",
        "                    scoring='neg_mean_squared_error',\n",
        "                    n_jobs=jobs)\n",
        "\n",
        "# KNN\n",
        "gs_knn = GridSearchCV(estimator=pipe_knn,\n",
        "                     param_grid=knn_params,\n",
        "                     cv=4,\n",
        "                     scoring='neg_mean_squared_error',\n",
        "                     n_jobs=jobs)\n",
        "# ElasticNet\n",
        "elntcv = ElasticNetCV(cv=4, \n",
        "                      random_state=42, \n",
        "                      l1_ratio = [.1, .5, .7, .9, .95, .99, 1], \n",
        "                      alphas=[0.0125, 0.025, 0.05, .125, .25, .5, 1., 2., 4.])\n",
        "\n",
        "# ElasticNet\n",
        "elntcv_tt = TransformedTargetRegressor(regressor=elntcv, \n",
        "                                       transformer=PowerTransformer(standardize=False,method='yeo-johnson'))\n",
        "\n",
        "\n",
        "# Auxiliary lists and dictionaries for batch forecasting\n",
        "\n",
        "# List of pipelines for iteration\n",
        "cv_searchers = [elntcv, rs_xgb, gs_knn, rs_xgb, \n",
        "                elntcv, elntcv_tt,rs_xgb_tt] \n",
        "\n",
        "# Dictionary of pipelines and classifier types for ease of reference\n",
        "cv_search_dict = {0:'ElasticNet', 1:'XGBoost', 2:'KNN',3:'XGBoost_Trended',\n",
        "                  4:'ElasticNet_Trended',5:'ElntCV_tt_Trended',6:'XGB_tt_Trended'}\n",
        "\n",
        "trended_non_trend_cutoff = 3 # this is the position of the first trended model in cv_search_dict"
      ],
      "execution_count": 20,
      "outputs": []
    },
    {
      "cell_type": "markdown",
      "metadata": {
        "id": "INEqux7Vkrjl"
      },
      "source": [
        "## Dataset prep"
      ]
    },
    {
      "cell_type": "code",
      "metadata": {
        "id": "VfOESlSOiV78"
      },
      "source": [
        "def train_test(X, Y, tst_size=0.20, time_aligned=True):\n",
        "    \n",
        "    first = X.index.min()\n",
        "    last = X.index.max()\n",
        "    \n",
        "    global trim_date\n",
        "    \n",
        "    # subset train and test independent and dependent variables, split sequentially on trim date\n",
        "    if time_aligned == True:\n",
        "        \n",
        "        delta = last - first\n",
        "        weeks = (delta.days)/7 + 1\n",
        "        train_weeks = round((1-tst_size)*weeks)\n",
        "        test_weeks = round(tst_size*weeks)\n",
        "        trim_date = last - timedelta(test_weeks*7)\n",
        "        \n",
        "        X_train = X.loc[X.index <= trim_date]\n",
        "        x_test = X.loc[X.index > trim_date]\n",
        "        Y_train = Y.loc[X.index <= trim_date]\n",
        "        y_test = Y.loc[X.index > trim_date]\n",
        "\n",
        "    else:\n",
        "        X_train, x_test, Y_train, y_test = train_test_split(X, Y, random_state=42, test_size=tst_size)\n",
        "    \n",
        "    return X_train, x_test, Y_train, y_test\n",
        "\n",
        "\n",
        "def split_input_historical(X, Y): # split dataset by historical and forecasts\n",
        "    \n",
        "    Y = Y[Y['type'] == 'historical']\n",
        "    Y = Y.drop(columns='type')\n",
        "    x_forecast = X[X['type'] == 'forecast']\n",
        "    X = X[X['type'] == 'historical']\n",
        "    x_forecast = x_forecast.drop(columns='type')\n",
        "    X = X.drop(columns='type')\n",
        "\n",
        "    return X, Y, x_forecast\n",
        "\n",
        "\n",
        "def dataset_prep(df):\n",
        "    \n",
        "    # separate dependent and independent variables\n",
        "    Y = df[y_cols]\n",
        "    X = df[x_cols]\n",
        "\n",
        "    # split into historical and input\n",
        "    X, Y, x_forecast = split_input_historical(X, Y)\n",
        "     \n",
        "    # train/test split\n",
        "    X_train, x_test, Y_train, y_test = train_test(X, Y)\n",
        "    \n",
        "    return X_train, x_test, Y_train, y_test, x_forecast, X\n",
        "\n",
        "\n",
        "def mape_score_2(y_pred, y_true):\n",
        "    \n",
        "    error = abs(y_true - y_pred)\n",
        "    ape = error/y_true\n",
        "    \n",
        "    return round(np.average(abs(ape), weights=y_true), 2)\n",
        "\n",
        "\n",
        "def isolate_trend(df,X_train,x_test,x_forecast):\n",
        "    \n",
        "    # Isolate trend feature\n",
        "    trend_all = df['trend'].values.reshape(-1,1) # trend components for all periods\n",
        "    trend_historical = df[df['type']=='historical']['trend'].values.reshape(-1,1)\n",
        "    trend_X_train = X_train['trend'].values.reshape(-1,1)\n",
        "    trend_x_test = x_test['trend'].values.reshape(-1,1)\n",
        "    trend_x_forecast = x_forecast['trend'].values.reshape(-1,1)\n",
        "\n",
        "    # Remove trend feature from dataset\n",
        "    X_train = X_train.drop(columns='trend')\n",
        "    x_test = x_test.drop(columns='trend')\n",
        "    x_forecast = x_forecast.drop(columns='trend')\n",
        "    all_x = df[x_cols].drop(columns=['type','trend']) \n",
        "    \n",
        "    return trend_all,trend_historical,trend_X_train,trend_x_test,trend_x_forecast,X_train,x_test,x_forecast,all_x\n",
        "    \n",
        "\n",
        "def detrend(df,trend_historical,trend_X_train,trend_x_test,Y_train,y_test):\n",
        "     \n",
        "    all_actuals = df[df['type']=='historical'][predicted_var].values\n",
        "    trend = ransac.fit(trend_historical, all_actuals)\n",
        "    \n",
        "    # Detrend Y Train\n",
        "    Y_train = Y_train - trend.predict(trend_X_train) \n",
        "    \n",
        "    # Detrend Y test\n",
        "    trend_test = trend.predict(trend_x_test)\n",
        "    y_test = y_test - trend_test\n",
        "\n",
        "    return Y_train,y_test,trend,all_actuals,trend_test\n",
        "    \n",
        "    \n",
        "def plot_trend_graph(y_true,y_pred,trend_test,y_pred_no_trend):\n",
        "    \n",
        "    if idx>=trended_non_trend_cutoff:\n",
        "        print('Trended Model', idx)  \n",
        "                      \n",
        "        # Create basic plot\n",
        "        df_for_trend_plot = pd.DataFrame(y_true)\n",
        "        df_for_trend_plot['trended_pred'] = y_pred\n",
        "        df_for_trend_plot['isolated_trend'] = trend_test\n",
        "        df_for_trend_plot['detrended_pred'] = y_pred_no_trend\n",
        "        df_for_trend_plot.plot(figsize=(15,5))\n",
        "        \n",
        "        return plt.show()\n",
        "\n",
        "\n",
        "def train_test_mapper(row):\n",
        "    \n",
        "    if row['type']=='forecast':\n",
        "        return 'forecast'\n",
        "    elif row['trim_date']>=row[date_column]:\n",
        "        return 'train'\n",
        "    else:\n",
        "        return 'test'"
      ],
      "execution_count": 21,
      "outputs": []
    },
    {
      "cell_type": "code",
      "metadata": {
        "id": "2OkmqjNSiaBJ"
      },
      "source": [
        "# Create ransac regressor to model trend\n",
        "from sklearn.linear_model import RANSACRegressor\n",
        "ransac = RANSACRegressor(random_state=42)"
      ],
      "execution_count": 22,
      "outputs": []
    },
    {
      "cell_type": "markdown",
      "metadata": {
        "id": "AIQhCOKNknSQ"
      },
      "source": [
        "## Batch forecaster (ML) functions"
      ]
    },
    {
      "cell_type": "code",
      "metadata": {
        "id": "Ud2xcaSninm2"
      },
      "source": [
        "# This function takes in a dataframe with historical data, splits in train test, \n",
        "# runs model pipelines and outputs best forecast and mape for each forecast key\n",
        "\n",
        "def forecast_apply(data,trended_non_trend_cutoff=3,plot_trend=False): \n",
        "    \n",
        "    global y_true,y_pred, best_forecast\n",
        "    \n",
        "    data = data.set_index(date_column) # Make sure index is date\n",
        "\n",
        "    # Train/Test split\n",
        "    X_train, x_test, Y_train, y_test, x_forecast, X = dataset_prep(data)\n",
        "    \n",
        "    # Actual sales\n",
        "    y_true = y_test[predicted_var].values.reshape(1,-1)[0]\n",
        "\n",
        "    # Filter out low data availabiltiy keys\n",
        "    if len(X_train)>5 and len(x_test)>5 and len(x_forecast)>2:\n",
        "        \n",
        "        # Get trend components for each subset and drop Trend feature\n",
        "        trend_all,trend_historical,trend_X_train,trend_x_test,\\\n",
        "        trend_x_forecast,X_train,x_test,x_forecast,all_x = isolate_trend(data,X_train,x_test,x_forecast)\n",
        "\n",
        "        # Processor fit\n",
        "        processor_fit = preprocessor.fit(X_train) # Preprocessor is previously defined\n",
        "\n",
        "        # Processor transform\n",
        "        processor_transform = processor_fit.transform(X_train)\n",
        "\n",
        "        X_train = (processor_fit.transform(X_train))\n",
        "        x_test = (processor_fit.transform(x_test))\n",
        "        x_forecast = (processor_fit.transform(x_forecast))\n",
        "        all_x = (processor_fit.transform(all_x))\n",
        "\n",
        "        # Initialize loop variables\n",
        "        best_score = 10000000000\n",
        "        best_model = ''\n",
        "\n",
        "        # Loop through model dict to find best model\n",
        "        for idx, searchcv in enumerate(cv_searchers):\n",
        "          try:  \n",
        "            # Detrend data for specific models. Order matters, trended models need to be last in cv_searchers dict\n",
        "            # Fit and Detrend, we use all historical data for this to capture overall trend.\n",
        "\n",
        "            if idx==trended_non_trend_cutoff: \n",
        "                # Detrended Y is given by subtracting Trend from Y_true   \n",
        "                Y_train,y_test,trend,all_actuals,trend_test = detrend(data,trend_historical,trend_X_train,trend_x_test,Y_train,y_test)\n",
        "\n",
        "            # Fit grid search\n",
        "            searchcv.fit(X_train, Y_train)\n",
        "\n",
        "            # Predict on test data with best params\n",
        "            y_pred = searchcv.predict(x_test)\n",
        "            \n",
        "            # Auxiliary transformation for compatibility with models\n",
        "            if len(y_pred.shape)>1:\n",
        "                y_pred = y_pred.reshape(1,-1)[0]\n",
        "            \n",
        "            # Add trend back to prediction if model is trended\n",
        "            if idx >= trended_non_trend_cutoff: \n",
        "                trend_test = trend.predict(trend_x_test).reshape(1,-1)[0]\n",
        "                y_pred = y_pred + trend_test\n",
        "            \n",
        "            # Auxiliary transformation for compatibility with models\n",
        "            if len(y_pred.shape)>1:\n",
        "                y_pred = y_pred.reshape(1,-1)[0]\n",
        "            \n",
        "            # Calculate MAPE\n",
        "            scoring = mape_score_2(y_true, y_pred)\n",
        "            \n",
        "            # Plot trend graph?\n",
        "            if idx >= trended_non_trend_cutoff: \n",
        "                if plot_trend==True:\n",
        "                    y_pred_no_trend = searchcv.predict(x_test)\n",
        "                    print('Trended Model', cv_search_dict.get(idx))                \n",
        "                    # Create basic plot\n",
        "                    df_for_trend_plot = pd.DataFrame(y_true)\n",
        "                    df_for_trend_plot['trended_pred'] = y_pred\n",
        "                    df_for_trend_plot['isolated_trend'] = trend_test\n",
        "                    df_for_trend_plot['detrended_pred'] = y_pred_no_trend\n",
        "\n",
        "                    df_for_trend_plot.plot(figsize=(15,5))\n",
        "                    plt.show()\n",
        "            \n",
        "            # Select best (lowest MAPE) model\n",
        "            if scoring < best_score:\n",
        "                best_score = scoring\n",
        "                best_search = searchcv\n",
        "                best_model = idx\n",
        "                \n",
        "                # Need to add trend back to predictions if trended model\n",
        "                if best_model >= trended_non_trend_cutoff:\n",
        "                    best_forecast = searchcv.predict(all_x) + trend.predict(trend_all).reshape(1,-1)[0]\n",
        "                else:\n",
        "                    best_forecast = searchcv.predict(all_x)\n",
        "            \n",
        "            # Set up resulting dataframe\n",
        "            data['forecast'] = best_forecast\n",
        "            data['mape'] = best_score\n",
        "            data['best_model'] = cv_search_dict.get(best_model)\n",
        "            data['trim_date'] = trim_date\n",
        "          except:\n",
        "            pass\n",
        "        \n",
        "        return_df = data[['forecast','mape','best_model','trim_date','type']]\n",
        "        clear_output()\n",
        "        \n",
        "        return return_df"
      ],
      "execution_count": 23,
      "outputs": []
    },
    {
      "cell_type": "markdown",
      "metadata": {
        "id": "DOoVp04hOYAp"
      },
      "source": [
        "## Execute ML forecasts"
      ]
    },
    {
      "cell_type": "code",
      "metadata": {
        "id": "nNCtz7szi5Le"
      },
      "source": [
        "# Progress bar set up\n",
        "warnings.filterwarnings(\"ignore\")\n",
        "from tqdm import tqdm\n",
        "tqdm.pandas()\n",
        "\n",
        "# Apply forecast function to each key\n",
        "indv_forecast = processed_dataset.groupby(['forecast_key']).progress_apply(forecast_apply)\n",
        "\n",
        "# Format results\n",
        "indv_forecast = indv_forecast.reset_index()\n",
        "indv_forecast['type'] = indv_forecast.apply(train_test_mapper,axis=1)"
      ],
      "execution_count": null,
      "outputs": []
    },
    {
      "cell_type": "markdown",
      "metadata": {
        "id": "7SIPAIwKROWs"
      },
      "source": [
        "## Breakdown forecast to days"
      ]
    },
    {
      "cell_type": "markdown",
      "metadata": {
        "id": "J5wg2-3chPdY"
      },
      "source": [
        ""
      ]
    },
    {
      "cell_type": "code",
      "metadata": {
        "id": "dcl8qzd3TFtf"
      },
      "source": [
        "# Map week number to each date_week on forecasts\n",
        "year_week_map = sales_data[['forecast_key','date','week_end_date']]\n",
        "indv_forecast = indv_forecast.merge(year_week_map,on=['forecast_key','date'])\n",
        "\n",
        "# Expand forecasts from weeks to days\n",
        "days = sales_data[['forecast_key','date','is_holiday','week_end_date']]\n",
        "\n",
        "# Forecast date is actually a week end indicator date\n",
        "indv_forecast = indv_forecast.rename(columns={'date':'week_date'})\n",
        "indv_forecast = indv_forecast.merge(days,on=['forecast_key','week_end_date'])\n",
        "\n",
        "# Drop duplicates\n",
        "indv_forecast = indv_forecast.drop_duplicates(subset=['forecast_key','date'])\n",
        "\n",
        "# Breakdown weekly forecast to daily\n",
        "indv_forecast['day_of_week'] = indv_forecast['date'].dt.weekday\n",
        "\n",
        "def breakdown_fcst(row):\n",
        "  if row['day_of_week'] <5:\n",
        "    return round(row['forecast']/5,0)\n",
        "  else:\n",
        "    return 0\n",
        "\n",
        "indv_forecast['forecast'] = indv_forecast.apply(breakdown_fcst,axis=1)"
      ],
      "execution_count": null,
      "outputs": []
    },
    {
      "cell_type": "code",
      "metadata": {
        "id": "u1fOiRwr3Lwy"
      },
      "source": [
        "# Subsets: historical and forecast\n",
        "historical_predictions = indv_forecast[indv_forecast['type']!='forecast']\n",
        "forecasts = indv_forecast[indv_forecast['type']=='forecast'].set_index('forecast_key')"
      ],
      "execution_count": null,
      "outputs": []
    },
    {
      "cell_type": "markdown",
      "metadata": {
        "id": "VB0WQre5SjsJ"
      },
      "source": [
        "## Data report"
      ]
    },
    {
      "cell_type": "code",
      "metadata": {
        "id": "abkZBcuf_FSp"
      },
      "source": [
        "# Plots\n",
        "import plotly.express as px\n",
        "\n",
        "fig = px.line(processed_dataset.groupby(['date']).sum().reset_index(),\n",
        "              x='date',\n",
        "              y=target_value, \n",
        "              title='Historical Sales')\n",
        "fig.show()\n",
        "\n",
        "\n",
        "mape_df = indv_forecast.groupby('forecast_key').agg({'mape':'mean','forecast':sum})\n",
        "print(\"Weighted MAPE:\", np.average(mape_df['mape'],weights=mape_df['forecast']))\n",
        "\n",
        "# Format and add attributes to tables\n",
        "mape_df = mape_df.join(mapping_table)"
      ],
      "execution_count": null,
      "outputs": []
    },
    {
      "cell_type": "code",
      "metadata": {
        "id": "nRXO42PFwNtA"
      },
      "source": [
        "# Model performance statistics\n",
        "best_model_mape = indv_forecast.groupby(['best_model','forecast_key'])['mape'].median().reset_index()\n",
        "best_model_mape = best_model_mape.groupby('best_model')['mape'].median()\n",
        "\n",
        "best_model_count = indv_forecast.groupby('forecast_key')['best_model'].agg(lambda x: stats.mode(x)[0])\n",
        "best_model_count = best_model_count.value_counts().to_frame()\n",
        "best_model_count = best_model_count.join(best_model_mape)\n",
        "best_model_count"
      ],
      "execution_count": null,
      "outputs": []
    },
    {
      "cell_type": "code",
      "metadata": {
        "id": "IazF1JMQPsFS"
      },
      "source": [
        "fig, ax1 = plt.subplots(figsize=(5,5))\n",
        "\n",
        "ax1 = sns.barplot(y=best_model_count.index,x='best_model',data=best_model_count)\n",
        "plt.show()"
      ],
      "execution_count": null,
      "outputs": []
    },
    {
      "cell_type": "markdown",
      "metadata": {
        "id": "REC5ojIRySUN"
      },
      "source": [
        "# Export to BigQuery"
      ]
    },
    {
      "cell_type": "code",
      "metadata": {
        "id": "BxotIZv8zHOu"
      },
      "source": [
        "historical_sales = sales_data[['date','forecast_key',target_value]]\n",
        "historical_sales = historical_sales.groupby(['forecast_key','date']).sum().reset_index()\n",
        "\n",
        "formatted_forecasts = indv_forecast.merge(historical_sales,\n",
        "                                          on=['date','forecast_key'],\n",
        "                                          how='left'\n",
        "                                          )\n",
        "\n",
        "formatted_forecasts = formatted_forecasts.set_index('forecast_key').join(mapping_table)\n",
        "formatted_forecasts.sample(5)"
      ],
      "execution_count": null,
      "outputs": []
    },
    {
      "cell_type": "code",
      "metadata": {
        "id": "qQCklQJKbYUX"
      },
      "source": [
        "formatted_forecasts[target_value] =  formatted_forecasts[target_value].where(formatted_forecasts['type']!='forecast',np.nan)"
      ],
      "execution_count": null,
      "outputs": []
    },
    {
      "cell_type": "code",
      "metadata": {
        "id": "iWD80vffz1zf"
      },
      "source": [
        "# Save locally\n",
        "mape_df[['mape']].to_csv('mape_df.csv')\n",
        "formatted_forecasts.to_csv('forecasts.csv')"
      ],
      "execution_count": null,
      "outputs": []
    },
    {
      "cell_type": "markdown",
      "metadata": {
        "id": "jRP9F4UdKFeW"
      },
      "source": [
        "### Set up project and credentials"
      ]
    },
    {
      "cell_type": "code",
      "metadata": {
        "id": "7cGC5tiyCs9w"
      },
      "source": [
        "from google.cloud import bigquery\n",
        "\n",
        "project_id = 'iowa-liquor-sales-266301'\n",
        "bq_dataset_name = \"forecasting\"\n",
        "\n",
        "# Construct a BigQuery client object.\n",
        "client = bigquery.Client(project = project_id)\n",
        "\n",
        "metrics_path = \"/content/mape_df.csv\"\n",
        "forecasts_path = \"/content/forecasts.csv\"\n",
        "\n",
        "file_paths = [metrics_path,forecasts_path]\n",
        "table_names = [\"ml_metrics\",\"ml_forecasts\"]"
      ],
      "execution_count": null,
      "outputs": []
    },
    {
      "cell_type": "markdown",
      "metadata": {
        "id": "LbIXCZbGKMgB"
      },
      "source": [
        "### Load tables to Big Query"
      ]
    },
    {
      "cell_type": "code",
      "metadata": {
        "id": "1Pyop4PcAPk2"
      },
      "source": [
        "for file_path,tb_name in zip(file_paths,table_names):\n",
        "  \n",
        "  table_id = \"{}.{}.{}\".format(project_id,bq_dataset_name,tb_name)\n",
        "\n",
        "  job_config = bigquery.LoadJobConfig(\n",
        "      source_format=bigquery.SourceFormat.CSV, \n",
        "      skip_leading_rows=1, \n",
        "      autodetect=True,\n",
        "      \n",
        "  )\n",
        "\n",
        "  job_config.write_disposition = 'WRITE_TRUNCATE' \n",
        "\n",
        "  with open(file_path, \"rb\") as source_file:\n",
        "      job = client.load_table_from_file(source_file, table_id,job_config=job_config)\n",
        "      \n",
        "  job.result()  # Waits for the job to complete.\n",
        "\n",
        "  table = client.get_table(table_id)  # Make an API request.\n",
        "\n",
        "  print(\n",
        "      \"Loaded {} rows and {} columns to {}\".format(\n",
        "          table.num_rows, len(table.schema), table_id\n",
        "      )\n",
        "  )"
      ],
      "execution_count": null,
      "outputs": []
    },
    {
      "cell_type": "code",
      "metadata": {
        "id": "sc806Rgr6_zf"
      },
      "source": [
        "# Need to join actual sales\n",
        "historical_predictions = historical_predictions.merge(processed_dataset[['forecast_key','date',target_value,'trend']],\n",
        "                                                      how='left',\n",
        "                                                      on=['date','forecast_key'])"
      ],
      "execution_count": null,
      "outputs": []
    },
    {
      "cell_type": "markdown",
      "metadata": {
        "id": "P5TozIiG5aPW"
      },
      "source": [
        "# Random key report"
      ]
    },
    {
      "cell_type": "code",
      "metadata": {
        "id": "0P5DMCzF5cHf"
      },
      "source": [
        "sns.set_style('white')\n",
        "sns.set_context('talk')\n",
        "\n",
        "# Ransac regressor to extract trend\n",
        "from sklearn.linear_model import RANSACRegressor,HuberRegressor, LinearRegression\n",
        "ransac2 = RANSACRegressor(random_state=42)\n",
        "huber = HuberRegressor()\n",
        "lr = LinearRegression()\n",
        "\n",
        "def plot_rand_key(rand=True):\n",
        "\n",
        "  global data_actuals,trend_data\n",
        "    \n",
        "  key = specific_key\n",
        "  if rand==True:\n",
        "    key = pd.DataFrame(forecasts.index.unique()).sample().values[0][0] # get sample key\n",
        "\n",
        "  print(key)\n",
        "  \n",
        "  data_fcst = forecasts.loc[key].groupby('week_date').sum()\n",
        "  \n",
        "  data_actuals = historical_predictions[(historical_predictions['forecast_key']==key) & (historical_predictions['type']!='forecast')]\n",
        "  \n",
        "  # Predict trendline \n",
        "  cols = ['week_date','trend'] + [predicted_var]\n",
        "  \n",
        "  trend_data = data_actuals.dropna()\n",
        "  trend_y = trend_data[predicted_var[0]].values.reshape(-1,1)\n",
        "  trend_x = trend_data['trend'].values.reshape(-1,1)\n",
        "  trend_data['trend_line_huber'] = huber.fit(trend_x,trend_y).predict(trend_x)\n",
        "  trend_data['trend_line_lr'] = lr.fit(trend_x,trend_y).predict(trend_x)\n",
        "  \n",
        "  try:\n",
        "    trend_data['trend_line_ransac'] = ransac.fit(trend_x,trend_y).predict(trend_x)\n",
        "  except: \n",
        "    trend_data['trend_line_ransac'] = 0\n",
        "  \n",
        "  trend_data['detrended_actuals'] = trend_data[predicted_var[0]] - trend_data['trend_line_ransac']\n",
        "  \n",
        "  # Power Transform\n",
        "  trend_data['pt_actuals'] = PowerTransformer().fit_transform(trend_data['detrended_actuals'].values.reshape(-1,1))\n",
        "\n",
        "\n",
        "  # Plot Time Series \n",
        "  plt.figure(figsize=(14,6))\n",
        "\n",
        "  # Actuals\n",
        "  sns.lineplot(x=\"week_date\", y=predicted_var[0],color=\"grey\",linewidth=2,data=data_actuals)\n",
        "\n",
        "  # Trend \n",
        "  sns.lineplot(x='date', y='trend_line_ransac' ,color='lime', alpha=0.7, data=trend_data)\n",
        "\n",
        "  # Forecast \n",
        "  sns.lineplot(x=\"week_date\", y='forecast',color='#42779B', alpha=1,linewidth=3, data=data_fcst)\n",
        "\n",
        "  # Historical predictions \n",
        "  ##sns.lineplot(x=\"date\", y='indv_forecast',hue='type', alpha=0.8, data=data_fcst)\n",
        "  sns.lineplot(x=\"week_date\", y='forecast', color='#42779B', alpha=0.5, data=data_fcst)\n",
        "\n",
        "  plt.xticks(rotation=30)\n",
        "  plt.title('Actuals vs Historical - {}'.format(key))\n",
        "  plt.legend(labels = ['Actuals','Trend', 'Forecast','Historical Prediction',])\n",
        "  plt.show()\n",
        "\n",
        "\n",
        "  # Histogram \n",
        "  plt.figure(figsize=(15,5))\n",
        "  plt.subplot(1, 3, 1)\n",
        "  sns.distplot(trend_data[predicted_var[0]],color='gray')\n",
        "  plt.title('Original Sales Dist')\n",
        "\n",
        "  plt.subplot(1, 3, 2)\n",
        "  sns.distplot(trend_data['detrended_actuals'],color='purple')\n",
        "  plt.title('Detrended Dist')\n",
        "\n",
        "  plt.subplot(1, 3, 3)\n",
        "  sns.distplot(trend_data['pt_actuals'],color='#42779B')\n",
        "  plt.title('Detrended - Power Transformed')\n",
        "  plt.tight_layout()\n",
        "  plt.show()\n",
        "  \n",
        "  # Stationarize series plot\n",
        "  fig, ax1 = plt.subplots(figsize=(12,5))\n",
        "  ax1 = sns.lineplot(x=\"date\", y=predicted_var[0],color='gray', alpha=0.6, data=trend_data)\n",
        "  #ax1 = sns.lineplot(x=\"date\", y='detrended_actuals',color='purple', alpha=0.5, data=trend_data)\n",
        "  ax1.legend(['Actuals','Detrended'],loc='upper left')\n",
        "  ax2 = ax1.twinx()\n",
        "  ax2 = sns.lineplot(x=\"date\", y='pt_actuals',color='#42779B', alpha=0.5, data=trend_data)\n",
        "  ax2.legend(['Power Transformed'],loc='upper right')\n",
        "  plt.show()"
      ],
      "execution_count": null,
      "outputs": []
    },
    {
      "cell_type": "code",
      "metadata": {
        "id": "dqjdE8gY6efy"
      },
      "source": [
        "#Sample key\n",
        "specific_key = '64870'\n",
        "plot_rand_key(rand=False)"
      ],
      "execution_count": null,
      "outputs": []
    },
    {
      "cell_type": "code",
      "metadata": {
        "id": "KoQQdVC9R9dG"
      },
      "source": [
        ""
      ],
      "execution_count": null,
      "outputs": []
    }
  ]
}