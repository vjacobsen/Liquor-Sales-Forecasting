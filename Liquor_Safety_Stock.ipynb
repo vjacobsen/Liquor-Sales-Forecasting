{
  "nbformat": 4,
  "nbformat_minor": 0,
  "metadata": {
    "colab": {
      "name": "Liquor Safety Stock",
      "provenance": [],
      "toc_visible": true,
      "mount_file_id": "11sOpyXTMQcqzg8teHoKyZ5A-waReskFZ",
      "authorship_tag": "ABX9TyMbP5Bsqh806SMMHpCFqwww",
      "include_colab_link": true
    },
    "kernelspec": {
      "name": "python3",
      "display_name": "Python 3"
    }
  },
  "cells": [
    {
      "cell_type": "markdown",
      "metadata": {
        "id": "view-in-github",
        "colab_type": "text"
      },
      "source": [
        "<a href=\"https://colab.research.google.com/github/vjacobsen/Liquor-Sales-Inventory-Forecast/blob/main/Liquor_Safety_Stock.ipynb\" target=\"_parent\"><img src=\"https://colab.research.google.com/assets/colab-badge.svg\" alt=\"Open In Colab\"/></a>"
      ]
    },
    {
      "cell_type": "markdown",
      "metadata": {
        "id": "blnFHycDMtVO"
      },
      "source": [
        "# Safety Stock Calculation\n",
        "\n",
        "The approach used considers forecast error as the only factor requiring buffer inventory. \n",
        "\n",
        "Also, forecast error is assumed to be normally distributed.\n",
        "\n",
        "In a real world scenario, additional variables such as supplier lead time would also need to be added."
      ]
    },
    {
      "cell_type": "code",
      "metadata": {
        "id": "u69py_CuM3TX"
      },
      "source": [
        "import os\n",
        "import pandas as pd\n",
        "import seaborn as sns\n",
        "from scipy import stats\n",
        "import matplotlib.pyplot as plt\n",
        "import numpy as np"
      ],
      "execution_count": 1,
      "outputs": []
    },
    {
      "cell_type": "markdown",
      "metadata": {
        "id": "gWZdPNLRRhh6"
      },
      "source": [
        "#### Query\n",
        "This is the forecast table loaded to Google Cloud in the previous notebook"
      ]
    },
    {
      "cell_type": "code",
      "metadata": {
        "id": "mGcXCvTMMD9X",
        "colab": {
          "base_uri": "https://localhost:8080/"
        },
        "outputId": "ae99f6bb-857a-4747-d6ba-14c466e3656a"
      },
      "source": [
        "### Provide your credentials to the runtime\n",
        "from google.colab import auth\n",
        "from google.cloud import bigquery\n",
        "\n",
        "auth.authenticate_user()\n",
        "print('Authenticated')\n",
        "\n",
        "project_id = 'iowa-liquor-sales-266301'\n",
        "bq_dataset_name = \"forecasting\"\n",
        "\n",
        "# Construct a BigQuery client object\n",
        "client = bigquery.Client(project = project_id,)"
      ],
      "execution_count": 2,
      "outputs": [
        {
          "output_type": "stream",
          "text": [
            "Authenticated\n"
          ],
          "name": "stdout"
        }
      ]
    },
    {
      "cell_type": "code",
      "metadata": {
        "id": "0wf30rPGRT0Z"
      },
      "source": [
        "# Run query\n",
        "forecasts_query = client.query('''\n",
        "SELECT *\n",
        "FROM \n",
        "`iowa-liquor-sales-266301.forecasting.ml_forecasts`\n",
        "''').to_dataframe()"
      ],
      "execution_count": 91,
      "outputs": []
    },
    {
      "cell_type": "markdown",
      "metadata": {
        "id": "lxzr-JkVRjYe"
      },
      "source": [
        "### Transform data\n",
        "\n",
        "Data is grouped by month-year and forecast error is calulated at this level"
      ]
    },
    {
      "cell_type": "code",
      "metadata": {
        "id": "3Rm3lyIC8b7N",
        "colab": {
          "base_uri": "https://localhost:8080/",
          "height": 289
        },
        "outputId": "3e26b094-485b-475c-dacf-e94120e10091"
      },
      "source": [
        "# Convert string to date\n",
        "forecasts['date'] = pd.to_datetime(forecasts_query['date'])\n",
        "\n",
        "# Number to object\n",
        "forecasts['forecast_key'] = forecasts['forecast_key'].astype(str)\n",
        "\n",
        "# Remove safety stock column if exists (only needed if cell is rerun)\n",
        "try:\n",
        "  forecasts.drop(columns=['safety_stock'],inplace=True)\n",
        "except: \n",
        "  pass\n",
        "\n",
        "# Group by month-year\n",
        "forecasts['month_year'] = forecasts['date'].dt.month.astype(str) +  \"_\" + forecasts['date'].dt.year.astype(str)\n",
        "monthly_forecasts = forecasts.groupby(['forecast_key','month_year','type']).agg({\"sales_bottles\":sum,\"forecast\":sum}).reset_index()\n",
        "\n",
        "target_value = 'sales_bottles'\n",
        "\n",
        "# Historical data\n",
        "historical = monthly_forecasts[monthly_forecasts['type']!='forecast']\n",
        "\n",
        "# Error\n",
        "historical['error'] = historical['forecast'] - historical[target_value] \n",
        "\n",
        "historical.head()"
      ],
      "execution_count": 92,
      "outputs": [
        {
          "output_type": "stream",
          "text": [
            "/usr/local/lib/python3.6/dist-packages/ipykernel_launcher.py:23: SettingWithCopyWarning: \n",
            "A value is trying to be set on a copy of a slice from a DataFrame.\n",
            "Try using .loc[row_indexer,col_indexer] = value instead\n",
            "\n",
            "See the caveats in the documentation: https://pandas.pydata.org/pandas-docs/stable/user_guide/indexing.html#returning-a-view-versus-a-copy\n"
          ],
          "name": "stderr"
        },
        {
          "output_type": "execute_result",
          "data": {
            "text/html": [
              "<div>\n",
              "<style scoped>\n",
              "    .dataframe tbody tr th:only-of-type {\n",
              "        vertical-align: middle;\n",
              "    }\n",
              "\n",
              "    .dataframe tbody tr th {\n",
              "        vertical-align: top;\n",
              "    }\n",
              "\n",
              "    .dataframe thead th {\n",
              "        text-align: right;\n",
              "    }\n",
              "</style>\n",
              "<table border=\"1\" class=\"dataframe\">\n",
              "  <thead>\n",
              "    <tr style=\"text-align: right;\">\n",
              "      <th></th>\n",
              "      <th>forecast_key</th>\n",
              "      <th>month_year</th>\n",
              "      <th>type</th>\n",
              "      <th>sales_bottles</th>\n",
              "      <th>forecast</th>\n",
              "      <th>error</th>\n",
              "    </tr>\n",
              "  </thead>\n",
              "  <tbody>\n",
              "    <tr>\n",
              "      <th>0</th>\n",
              "      <td>100015</td>\n",
              "      <td>10_2017</td>\n",
              "      <td>train</td>\n",
              "      <td>291.0</td>\n",
              "      <td>171.0</td>\n",
              "      <td>-120.0</td>\n",
              "    </tr>\n",
              "    <tr>\n",
              "      <th>1</th>\n",
              "      <td>100015</td>\n",
              "      <td>10_2018</td>\n",
              "      <td>train</td>\n",
              "      <td>188.0</td>\n",
              "      <td>174.0</td>\n",
              "      <td>-14.0</td>\n",
              "    </tr>\n",
              "    <tr>\n",
              "      <th>2</th>\n",
              "      <td>100015</td>\n",
              "      <td>10_2019</td>\n",
              "      <td>train</td>\n",
              "      <td>0.0</td>\n",
              "      <td>153.0</td>\n",
              "      <td>153.0</td>\n",
              "    </tr>\n",
              "    <tr>\n",
              "      <th>4</th>\n",
              "      <td>100015</td>\n",
              "      <td>10_2020</td>\n",
              "      <td>test</td>\n",
              "      <td>93.0</td>\n",
              "      <td>135.0</td>\n",
              "      <td>42.0</td>\n",
              "    </tr>\n",
              "    <tr>\n",
              "      <th>6</th>\n",
              "      <td>100015</td>\n",
              "      <td>11_2017</td>\n",
              "      <td>train</td>\n",
              "      <td>136.0</td>\n",
              "      <td>75.0</td>\n",
              "      <td>-61.0</td>\n",
              "    </tr>\n",
              "  </tbody>\n",
              "</table>\n",
              "</div>"
            ],
            "text/plain": [
              "  forecast_key month_year   type  sales_bottles  forecast  error\n",
              "0       100015    10_2017  train          291.0     171.0 -120.0\n",
              "1       100015    10_2018  train          188.0     174.0  -14.0\n",
              "2       100015    10_2019  train            0.0     153.0  153.0\n",
              "4       100015    10_2020   test           93.0     135.0   42.0\n",
              "6       100015    11_2017  train          136.0      75.0  -61.0"
            ]
          },
          "metadata": {
            "tags": []
          },
          "execution_count": 92
        }
      ]
    },
    {
      "cell_type": "markdown",
      "metadata": {
        "id": "00jwSk9tPo3i"
      },
      "source": [
        "### Error distribution\n",
        "We'll look at percetage error to allow for better comparison"
      ]
    },
    {
      "cell_type": "code",
      "metadata": {
        "colab": {
          "base_uri": "https://localhost:8080/",
          "height": 408
        },
        "id": "AwZtSSbQPvck",
        "outputId": "c5b377af-67dc-4bb4-b8b9-3a93151dadb6"
      },
      "source": [
        "# Calculate MAPE\n",
        "historical['mape_pcnt'] = (np.divide(historical['error'],historical['sales_bottles']).abs()).round(2)\n",
        "\n",
        "# Infinite MAPE values are generated when error is 0, replace with 0\n",
        "non_infinite_mask = ~historical['mape_pcnt'].isin([np.inf,-np.inf])\n",
        "\n",
        "historical['mape_pcnt'] = historical['mape_pcnt'].where(non_infinite_mask,other=0)\n",
        "\n",
        "historical.head()"
      ],
      "execution_count": 39,
      "outputs": [
        {
          "output_type": "stream",
          "text": [
            "/usr/local/lib/python3.6/dist-packages/ipykernel_launcher.py:2: SettingWithCopyWarning: \n",
            "A value is trying to be set on a copy of a slice from a DataFrame.\n",
            "Try using .loc[row_indexer,col_indexer] = value instead\n",
            "\n",
            "See the caveats in the documentation: https://pandas.pydata.org/pandas-docs/stable/user_guide/indexing.html#returning-a-view-versus-a-copy\n",
            "  \n",
            "/usr/local/lib/python3.6/dist-packages/ipykernel_launcher.py:6: SettingWithCopyWarning: \n",
            "A value is trying to be set on a copy of a slice from a DataFrame.\n",
            "Try using .loc[row_indexer,col_indexer] = value instead\n",
            "\n",
            "See the caveats in the documentation: https://pandas.pydata.org/pandas-docs/stable/user_guide/indexing.html#returning-a-view-versus-a-copy\n",
            "  \n"
          ],
          "name": "stderr"
        },
        {
          "output_type": "execute_result",
          "data": {
            "text/html": [
              "<div>\n",
              "<style scoped>\n",
              "    .dataframe tbody tr th:only-of-type {\n",
              "        vertical-align: middle;\n",
              "    }\n",
              "\n",
              "    .dataframe tbody tr th {\n",
              "        vertical-align: top;\n",
              "    }\n",
              "\n",
              "    .dataframe thead th {\n",
              "        text-align: right;\n",
              "    }\n",
              "</style>\n",
              "<table border=\"1\" class=\"dataframe\">\n",
              "  <thead>\n",
              "    <tr style=\"text-align: right;\">\n",
              "      <th></th>\n",
              "      <th>forecast_key</th>\n",
              "      <th>month_year</th>\n",
              "      <th>type</th>\n",
              "      <th>sales_bottles</th>\n",
              "      <th>forecast</th>\n",
              "      <th>error</th>\n",
              "      <th>mape_pcnt</th>\n",
              "    </tr>\n",
              "  </thead>\n",
              "  <tbody>\n",
              "    <tr>\n",
              "      <th>1</th>\n",
              "      <td>4796</td>\n",
              "      <td>10_2020</td>\n",
              "      <td>test</td>\n",
              "      <td>159.0</td>\n",
              "      <td>204.0</td>\n",
              "      <td>45.0</td>\n",
              "      <td>0.28</td>\n",
              "    </tr>\n",
              "    <tr>\n",
              "      <th>7</th>\n",
              "      <td>4796</td>\n",
              "      <td>3_2020</td>\n",
              "      <td>train</td>\n",
              "      <td>145.0</td>\n",
              "      <td>117.0</td>\n",
              "      <td>-28.0</td>\n",
              "      <td>0.19</td>\n",
              "    </tr>\n",
              "    <tr>\n",
              "      <th>9</th>\n",
              "      <td>4796</td>\n",
              "      <td>4_2020</td>\n",
              "      <td>train</td>\n",
              "      <td>206.0</td>\n",
              "      <td>136.0</td>\n",
              "      <td>-70.0</td>\n",
              "      <td>0.34</td>\n",
              "    </tr>\n",
              "    <tr>\n",
              "      <th>11</th>\n",
              "      <td>4796</td>\n",
              "      <td>5_2020</td>\n",
              "      <td>train</td>\n",
              "      <td>161.0</td>\n",
              "      <td>152.0</td>\n",
              "      <td>-9.0</td>\n",
              "      <td>0.06</td>\n",
              "    </tr>\n",
              "    <tr>\n",
              "      <th>13</th>\n",
              "      <td>4796</td>\n",
              "      <td>6_2020</td>\n",
              "      <td>train</td>\n",
              "      <td>135.0</td>\n",
              "      <td>178.0</td>\n",
              "      <td>43.0</td>\n",
              "      <td>0.32</td>\n",
              "    </tr>\n",
              "  </tbody>\n",
              "</table>\n",
              "</div>"
            ],
            "text/plain": [
              "    forecast_key month_year   type  sales_bottles  forecast  error  mape_pcnt\n",
              "1           4796    10_2020   test          159.0     204.0   45.0       0.28\n",
              "7           4796     3_2020  train          145.0     117.0  -28.0       0.19\n",
              "9           4796     4_2020  train          206.0     136.0  -70.0       0.34\n",
              "11          4796     5_2020  train          161.0     152.0   -9.0       0.06\n",
              "13          4796     6_2020  train          135.0     178.0   43.0       0.32"
            ]
          },
          "metadata": {
            "tags": []
          },
          "execution_count": 39
        }
      ]
    },
    {
      "cell_type": "code",
      "metadata": {
        "colab": {
          "base_uri": "https://localhost:8080/",
          "height": 297
        },
        "id": "UsMAUBM-Rt3r",
        "outputId": "9c4230a0-fe54-42dc-d28a-f5f8794e78c2"
      },
      "source": [
        "# Summary\n",
        "historical.describe().round(2)"
      ],
      "execution_count": 45,
      "outputs": [
        {
          "output_type": "execute_result",
          "data": {
            "text/html": [
              "<div>\n",
              "<style scoped>\n",
              "    .dataframe tbody tr th:only-of-type {\n",
              "        vertical-align: middle;\n",
              "    }\n",
              "\n",
              "    .dataframe tbody tr th {\n",
              "        vertical-align: top;\n",
              "    }\n",
              "\n",
              "    .dataframe thead th {\n",
              "        text-align: right;\n",
              "    }\n",
              "</style>\n",
              "<table border=\"1\" class=\"dataframe\">\n",
              "  <thead>\n",
              "    <tr style=\"text-align: right;\">\n",
              "      <th></th>\n",
              "      <th>forecast_key</th>\n",
              "      <th>sales_bottles</th>\n",
              "      <th>forecast</th>\n",
              "      <th>error</th>\n",
              "      <th>mape_pcnt</th>\n",
              "    </tr>\n",
              "  </thead>\n",
              "  <tbody>\n",
              "    <tr>\n",
              "      <th>count</th>\n",
              "      <td>5924.00</td>\n",
              "      <td>5924.00</td>\n",
              "      <td>5924.00</td>\n",
              "      <td>5924.00</td>\n",
              "      <td>5499.00</td>\n",
              "    </tr>\n",
              "    <tr>\n",
              "      <th>mean</th>\n",
              "      <td>263281.12</td>\n",
              "      <td>2327.72</td>\n",
              "      <td>2286.00</td>\n",
              "      <td>-41.72</td>\n",
              "      <td>0.41</td>\n",
              "    </tr>\n",
              "    <tr>\n",
              "      <th>std</th>\n",
              "      <td>372901.35</td>\n",
              "      <td>11301.21</td>\n",
              "      <td>11212.37</td>\n",
              "      <td>969.62</td>\n",
              "      <td>3.43</td>\n",
              "    </tr>\n",
              "    <tr>\n",
              "      <th>min</th>\n",
              "      <td>4796.00</td>\n",
              "      <td>0.00</td>\n",
              "      <td>-517.00</td>\n",
              "      <td>-17425.00</td>\n",
              "      <td>0.00</td>\n",
              "    </tr>\n",
              "    <tr>\n",
              "      <th>25%</th>\n",
              "      <td>38089.00</td>\n",
              "      <td>69.00</td>\n",
              "      <td>80.00</td>\n",
              "      <td>-56.00</td>\n",
              "      <td>0.05</td>\n",
              "    </tr>\n",
              "    <tr>\n",
              "      <th>50%</th>\n",
              "      <td>69666.00</td>\n",
              "      <td>338.00</td>\n",
              "      <td>340.00</td>\n",
              "      <td>0.00</td>\n",
              "      <td>0.14</td>\n",
              "    </tr>\n",
              "    <tr>\n",
              "      <th>75%</th>\n",
              "      <td>89916.00</td>\n",
              "      <td>1234.00</td>\n",
              "      <td>1158.50</td>\n",
              "      <td>52.00</td>\n",
              "      <td>0.34</td>\n",
              "    </tr>\n",
              "    <tr>\n",
              "      <th>max</th>\n",
              "      <td>989289.00</td>\n",
              "      <td>186832.00</td>\n",
              "      <td>187566.00</td>\n",
              "      <td>11955.00</td>\n",
              "      <td>175.17</td>\n",
              "    </tr>\n",
              "  </tbody>\n",
              "</table>\n",
              "</div>"
            ],
            "text/plain": [
              "       forecast_key  sales_bottles   forecast     error  mape_pcnt\n",
              "count       5924.00        5924.00    5924.00   5924.00    5499.00\n",
              "mean      263281.12        2327.72    2286.00    -41.72       0.41\n",
              "std       372901.35       11301.21   11212.37    969.62       3.43\n",
              "min         4796.00           0.00    -517.00 -17425.00       0.00\n",
              "25%        38089.00          69.00      80.00    -56.00       0.05\n",
              "50%        69666.00         338.00     340.00      0.00       0.14\n",
              "75%        89916.00        1234.00    1158.50     52.00       0.34\n",
              "max       989289.00      186832.00  187566.00  11955.00     175.17"
            ]
          },
          "metadata": {
            "tags": []
          },
          "execution_count": 45
        }
      ]
    },
    {
      "cell_type": "markdown",
      "metadata": {
        "id": "GsKOHF45dr13"
      },
      "source": [
        "Looking at the summary table, we notice some extreme error values"
      ]
    },
    {
      "cell_type": "code",
      "metadata": {
        "colab": {
          "base_uri": "https://localhost:8080/",
          "height": 423
        },
        "id": "d8krswUmVJI_",
        "outputId": "314eeaa6-6227-441f-98a9-707ea70b622c"
      },
      "source": [
        "sns.set_context('talk')\n",
        "\n",
        "# Violin plot without extreme values\n",
        "data = historical[historical['mape_pcnt']<1.5]\n",
        "\n",
        "# Plot\n",
        "plt.figure(figsize=(6,5))\n",
        "sns.violinplot(x=data['type'],y=data['mape_pcnt'])\n",
        "plt.show()\n",
        "\n",
        "# How many item - months have MAPE error above 150%?\n",
        "print(\"\\n {} item-months have error above 150%\".format(len(historical[historical['mape_pcnt']>1.5])))\n",
        "\n",
        "percent_of_total =  (len(historical[historical['mape_pcnt']>1.5])/len(historical))*100\n",
        "print(\"\\n They represent {}% of total items-month keys\".format(round(percent_of_total,1)))"
      ],
      "execution_count": 84,
      "outputs": [
        {
          "output_type": "display_data",
          "data": {
            "image/png": "[encoded data removed]",
            "text/plain": [
              "<Figure size 432x360 with 1 Axes>"
            ]
          },
          "metadata": {
            "tags": [],
            "needs_background": "light"
          }
        },
        {
          "output_type": "stream",
          "text": [
            "\n",
            " 118 item-months have error above 150%\n",
            "\n",
            " They represent 2.0% of total items-month keys\n"
          ],
          "name": "stdout"
        }
      ]
    },
    {
      "cell_type": "markdown",
      "metadata": {
        "id": "kVwo8J_ZYQn7"
      },
      "source": [
        "### Calculate Reorder Quantity\n",
        "\n",
        "We'll use the Minimum Order Quantity formula:\n",
        "\n",
        "$ EOQ = \\sqrt{2 *\\dfrac{Annual Demand * Cost per Order}{Annual Holding Cost  per Unit}} $\n",
        "\n",
        "\n",
        "* Annual holding cost is set at 15% of the bottle's cost\n",
        "* The bottle cost is 35% of the retail value"
      ]
    },
    {
      "cell_type": "markdown",
      "metadata": {
        "id": "bR9L5eBkeJc8"
      },
      "source": [
        "We must first get the average bottle price by querying the sales data in the last year\n"
      ]
    },
    {
      "cell_type": "code",
      "metadata": {
        "colab": {
          "base_uri": "https://localhost:8080/",
          "height": 204
        },
        "id": "dMZBcpmWYQF9",
        "outputId": "291e398f-2475-4724-e0dd-ae6a16df8de6"
      },
      "source": [
        "item_price = client.query('''\n",
        "\n",
        "SELECT \n",
        "item_number,\n",
        "item_description,\n",
        "category_name, \n",
        "SUM(sale_dollars)/SUM(bottles_sold) as avg_price\n",
        "\n",
        "FROM `bigquery-public-data.iowa_liquor_sales.sales`\n",
        "\n",
        "WHERE \n",
        "date > DATE_SUB((SELECT MAX(date) FROM `bigquery-public-data.iowa_liquor_sales.sales`), INTERVAL 1 YEAR) AND \n",
        "vendor_number = '421'\n",
        "\n",
        "GROUP BY\n",
        "item_number, \n",
        "category_name, \n",
        "item_description\n",
        "\n",
        "''').to_dataframe()\n",
        "\n",
        "item_price.sample(5)\n"
      ],
      "execution_count": 87,
      "outputs": [
        {
          "output_type": "execute_result",
          "data": {
            "text/html": [
              "<div>\n",
              "<style scoped>\n",
              "    .dataframe tbody tr th:only-of-type {\n",
              "        vertical-align: middle;\n",
              "    }\n",
              "\n",
              "    .dataframe tbody tr th {\n",
              "        vertical-align: top;\n",
              "    }\n",
              "\n",
              "    .dataframe thead th {\n",
              "        text-align: right;\n",
              "    }\n",
              "</style>\n",
              "<table border=\"1\" class=\"dataframe\">\n",
              "  <thead>\n",
              "    <tr style=\"text-align: right;\">\n",
              "      <th></th>\n",
              "      <th>item_number</th>\n",
              "      <th>item_description</th>\n",
              "      <th>category_name</th>\n",
              "      <th>avg_price</th>\n",
              "    </tr>\n",
              "  </thead>\n",
              "  <tbody>\n",
              "    <tr>\n",
              "      <th>262</th>\n",
              "      <td>916850</td>\n",
              "      <td>Blantons Buy the Barrel</td>\n",
              "      <td>Straight Bourbon Whiskies</td>\n",
              "      <td>43.130000</td>\n",
              "    </tr>\n",
              "    <tr>\n",
              "      <th>76</th>\n",
              "      <td>36978</td>\n",
              "      <td>Nikolai Vodka</td>\n",
              "      <td>American Vodkas</td>\n",
              "      <td>10.101968</td>\n",
              "    </tr>\n",
              "    <tr>\n",
              "      <th>159</th>\n",
              "      <td>12861</td>\n",
              "      <td>Rich &amp; Rare Caramel Mini</td>\n",
              "      <td>Canadian Whiskies</td>\n",
              "      <td>9.000000</td>\n",
              "    </tr>\n",
              "    <tr>\n",
              "      <th>75</th>\n",
              "      <td>37414</td>\n",
              "      <td>Popov 80prf</td>\n",
              "      <td>American Vodkas</td>\n",
              "      <td>4.500000</td>\n",
              "    </tr>\n",
              "    <tr>\n",
              "      <th>20</th>\n",
              "      <td>43621</td>\n",
              "      <td>Myers's Original Dark Rum</td>\n",
              "      <td>Aged Dark Rum</td>\n",
              "      <td>14.683084</td>\n",
              "    </tr>\n",
              "  </tbody>\n",
              "</table>\n",
              "</div>"
            ],
            "text/plain": [
              "    item_number  ...  avg_price\n",
              "262      916850  ...  43.130000\n",
              "76        36978  ...  10.101968\n",
              "159       12861  ...   9.000000\n",
              "75        37414  ...   4.500000\n",
              "20        43621  ...  14.683084\n",
              "\n",
              "[5 rows x 4 columns]"
            ]
          },
          "metadata": {
            "tags": []
          },
          "execution_count": 87
        }
      ]
    },
    {
      "cell_type": "code",
      "metadata": {
        "colab": {
          "base_uri": "https://localhost:8080/",
          "height": 307
        },
        "id": "lfpXfCEDe3h0",
        "outputId": "329d2769-f04f-4eab-8e5f-ad43c2ff370e"
      },
      "source": [
        "historical.merge(item_price,left_on='forecast_key',right_on='item_number')"
      ],
      "execution_count": 89,
      "outputs": [
        {
          "output_type": "error",
          "ename": "ValueError",
          "evalue": "ignored",
          "traceback": [
            "\u001b[0;31m---------------------------------------------------------------------------\u001b[0m",
            "\u001b[0;31mValueError\u001b[0m                                Traceback (most recent call last)",
            "\u001b[0;32m<ipython-input-89-a589288042a7>\u001b[0m in \u001b[0;36m<module>\u001b[0;34m()\u001b[0m\n\u001b[0;32m----> 1\u001b[0;31m \u001b[0mhistorical\u001b[0m\u001b[0;34m.\u001b[0m\u001b[0mmerge\u001b[0m\u001b[0;34m(\u001b[0m\u001b[0mitem_price\u001b[0m\u001b[0;34m,\u001b[0m\u001b[0mleft_on\u001b[0m\u001b[0;34m=\u001b[0m\u001b[0;34m'forecast_key'\u001b[0m\u001b[0;34m,\u001b[0m\u001b[0mright_on\u001b[0m\u001b[0;34m=\u001b[0m\u001b[0;34m'item_number'\u001b[0m\u001b[0;34m)\u001b[0m\u001b[0;34m\u001b[0m\u001b[0;34m\u001b[0m\u001b[0m\n\u001b[0m",
            "\u001b[0;32m/usr/local/lib/python3.6/dist-packages/pandas/core/frame.py\u001b[0m in \u001b[0;36mmerge\u001b[0;34m(self, right, how, on, left_on, right_on, left_index, right_index, sort, suffixes, copy, indicator, validate)\u001b[0m\n\u001b[1;32m   7961\u001b[0m             \u001b[0mcopy\u001b[0m\u001b[0;34m=\u001b[0m\u001b[0mcopy\u001b[0m\u001b[0;34m,\u001b[0m\u001b[0;34m\u001b[0m\u001b[0;34m\u001b[0m\u001b[0m\n\u001b[1;32m   7962\u001b[0m             \u001b[0mindicator\u001b[0m\u001b[0;34m=\u001b[0m\u001b[0mindicator\u001b[0m\u001b[0;34m,\u001b[0m\u001b[0;34m\u001b[0m\u001b[0;34m\u001b[0m\u001b[0m\n\u001b[0;32m-> 7963\u001b[0;31m             \u001b[0mvalidate\u001b[0m\u001b[0;34m=\u001b[0m\u001b[0mvalidate\u001b[0m\u001b[0;34m,\u001b[0m\u001b[0;34m\u001b[0m\u001b[0;34m\u001b[0m\u001b[0m\n\u001b[0m\u001b[1;32m   7964\u001b[0m         )\n\u001b[1;32m   7965\u001b[0m \u001b[0;34m\u001b[0m\u001b[0m\n",
            "\u001b[0;32m/usr/local/lib/python3.6/dist-packages/pandas/core/reshape/merge.py\u001b[0m in \u001b[0;36mmerge\u001b[0;34m(left, right, how, on, left_on, right_on, left_index, right_index, sort, suffixes, copy, indicator, validate)\u001b[0m\n\u001b[1;32m     85\u001b[0m         \u001b[0mcopy\u001b[0m\u001b[0;34m=\u001b[0m\u001b[0mcopy\u001b[0m\u001b[0;34m,\u001b[0m\u001b[0;34m\u001b[0m\u001b[0;34m\u001b[0m\u001b[0m\n\u001b[1;32m     86\u001b[0m         \u001b[0mindicator\u001b[0m\u001b[0;34m=\u001b[0m\u001b[0mindicator\u001b[0m\u001b[0;34m,\u001b[0m\u001b[0;34m\u001b[0m\u001b[0;34m\u001b[0m\u001b[0m\n\u001b[0;32m---> 87\u001b[0;31m         \u001b[0mvalidate\u001b[0m\u001b[0;34m=\u001b[0m\u001b[0mvalidate\u001b[0m\u001b[0;34m,\u001b[0m\u001b[0;34m\u001b[0m\u001b[0;34m\u001b[0m\u001b[0m\n\u001b[0m\u001b[1;32m     88\u001b[0m     )\n\u001b[1;32m     89\u001b[0m     \u001b[0;32mreturn\u001b[0m \u001b[0mop\u001b[0m\u001b[0;34m.\u001b[0m\u001b[0mget_result\u001b[0m\u001b[0;34m(\u001b[0m\u001b[0;34m)\u001b[0m\u001b[0;34m\u001b[0m\u001b[0;34m\u001b[0m\u001b[0m\n",
            "\u001b[0;32m/usr/local/lib/python3.6/dist-packages/pandas/core/reshape/merge.py\u001b[0m in \u001b[0;36m__init__\u001b[0;34m(self, left, right, how, on, left_on, right_on, axis, left_index, right_index, sort, suffixes, copy, indicator, validate)\u001b[0m\n\u001b[1;32m    654\u001b[0m         \u001b[0;31m# validate the merge keys dtypes. We may need to coerce\u001b[0m\u001b[0;34m\u001b[0m\u001b[0;34m\u001b[0m\u001b[0;34m\u001b[0m\u001b[0m\n\u001b[1;32m    655\u001b[0m         \u001b[0;31m# to avoid incompatible dtypes\u001b[0m\u001b[0;34m\u001b[0m\u001b[0;34m\u001b[0m\u001b[0;34m\u001b[0m\u001b[0m\n\u001b[0;32m--> 656\u001b[0;31m         \u001b[0mself\u001b[0m\u001b[0;34m.\u001b[0m\u001b[0m_maybe_coerce_merge_keys\u001b[0m\u001b[0;34m(\u001b[0m\u001b[0;34m)\u001b[0m\u001b[0;34m\u001b[0m\u001b[0;34m\u001b[0m\u001b[0m\n\u001b[0m\u001b[1;32m    657\u001b[0m \u001b[0;34m\u001b[0m\u001b[0m\n\u001b[1;32m    658\u001b[0m         \u001b[0;31m# If argument passed to validate,\u001b[0m\u001b[0;34m\u001b[0m\u001b[0;34m\u001b[0m\u001b[0;34m\u001b[0m\u001b[0m\n",
            "\u001b[0;32m/usr/local/lib/python3.6/dist-packages/pandas/core/reshape/merge.py\u001b[0m in \u001b[0;36m_maybe_coerce_merge_keys\u001b[0;34m(self)\u001b[0m\n\u001b[1;32m   1163\u001b[0m                     \u001b[0minferred_right\u001b[0m \u001b[0;32min\u001b[0m \u001b[0mstring_types\u001b[0m \u001b[0;32mand\u001b[0m \u001b[0minferred_left\u001b[0m \u001b[0;32mnot\u001b[0m \u001b[0;32min\u001b[0m \u001b[0mstring_types\u001b[0m\u001b[0;34m\u001b[0m\u001b[0;34m\u001b[0m\u001b[0m\n\u001b[1;32m   1164\u001b[0m                 ):\n\u001b[0;32m-> 1165\u001b[0;31m                     \u001b[0;32mraise\u001b[0m \u001b[0mValueError\u001b[0m\u001b[0;34m(\u001b[0m\u001b[0mmsg\u001b[0m\u001b[0;34m)\u001b[0m\u001b[0;34m\u001b[0m\u001b[0;34m\u001b[0m\u001b[0m\n\u001b[0m\u001b[1;32m   1166\u001b[0m \u001b[0;34m\u001b[0m\u001b[0m\n\u001b[1;32m   1167\u001b[0m             \u001b[0;31m# datetimelikes must match exactly\u001b[0m\u001b[0;34m\u001b[0m\u001b[0;34m\u001b[0m\u001b[0;34m\u001b[0m\u001b[0m\n",
            "\u001b[0;31mValueError\u001b[0m: You are trying to merge on int64 and object columns. If you wish to proceed you should use pd.concat"
          ]
        }
      ]
    },
    {
      "cell_type": "markdown",
      "metadata": {
        "id": "mBbpV8o-PjrJ"
      },
      "source": [
        "### Optimize Safety Stock\n",
        "\n",
        "We'll optimize safety stock by minimizing the cost function defined as:\n",
        "\n",
        "> $C(x) = SS(sl)* IC + (1-sl) * FCST$\n",
        "\n",
        "Where:\n",
        "\n",
        "* _SS: Total safety stock for all items, a function of the service level (sl)_   \n",
        "* _sl: Service level, a decimal value between 0.01 and 1_  \n",
        "* _IC: Inventory carrying cost_  \n",
        "* _FCST: Sales forecast for the period, used to estimate lost sales_  \n",
        "\n",
        "  \n",
        "\n",
        "---\n",
        "\n",
        "\n",
        "\n",
        "For simplicity purposes, inventory holding cost is defined as 15% of the inventory's value per year.\n",
        "\n",
        "\n",
        "\n"
      ]
    },
    {
      "cell_type": "markdown",
      "metadata": {
        "id": "yqBmGOmucS9B"
      },
      "source": [
        "Calculate Safety Stock"
      ]
    },
    {
      "cell_type": "code",
      "metadata": {
        "id": "Aok0fsaKM2Bi",
        "colab": {
          "base_uri": "https://localhost:8080/",
          "height": 1000
        },
        "outputId": "d2b9c659-ca64-4979-a8fd-246c1648beae"
      },
      "source": [
        "# Desired service level\n",
        "proba = .975\n",
        "\n",
        "# Calculate safety stock for each key\n",
        "def safety_stock_func(df):\n",
        "    \n",
        "    # variables\n",
        "    k = stats.norm.ppf(proba) \n",
        "    std = np.std(df['error'])\n",
        "    \n",
        "    # safety stock formula\n",
        "    ss_calculation = k * std\n",
        "    print(k)\n",
        "    \n",
        "    return ss_calculation\n",
        "\n",
        "safety_stock = historical.groupby('forecast_key').apply(safety_stock_func)\n",
        "safety_stock = pd.DataFrame(safety_stock,columns=['safety_stock']).round()\n",
        "\n",
        "# Add safety stock to dataset\n",
        "forecasts = forecasts.set_index(\"forecast_key\").join(safety_stock)\n",
        "\n",
        "print('\\n SS Calcualted! \\n Median SS: \\n {}'.format(round(safety_stock['safety_stock'].median())) )"
      ],
      "execution_count": null,
      "outputs": [
        {
          "output_type": "stream",
          "text": [
            "1.959963984540054\n",
            "1.959963984540054\n",
            "1.959963984540054\n",
            "1.959963984540054\n",
            "1.959963984540054\n",
            "1.959963984540054\n",
            "1.959963984540054\n",
            "1.959963984540054\n",
            "1.959963984540054\n",
            "1.959963984540054\n",
            "1.959963984540054\n",
            "1.959963984540054\n",
            "1.959963984540054\n",
            "1.959963984540054\n",
            "1.959963984540054\n",
            "1.959963984540054\n",
            "1.959963984540054\n",
            "1.959963984540054\n",
            "1.959963984540054\n",
            "1.959963984540054\n",
            "1.959963984540054\n",
            "1.959963984540054\n",
            "1.959963984540054\n",
            "1.959963984540054\n",
            "1.959963984540054\n",
            "1.959963984540054\n",
            "1.959963984540054\n",
            "1.959963984540054\n",
            "1.959963984540054\n",
            "1.959963984540054\n",
            "1.959963984540054\n",
            "1.959963984540054\n",
            "1.959963984540054\n",
            "1.959963984540054\n",
            "1.959963984540054\n",
            "1.959963984540054\n",
            "1.959963984540054\n",
            "1.959963984540054\n",
            "1.959963984540054\n",
            "1.959963984540054\n",
            "1.959963984540054\n",
            "1.959963984540054\n",
            "1.959963984540054\n",
            "1.959963984540054\n",
            "1.959963984540054\n",
            "1.959963984540054\n",
            "1.959963984540054\n",
            "1.959963984540054\n",
            "1.959963984540054\n",
            "1.959963984540054\n",
            "1.959963984540054\n",
            "1.959963984540054\n",
            "1.959963984540054\n",
            "1.959963984540054\n",
            "1.959963984540054\n",
            "1.959963984540054\n",
            "1.959963984540054\n",
            "1.959963984540054\n",
            "1.959963984540054\n",
            "1.959963984540054\n",
            "1.959963984540054\n",
            "1.959963984540054\n",
            "1.959963984540054\n",
            "1.959963984540054\n",
            "1.959963984540054\n",
            "1.959963984540054\n",
            "1.959963984540054\n",
            "1.959963984540054\n",
            "1.959963984540054\n",
            "1.959963984540054\n",
            "1.959963984540054\n",
            "1.959963984540054\n",
            "1.959963984540054\n",
            "1.959963984540054\n",
            "1.959963984540054\n",
            "1.959963984540054\n",
            "1.959963984540054\n",
            "1.959963984540054\n",
            "1.959963984540054\n",
            "1.959963984540054\n",
            "1.959963984540054\n",
            "1.959963984540054\n",
            "1.959963984540054\n",
            "1.959963984540054\n",
            "1.959963984540054\n",
            "1.959963984540054\n",
            "1.959963984540054\n",
            "1.959963984540054\n",
            "1.959963984540054\n",
            "1.959963984540054\n",
            "1.959963984540054\n",
            "1.959963984540054\n",
            "1.959963984540054\n",
            "1.959963984540054\n",
            "1.959963984540054\n",
            "1.959963984540054\n",
            "1.959963984540054\n",
            "1.959963984540054\n",
            "1.959963984540054\n",
            "1.959963984540054\n",
            "1.959963984540054\n",
            "1.959963984540054\n",
            "1.959963984540054\n",
            "1.959963984540054\n",
            "1.959963984540054\n",
            "1.959963984540054\n",
            "1.959963984540054\n",
            "1.959963984540054\n",
            "1.959963984540054\n",
            "1.959963984540054\n",
            "1.959963984540054\n",
            "1.959963984540054\n",
            "1.959963984540054\n",
            "1.959963984540054\n",
            "1.959963984540054\n",
            "1.959963984540054\n",
            "1.959963984540054\n",
            "1.959963984540054\n",
            "1.959963984540054\n",
            "1.959963984540054\n",
            "1.959963984540054\n",
            "1.959963984540054\n",
            "1.959963984540054\n",
            "1.959963984540054\n",
            "1.959963984540054\n",
            "1.959963984540054\n",
            "1.959963984540054\n",
            "1.959963984540054\n",
            "1.959963984540054\n",
            "1.959963984540054\n",
            "1.959963984540054\n",
            "1.959963984540054\n",
            "1.959963984540054\n",
            "1.959963984540054\n",
            "1.959963984540054\n",
            "1.959963984540054\n",
            "1.959963984540054\n",
            "1.959963984540054\n",
            "1.959963984540054\n",
            "1.959963984540054\n",
            "1.959963984540054\n",
            "1.959963984540054\n",
            "1.959963984540054\n",
            "1.959963984540054\n",
            "1.959963984540054\n",
            "1.959963984540054\n",
            "1.959963984540054\n",
            "1.959963984540054\n",
            "1.959963984540054\n",
            "1.959963984540054\n",
            "1.959963984540054\n",
            "1.959963984540054\n",
            "1.959963984540054\n",
            "1.959963984540054\n",
            "1.959963984540054\n",
            "1.959963984540054\n",
            "1.959963984540054\n",
            "1.959963984540054\n",
            "1.959963984540054\n",
            "1.959963984540054\n",
            "1.959963984540054\n"
          ],
          "name": "stdout"
        },
        {
          "output_type": "error",
          "ename": "KeyError",
          "evalue": "ignored",
          "traceback": [
            "\u001b[0;31m---------------------------------------------------------------------------\u001b[0m",
            "\u001b[0;31mKeyError\u001b[0m                                  Traceback (most recent call last)",
            "\u001b[0;32m<ipython-input-19-6d5e6cc8c22f>\u001b[0m in \u001b[0;36m<module>\u001b[0;34m()\u001b[0m\n\u001b[1;32m     19\u001b[0m \u001b[0;34m\u001b[0m\u001b[0m\n\u001b[1;32m     20\u001b[0m \u001b[0;31m# Add safety stock to dataset\u001b[0m\u001b[0;34m\u001b[0m\u001b[0;34m\u001b[0m\u001b[0;34m\u001b[0m\u001b[0m\n\u001b[0;32m---> 21\u001b[0;31m \u001b[0mforecasts\u001b[0m \u001b[0;34m=\u001b[0m \u001b[0mforecasts\u001b[0m\u001b[0;34m.\u001b[0m\u001b[0mset_index\u001b[0m\u001b[0;34m(\u001b[0m\u001b[0;34m\"forecast_key\"\u001b[0m\u001b[0;34m)\u001b[0m\u001b[0;34m.\u001b[0m\u001b[0mjoin\u001b[0m\u001b[0;34m(\u001b[0m\u001b[0msafety_stock\u001b[0m\u001b[0;34m)\u001b[0m\u001b[0;34m\u001b[0m\u001b[0;34m\u001b[0m\u001b[0m\n\u001b[0m\u001b[1;32m     22\u001b[0m \u001b[0;34m\u001b[0m\u001b[0m\n\u001b[1;32m     23\u001b[0m \u001b[0mprint\u001b[0m\u001b[0;34m(\u001b[0m\u001b[0;34m'\\n SS Calcualted! \\n Median SS: \\n {}'\u001b[0m\u001b[0;34m.\u001b[0m\u001b[0mformat\u001b[0m\u001b[0;34m(\u001b[0m\u001b[0mround\u001b[0m\u001b[0;34m(\u001b[0m\u001b[0msafety_stock\u001b[0m\u001b[0;34m[\u001b[0m\u001b[0;34m'safety_stock'\u001b[0m\u001b[0;34m]\u001b[0m\u001b[0;34m.\u001b[0m\u001b[0mmedian\u001b[0m\u001b[0;34m(\u001b[0m\u001b[0;34m)\u001b[0m\u001b[0;34m)\u001b[0m\u001b[0;34m)\u001b[0m \u001b[0;34m)\u001b[0m\u001b[0;34m\u001b[0m\u001b[0;34m\u001b[0m\u001b[0m\n",
            "\u001b[0;32m/usr/local/lib/python3.6/dist-packages/pandas/core/frame.py\u001b[0m in \u001b[0;36mset_index\u001b[0;34m(self, keys, drop, append, inplace, verify_integrity)\u001b[0m\n\u001b[1;32m   4553\u001b[0m \u001b[0;34m\u001b[0m\u001b[0m\n\u001b[1;32m   4554\u001b[0m         \u001b[0;32mif\u001b[0m \u001b[0mmissing\u001b[0m\u001b[0;34m:\u001b[0m\u001b[0;34m\u001b[0m\u001b[0;34m\u001b[0m\u001b[0m\n\u001b[0;32m-> 4555\u001b[0;31m             \u001b[0;32mraise\u001b[0m \u001b[0mKeyError\u001b[0m\u001b[0;34m(\u001b[0m\u001b[0;34mf\"None of {missing} are in the columns\"\u001b[0m\u001b[0;34m)\u001b[0m\u001b[0;34m\u001b[0m\u001b[0;34m\u001b[0m\u001b[0m\n\u001b[0m\u001b[1;32m   4556\u001b[0m \u001b[0;34m\u001b[0m\u001b[0m\n\u001b[1;32m   4557\u001b[0m         \u001b[0;32mif\u001b[0m \u001b[0minplace\u001b[0m\u001b[0;34m:\u001b[0m\u001b[0;34m\u001b[0m\u001b[0;34m\u001b[0m\u001b[0m\n",
            "\u001b[0;31mKeyError\u001b[0m: \"None of ['forecast_key'] are in the columns\""
          ]
        }
      ]
    },
    {
      "cell_type": "markdown",
      "metadata": {
        "id": "jbYOQG1UcbXU"
      },
      "source": [
        "### Plot"
      ]
    },
    {
      "cell_type": "code",
      "metadata": {
        "id": "m_2NnwH8rhk-",
        "colab": {
          "base_uri": "https://localhost:8080/",
          "height": 750
        },
        "outputId": "5ce38a6d-c5f9-47b8-a3bf-4ed7f9abbd2d"
      },
      "source": [
        "from scipy.stats import norm\n",
        "\n",
        "# Plot\n",
        "sns.set_context('talk')\n",
        "subset = historical[historical['forecast_key'].isin(historical['forecast_key'].drop_duplicates().sample())] \n",
        "subset = historical[historical['forecast_key'].isin(['64870'])] \n",
        "print('Number of Obs:',len(subset))\n",
        "\n",
        "# Histogram\n",
        "plt.figure(figsize=(5,5))\n",
        "plt.title('Forecast Error Histogram')\n",
        "sns.distplot(subset['error'],bins=10,fit=norm)\n",
        "plt.show()\n",
        "\n",
        "# Error plot\n",
        "plt.figure(figsize=(10,4))\n",
        "plt.title('Forecast Error')\n",
        "sns.lineplot(y='error',x='month_year', data=subset)\n",
        "plt.axhline(0, ls='--',color='red')\n",
        "plt.show()"
      ],
      "execution_count": null,
      "outputs": [
        {
          "output_type": "stream",
          "text": [
            "Number of Obs: 62\n"
          ],
          "name": "stdout"
        },
        {
          "output_type": "stream",
          "text": [
            "/usr/local/lib/python3.6/dist-packages/seaborn/distributions.py:2551: FutureWarning: `distplot` is a deprecated function and will be removed in a future version. Please adapt your code to use either `displot` (a figure-level function with similar flexibility) or `histplot` (an axes-level function for histograms).\n",
            "  warnings.warn(msg, FutureWarning)\n"
          ],
          "name": "stderr"
        },
        {
          "output_type": "display_data",
          "data": {
            "image/png": "[encoded data removed]",
            "text/plain": [
              "<Figure size 360x360 with 1 Axes>"
            ]
          },
          "metadata": {
            "tags": [],
            "needs_background": "light"
          }
        },
        {
          "output_type": "display_data",
          "data": {
            "image/png": "[encoded data removed]",
            "text/plain": [
              "<Figure size 720x288 with 1 Axes>"
            ]
          },
          "metadata": {
            "tags": [],
            "needs_background": "light"
          }
        }
      ]
    },
    {
      "cell_type": "markdown",
      "metadata": {
        "id": "PXkqwBpdScaZ"
      },
      "source": [
        "## Export to BigQuery"
      ]
    },
    {
      "cell_type": "code",
      "metadata": {
        "id": "89r4f6RnScAR",
        "colab": {
          "base_uri": "https://localhost:8080/"
        },
        "outputId": "6ce679a2-a023-4075-8c6e-4f37c4ce8c34"
      },
      "source": [
        "from google.cloud import bigquery\n",
        "\n",
        "# Save table locally\n",
        "forecasts.to_csv('ss_forecasts.csv')\n",
        "\n",
        "# Specify project and destination \n",
        "project_id = 'iowa-liquor-sales-266301'\n",
        "bq_dataset_name = \"forecasting\"\n",
        "\n",
        "# Local path of file to be uploaded\n",
        "forecasts_path = \"/content/ss_forecasts.csv\"\n",
        "\n",
        "file_paths = [forecasts_path]\n",
        "table_names = [\"ml_forecasts\"]\n",
        "\n",
        "# Construct a BigQuery client object\n",
        "client = bigquery.Client(project = project_id)\n",
        "\n",
        "# Batch load tables\n",
        "for file_path,tb_name in zip(file_paths,table_names):\n",
        "  \n",
        "  table_id = \"{}.{}.{}\".format(project_id,bq_dataset_name,tb_name)\n",
        "\n",
        "  job_config = bigquery.LoadJobConfig(\n",
        "      source_format=bigquery.SourceFormat.CSV, \n",
        "      skip_leading_rows=1, \n",
        "      autodetect=True,\n",
        "  )\n",
        "\n",
        "  job_config.write_disposition = 'WRITE_TRUNCATE' # Replace data\n",
        "\n",
        "  with open(file_path, \"rb\") as source_file:\n",
        "      job = client.load_table_from_file(source_file, table_id,job_config=job_config)\n",
        "      \n",
        "  job.result()  # Waits for the job to complete.\n",
        "\n",
        "  table = client.get_table(table_id)  # Make an API request.\n",
        "\n",
        "  print(\n",
        "      \"Loaded {} rows and {} columns to {}\".format(\n",
        "          table.num_rows, len(table.schema), table_id\n",
        "      )\n",
        "  )"
      ],
      "execution_count": null,
      "outputs": [
        {
          "output_type": "stream",
          "text": [
            "Loaded 232097 rows and 19 columns to iowa-liquor-sales-266301.forecasting.ml_forecasts\n"
          ],
          "name": "stdout"
        }
      ]
    }
  ]
}