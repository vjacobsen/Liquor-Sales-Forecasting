{
  "nbformat": 4,
  "nbformat_minor": 0,
  "metadata": {
    "colab": {
      "name": "Liquor Safety Stock",
      "provenance": [],
      "collapsed_sections": [],
      "mount_file_id": "11sOpyXTMQcqzg8teHoKyZ5A-waReskFZ",
      "authorship_tag": "ABX9TyOnD2EGIa+J2mkF0YmwYtRY",
      "include_colab_link": true
    },
    "kernelspec": {
      "name": "python3",
      "display_name": "Python 3"
    }
  },
  "cells": [
    {
      "cell_type": "markdown",
      "metadata": {
        "id": "view-in-github",
        "colab_type": "text"
      },
      "source": [
        "<a href=\"https://colab.research.google.com/github/vjacobsen/Liquor-Sales-Inventory-Forecast/blob/main/Liquor_Safety_Stock.ipynb\" target=\"_parent\"><img src=\"https://colab.research.google.com/assets/colab-badge.svg\" alt=\"Open In Colab\"/></a>"
      ]
    },
    {
      "cell_type": "markdown",
      "metadata": {
        "id": "blnFHycDMtVO"
      },
      "source": [
        "# Safety Stock Calculation\n",
        "\n",
        "A cost optimization model is created to determine optimal service level for all items.\n",
        "\n",
        "The approach used considers forecast error as the only factor requiring buffer inventory. Also, forecast error is assumed to be normally distributed.\n",
        "\n",
        "In a real world scenario, additional variables such as supplier lead time would also need to be added."
      ]
    },
    {
      "cell_type": "code",
      "metadata": {
        "id": "u69py_CuM3TX"
      },
      "source": [
        "import os\n",
        "import pandas as pd\n",
        "import seaborn as sns\n",
        "from scipy import stats\n",
        "import matplotlib.pyplot as plt\n",
        "import numpy as np\n",
        "import datetime \n",
        "\n",
        "\n",
        "## Optional: Enable data table display\n",
        "%load_ext google.colab.data_table"
      ],
      "execution_count": 1,
      "outputs": []
    },
    {
      "cell_type": "markdown",
      "metadata": {
        "id": "gWZdPNLRRhh6"
      },
      "source": [
        "#### Forecast query\n",
        "This is the forecast table loaded to Google Cloud in the previous notebook"
      ]
    },
    {
      "cell_type": "code",
      "metadata": {
        "id": "mGcXCvTMMD9X",
        "colab": {
          "base_uri": "https://localhost:8080/"
        },
        "outputId": "aebdb3a3-db8e-4e35-8fc2-57e5ab956e9f"
      },
      "source": [
        "# Provide credentials to the runtime\n",
        "from google.colab import auth\n",
        "from google.cloud import bigquery\n",
        "\n",
        "auth.authenticate_user()\n",
        "print('Authenticated')\n",
        "\n",
        "project_id = 'iowa-liquor-sales-266301'\n",
        "bq_dataset_name = \"forecasting\"\n",
        "\n",
        "# Construct a BigQuery client object\n",
        "client = bigquery.Client(project = project_id,)"
      ],
      "execution_count": 2,
      "outputs": [
        {
          "output_type": "stream",
          "text": [
            "Authenticated\n"
          ],
          "name": "stdout"
        }
      ]
    },
    {
      "cell_type": "code",
      "metadata": {
        "id": "0wf30rPGRT0Z",
        "colab": {
          "base_uri": "https://localhost:8080/",
          "height": 257
        },
        "outputId": "c1d2130f-ace9-490f-a2bc-d55da0c038c3"
      },
      "source": [
        "forecasts_query = client.query('''\n",
        "\n",
        "  SELECT * FROM `iowa-liquor-sales-266301.forecasting.ml_forecasts`\n",
        "\n",
        "''').to_dataframe()\n",
        "\n",
        "forecasts_query.head()"
      ],
      "execution_count": 3,
      "outputs": [
        {
          "output_type": "execute_result",
          "data": {
            "application/vnd.google.colaboratory.module+javascript": "\n      import \"https://ssl.gstatic.com/colaboratory/data_table/a6224c040fa35dcf/data_table.js\";\n\n      window.createDataTable({\n        data: [[{\n            'v': 0,\n            'f': \"0\",\n        },\n{\n            'v': 67586,\n            'f': \"67586\",\n        },\n\"2020-03-22\",\n{\n            'v': 21.0,\n            'f': \"21.0\",\n        },\n{\n            'v': 0.28,\n            'f': \"0.28\",\n        },\n\"XGBoost_Trended\",\n\"2020-03-15\",\n\"test\",\n\"2020-03-22\",\n\"2020-03-16\",\n{\n            'v': 0,\n            'f': \"0\",\n        },\n{\n            'v': 0,\n            'f': \"0\",\n        },\n{\n            'v': 28.0,\n            'f': \"28.0\",\n        },\n{\n            'v': 67586,\n            'f': \"67586\",\n        },\n\"Coffee Liqueurs\",\n\"Kapali Coffee Liqueur\",\n{\n            'v': 421,\n            'f': \"421\",\n        },\n\"3_2020\",\n{\n            'v': 2020,\n            'f': \"2020\",\n        },\n{\n            'v': 158.0,\n            'f': \"158.0\",\n        }],\n [{\n            'v': 1,\n            'f': \"1\",\n        },\n{\n            'v': 67586,\n            'f': \"67586\",\n        },\n\"2020-03-29\",\n{\n            'v': 21.0,\n            'f': \"21.0\",\n        },\n{\n            'v': 0.28,\n            'f': \"0.28\",\n        },\n\"XGBoost_Trended\",\n\"2020-03-15\",\n\"test\",\n\"2020-03-29\",\n\"2020-03-23\",\n{\n            'v': 0,\n            'f': \"0\",\n        },\n{\n            'v': 0,\n            'f': \"0\",\n        },\n{\n            'v': 56.0,\n            'f': \"56.0\",\n        },\n{\n            'v': 67586,\n            'f': \"67586\",\n        },\n\"Coffee Liqueurs\",\n\"Kapali Coffee Liqueur\",\n{\n            'v': 421,\n            'f': \"421\",\n        },\n\"3_2020\",\n{\n            'v': 2020,\n            'f': \"2020\",\n        },\n{\n            'v': 158.0,\n            'f': \"158.0\",\n        }],\n [{\n            'v': 2,\n            'f': \"2\",\n        },\n{\n            'v': 67586,\n            'f': \"67586\",\n        },\n\"2020-04-05\",\n{\n            'v': 20.0,\n            'f': \"20.0\",\n        },\n{\n            'v': 0.28,\n            'f': \"0.28\",\n        },\n\"XGBoost_Trended\",\n\"2020-03-15\",\n\"test\",\n\"2020-04-05\",\n\"2020-03-30\",\n{\n            'v': 0,\n            'f': \"0\",\n        },\n{\n            'v': 0,\n            'f': \"0\",\n        },\n{\n            'v': 12.0,\n            'f': \"12.0\",\n        },\n{\n            'v': 67586,\n            'f': \"67586\",\n        },\n\"Coffee Liqueurs\",\n\"Kapali Coffee Liqueur\",\n{\n            'v': 421,\n            'f': \"421\",\n        },\n\"3_2020\",\n{\n            'v': 2020,\n            'f': \"2020\",\n        },\n{\n            'v': 158.0,\n            'f': \"158.0\",\n        }],\n [{\n            'v': 3,\n            'f': \"3\",\n        },\n{\n            'v': 67586,\n            'f': \"67586\",\n        },\n\"2020-04-12\",\n{\n            'v': 20.0,\n            'f': \"20.0\",\n        },\n{\n            'v': 0.28,\n            'f': \"0.28\",\n        },\n\"XGBoost_Trended\",\n\"2020-03-15\",\n\"test\",\n\"2020-04-12\",\n\"2020-04-06\",\n{\n            'v': 0,\n            'f': \"0\",\n        },\n{\n            'v': 0,\n            'f': \"0\",\n        },\n{\n            'v': 26.0,\n            'f': \"26.0\",\n        },\n{\n            'v': 67586,\n            'f': \"67586\",\n        },\n\"Coffee Liqueurs\",\n\"Kapali Coffee Liqueur\",\n{\n            'v': 421,\n            'f': \"421\",\n        },\n\"4_2020\",\n{\n            'v': 2020,\n            'f': \"2020\",\n        },\n{\n            'v': 158.0,\n            'f': \"158.0\",\n        }],\n [{\n            'v': 4,\n            'f': \"4\",\n        },\n{\n            'v': 67586,\n            'f': \"67586\",\n        },\n\"2020-04-19\",\n{\n            'v': 20.0,\n            'f': \"20.0\",\n        },\n{\n            'v': 0.28,\n            'f': \"0.28\",\n        },\n\"XGBoost_Trended\",\n\"2020-03-15\",\n\"test\",\n\"2020-04-19\",\n\"2020-04-13\",\n{\n            'v': 0,\n            'f': \"0\",\n        },\n{\n            'v': 0,\n            'f': \"0\",\n        },\n{\n            'v': 27.0,\n            'f': \"27.0\",\n        },\n{\n            'v': 67586,\n            'f': \"67586\",\n        },\n\"Coffee Liqueurs\",\n\"Kapali Coffee Liqueur\",\n{\n            'v': 421,\n            'f': \"421\",\n        },\n\"4_2020\",\n{\n            'v': 2020,\n            'f': \"2020\",\n        },\n{\n            'v': 158.0,\n            'f': \"158.0\",\n        }]],\n        columns: [[\"number\", \"index\"], [\"number\", \"forecast_key\"], [\"string\", \"week_date\"], [\"number\", \"forecast\"], [\"number\", \"mape\"], [\"string\", \"best_model\"], [\"string\", \"trim_date\"], [\"string\", \"type\"], [\"string\", \"week_end_date\"], [\"string\", \"date\"], [\"number\", \"is_holiday\"], [\"number\", \"day_of_week\"], [\"number\", \"sales_bottles\"], [\"number\", \"item_number\"], [\"string\", \"category_name\"], [\"string\", \"item_description\"], [\"number\", \"vendor_number\"], [\"string\", \"month_year\"], [\"number\", \"year\"], [\"number\", \"safety_stock\"]],\n        columnOptions: [{\"width\": \"1px\", \"className\": \"index_column\"}],\n        rowsPerPage: 25,\n        helpUrl: \"https://colab.research.google.com/notebooks/data_table.ipynb\",\n        suppressOutputScrolling: true,\n        minimumWidth: undefined,\n      });\n    ",
            "text/html": [
              "<div>\n",
              "<style scoped>\n",
              "    .dataframe tbody tr th:only-of-type {\n",
              "        vertical-align: middle;\n",
              "    }\n",
              "\n",
              "    .dataframe tbody tr th {\n",
              "        vertical-align: top;\n",
              "    }\n",
              "\n",
              "    .dataframe thead th {\n",
              "        text-align: right;\n",
              "    }\n",
              "</style>\n",
              "<table border=\"1\" class=\"dataframe\">\n",
              "  <thead>\n",
              "    <tr style=\"text-align: right;\">\n",
              "      <th></th>\n",
              "      <th>forecast_key</th>\n",
              "      <th>week_date</th>\n",
              "      <th>forecast</th>\n",
              "      <th>mape</th>\n",
              "      <th>best_model</th>\n",
              "      <th>trim_date</th>\n",
              "      <th>type</th>\n",
              "      <th>week_end_date</th>\n",
              "      <th>date</th>\n",
              "      <th>is_holiday</th>\n",
              "      <th>day_of_week</th>\n",
              "      <th>sales_bottles</th>\n",
              "      <th>item_number</th>\n",
              "      <th>category_name</th>\n",
              "      <th>item_description</th>\n",
              "      <th>vendor_number</th>\n",
              "      <th>month_year</th>\n",
              "      <th>year</th>\n",
              "      <th>safety_stock</th>\n",
              "    </tr>\n",
              "  </thead>\n",
              "  <tbody>\n",
              "    <tr>\n",
              "      <th>0</th>\n",
              "      <td>67586</td>\n",
              "      <td>2020-03-22</td>\n",
              "      <td>21.0</td>\n",
              "      <td>0.28</td>\n",
              "      <td>XGBoost_Trended</td>\n",
              "      <td>2020-03-15</td>\n",
              "      <td>test</td>\n",
              "      <td>2020-03-22</td>\n",
              "      <td>2020-03-16</td>\n",
              "      <td>0</td>\n",
              "      <td>0</td>\n",
              "      <td>28.0</td>\n",
              "      <td>67586</td>\n",
              "      <td>Coffee Liqueurs</td>\n",
              "      <td>Kapali Coffee Liqueur</td>\n",
              "      <td>421</td>\n",
              "      <td>3_2020</td>\n",
              "      <td>2020</td>\n",
              "      <td>158.0</td>\n",
              "    </tr>\n",
              "    <tr>\n",
              "      <th>1</th>\n",
              "      <td>67586</td>\n",
              "      <td>2020-03-29</td>\n",
              "      <td>21.0</td>\n",
              "      <td>0.28</td>\n",
              "      <td>XGBoost_Trended</td>\n",
              "      <td>2020-03-15</td>\n",
              "      <td>test</td>\n",
              "      <td>2020-03-29</td>\n",
              "      <td>2020-03-23</td>\n",
              "      <td>0</td>\n",
              "      <td>0</td>\n",
              "      <td>56.0</td>\n",
              "      <td>67586</td>\n",
              "      <td>Coffee Liqueurs</td>\n",
              "      <td>Kapali Coffee Liqueur</td>\n",
              "      <td>421</td>\n",
              "      <td>3_2020</td>\n",
              "      <td>2020</td>\n",
              "      <td>158.0</td>\n",
              "    </tr>\n",
              "    <tr>\n",
              "      <th>2</th>\n",
              "      <td>67586</td>\n",
              "      <td>2020-04-05</td>\n",
              "      <td>20.0</td>\n",
              "      <td>0.28</td>\n",
              "      <td>XGBoost_Trended</td>\n",
              "      <td>2020-03-15</td>\n",
              "      <td>test</td>\n",
              "      <td>2020-04-05</td>\n",
              "      <td>2020-03-30</td>\n",
              "      <td>0</td>\n",
              "      <td>0</td>\n",
              "      <td>12.0</td>\n",
              "      <td>67586</td>\n",
              "      <td>Coffee Liqueurs</td>\n",
              "      <td>Kapali Coffee Liqueur</td>\n",
              "      <td>421</td>\n",
              "      <td>3_2020</td>\n",
              "      <td>2020</td>\n",
              "      <td>158.0</td>\n",
              "    </tr>\n",
              "    <tr>\n",
              "      <th>3</th>\n",
              "      <td>67586</td>\n",
              "      <td>2020-04-12</td>\n",
              "      <td>20.0</td>\n",
              "      <td>0.28</td>\n",
              "      <td>XGBoost_Trended</td>\n",
              "      <td>2020-03-15</td>\n",
              "      <td>test</td>\n",
              "      <td>2020-04-12</td>\n",
              "      <td>2020-04-06</td>\n",
              "      <td>0</td>\n",
              "      <td>0</td>\n",
              "      <td>26.0</td>\n",
              "      <td>67586</td>\n",
              "      <td>Coffee Liqueurs</td>\n",
              "      <td>Kapali Coffee Liqueur</td>\n",
              "      <td>421</td>\n",
              "      <td>4_2020</td>\n",
              "      <td>2020</td>\n",
              "      <td>158.0</td>\n",
              "    </tr>\n",
              "    <tr>\n",
              "      <th>4</th>\n",
              "      <td>67586</td>\n",
              "      <td>2020-04-19</td>\n",
              "      <td>20.0</td>\n",
              "      <td>0.28</td>\n",
              "      <td>XGBoost_Trended</td>\n",
              "      <td>2020-03-15</td>\n",
              "      <td>test</td>\n",
              "      <td>2020-04-19</td>\n",
              "      <td>2020-04-13</td>\n",
              "      <td>0</td>\n",
              "      <td>0</td>\n",
              "      <td>27.0</td>\n",
              "      <td>67586</td>\n",
              "      <td>Coffee Liqueurs</td>\n",
              "      <td>Kapali Coffee Liqueur</td>\n",
              "      <td>421</td>\n",
              "      <td>4_2020</td>\n",
              "      <td>2020</td>\n",
              "      <td>158.0</td>\n",
              "    </tr>\n",
              "  </tbody>\n",
              "</table>\n",
              "</div>"
            ],
            "text/plain": [
              "   forecast_key   week_date  forecast  ...  month_year  year safety_stock\n",
              "0         67586  2020-03-22      21.0  ...      3_2020  2020        158.0\n",
              "1         67586  2020-03-29      21.0  ...      3_2020  2020        158.0\n",
              "2         67586  2020-04-05      20.0  ...      3_2020  2020        158.0\n",
              "3         67586  2020-04-12      20.0  ...      4_2020  2020        158.0\n",
              "4         67586  2020-04-19      20.0  ...      4_2020  2020        158.0\n",
              "\n",
              "[5 rows x 19 columns]"
            ]
          },
          "metadata": {
            "tags": []
          },
          "execution_count": 3
        }
      ]
    },
    {
      "cell_type": "markdown",
      "metadata": {
        "id": "lxzr-JkVRjYe"
      },
      "source": [
        "## Transform data\n",
        "\n",
        "Data is grouped by month-year and forecast error is calulated at this level"
      ]
    },
    {
      "cell_type": "code",
      "metadata": {
        "id": "3Rm3lyIC8b7N",
        "colab": {
          "base_uri": "https://localhost:8080/",
          "height": 180
        },
        "outputId": "c4675404-9531-4cec-d18a-709bf9c7d5dd"
      },
      "source": [
        "forecasts = forecasts_query.copy()\n",
        "\n",
        "forecasts['date'] = pd.to_datetime(forecasts_query['date'])\n",
        "forecasts['forecast_key'] = forecasts['forecast_key'].astype(str)\n",
        "\n",
        "# Group by month-year\n",
        "forecasts['month_year'] = forecasts['date'].dt.month.astype(str) +  \"_\" + forecasts['date'].dt.year.astype(str)\n",
        "forecasts['year'] = forecasts['date'].dt.year.astype(str)\n",
        "monthly_forecasts = forecasts.groupby(['forecast_key','month_year','type','year']).agg({\"sales_bottles\":sum,\"forecast\":sum,\"date\":max}).reset_index()\n",
        "monthly_forecasts.rename(columns={'date':'month_end'},inplace=True)\n",
        "\n",
        "# Historical only\n",
        "historical = monthly_forecasts[monthly_forecasts['type']!='forecast'] \n",
        "\n",
        "# Future forecast only\n",
        "forecasts_weekly = forecasts[forecasts['type']=='forecast'] \n",
        "monthly_forecasts = monthly_forecasts[monthly_forecasts['type']=='forecast'] \n",
        "\n",
        "target_value = 'sales_bottles' # what was predicted\n",
        "\n",
        "historical['error'] = historical['forecast'] - historical[target_value]  # Error\n",
        "historical.head()"
      ],
      "execution_count": null,
      "outputs": [
        {
          "output_type": "execute_result",
          "data": {
            "application/vnd.google.colaboratory.module+javascript": "\n      import \"https://ssl.gstatic.com/colaboratory/data_table/a6224c040fa35dcf/data_table.js\";\n\n      window.createDataTable({\n        data: [[{\n            'v': 0,\n            'f': \"0\",\n        },\n\"100015\",\n\"10_2017\",\n\"train\",\n\"2017\",\n{\n            'v': 291.0,\n            'f': \"291.0\",\n        },\n{\n            'v': 184.0,\n            'f': \"184.0\",\n        },\n\"2017-10-31 00:00:00\",\n{\n            'v': -107.0,\n            'f': \"-107.0\",\n        }],\n [{\n            'v': 1,\n            'f': \"1\",\n        },\n\"100015\",\n\"10_2018\",\n\"train\",\n\"2018\",\n{\n            'v': 188.0,\n            'f': \"188.0\",\n        },\n{\n            'v': 186.0,\n            'f': \"186.0\",\n        },\n\"2018-10-31 00:00:00\",\n{\n            'v': -2.0,\n            'f': \"-2.0\",\n        }],\n [{\n            'v': 2,\n            'f': \"2\",\n        },\n\"100015\",\n\"10_2019\",\n\"train\",\n\"2019\",\n{\n            'v': 0.0,\n            'f': \"0.0\",\n        },\n{\n            'v': 168.0,\n            'f': \"168.0\",\n        },\n\"2019-10-31 00:00:00\",\n{\n            'v': 168.0,\n            'f': \"168.0\",\n        }],\n [{\n            'v': 3,\n            'f': \"3\",\n        },\n\"100015\",\n\"10_2020\",\n\"test\",\n\"2020\",\n{\n            'v': 96.0,\n            'f': \"96.0\",\n        },\n{\n            'v': 160.0,\n            'f': \"160.0\",\n        },\n\"2020-10-31 00:00:00\",\n{\n            'v': 64.0,\n            'f': \"64.0\",\n        }],\n [{\n            'v': 5,\n            'f': \"5\",\n        },\n\"100015\",\n\"11_2017\",\n\"train\",\n\"2017\",\n{\n            'v': 136.0,\n            'f': \"136.0\",\n        },\n{\n            'v': 86.0,\n            'f': \"86.0\",\n        },\n\"2017-11-30 00:00:00\",\n{\n            'v': -50.0,\n            'f': \"-50.0\",\n        }]],\n        columns: [[\"number\", \"index\"], [\"string\", \"forecast_key\"], [\"string\", \"month_year\"], [\"string\", \"type\"], [\"string\", \"year\"], [\"number\", \"sales_bottles\"], [\"number\", \"forecast\"], [\"string\", \"month_end\"], [\"number\", \"error\"]],\n        columnOptions: [{\"width\": \"1px\", \"className\": \"index_column\"}],\n        rowsPerPage: 25,\n        helpUrl: \"https://colab.research.google.com/notebooks/data_table.ipynb\",\n        suppressOutputScrolling: true,\n        minimumWidth: undefined,\n      });\n    ",
            "text/html": [
              "<div>\n",
              "<style scoped>\n",
              "    .dataframe tbody tr th:only-of-type {\n",
              "        vertical-align: middle;\n",
              "    }\n",
              "\n",
              "    .dataframe tbody tr th {\n",
              "        vertical-align: top;\n",
              "    }\n",
              "\n",
              "    .dataframe thead th {\n",
              "        text-align: right;\n",
              "    }\n",
              "</style>\n",
              "<table border=\"1\" class=\"dataframe\">\n",
              "  <thead>\n",
              "    <tr style=\"text-align: right;\">\n",
              "      <th></th>\n",
              "      <th>forecast_key</th>\n",
              "      <th>month_year</th>\n",
              "      <th>type</th>\n",
              "      <th>year</th>\n",
              "      <th>sales_bottles</th>\n",
              "      <th>forecast</th>\n",
              "      <th>month_end</th>\n",
              "      <th>error</th>\n",
              "    </tr>\n",
              "  </thead>\n",
              "  <tbody>\n",
              "    <tr>\n",
              "      <th>0</th>\n",
              "      <td>100015</td>\n",
              "      <td>10_2017</td>\n",
              "      <td>train</td>\n",
              "      <td>2017</td>\n",
              "      <td>291.0</td>\n",
              "      <td>184.0</td>\n",
              "      <td>2017-10-31</td>\n",
              "      <td>-107.0</td>\n",
              "    </tr>\n",
              "    <tr>\n",
              "      <th>1</th>\n",
              "      <td>100015</td>\n",
              "      <td>10_2018</td>\n",
              "      <td>train</td>\n",
              "      <td>2018</td>\n",
              "      <td>188.0</td>\n",
              "      <td>186.0</td>\n",
              "      <td>2018-10-31</td>\n",
              "      <td>-2.0</td>\n",
              "    </tr>\n",
              "    <tr>\n",
              "      <th>2</th>\n",
              "      <td>100015</td>\n",
              "      <td>10_2019</td>\n",
              "      <td>train</td>\n",
              "      <td>2019</td>\n",
              "      <td>0.0</td>\n",
              "      <td>168.0</td>\n",
              "      <td>2019-10-31</td>\n",
              "      <td>168.0</td>\n",
              "    </tr>\n",
              "    <tr>\n",
              "      <th>3</th>\n",
              "      <td>100015</td>\n",
              "      <td>10_2020</td>\n",
              "      <td>test</td>\n",
              "      <td>2020</td>\n",
              "      <td>96.0</td>\n",
              "      <td>160.0</td>\n",
              "      <td>2020-10-31</td>\n",
              "      <td>64.0</td>\n",
              "    </tr>\n",
              "    <tr>\n",
              "      <th>5</th>\n",
              "      <td>100015</td>\n",
              "      <td>11_2017</td>\n",
              "      <td>train</td>\n",
              "      <td>2017</td>\n",
              "      <td>136.0</td>\n",
              "      <td>86.0</td>\n",
              "      <td>2017-11-30</td>\n",
              "      <td>-50.0</td>\n",
              "    </tr>\n",
              "  </tbody>\n",
              "</table>\n",
              "</div>"
            ],
            "text/plain": [
              "  forecast_key month_year   type  ... forecast  month_end  error\n",
              "0       100015    10_2017  train  ...    184.0 2017-10-31 -107.0\n",
              "1       100015    10_2018  train  ...    186.0 2018-10-31   -2.0\n",
              "2       100015    10_2019  train  ...    168.0 2019-10-31  168.0\n",
              "3       100015    10_2020   test  ...    160.0 2020-10-31   64.0\n",
              "5       100015    11_2017  train  ...     86.0 2017-11-30  -50.0\n",
              "\n",
              "[5 rows x 8 columns]"
            ]
          },
          "metadata": {
            "tags": []
          },
          "execution_count": 5
        }
      ]
    },
    {
      "cell_type": "markdown",
      "metadata": {
        "id": "00jwSk9tPo3i"
      },
      "source": [
        "## Inventory Optimization\n"
      ]
    },
    {
      "cell_type": "markdown",
      "metadata": {
        "id": "45a5P6xSdjV7"
      },
      "source": [
        "### Historical Error distribution\n",
        "Look at percetage error to allow for better comparison between items"
      ]
    },
    {
      "cell_type": "code",
      "metadata": {
        "colab": {
          "base_uri": "https://localhost:8080/",
          "height": 236
        },
        "id": "AwZtSSbQPvck",
        "outputId": "220c7f67-d164-432d-cec4-d73d22fe1e0b"
      },
      "source": [
        "# Calculate MAPE\n",
        "historical['mape_pcnt'] = (np.divide(historical['error'],\n",
        "                                     historical['sales_bottles']\n",
        "                                     ).abs()\n",
        "                          ).round(2)\n",
        "\n",
        "# Infinite MAPE values are generated when error is 0, replace with 0\n",
        "non_infinite_mask = ~historical['mape_pcnt'].isin([np.inf,-np.inf])\n",
        "historical['mape_pcnt'] = historical['mape_pcnt'].where(non_infinite_mask,other=0)\n",
        "\n",
        "historical.describe().round(2)"
      ],
      "execution_count": null,
      "outputs": [
        {
          "output_type": "execute_result",
          "data": {
            "application/vnd.google.colaboratory.module+javascript": "\n      import \"https://ssl.gstatic.com/colaboratory/data_table/a6224c040fa35dcf/data_table.js\";\n\n      window.createDataTable({\n        data: [[\"count\",\n{\n            'v': 6300.0,\n            'f': \"6300.0\",\n        },\n{\n            'v': 6300.0,\n            'f': \"6300.0\",\n        },\n{\n            'v': 6300.0,\n            'f': \"6300.0\",\n        },\n{\n            'v': 5720.0,\n            'f': \"5720.0\",\n        }],\n [\"mean\",\n{\n            'v': 2264.44,\n            'f': \"2264.44\",\n        },\n{\n            'v': 2248.38,\n            'f': \"2248.38\",\n        },\n{\n            'v': -16.06,\n            'f': \"-16.06\",\n        },\n{\n            'v': 0.38,\n            'f': \"0.38\",\n        }],\n [\"std\",\n{\n            'v': 11407.3,\n            'f': \"11407.3\",\n        },\n{\n            'v': 11430.88,\n            'f': \"11430.88\",\n        },\n{\n            'v': 917.54,\n            'f': \"917.54\",\n        },\n{\n            'v': 3.13,\n            'f': \"3.13\",\n        }],\n [\"min\",\n{\n            'v': 0.0,\n            'f': \"0.0\",\n        },\n{\n            'v': -141.0,\n            'f': \"-141.0\",\n        },\n{\n            'v': -16887.0,\n            'f': \"-16887.0\",\n        },\n{\n            'v': 0.0,\n            'f': \"0.0\",\n        }],\n [\"25%\",\n{\n            'v': 31.75,\n            'f': \"31.75\",\n        },\n{\n            'v': 53.0,\n            'f': \"53.0\",\n        },\n{\n            'v': -47.0,\n            'f': \"-47.0\",\n        },\n{\n            'v': 0.04,\n            'f': \"0.04\",\n        }],\n [\"50%\",\n{\n            'v': 314.0,\n            'f': \"314.0\",\n        },\n{\n            'v': 330.0,\n            'f': \"330.0\",\n        },\n{\n            'v': 0.0,\n            'f': \"0.0\",\n        },\n{\n            'v': 0.13,\n            'f': \"0.13\",\n        }],\n [\"75%\",\n{\n            'v': 1133.5,\n            'f': \"1133.5\",\n        },\n{\n            'v': 1143.0,\n            'f': \"1143.0\",\n        },\n{\n            'v': 50.0,\n            'f': \"50.0\",\n        },\n{\n            'v': 0.31,\n            'f': \"0.31\",\n        }],\n [\"max\",\n{\n            'v': 187964.0,\n            'f': \"187964.0\",\n        },\n{\n            'v': 189980.0,\n            'f': \"189980.0\",\n        },\n{\n            'v': 20205.0,\n            'f': \"20205.0\",\n        },\n{\n            'v': 147.5,\n            'f': \"147.5\",\n        }]],\n        columns: [[\"string\", \"index\"], [\"number\", \"sales_bottles\"], [\"number\", \"forecast\"], [\"number\", \"error\"], [\"number\", \"mape_pcnt\"]],\n        columnOptions: [{\"width\": \"1px\", \"className\": \"index_column\"}],\n        rowsPerPage: 25,\n        helpUrl: \"https://colab.research.google.com/notebooks/data_table.ipynb\",\n        suppressOutputScrolling: true,\n        minimumWidth: undefined,\n      });\n    ",
            "text/html": [
              "<div>\n",
              "<style scoped>\n",
              "    .dataframe tbody tr th:only-of-type {\n",
              "        vertical-align: middle;\n",
              "    }\n",
              "\n",
              "    .dataframe tbody tr th {\n",
              "        vertical-align: top;\n",
              "    }\n",
              "\n",
              "    .dataframe thead th {\n",
              "        text-align: right;\n",
              "    }\n",
              "</style>\n",
              "<table border=\"1\" class=\"dataframe\">\n",
              "  <thead>\n",
              "    <tr style=\"text-align: right;\">\n",
              "      <th></th>\n",
              "      <th>sales_bottles</th>\n",
              "      <th>forecast</th>\n",
              "      <th>error</th>\n",
              "      <th>mape_pcnt</th>\n",
              "    </tr>\n",
              "  </thead>\n",
              "  <tbody>\n",
              "    <tr>\n",
              "      <th>count</th>\n",
              "      <td>6300.00</td>\n",
              "      <td>6300.00</td>\n",
              "      <td>6300.00</td>\n",
              "      <td>5720.00</td>\n",
              "    </tr>\n",
              "    <tr>\n",
              "      <th>mean</th>\n",
              "      <td>2264.44</td>\n",
              "      <td>2248.38</td>\n",
              "      <td>-16.06</td>\n",
              "      <td>0.38</td>\n",
              "    </tr>\n",
              "    <tr>\n",
              "      <th>std</th>\n",
              "      <td>11407.30</td>\n",
              "      <td>11430.88</td>\n",
              "      <td>917.54</td>\n",
              "      <td>3.13</td>\n",
              "    </tr>\n",
              "    <tr>\n",
              "      <th>min</th>\n",
              "      <td>0.00</td>\n",
              "      <td>-141.00</td>\n",
              "      <td>-16887.00</td>\n",
              "      <td>0.00</td>\n",
              "    </tr>\n",
              "    <tr>\n",
              "      <th>25%</th>\n",
              "      <td>31.75</td>\n",
              "      <td>53.00</td>\n",
              "      <td>-47.00</td>\n",
              "      <td>0.04</td>\n",
              "    </tr>\n",
              "    <tr>\n",
              "      <th>50%</th>\n",
              "      <td>314.00</td>\n",
              "      <td>330.00</td>\n",
              "      <td>0.00</td>\n",
              "      <td>0.13</td>\n",
              "    </tr>\n",
              "    <tr>\n",
              "      <th>75%</th>\n",
              "      <td>1133.50</td>\n",
              "      <td>1143.00</td>\n",
              "      <td>50.00</td>\n",
              "      <td>0.31</td>\n",
              "    </tr>\n",
              "    <tr>\n",
              "      <th>max</th>\n",
              "      <td>187964.00</td>\n",
              "      <td>189980.00</td>\n",
              "      <td>20205.00</td>\n",
              "      <td>147.50</td>\n",
              "    </tr>\n",
              "  </tbody>\n",
              "</table>\n",
              "</div>"
            ],
            "text/plain": [
              "       sales_bottles   forecast     error  mape_pcnt\n",
              "count        6300.00    6300.00   6300.00    5720.00\n",
              "mean         2264.44    2248.38    -16.06       0.38\n",
              "std         11407.30   11430.88    917.54       3.13\n",
              "min             0.00    -141.00 -16887.00       0.00\n",
              "25%            31.75      53.00    -47.00       0.04\n",
              "50%           314.00     330.00      0.00       0.13\n",
              "75%          1133.50    1143.00     50.00       0.31\n",
              "max        187964.00  189980.00  20205.00     147.50"
            ]
          },
          "metadata": {
            "tags": []
          },
          "execution_count": 6
        }
      ]
    },
    {
      "cell_type": "markdown",
      "metadata": {
        "id": "GsKOHF45dr13"
      },
      "source": [
        "Looking at the summary table, we notice some extreme error values"
      ]
    },
    {
      "cell_type": "code",
      "metadata": {
        "colab": {
          "base_uri": "https://localhost:8080/",
          "height": 445
        },
        "id": "d8krswUmVJI_",
        "outputId": "8bdbb6a4-7be4-45c3-90a7-eae2ce2bc733"
      },
      "source": [
        "# Violin plot without extreme values\n",
        "sns.set_context('talk')\n",
        "data = historical[historical['mape_pcnt']<1.5]\n",
        "plt.figure(figsize=(6,5))\n",
        "plt.title('Historical Error')\n",
        "sns.violinplot(x=data['type'],y=data['mape_pcnt'])\n",
        "plt.show()\n",
        "\n",
        "# How many item - months have MAPE error above 150%?\n",
        "print(\"\\n {} item-months have error above 150%\".format(len(historical[historical['mape_pcnt']>1.5])))\n",
        "\n",
        "percent_of_total =  (len(historical[historical['mape_pcnt']>1.5])/len(historical))*100\n",
        "print(\"\\n They represent {}% of total items-month keys\".format(round(percent_of_total,1)))"
      ],
      "execution_count": null,
      "outputs": [
        {
          "output_type": "display_data",
          "data": {
            "image/png": "[encoded data removed]",
            "text/plain": [
              "<Figure size 432x360 with 1 Axes>"
            ]
          },
          "metadata": {
            "tags": [],
            "needs_background": "light"
          }
        },
        {
          "output_type": "stream",
          "text": [
            "\n",
            " 115 item-months have error above 150%\n",
            "\n",
            " They represent 1.8% of total items-month keys\n"
          ],
          "name": "stdout"
        }
      ]
    },
    {
      "cell_type": "markdown",
      "metadata": {
        "id": "kVwo8J_ZYQn7"
      },
      "source": [
        "### Reorder Quantity\n",
        "\n",
        "We'll use the Minimum Order Quantity formula:\n",
        "\n",
        "$ EOQ = \\sqrt{2 *\\dfrac{Annual \\ Demand * Cost \\ per \\ Order}{Annual \\ Holding \\ Cost \\ per \\ Unit}} $\n",
        "\n",
        "\n",
        "* Annual holding cost is set at 15% of the bottle's cost\n",
        "* The bottle cost is 60% of the retail value  \n",
        "\n",
        "\n",
        "It is known that the main limitation against the use of this formula is that demand needs to be constant throughout time, which is not the case for this project but the formula is still used for simplicity.\n",
        "\n",
        "We must first get the average bottle price by querying the sales data in the last year"
      ]
    },
    {
      "cell_type": "markdown",
      "metadata": {
        "id": "tIn2MAjzfby_"
      },
      "source": [
        "#### Bottle price - query"
      ]
    },
    {
      "cell_type": "code",
      "metadata": {
        "colab": {
          "base_uri": "https://localhost:8080/",
          "height": 142
        },
        "id": "dMZBcpmWYQF9",
        "outputId": "fba7be25-3f54-4b1c-b423-b76907ae7cd5"
      },
      "source": [
        "item_price = client.query('''\n",
        "\n",
        "  SELECT \n",
        "    item_number,\n",
        "    item_description,\n",
        "    category_name, \n",
        "    SUM(sale_dollars)/SUM(bottles_sold) as avg_price\n",
        "  FROM \n",
        "    `bigquery-public-data.iowa_liquor_sales.sales`\n",
        "  WHERE \n",
        "    date > DATE_SUB((SELECT MAX(date) FROM `bigquery-public-data.iowa_liquor_sales.sales`), INTERVAL 1 YEAR) AND \n",
        "    vendor_number = '421'\n",
        "  GROUP BY\n",
        "    item_number, \n",
        "    category_name, \n",
        "    item_description\n",
        "\n",
        "''').to_dataframe()\n",
        "\n",
        "# Create dictionary to aid in lookup\n",
        "item_price_dict = item_price.set_index('item_number')['avg_price'].to_dict()\n",
        "item_price.sample(3)"
      ],
      "execution_count": null,
      "outputs": [
        {
          "output_type": "execute_result",
          "data": {
            "application/vnd.google.colaboratory.module+javascript": "\n      import \"https://ssl.gstatic.com/colaboratory/data_table/a6224c040fa35dcf/data_table.js\";\n\n      window.createDataTable({\n        data: [[{\n            'v': 11,\n            'f': \"11\",\n        },\n\"917677\",\n\"Eagle Rare Single Barrel Buy the Barrel\",\n\"Single Barrel Bourbon Whiskies\",\n{\n            'v': 25.740000000000002,\n            'f': \"25.740000000000002\",\n        }],\n [{\n            'v': 227,\n            'f': \"227\",\n        },\n\"902160\",\n\"Canadian Hunter Whisky\",\n\"Special Order Items\",\n{\n            'v': 8.78,\n            'f': \"8.78\",\n        }],\n [{\n            'v': 167,\n            'f': \"167\",\n        },\n\"69636\",\n\"Dr McGillicuddys Cherry\",\n\"Imported Schnapps\",\n{\n            'v': 12.990000000000027,\n            'f': \"12.990000000000027\",\n        }]],\n        columns: [[\"number\", \"index\"], [\"string\", \"item_number\"], [\"string\", \"item_description\"], [\"string\", \"category_name\"], [\"number\", \"avg_price\"]],\n        columnOptions: [{\"width\": \"1px\", \"className\": \"index_column\"}],\n        rowsPerPage: 25,\n        helpUrl: \"https://colab.research.google.com/notebooks/data_table.ipynb\",\n        suppressOutputScrolling: true,\n        minimumWidth: undefined,\n      });\n    ",
            "text/html": [
              "<div>\n",
              "<style scoped>\n",
              "    .dataframe tbody tr th:only-of-type {\n",
              "        vertical-align: middle;\n",
              "    }\n",
              "\n",
              "    .dataframe tbody tr th {\n",
              "        vertical-align: top;\n",
              "    }\n",
              "\n",
              "    .dataframe thead th {\n",
              "        text-align: right;\n",
              "    }\n",
              "</style>\n",
              "<table border=\"1\" class=\"dataframe\">\n",
              "  <thead>\n",
              "    <tr style=\"text-align: right;\">\n",
              "      <th></th>\n",
              "      <th>item_number</th>\n",
              "      <th>item_description</th>\n",
              "      <th>category_name</th>\n",
              "      <th>avg_price</th>\n",
              "    </tr>\n",
              "  </thead>\n",
              "  <tbody>\n",
              "    <tr>\n",
              "      <th>11</th>\n",
              "      <td>917677</td>\n",
              "      <td>Eagle Rare Single Barrel Buy the Barrel</td>\n",
              "      <td>Single Barrel Bourbon Whiskies</td>\n",
              "      <td>25.74</td>\n",
              "    </tr>\n",
              "    <tr>\n",
              "      <th>227</th>\n",
              "      <td>902160</td>\n",
              "      <td>Canadian Hunter Whisky</td>\n",
              "      <td>Special Order Items</td>\n",
              "      <td>8.78</td>\n",
              "    </tr>\n",
              "    <tr>\n",
              "      <th>167</th>\n",
              "      <td>69636</td>\n",
              "      <td>Dr McGillicuddys Cherry</td>\n",
              "      <td>Imported Schnapps</td>\n",
              "      <td>12.99</td>\n",
              "    </tr>\n",
              "  </tbody>\n",
              "</table>\n",
              "</div>"
            ],
            "text/plain": [
              "    item_number  ... avg_price\n",
              "11       917677  ...     25.74\n",
              "227      902160  ...      8.78\n",
              "167       69636  ...     12.99\n",
              "\n",
              "[3 rows x 4 columns]"
            ]
          },
          "metadata": {
            "tags": []
          },
          "execution_count": 8
        }
      ]
    },
    {
      "cell_type": "markdown",
      "metadata": {
        "id": "bVnx3SoTpVd3"
      },
      "source": [
        "We are looking to calculate the reorder quantity for the next year. To do that, first we query the data to include only the next year's forecasts.\n"
      ]
    },
    {
      "cell_type": "markdown",
      "metadata": {
        "id": "1rbXxqXUficA"
      },
      "source": [
        "#### Annual demand by item"
      ]
    },
    {
      "cell_type": "code",
      "metadata": {
        "colab": {
          "base_uri": "https://localhost:8080/",
          "height": 180
        },
        "id": "u4o2cp3Vf7Vf",
        "outputId": "3a9a72ae-3f76-480e-8ec5-24caf5c794b1"
      },
      "source": [
        "# Annual demand by key query\n",
        "year_forecast = client.query('''\n",
        "\n",
        "  SELECT \n",
        "    forecast_key,\n",
        "    SUM(forecast) as annual_forecast\n",
        "  FROM \n",
        "    `iowa-liquor-sales-266301.forecasting.ml_forecasts`\n",
        "  WHERE\n",
        "    type = 'forecast'\n",
        "  GROUP BY\n",
        "    forecast_key\n",
        "\n",
        "''').to_dataframe()\n",
        "\n",
        "year_forecast['forecast_key']  = year_forecast['forecast_key'].astype(str)\n",
        "year_forecast.head()"
      ],
      "execution_count": null,
      "outputs": [
        {
          "output_type": "execute_result",
          "data": {
            "application/vnd.google.colaboratory.module+javascript": "\n      import \"https://ssl.gstatic.com/colaboratory/data_table/a6224c040fa35dcf/data_table.js\";\n\n      window.createDataTable({\n        data: [[{\n            'v': 0,\n            'f': \"0\",\n        },\n\"67586\",\n{\n            'v': 6115.0,\n            'f': \"6115.0\",\n        }],\n [{\n            'v': 1,\n            'f': \"1\",\n        },\n\"69634\",\n{\n            'v': 6590.0,\n            'f': \"6590.0\",\n        }],\n [{\n            'v': 2,\n            'f': \"2\",\n        },\n\"69636\",\n{\n            'v': 38055.0,\n            'f': \"38055.0\",\n        }],\n [{\n            'v': 3,\n            'f': \"3\",\n        },\n\"69637\",\n{\n            'v': 74955.0,\n            'f': \"74955.0\",\n        }],\n [{\n            'v': 4,\n            'f': \"4\",\n        },\n\"69638\",\n{\n            'v': 19900.0,\n            'f': \"19900.0\",\n        }]],\n        columns: [[\"number\", \"index\"], [\"string\", \"forecast_key\"], [\"number\", \"annual_forecast\"]],\n        columnOptions: [{\"width\": \"1px\", \"className\": \"index_column\"}],\n        rowsPerPage: 25,\n        helpUrl: \"https://colab.research.google.com/notebooks/data_table.ipynb\",\n        suppressOutputScrolling: true,\n        minimumWidth: undefined,\n      });\n    ",
            "text/html": [
              "<div>\n",
              "<style scoped>\n",
              "    .dataframe tbody tr th:only-of-type {\n",
              "        vertical-align: middle;\n",
              "    }\n",
              "\n",
              "    .dataframe tbody tr th {\n",
              "        vertical-align: top;\n",
              "    }\n",
              "\n",
              "    .dataframe thead th {\n",
              "        text-align: right;\n",
              "    }\n",
              "</style>\n",
              "<table border=\"1\" class=\"dataframe\">\n",
              "  <thead>\n",
              "    <tr style=\"text-align: right;\">\n",
              "      <th></th>\n",
              "      <th>forecast_key</th>\n",
              "      <th>annual_forecast</th>\n",
              "    </tr>\n",
              "  </thead>\n",
              "  <tbody>\n",
              "    <tr>\n",
              "      <th>0</th>\n",
              "      <td>67586</td>\n",
              "      <td>6115.0</td>\n",
              "    </tr>\n",
              "    <tr>\n",
              "      <th>1</th>\n",
              "      <td>69634</td>\n",
              "      <td>6590.0</td>\n",
              "    </tr>\n",
              "    <tr>\n",
              "      <th>2</th>\n",
              "      <td>69636</td>\n",
              "      <td>38055.0</td>\n",
              "    </tr>\n",
              "    <tr>\n",
              "      <th>3</th>\n",
              "      <td>69637</td>\n",
              "      <td>74955.0</td>\n",
              "    </tr>\n",
              "    <tr>\n",
              "      <th>4</th>\n",
              "      <td>69638</td>\n",
              "      <td>19900.0</td>\n",
              "    </tr>\n",
              "  </tbody>\n",
              "</table>\n",
              "</div>"
            ],
            "text/plain": [
              "  forecast_key  annual_forecast\n",
              "0        67586           6115.0\n",
              "1        69634           6590.0\n",
              "2        69636          38055.0\n",
              "3        69637          74955.0\n",
              "4        69638          19900.0"
            ]
          },
          "metadata": {
            "tags": []
          },
          "execution_count": 9
        }
      ]
    },
    {
      "cell_type": "code",
      "metadata": {
        "colab": {
          "base_uri": "https://localhost:8080/",
          "height": 574
        },
        "id": "kkW5-hUjeqVA",
        "outputId": "46c21943-817d-420b-ed2d-3e10b4e0a5d1"
      },
      "source": [
        "# Set up variables\n",
        "unit_cost_pcnt = 0.4 # direct unit cost, as percent of item price\n",
        "holding_cost = 0.3 # as percent of item cost - per year.\n",
        "cost_per_order = 3 # dollars\n",
        "\n",
        "# Calculated columns\n",
        "year_forecast['item_price'] =  [round(item_price_dict.get(key),2) for key in year_forecast['forecast_key']] # lookup price\n",
        "year_forecast['item_cost'] = year_forecast['item_price'] * unit_cost_pcnt\n",
        "year_forecast['holding_cost_unit'] = year_forecast['item_cost'] * holding_cost\n",
        "\n",
        "# Now it's possible to calculate the economic order quantity\n",
        "year_forecast['economic_order_qty'] = np.sqrt(2*(cost_per_order*year_forecast['annual_forecast'])\\\n",
        "                                                /year_forecast['holding_cost_unit']).round(0)\n",
        "\n",
        "year_forecast['orders_per_year'] = year_forecast['annual_forecast']/year_forecast['economic_order_qty']\n",
        "\n",
        "# Plot\n",
        "plt.title('Average Orders per Year per Item')\n",
        "sns.distplot(year_forecast['orders_per_year'])\n",
        "plt.show()\n",
        "\n",
        "year_forecast.head()"
      ],
      "execution_count": null,
      "outputs": [
        {
          "output_type": "stream",
          "text": [
            "/usr/local/lib/python3.6/dist-packages/pandas/core/series.py:726: RuntimeWarning: invalid value encountered in sqrt\n",
            "  result = getattr(ufunc, method)(*inputs, **kwargs)\n",
            "/usr/local/lib/python3.6/dist-packages/seaborn/distributions.py:2551: FutureWarning: `distplot` is a deprecated function and will be removed in a future version. Please adapt your code to use either `displot` (a figure-level function with similar flexibility) or `histplot` (an axes-level function for histograms).\n",
            "  warnings.warn(msg, FutureWarning)\n"
          ],
          "name": "stderr"
        },
        {
          "output_type": "display_data",
          "data": {
            "image/png": "[encoded data removed]",
            "text/plain": [
              "<Figure size 432x288 with 1 Axes>"
            ]
          },
          "metadata": {
            "tags": [],
            "needs_background": "light"
          }
        },
        {
          "output_type": "execute_result",
          "data": {
            "application/vnd.google.colaboratory.module+javascript": "\n      import \"https://ssl.gstatic.com/colaboratory/data_table/a6224c040fa35dcf/data_table.js\";\n\n      window.createDataTable({\n        data: [[{\n            'v': 0,\n            'f': \"0\",\n        },\n\"67586\",\n{\n            'v': 6115.0,\n            'f': \"6115.0\",\n        },\n{\n            'v': 7.77,\n            'f': \"7.77\",\n        },\n{\n            'v': 3.108,\n            'f': \"3.108\",\n        },\n{\n            'v': 0.9324,\n            'f': \"0.9324\",\n        },\n{\n            'v': 198.0,\n            'f': \"198.0\",\n        },\n{\n            'v': 30.883838383838384,\n            'f': \"30.883838383838384\",\n        }],\n [{\n            'v': 1,\n            'f': \"1\",\n        },\n\"69634\",\n{\n            'v': 6590.0,\n            'f': \"6590.0\",\n        },\n{\n            'v': 8.0,\n            'f': \"8.0\",\n        },\n{\n            'v': 3.2,\n            'f': \"3.2\",\n        },\n{\n            'v': 0.96,\n            'f': \"0.96\",\n        },\n{\n            'v': 203.0,\n            'f': \"203.0\",\n        },\n{\n            'v': 32.46305418719212,\n            'f': \"32.46305418719212\",\n        }],\n [{\n            'v': 2,\n            'f': \"2\",\n        },\n\"69636\",\n{\n            'v': 38055.0,\n            'f': \"38055.0\",\n        },\n{\n            'v': 12.99,\n            'f': \"12.99\",\n        },\n{\n            'v': 5.196000000000001,\n            'f': \"5.196000000000001\",\n        },\n{\n            'v': 1.5588000000000002,\n            'f': \"1.5588000000000002\",\n        },\n{\n            'v': 383.0,\n            'f': \"383.0\",\n        },\n{\n            'v': 99.36031331592689,\n            'f': \"99.36031331592689\",\n        }],\n [{\n            'v': 3,\n            'f': \"3\",\n        },\n\"69637\",\n{\n            'v': 74955.0,\n            'f': \"74955.0\",\n        },\n{\n            'v': 16.5,\n            'f': \"16.5\",\n        },\n{\n            'v': 6.6000000000000005,\n            'f': \"6.6000000000000005\",\n        },\n{\n            'v': 1.98,\n            'f': \"1.98\",\n        },\n{\n            'v': 477.0,\n            'f': \"477.0\",\n        },\n{\n            'v': 157.13836477987422,\n            'f': \"157.13836477987422\",\n        }],\n [{\n            'v': 4,\n            'f': \"4\",\n        },\n\"69638\",\n{\n            'v': 19900.0,\n            'f': \"19900.0\",\n        },\n{\n            'v': 21.99,\n            'f': \"21.99\",\n        },\n{\n            'v': 8.796,\n            'f': \"8.796\",\n        },\n{\n            'v': 2.6388,\n            'f': \"2.6388\",\n        },\n{\n            'v': 213.0,\n            'f': \"213.0\",\n        },\n{\n            'v': 93.42723004694835,\n            'f': \"93.42723004694835\",\n        }]],\n        columns: [[\"number\", \"index\"], [\"string\", \"forecast_key\"], [\"number\", \"annual_forecast\"], [\"number\", \"item_price\"], [\"number\", \"item_cost\"], [\"number\", \"holding_cost_unit\"], [\"number\", \"economic_order_qty\"], [\"number\", \"orders_per_year\"]],\n        columnOptions: [{\"width\": \"1px\", \"className\": \"index_column\"}],\n        rowsPerPage: 25,\n        helpUrl: \"https://colab.research.google.com/notebooks/data_table.ipynb\",\n        suppressOutputScrolling: true,\n        minimumWidth: undefined,\n      });\n    ",
            "text/html": [
              "<div>\n",
              "<style scoped>\n",
              "    .dataframe tbody tr th:only-of-type {\n",
              "        vertical-align: middle;\n",
              "    }\n",
              "\n",
              "    .dataframe tbody tr th {\n",
              "        vertical-align: top;\n",
              "    }\n",
              "\n",
              "    .dataframe thead th {\n",
              "        text-align: right;\n",
              "    }\n",
              "</style>\n",
              "<table border=\"1\" class=\"dataframe\">\n",
              "  <thead>\n",
              "    <tr style=\"text-align: right;\">\n",
              "      <th></th>\n",
              "      <th>forecast_key</th>\n",
              "      <th>annual_forecast</th>\n",
              "      <th>item_price</th>\n",
              "      <th>item_cost</th>\n",
              "      <th>holding_cost_unit</th>\n",
              "      <th>economic_order_qty</th>\n",
              "      <th>orders_per_year</th>\n",
              "    </tr>\n",
              "  </thead>\n",
              "  <tbody>\n",
              "    <tr>\n",
              "      <th>0</th>\n",
              "      <td>67586</td>\n",
              "      <td>6115.0</td>\n",
              "      <td>7.77</td>\n",
              "      <td>3.108</td>\n",
              "      <td>0.9324</td>\n",
              "      <td>198.0</td>\n",
              "      <td>30.883838</td>\n",
              "    </tr>\n",
              "    <tr>\n",
              "      <th>1</th>\n",
              "      <td>69634</td>\n",
              "      <td>6590.0</td>\n",
              "      <td>8.00</td>\n",
              "      <td>3.200</td>\n",
              "      <td>0.9600</td>\n",
              "      <td>203.0</td>\n",
              "      <td>32.463054</td>\n",
              "    </tr>\n",
              "    <tr>\n",
              "      <th>2</th>\n",
              "      <td>69636</td>\n",
              "      <td>38055.0</td>\n",
              "      <td>12.99</td>\n",
              "      <td>5.196</td>\n",
              "      <td>1.5588</td>\n",
              "      <td>383.0</td>\n",
              "      <td>99.360313</td>\n",
              "    </tr>\n",
              "    <tr>\n",
              "      <th>3</th>\n",
              "      <td>69637</td>\n",
              "      <td>74955.0</td>\n",
              "      <td>16.50</td>\n",
              "      <td>6.600</td>\n",
              "      <td>1.9800</td>\n",
              "      <td>477.0</td>\n",
              "      <td>157.138365</td>\n",
              "    </tr>\n",
              "    <tr>\n",
              "      <th>4</th>\n",
              "      <td>69638</td>\n",
              "      <td>19900.0</td>\n",
              "      <td>21.99</td>\n",
              "      <td>8.796</td>\n",
              "      <td>2.6388</td>\n",
              "      <td>213.0</td>\n",
              "      <td>93.427230</td>\n",
              "    </tr>\n",
              "  </tbody>\n",
              "</table>\n",
              "</div>"
            ],
            "text/plain": [
              "  forecast_key  annual_forecast  ...  economic_order_qty  orders_per_year\n",
              "0        67586           6115.0  ...               198.0        30.883838\n",
              "1        69634           6590.0  ...               203.0        32.463054\n",
              "2        69636          38055.0  ...               383.0        99.360313\n",
              "3        69637          74955.0  ...               477.0       157.138365\n",
              "4        69638          19900.0  ...               213.0        93.427230\n",
              "\n",
              "[5 rows x 7 columns]"
            ]
          },
          "metadata": {
            "tags": []
          },
          "execution_count": 10
        }
      ]
    },
    {
      "cell_type": "markdown",
      "metadata": {
        "id": "_wI_cFX0sQ4o"
      },
      "source": [
        "As we can see, some items have extreme supplier order frequency suggested that averages more than one order per week, something is rarely feasible for the item type, at a distributor level. However, this is expected since the formula used doesn't take into account many other factors (demand variability, minimum order quantities, truckload utilization, etc...)\n",
        "\n",
        "We'll set a rule that caps the orders per year at a maximum of 16:"
      ]
    },
    {
      "cell_type": "code",
      "metadata": {
        "colab": {
          "base_uri": "https://localhost:8080/",
          "height": 180
        },
        "id": "IK2_A-sF-DrP",
        "outputId": "654c6989-abf5-4164-ed65-2d4dd62cac92"
      },
      "source": [
        "max_orders_per_year = 16\n",
        "\n",
        "# Replace values above 16\n",
        "year_forecast['orders_per_year'] = year_forecast['orders_per_year'].where(year_forecast['orders_per_year']<16,16)\n",
        "\n",
        "# Calculate actual order quantity\n",
        "year_forecast['actual_order_qty'] = (year_forecast['annual_forecast']/year_forecast['orders_per_year']).round(0)\n",
        "\n",
        "# Create lookup dictionaries for future use\n",
        "item_holding_cost_dict = year_forecast.set_index('forecast_key')['holding_cost_unit'].to_dict()\n",
        "oq_dict = year_forecast.set_index('forecast_key')['actual_order_qty'].to_dict()\n",
        "\n",
        "year_forecast.head()"
      ],
      "execution_count": null,
      "outputs": [
        {
          "output_type": "execute_result",
          "data": {
            "application/vnd.google.colaboratory.module+javascript": "\n      import \"https://ssl.gstatic.com/colaboratory/data_table/a6224c040fa35dcf/data_table.js\";\n\n      window.createDataTable({\n        data: [[{\n            'v': 0,\n            'f': \"0\",\n        },\n\"67586\",\n{\n            'v': 6115.0,\n            'f': \"6115.0\",\n        },\n{\n            'v': 7.77,\n            'f': \"7.77\",\n        },\n{\n            'v': 3.108,\n            'f': \"3.108\",\n        },\n{\n            'v': 0.9324,\n            'f': \"0.9324\",\n        },\n{\n            'v': 198.0,\n            'f': \"198.0\",\n        },\n{\n            'v': 16.0,\n            'f': \"16.0\",\n        },\n{\n            'v': 382.0,\n            'f': \"382.0\",\n        }],\n [{\n            'v': 1,\n            'f': \"1\",\n        },\n\"69634\",\n{\n            'v': 6590.0,\n            'f': \"6590.0\",\n        },\n{\n            'v': 8.0,\n            'f': \"8.0\",\n        },\n{\n            'v': 3.2,\n            'f': \"3.2\",\n        },\n{\n            'v': 0.96,\n            'f': \"0.96\",\n        },\n{\n            'v': 203.0,\n            'f': \"203.0\",\n        },\n{\n            'v': 16.0,\n            'f': \"16.0\",\n        },\n{\n            'v': 412.0,\n            'f': \"412.0\",\n        }],\n [{\n            'v': 2,\n            'f': \"2\",\n        },\n\"69636\",\n{\n            'v': 38055.0,\n            'f': \"38055.0\",\n        },\n{\n            'v': 12.99,\n            'f': \"12.99\",\n        },\n{\n            'v': 5.196000000000001,\n            'f': \"5.196000000000001\",\n        },\n{\n            'v': 1.5588000000000002,\n            'f': \"1.5588000000000002\",\n        },\n{\n            'v': 383.0,\n            'f': \"383.0\",\n        },\n{\n            'v': 16.0,\n            'f': \"16.0\",\n        },\n{\n            'v': 2378.0,\n            'f': \"2378.0\",\n        }],\n [{\n            'v': 3,\n            'f': \"3\",\n        },\n\"69637\",\n{\n            'v': 74955.0,\n            'f': \"74955.0\",\n        },\n{\n            'v': 16.5,\n            'f': \"16.5\",\n        },\n{\n            'v': 6.6000000000000005,\n            'f': \"6.6000000000000005\",\n        },\n{\n            'v': 1.98,\n            'f': \"1.98\",\n        },\n{\n            'v': 477.0,\n            'f': \"477.0\",\n        },\n{\n            'v': 16.0,\n            'f': \"16.0\",\n        },\n{\n            'v': 4685.0,\n            'f': \"4685.0\",\n        }],\n [{\n            'v': 4,\n            'f': \"4\",\n        },\n\"69638\",\n{\n            'v': 19900.0,\n            'f': \"19900.0\",\n        },\n{\n            'v': 21.99,\n            'f': \"21.99\",\n        },\n{\n            'v': 8.796,\n            'f': \"8.796\",\n        },\n{\n            'v': 2.6388,\n            'f': \"2.6388\",\n        },\n{\n            'v': 213.0,\n            'f': \"213.0\",\n        },\n{\n            'v': 16.0,\n            'f': \"16.0\",\n        },\n{\n            'v': 1244.0,\n            'f': \"1244.0\",\n        }]],\n        columns: [[\"number\", \"index\"], [\"string\", \"forecast_key\"], [\"number\", \"annual_forecast\"], [\"number\", \"item_price\"], [\"number\", \"item_cost\"], [\"number\", \"holding_cost_unit\"], [\"number\", \"economic_order_qty\"], [\"number\", \"orders_per_year\"], [\"number\", \"actual_order_qty\"]],\n        columnOptions: [{\"width\": \"1px\", \"className\": \"index_column\"}],\n        rowsPerPage: 25,\n        helpUrl: \"https://colab.research.google.com/notebooks/data_table.ipynb\",\n        suppressOutputScrolling: true,\n        minimumWidth: undefined,\n      });\n    ",
            "text/html": [
              "<div>\n",
              "<style scoped>\n",
              "    .dataframe tbody tr th:only-of-type {\n",
              "        vertical-align: middle;\n",
              "    }\n",
              "\n",
              "    .dataframe tbody tr th {\n",
              "        vertical-align: top;\n",
              "    }\n",
              "\n",
              "    .dataframe thead th {\n",
              "        text-align: right;\n",
              "    }\n",
              "</style>\n",
              "<table border=\"1\" class=\"dataframe\">\n",
              "  <thead>\n",
              "    <tr style=\"text-align: right;\">\n",
              "      <th></th>\n",
              "      <th>forecast_key</th>\n",
              "      <th>annual_forecast</th>\n",
              "      <th>item_price</th>\n",
              "      <th>item_cost</th>\n",
              "      <th>holding_cost_unit</th>\n",
              "      <th>economic_order_qty</th>\n",
              "      <th>orders_per_year</th>\n",
              "      <th>actual_order_qty</th>\n",
              "    </tr>\n",
              "  </thead>\n",
              "  <tbody>\n",
              "    <tr>\n",
              "      <th>0</th>\n",
              "      <td>67586</td>\n",
              "      <td>6115.0</td>\n",
              "      <td>7.77</td>\n",
              "      <td>3.108</td>\n",
              "      <td>0.9324</td>\n",
              "      <td>198.0</td>\n",
              "      <td>16.0</td>\n",
              "      <td>382.0</td>\n",
              "    </tr>\n",
              "    <tr>\n",
              "      <th>1</th>\n",
              "      <td>69634</td>\n",
              "      <td>6590.0</td>\n",
              "      <td>8.00</td>\n",
              "      <td>3.200</td>\n",
              "      <td>0.9600</td>\n",
              "      <td>203.0</td>\n",
              "      <td>16.0</td>\n",
              "      <td>412.0</td>\n",
              "    </tr>\n",
              "    <tr>\n",
              "      <th>2</th>\n",
              "      <td>69636</td>\n",
              "      <td>38055.0</td>\n",
              "      <td>12.99</td>\n",
              "      <td>5.196</td>\n",
              "      <td>1.5588</td>\n",
              "      <td>383.0</td>\n",
              "      <td>16.0</td>\n",
              "      <td>2378.0</td>\n",
              "    </tr>\n",
              "    <tr>\n",
              "      <th>3</th>\n",
              "      <td>69637</td>\n",
              "      <td>74955.0</td>\n",
              "      <td>16.50</td>\n",
              "      <td>6.600</td>\n",
              "      <td>1.9800</td>\n",
              "      <td>477.0</td>\n",
              "      <td>16.0</td>\n",
              "      <td>4685.0</td>\n",
              "    </tr>\n",
              "    <tr>\n",
              "      <th>4</th>\n",
              "      <td>69638</td>\n",
              "      <td>19900.0</td>\n",
              "      <td>21.99</td>\n",
              "      <td>8.796</td>\n",
              "      <td>2.6388</td>\n",
              "      <td>213.0</td>\n",
              "      <td>16.0</td>\n",
              "      <td>1244.0</td>\n",
              "    </tr>\n",
              "  </tbody>\n",
              "</table>\n",
              "</div>"
            ],
            "text/plain": [
              "  forecast_key  annual_forecast  ...  orders_per_year  actual_order_qty\n",
              "0        67586           6115.0  ...             16.0             382.0\n",
              "1        69634           6590.0  ...             16.0             412.0\n",
              "2        69636          38055.0  ...             16.0            2378.0\n",
              "3        69637          74955.0  ...             16.0            4685.0\n",
              "4        69638          19900.0  ...             16.0            1244.0\n",
              "\n",
              "[5 rows x 8 columns]"
            ]
          },
          "metadata": {
            "tags": []
          },
          "execution_count": 11
        }
      ]
    },
    {
      "cell_type": "markdown",
      "metadata": {
        "id": "lSOx7VhWzy2i"
      },
      "source": [
        "### Reorder Point\n",
        "\n",
        "$ Reorder Point = Lead \\ Time \\ Demand + Safety \\ Stock $\n",
        "\n",
        "Lead time demand will be different for each month due to demand fluctuation.\n",
        "\n",
        "<br>\n",
        "\n",
        "First, we'll calculate the average lead time demand throughout the year:"
      ]
    },
    {
      "cell_type": "code",
      "metadata": {
        "colab": {
          "base_uri": "https://localhost:8080/",
          "height": 180
        },
        "id": "sdBesqD1GcpA",
        "outputId": "c05e373e-4313-4bc6-b307-73dde09b0499"
      },
      "source": [
        "# Calculate mean lead time demand (will be used with safety stock later on)\n",
        "mean_lead_time_demand = monthly_forecasts.groupby('forecast_key')['forecast'].mean()\n",
        "mean_lead_time_demand.rename('mean_lt_demand',inplace=True)\n",
        "lt_demand_dict = mean_lead_time_demand.to_dict()\n",
        "\n",
        "# Join to main dataset\n",
        "year_forecast = year_forecast.set_index('forecast_key').join(mean_lead_time_demand).reset_index()\n",
        "\n",
        "# Remaining inventroy cost calculated from yearly dataset. Divided by two to average across periods. Exclude safety stock\n",
        "year_forecast['lt_stock_cost'] = (year_forecast['mean_lt_demand']*year_forecast['holding_cost_unit'])/2\n",
        "year_forecast['oq_stock_cost'] = (year_forecast['actual_order_qty']*year_forecast['holding_cost_unit'])/2\n",
        "\n",
        "year_forecast.head()"
      ],
      "execution_count": null,
      "outputs": [
        {
          "output_type": "execute_result",
          "data": {
            "application/vnd.google.colaboratory.module+javascript": "\n      import \"https://ssl.gstatic.com/colaboratory/data_table/a6224c040fa35dcf/data_table.js\";\n\n      window.createDataTable({\n        data: [[{\n            'v': 0,\n            'f': \"0\",\n        },\n\"67586\",\n{\n            'v': 6115.0,\n            'f': \"6115.0\",\n        },\n{\n            'v': 7.77,\n            'f': \"7.77\",\n        },\n{\n            'v': 3.108,\n            'f': \"3.108\",\n        },\n{\n            'v': 0.9324,\n            'f': \"0.9324\",\n        },\n{\n            'v': 198.0,\n            'f': \"198.0\",\n        },\n{\n            'v': 16.0,\n            'f': \"16.0\",\n        },\n{\n            'v': 382.0,\n            'f': \"382.0\",\n        },\n{\n            'v': 470.38461538461536,\n            'f': \"470.38461538461536\",\n        },\n{\n            'v': 219.29330769230768,\n            'f': \"219.29330769230768\",\n        },\n{\n            'v': 178.0884,\n            'f': \"178.0884\",\n        }],\n [{\n            'v': 1,\n            'f': \"1\",\n        },\n\"69634\",\n{\n            'v': 6590.0,\n            'f': \"6590.0\",\n        },\n{\n            'v': 8.0,\n            'f': \"8.0\",\n        },\n{\n            'v': 3.2,\n            'f': \"3.2\",\n        },\n{\n            'v': 0.96,\n            'f': \"0.96\",\n        },\n{\n            'v': 203.0,\n            'f': \"203.0\",\n        },\n{\n            'v': 16.0,\n            'f': \"16.0\",\n        },\n{\n            'v': 412.0,\n            'f': \"412.0\",\n        },\n{\n            'v': 506.9230769230769,\n            'f': \"506.9230769230769\",\n        },\n{\n            'v': 243.3230769230769,\n            'f': \"243.3230769230769\",\n        },\n{\n            'v': 197.76,\n            'f': \"197.76\",\n        }],\n [{\n            'v': 2,\n            'f': \"2\",\n        },\n\"69636\",\n{\n            'v': 38055.0,\n            'f': \"38055.0\",\n        },\n{\n            'v': 12.99,\n            'f': \"12.99\",\n        },\n{\n            'v': 5.196000000000001,\n            'f': \"5.196000000000001\",\n        },\n{\n            'v': 1.5588000000000002,\n            'f': \"1.5588000000000002\",\n        },\n{\n            'v': 383.0,\n            'f': \"383.0\",\n        },\n{\n            'v': 16.0,\n            'f': \"16.0\",\n        },\n{\n            'v': 2378.0,\n            'f': \"2378.0\",\n        },\n{\n            'v': 2927.3076923076924,\n            'f': \"2927.3076923076924\",\n        },\n{\n            'v': 2281.543615384616,\n            'f': \"2281.543615384616\",\n        },\n{\n            'v': 1853.4132000000002,\n            'f': \"1853.4132000000002\",\n        }],\n [{\n            'v': 3,\n            'f': \"3\",\n        },\n\"69637\",\n{\n            'v': 74955.0,\n            'f': \"74955.0\",\n        },\n{\n            'v': 16.5,\n            'f': \"16.5\",\n        },\n{\n            'v': 6.6000000000000005,\n            'f': \"6.6000000000000005\",\n        },\n{\n            'v': 1.98,\n            'f': \"1.98\",\n        },\n{\n            'v': 477.0,\n            'f': \"477.0\",\n        },\n{\n            'v': 16.0,\n            'f': \"16.0\",\n        },\n{\n            'v': 4685.0,\n            'f': \"4685.0\",\n        },\n{\n            'v': 5765.7692307692305,\n            'f': \"5765.7692307692305\",\n        },\n{\n            'v': 5708.111538461538,\n            'f': \"5708.111538461538\",\n        },\n{\n            'v': 4638.15,\n            'f': \"4638.15\",\n        }],\n [{\n            'v': 4,\n            'f': \"4\",\n        },\n\"69638\",\n{\n            'v': 19900.0,\n            'f': \"19900.0\",\n        },\n{\n            'v': 21.99,\n            'f': \"21.99\",\n        },\n{\n            'v': 8.796,\n            'f': \"8.796\",\n        },\n{\n            'v': 2.6388,\n            'f': \"2.6388\",\n        },\n{\n            'v': 213.0,\n            'f': \"213.0\",\n        },\n{\n            'v': 16.0,\n            'f': \"16.0\",\n        },\n{\n            'v': 1244.0,\n            'f': \"1244.0\",\n        },\n{\n            'v': 1530.7692307692307,\n            'f': \"1530.7692307692307\",\n        },\n{\n            'v': 2019.6969230769228,\n            'f': \"2019.6969230769228\",\n        },\n{\n            'v': 1641.3336,\n            'f': \"1641.3336\",\n        }]],\n        columns: [[\"number\", \"index\"], [\"string\", \"forecast_key\"], [\"number\", \"annual_forecast\"], [\"number\", \"item_price\"], [\"number\", \"item_cost\"], [\"number\", \"holding_cost_unit\"], [\"number\", \"economic_order_qty\"], [\"number\", \"orders_per_year\"], [\"number\", \"actual_order_qty\"], [\"number\", \"mean_lt_demand\"], [\"number\", \"lt_stock_cost\"], [\"number\", \"oq_stock_cost\"]],\n        columnOptions: [{\"width\": \"1px\", \"className\": \"index_column\"}],\n        rowsPerPage: 25,\n        helpUrl: \"https://colab.research.google.com/notebooks/data_table.ipynb\",\n        suppressOutputScrolling: true,\n        minimumWidth: undefined,\n      });\n    ",
            "text/html": [
              "<div>\n",
              "<style scoped>\n",
              "    .dataframe tbody tr th:only-of-type {\n",
              "        vertical-align: middle;\n",
              "    }\n",
              "\n",
              "    .dataframe tbody tr th {\n",
              "        vertical-align: top;\n",
              "    }\n",
              "\n",
              "    .dataframe thead th {\n",
              "        text-align: right;\n",
              "    }\n",
              "</style>\n",
              "<table border=\"1\" class=\"dataframe\">\n",
              "  <thead>\n",
              "    <tr style=\"text-align: right;\">\n",
              "      <th></th>\n",
              "      <th>forecast_key</th>\n",
              "      <th>annual_forecast</th>\n",
              "      <th>item_price</th>\n",
              "      <th>item_cost</th>\n",
              "      <th>holding_cost_unit</th>\n",
              "      <th>economic_order_qty</th>\n",
              "      <th>orders_per_year</th>\n",
              "      <th>actual_order_qty</th>\n",
              "      <th>mean_lt_demand</th>\n",
              "      <th>lt_stock_cost</th>\n",
              "      <th>oq_stock_cost</th>\n",
              "    </tr>\n",
              "  </thead>\n",
              "  <tbody>\n",
              "    <tr>\n",
              "      <th>0</th>\n",
              "      <td>67586</td>\n",
              "      <td>6115.0</td>\n",
              "      <td>7.77</td>\n",
              "      <td>3.108</td>\n",
              "      <td>0.9324</td>\n",
              "      <td>198.0</td>\n",
              "      <td>16.0</td>\n",
              "      <td>382.0</td>\n",
              "      <td>470.384615</td>\n",
              "      <td>219.293308</td>\n",
              "      <td>178.0884</td>\n",
              "    </tr>\n",
              "    <tr>\n",
              "      <th>1</th>\n",
              "      <td>69634</td>\n",
              "      <td>6590.0</td>\n",
              "      <td>8.00</td>\n",
              "      <td>3.200</td>\n",
              "      <td>0.9600</td>\n",
              "      <td>203.0</td>\n",
              "      <td>16.0</td>\n",
              "      <td>412.0</td>\n",
              "      <td>506.923077</td>\n",
              "      <td>243.323077</td>\n",
              "      <td>197.7600</td>\n",
              "    </tr>\n",
              "    <tr>\n",
              "      <th>2</th>\n",
              "      <td>69636</td>\n",
              "      <td>38055.0</td>\n",
              "      <td>12.99</td>\n",
              "      <td>5.196</td>\n",
              "      <td>1.5588</td>\n",
              "      <td>383.0</td>\n",
              "      <td>16.0</td>\n",
              "      <td>2378.0</td>\n",
              "      <td>2927.307692</td>\n",
              "      <td>2281.543615</td>\n",
              "      <td>1853.4132</td>\n",
              "    </tr>\n",
              "    <tr>\n",
              "      <th>3</th>\n",
              "      <td>69637</td>\n",
              "      <td>74955.0</td>\n",
              "      <td>16.50</td>\n",
              "      <td>6.600</td>\n",
              "      <td>1.9800</td>\n",
              "      <td>477.0</td>\n",
              "      <td>16.0</td>\n",
              "      <td>4685.0</td>\n",
              "      <td>5765.769231</td>\n",
              "      <td>5708.111538</td>\n",
              "      <td>4638.1500</td>\n",
              "    </tr>\n",
              "    <tr>\n",
              "      <th>4</th>\n",
              "      <td>69638</td>\n",
              "      <td>19900.0</td>\n",
              "      <td>21.99</td>\n",
              "      <td>8.796</td>\n",
              "      <td>2.6388</td>\n",
              "      <td>213.0</td>\n",
              "      <td>16.0</td>\n",
              "      <td>1244.0</td>\n",
              "      <td>1530.769231</td>\n",
              "      <td>2019.696923</td>\n",
              "      <td>1641.3336</td>\n",
              "    </tr>\n",
              "  </tbody>\n",
              "</table>\n",
              "</div>"
            ],
            "text/plain": [
              "  forecast_key  annual_forecast  ...  lt_stock_cost  oq_stock_cost\n",
              "0        67586           6115.0  ...     219.293308       178.0884\n",
              "1        69634           6590.0  ...     243.323077       197.7600\n",
              "2        69636          38055.0  ...    2281.543615      1853.4132\n",
              "3        69637          74955.0  ...    5708.111538      4638.1500\n",
              "4        69638          19900.0  ...    2019.696923      1641.3336\n",
              "\n",
              "[5 rows x 11 columns]"
            ]
          },
          "metadata": {
            "tags": []
          },
          "execution_count": 12
        }
      ]
    },
    {
      "cell_type": "markdown",
      "metadata": {
        "id": "wkWpd4CO1k5C"
      },
      "source": [
        "### Optimize Safety Stock\n",
        "\n"
      ]
    },
    {
      "cell_type": "markdown",
      "metadata": {
        "id": "HW9U2g71F8sy"
      },
      "source": [
        "We'll optimize safety stock by minimizing the cost function defined as:\n",
        "\n",
        "> $C(x) = SS(sl) \\times IC + LS$\n",
        "\n",
        "Where:\n",
        "\n",
        "* _SS: Total safety stock for all items, a function of the service level (sl)_   \n",
        "* _IC: Inventory holding cost (year)_  \n",
        "* _LS: Lost sales estimate for the period (year)_  \n",
        "\n",
        "  \n",
        "---\n",
        "\n",
        "<br>\n",
        "\n",
        "\n",
        "**Calculating Safety Stock with Demand Uncertainty**\n",
        "\n",
        "The calculation of the safety stock itself will consider the normal deviation of **demand forecast error** during lead time. \n",
        "\n",
        "The service level is defined as the percentage of the **time spent in stock** over a total period equal to the lead time.\n",
        "\n",
        "For simplicity purposes, the **lead time is assumed to be one month** for all items. If lead time was different, then forecast error would have to be measured across the lead time.\n",
        "\n",
        "Some safety stock formulas are calculated based on average demand during lead time. However, this will lead to extreme inventories since it will assume demand forecast is the mean of historical observations. Since we can explain some variation in the data by causal factors through forecasting, the forecast error is incorporated into the safety stock calculation. \n",
        "\n",
        "Safety stock forumla given by:\n",
        "\n",
        "> $ SS = Z \\times ∂F_{error} $\n",
        "\n",
        "Where:   \n",
        "* Z - Inverse probability function  \n",
        "* $∂F_{error}$ - Standard deviation of forecast error **during lead time**\n",
        "\n",
        "_Note: ideally the forecast error should be taken from actuals vs forecast. However, we don't have actual forecasts to compare the model to, so we'll use the test error deviation._\n",
        "\n",
        "Source: https://www.lokad.com/calculate-safety-stocks-with-sales-forecasting\n",
        "\n",
        "\n",
        "---\n",
        "\n",
        "<br>\n",
        "\n",
        "\n",
        "**Calculating Lost Sales**\n",
        "\n",
        "\n",
        "The serivce level in this case essentialy indicates the percentage of replenishment cycles that the warehouse will remain in stock for a given item during lead time. We can estimate the lost sales. If an item is ordered 100 times during the year, a service level of 95% indicates an out of stock occurence will happen 5 times.  \n",
        "\n",
        "If the lead time is one month, then the item is at risk of running out of stock due to unforeseen demand at any point during the 30 day lead time period. Since inventory is usually high at the beginning of the lead time period, out of stocks will tend to occur in later days.  \n",
        "\n",
        "For this project it is assumed that, on average, an out of stock result in lost sales equal to the forecast error in value. \n",
        "\n",
        "Lost sales can then be estimate by: \n",
        "\n",
        "> $LS = (1-sl) \\times OrdersPerYear \\times MAD_{forecast} \\times Unit Value$\n",
        "\n",
        "Where:  \n",
        "* sl - Service level \n",
        "* MAD - Mean absolute deviation of the forecast error\n",
        "\n",
        "Source: https://www.lokad.com/service-level-definition-and-formula"
      ]
    },
    {
      "cell_type": "code",
      "metadata": {
        "id": "CdrSe0-Y2HBS",
        "colab": {
          "base_uri": "https://localhost:8080/"
        },
        "outputId": "8fed6b93-a0a9-41f3-fd79-1d829d95abc6"
      },
      "source": [
        "# First, we calculate the profit value of the mean forecast error\n",
        "# (how much the distributor would have expected to sell in a stockout period)\n",
        "\n",
        "profit_margin = .15\n",
        "mad_by_key = historical.groupby('forecast_key')['error'].apply(lambda x: np.mean(abs(x)))\n",
        "key_value = [item_price_dict.get(key) for key in mad_by_key.index]\n",
        "mad_profit_value = pd.DataFrame(mad_by_key * key_value * profit_margin)\n",
        "mad_profit_value = mad_profit_value.join(year_forecast.set_index('forecast_key')['orders_per_year']) \n",
        "\n",
        "# Next, the average number of orders per year is used to precalculate the probability of stock out\n",
        "stock_out_cost = (mad_profit_value['error'] * mad_profit_value['orders_per_year']).sum()\n",
        "\n",
        "\n",
        "# Create safety stock function that will be applied to each item\n",
        "def safety_stock_func(df,service_level):\n",
        "    z = stats.norm.ppf(service_level) \n",
        "    std_forecast_error = np.std(df['error'])\n",
        "    ss_calculation = z * std_forecast_error\n",
        "\n",
        "    return ss_calculation\n",
        "\n",
        "\n",
        "service_levels_list = np.arange(.90,.995,.001) # values to be looped\n",
        "\n",
        "# Initialize cost lists used to hold outputs\n",
        "safety_stock_cost_list = []\n",
        "lost_sales_list = []\n",
        "\n",
        "# Calculate lost sales and inventory cost for each service level\n",
        "for sl in service_levels_list:\n",
        "  \n",
        "  safety_stock = historical.groupby('forecast_key').apply(lambda x: safety_stock_func(x,sl))\n",
        "  \n",
        "  holding_cost = [item_holding_cost_dict.get(key) for key in safety_stock.index] # Lookup\n",
        "  \n",
        "  safety_stock_cost = sum(safety_stock*holding_cost)\n",
        "  \n",
        "  safety_stock_cost_list.append(safety_stock_cost)\n",
        "\n",
        "  lost_sales = (1-sl)*stock_out_cost # estimate per year.\n",
        "  \n",
        "  lost_sales_list.append(lost_sales)\n",
        "\n",
        "# Join cost data in data frame\n",
        "safety_stock_cost_levels = pd.DataFrame({'lost_sales':lost_sales_list,\n",
        "                                      'safety_stock_cost':safety_stock_cost_list},\n",
        "                                     service_levels_list*100)\n",
        "\n",
        "# Total cost function\n",
        "safety_stock_cost_levels['total_cost'] = safety_stock_cost_levels['lost_sales'] + safety_stock_cost_levels['safety_stock_cost']\n",
        "\n",
        "# Optimal service level\n",
        "optimal_sl = safety_stock_cost_levels['total_cost'].idxmin()\n",
        "optimal_sl_cost = safety_stock_cost_levels['total_cost'].min()\n",
        "print('Optimal service level: {}%'.format(optimal_sl))"
      ],
      "execution_count": null,
      "outputs": [
        {
          "output_type": "stream",
          "text": [
            "Optimal service level: 96.9%\n"
          ],
          "name": "stdout"
        }
      ]
    },
    {
      "cell_type": "code",
      "metadata": {
        "colab": {
          "base_uri": "https://localhost:8080/",
          "height": 430
        },
        "id": "awomYq3Wk-_N",
        "outputId": "b4a0acaf-4a70-445d-dc50-96cc2ac42ce8"
      },
      "source": [
        "# We now have the lost sales estimate and inventory cost  by service level. Plotting the results:\n",
        "plt.figure(figsize=(8,6))\n",
        "plt.title('Safety Stock Optimization')\n",
        "\n",
        "index = safety_stock_cost_levels.index\n",
        "\n",
        "sns.lineplot(x=index,y=(safety_stock_cost_levels['total_cost']))\n",
        "sns.lineplot(x=index,y=(safety_stock_cost_levels['safety_stock_cost']),color='orange')\n",
        "sns.lineplot(x=index,y=(safety_stock_cost_levels['lost_sales']),color='green')\n",
        "plt.scatter(optimal_sl, optimal_sl_cost, marker='o', s=70) # optimal point\n",
        "\n",
        "plt.annotate('Optimal SL: {}%'.format(optimal_sl), \n",
        "             xy=(optimal_sl,optimal_sl_cost),\n",
        "             xytext=(optimal_sl-2, (optimal_sl_cost)+12000)\n",
        "             )\n",
        "\n",
        "plt.legend(['Total cost','Safety stock cost','Lost sales'])\n",
        "plt.ylabel('Dollars')\n",
        "plt.xlabel('Service level %')\n",
        "plt.show()"
      ],
      "execution_count": null,
      "outputs": [
        {
          "output_type": "display_data",
          "data": {
            "image/png": "[encoded data removed]",
            "text/plain": [
              "<Figure size 576x432 with 1 Axes>"
            ]
          },
          "metadata": {
            "tags": [],
            "needs_background": "light"
          }
        }
      ]
    },
    {
      "cell_type": "markdown",
      "metadata": {
        "id": "yqBmGOmucS9B"
      },
      "source": [
        "#### Calculate Safety Stock with optimal service level"
      ]
    },
    {
      "cell_type": "code",
      "metadata": {
        "id": "Aok0fsaKM2Bi",
        "colab": {
          "base_uri": "https://localhost:8080/",
          "height": 180
        },
        "outputId": "91a39b73-f852-4773-a1b7-b7e540d7b130"
      },
      "source": [
        "# Desired service level\n",
        "sl = optimal_sl/100\n",
        "safety_stock = historical.groupby('forecast_key').apply(lambda x: safety_stock_func(x,sl))\n",
        "safety_stock = pd.DataFrame(safety_stock,columns=['safety_stock']).round()\n",
        "\n",
        "safety_stock['std_error'] = historical.groupby('forecast_key')['error'].apply(lambda x: np.std(x))\n",
        "safety_stock.head()"
      ],
      "execution_count": null,
      "outputs": [
        {
          "output_type": "execute_result",
          "data": {
            "application/vnd.google.colaboratory.module+javascript": "\n      import \"https://ssl.gstatic.com/colaboratory/data_table/a6224c040fa35dcf/data_table.js\";\n\n      window.createDataTable({\n        data: [[\"100015\",\n{\n            'v': 110.0,\n            'f': \"110.0\",\n        },\n{\n            'v': 59.13070191784513,\n            'f': \"59.13070191784513\",\n        }],\n [\"10006\",\n{\n            'v': 83.0,\n            'f': \"83.0\",\n        },\n{\n            'v': 44.427531504187314,\n            'f': \"44.427531504187314\",\n        }],\n [\"10008\",\n{\n            'v': 247.0,\n            'f': \"247.0\",\n        },\n{\n            'v': 132.21682922591796,\n            'f': \"132.21682922591796\",\n        }],\n [\"10009\",\n{\n            'v': 95.0,\n            'f': \"95.0\",\n        },\n{\n            'v': 50.76523786017357,\n            'f': \"50.76523786017357\",\n        }],\n [\"100413\",\n{\n            'v': 146.0,\n            'f': \"146.0\",\n        },\n{\n            'v': 78.21679978492499,\n            'f': \"78.21679978492499\",\n        }]],\n        columns: [[\"string\", \"forecast_key\"], [\"number\", \"safety_stock\"], [\"number\", \"std_error\"]],\n        columnOptions: [{\"width\": \"1px\", \"className\": \"index_column\"}],\n        rowsPerPage: 25,\n        helpUrl: \"https://colab.research.google.com/notebooks/data_table.ipynb\",\n        suppressOutputScrolling: true,\n        minimumWidth: undefined,\n      });\n    ",
            "text/html": [
              "<div>\n",
              "<style scoped>\n",
              "    .dataframe tbody tr th:only-of-type {\n",
              "        vertical-align: middle;\n",
              "    }\n",
              "\n",
              "    .dataframe tbody tr th {\n",
              "        vertical-align: top;\n",
              "    }\n",
              "\n",
              "    .dataframe thead th {\n",
              "        text-align: right;\n",
              "    }\n",
              "</style>\n",
              "<table border=\"1\" class=\"dataframe\">\n",
              "  <thead>\n",
              "    <tr style=\"text-align: right;\">\n",
              "      <th></th>\n",
              "      <th>safety_stock</th>\n",
              "      <th>std_error</th>\n",
              "    </tr>\n",
              "    <tr>\n",
              "      <th>forecast_key</th>\n",
              "      <th></th>\n",
              "      <th></th>\n",
              "    </tr>\n",
              "  </thead>\n",
              "  <tbody>\n",
              "    <tr>\n",
              "      <th>100015</th>\n",
              "      <td>110.0</td>\n",
              "      <td>59.130702</td>\n",
              "    </tr>\n",
              "    <tr>\n",
              "      <th>10006</th>\n",
              "      <td>83.0</td>\n",
              "      <td>44.427532</td>\n",
              "    </tr>\n",
              "    <tr>\n",
              "      <th>10008</th>\n",
              "      <td>247.0</td>\n",
              "      <td>132.216829</td>\n",
              "    </tr>\n",
              "    <tr>\n",
              "      <th>10009</th>\n",
              "      <td>95.0</td>\n",
              "      <td>50.765238</td>\n",
              "    </tr>\n",
              "    <tr>\n",
              "      <th>100413</th>\n",
              "      <td>146.0</td>\n",
              "      <td>78.216800</td>\n",
              "    </tr>\n",
              "  </tbody>\n",
              "</table>\n",
              "</div>"
            ],
            "text/plain": [
              "              safety_stock   std_error\n",
              "forecast_key                          \n",
              "100015               110.0   59.130702\n",
              "10006                 83.0   44.427532\n",
              "10008                247.0  132.216829\n",
              "10009                 95.0   50.765238\n",
              "100413               146.0   78.216800"
            ]
          },
          "metadata": {
            "tags": []
          },
          "execution_count": 15
        }
      ]
    },
    {
      "cell_type": "code",
      "metadata": {
        "colab": {
          "base_uri": "https://localhost:8080/",
          "height": 180
        },
        "id": "wGunxG6BdZ7w",
        "outputId": "bf85d8e8-feac-4438-ad24-140c69abbad3"
      },
      "source": [
        "# Join other parameters\n",
        "inventory_data = safety_stock.join(year_forecast.set_index('forecast_key'))\n",
        "inventory_data.round(2).head()"
      ],
      "execution_count": null,
      "outputs": [
        {
          "output_type": "execute_result",
          "data": {
            "application/vnd.google.colaboratory.module+javascript": "\n      import \"https://ssl.gstatic.com/colaboratory/data_table/a6224c040fa35dcf/data_table.js\";\n\n      window.createDataTable({\n        data: [[\"100015\",\n{\n            'v': 110.0,\n            'f': \"110.0\",\n        },\n{\n            'v': 59.13,\n            'f': \"59.13\",\n        },\n{\n            'v': 1000.0,\n            'f': \"1000.0\",\n        },\n{\n            'v': 45.0,\n            'f': \"45.0\",\n        },\n{\n            'v': 18.0,\n            'f': \"18.0\",\n        },\n{\n            'v': 5.4,\n            'f': \"5.4\",\n        },\n{\n            'v': 33.0,\n            'f': \"33.0\",\n        },\n{\n            'v': 16.0,\n            'f': \"16.0\",\n        },\n{\n            'v': 62.0,\n            'f': \"62.0\",\n        },\n{\n            'v': 76.92,\n            'f': \"76.92\",\n        },\n{\n            'v': 207.69,\n            'f': \"207.69\",\n        },\n{\n            'v': 167.4,\n            'f': \"167.4\",\n        }],\n [\"10006\",\n{\n            'v': 83.0,\n            'f': \"83.0\",\n        },\n{\n            'v': 44.43,\n            'f': \"44.43\",\n        },\n{\n            'v': 3750.0,\n            'f': \"3750.0\",\n        },\n{\n            'v': 7.7,\n            'f': \"7.7\",\n        },\n{\n            'v': 3.08,\n            'f': \"3.08\",\n        },\n{\n            'v': 0.92,\n            'f': \"0.92\",\n        },\n{\n            'v': 156.0,\n            'f': \"156.0\",\n        },\n{\n            'v': 16.0,\n            'f': \"16.0\",\n        },\n{\n            'v': 234.0,\n            'f': \"234.0\",\n        },\n{\n            'v': 288.46,\n            'f': \"288.46\",\n        },\n{\n            'v': 133.27,\n            'f': \"133.27\",\n        },\n{\n            'v': 108.11,\n            'f': \"108.11\",\n        }],\n [\"10008\",\n{\n            'v': 247.0,\n            'f': \"247.0\",\n        },\n{\n            'v': 132.22,\n            'f': \"132.22\",\n        },\n{\n            'v': 17970.0,\n            'f': \"17970.0\",\n        },\n{\n            'v': 15.75,\n            'f': \"15.75\",\n        },\n{\n            'v': 6.3,\n            'f': \"6.3\",\n        },\n{\n            'v': 1.89,\n            'f': \"1.89\",\n        },\n{\n            'v': 239.0,\n            'f': \"239.0\",\n        },\n{\n            'v': 16.0,\n            'f': \"16.0\",\n        },\n{\n            'v': 1123.0,\n            'f': \"1123.0\",\n        },\n{\n            'v': 1382.31,\n            'f': \"1382.31\",\n        },\n{\n            'v': 1306.28,\n            'f': \"1306.28\",\n        },\n{\n            'v': 1061.24,\n            'f': \"1061.24\",\n        }],\n [\"10009\",\n{\n            'v': 95.0,\n            'f': \"95.0\",\n        },\n{\n            'v': 50.77,\n            'f': \"50.77\",\n        },\n{\n            'v': 2080.0,\n            'f': \"2080.0\",\n        },\n{\n            'v': 10.11,\n            'f': \"10.11\",\n        },\n{\n            'v': 4.04,\n            'f': \"4.04\",\n        },\n{\n            'v': 1.21,\n            'f': \"1.21\",\n        },\n{\n            'v': 101.0,\n            'f': \"101.0\",\n        },\n{\n            'v': 16.0,\n            'f': \"16.0\",\n        },\n{\n            'v': 130.0,\n            'f': \"130.0\",\n        },\n{\n            'v': 160.0,\n            'f': \"160.0\",\n        },\n{\n            'v': 97.06,\n            'f': \"97.06\",\n        },\n{\n            'v': 78.86,\n            'f': \"78.86\",\n        }],\n [\"100413\",\n{\n            'v': 146.0,\n            'f': \"146.0\",\n        },\n{\n            'v': 78.22,\n            'f': \"78.22\",\n        },\n{\n            'v': 6545.0,\n            'f': \"6545.0\",\n        },\n{\n            'v': 89.94,\n            'f': \"89.94\",\n        },\n{\n            'v': 35.98,\n            'f': \"35.98\",\n        },\n{\n            'v': 10.79,\n            'f': \"10.79\",\n        },\n{\n            'v': 60.0,\n            'f': \"60.0\",\n        },\n{\n            'v': 16.0,\n            'f': \"16.0\",\n        },\n{\n            'v': 409.0,\n            'f': \"409.0\",\n        },\n{\n            'v': 503.46,\n            'f': \"503.46\",\n        },\n{\n            'v': 2716.88,\n            'f': \"2716.88\",\n        },\n{\n            'v': 2207.13,\n            'f': \"2207.13\",\n        }]],\n        columns: [[\"string\", \"forecast_key\"], [\"number\", \"safety_stock\"], [\"number\", \"std_error\"], [\"number\", \"annual_forecast\"], [\"number\", \"item_price\"], [\"number\", \"item_cost\"], [\"number\", \"holding_cost_unit\"], [\"number\", \"economic_order_qty\"], [\"number\", \"orders_per_year\"], [\"number\", \"actual_order_qty\"], [\"number\", \"mean_lt_demand\"], [\"number\", \"lt_stock_cost\"], [\"number\", \"oq_stock_cost\"]],\n        columnOptions: [{\"width\": \"1px\", \"className\": \"index_column\"}],\n        rowsPerPage: 25,\n        helpUrl: \"https://colab.research.google.com/notebooks/data_table.ipynb\",\n        suppressOutputScrolling: true,\n        minimumWidth: undefined,\n      });\n    ",
            "text/html": [
              "<div>\n",
              "<style scoped>\n",
              "    .dataframe tbody tr th:only-of-type {\n",
              "        vertical-align: middle;\n",
              "    }\n",
              "\n",
              "    .dataframe tbody tr th {\n",
              "        vertical-align: top;\n",
              "    }\n",
              "\n",
              "    .dataframe thead th {\n",
              "        text-align: right;\n",
              "    }\n",
              "</style>\n",
              "<table border=\"1\" class=\"dataframe\">\n",
              "  <thead>\n",
              "    <tr style=\"text-align: right;\">\n",
              "      <th></th>\n",
              "      <th>safety_stock</th>\n",
              "      <th>std_error</th>\n",
              "      <th>annual_forecast</th>\n",
              "      <th>item_price</th>\n",
              "      <th>item_cost</th>\n",
              "      <th>holding_cost_unit</th>\n",
              "      <th>economic_order_qty</th>\n",
              "      <th>orders_per_year</th>\n",
              "      <th>actual_order_qty</th>\n",
              "      <th>mean_lt_demand</th>\n",
              "      <th>lt_stock_cost</th>\n",
              "      <th>oq_stock_cost</th>\n",
              "    </tr>\n",
              "    <tr>\n",
              "      <th>forecast_key</th>\n",
              "      <th></th>\n",
              "      <th></th>\n",
              "      <th></th>\n",
              "      <th></th>\n",
              "      <th></th>\n",
              "      <th></th>\n",
              "      <th></th>\n",
              "      <th></th>\n",
              "      <th></th>\n",
              "      <th></th>\n",
              "      <th></th>\n",
              "      <th></th>\n",
              "    </tr>\n",
              "  </thead>\n",
              "  <tbody>\n",
              "    <tr>\n",
              "      <th>100015</th>\n",
              "      <td>110.0</td>\n",
              "      <td>59.13</td>\n",
              "      <td>1000.0</td>\n",
              "      <td>45.00</td>\n",
              "      <td>18.00</td>\n",
              "      <td>5.40</td>\n",
              "      <td>33.0</td>\n",
              "      <td>16.0</td>\n",
              "      <td>62.0</td>\n",
              "      <td>76.92</td>\n",
              "      <td>207.69</td>\n",
              "      <td>167.40</td>\n",
              "    </tr>\n",
              "    <tr>\n",
              "      <th>10006</th>\n",
              "      <td>83.0</td>\n",
              "      <td>44.43</td>\n",
              "      <td>3750.0</td>\n",
              "      <td>7.70</td>\n",
              "      <td>3.08</td>\n",
              "      <td>0.92</td>\n",
              "      <td>156.0</td>\n",
              "      <td>16.0</td>\n",
              "      <td>234.0</td>\n",
              "      <td>288.46</td>\n",
              "      <td>133.27</td>\n",
              "      <td>108.11</td>\n",
              "    </tr>\n",
              "    <tr>\n",
              "      <th>10008</th>\n",
              "      <td>247.0</td>\n",
              "      <td>132.22</td>\n",
              "      <td>17970.0</td>\n",
              "      <td>15.75</td>\n",
              "      <td>6.30</td>\n",
              "      <td>1.89</td>\n",
              "      <td>239.0</td>\n",
              "      <td>16.0</td>\n",
              "      <td>1123.0</td>\n",
              "      <td>1382.31</td>\n",
              "      <td>1306.28</td>\n",
              "      <td>1061.24</td>\n",
              "    </tr>\n",
              "    <tr>\n",
              "      <th>10009</th>\n",
              "      <td>95.0</td>\n",
              "      <td>50.77</td>\n",
              "      <td>2080.0</td>\n",
              "      <td>10.11</td>\n",
              "      <td>4.04</td>\n",
              "      <td>1.21</td>\n",
              "      <td>101.0</td>\n",
              "      <td>16.0</td>\n",
              "      <td>130.0</td>\n",
              "      <td>160.00</td>\n",
              "      <td>97.06</td>\n",
              "      <td>78.86</td>\n",
              "    </tr>\n",
              "    <tr>\n",
              "      <th>100413</th>\n",
              "      <td>146.0</td>\n",
              "      <td>78.22</td>\n",
              "      <td>6545.0</td>\n",
              "      <td>89.94</td>\n",
              "      <td>35.98</td>\n",
              "      <td>10.79</td>\n",
              "      <td>60.0</td>\n",
              "      <td>16.0</td>\n",
              "      <td>409.0</td>\n",
              "      <td>503.46</td>\n",
              "      <td>2716.88</td>\n",
              "      <td>2207.13</td>\n",
              "    </tr>\n",
              "  </tbody>\n",
              "</table>\n",
              "</div>"
            ],
            "text/plain": [
              "              safety_stock  std_error  ...  lt_stock_cost  oq_stock_cost\n",
              "forecast_key                           ...                              \n",
              "100015               110.0      59.13  ...         207.69         167.40\n",
              "10006                 83.0      44.43  ...         133.27         108.11\n",
              "10008                247.0     132.22  ...        1306.28        1061.24\n",
              "10009                 95.0      50.77  ...          97.06          78.86\n",
              "100413               146.0      78.22  ...        2716.88        2207.13\n",
              "\n",
              "[5 rows x 12 columns]"
            ]
          },
          "metadata": {
            "tags": []
          },
          "execution_count": 16
        }
      ]
    },
    {
      "cell_type": "code",
      "metadata": {
        "id": "7gCQOryC20O4",
        "colab": {
          "base_uri": "https://localhost:8080/"
        },
        "outputId": "6b39d288-6925-4f8e-ba94-781ce84db444"
      },
      "source": [
        "# Subset to columns not in Big Query table\n",
        "forecasts = forecasts[forecasts.columns[~forecasts.columns.isin(inventory_data.columns)]]\n",
        "\n",
        "# Join safety stock data to dataset\n",
        "inventory_data = forecasts.set_index(\"forecast_key\").join(inventory_data[['safety_stock']])\n",
        "\n",
        "print('\\n SS Calcualted! \\n Median SS: \\n {}'.format(round(inventory_data['safety_stock'].median())) )"
      ],
      "execution_count": null,
      "outputs": [
        {
          "output_type": "stream",
          "text": [
            "\n",
            " SS Calcualted! \n",
            " Median SS: \n",
            " 158\n"
          ],
          "name": "stdout"
        }
      ]
    },
    {
      "cell_type": "markdown",
      "metadata": {
        "id": "jbYOQG1UcbXU"
      },
      "source": [
        "### Plot"
      ]
    },
    {
      "cell_type": "code",
      "metadata": {
        "id": "m_2NnwH8rhk-",
        "colab": {
          "base_uri": "https://localhost:8080/",
          "height": 752
        },
        "outputId": "c808d61c-2b7f-4285-e281-9ce9684818c1"
      },
      "source": [
        "from scipy.stats import norm\n",
        "\n",
        "specific_key = '64870'\n",
        "\n",
        "# Plot\n",
        "sns.set_context('talk')\n",
        "sample_dataset = historical[historical['forecast_key'].isin(historical['forecast_key']\\\n",
        "                                                            .drop_duplicates().sample())] # random key\n",
        "\n",
        "sample_dataset = historical[historical['forecast_key'].isin([specific_key])]  \n",
        "print('Number of Obs:',len(sample_dataset))\n",
        "\n",
        "# Histogram\n",
        "plt.figure(figsize=(5,5))\n",
        "plt.title('Forecast Error Histogram')\n",
        "sns.distplot(sample_dataset['error'],bins=10,fit=norm)\n",
        "plt.show()\n",
        "\n",
        "# Error plot\n",
        "plt.figure(figsize=(10,4))\n",
        "plt.title('Forecast Error')\n",
        "sns.lineplot(y='error',x='month_year', data=sample_dataset)\n",
        "plt.axhline(0, ls='--',color='red')\n",
        "plt.show()"
      ],
      "execution_count": null,
      "outputs": [
        {
          "output_type": "stream",
          "text": [
            "Number of Obs: 49\n"
          ],
          "name": "stdout"
        },
        {
          "output_type": "stream",
          "text": [
            "/usr/local/lib/python3.6/dist-packages/seaborn/distributions.py:2551: FutureWarning: `distplot` is a deprecated function and will be removed in a future version. Please adapt your code to use either `displot` (a figure-level function with similar flexibility) or `histplot` (an axes-level function for histograms).\n",
            "  warnings.warn(msg, FutureWarning)\n"
          ],
          "name": "stderr"
        },
        {
          "output_type": "display_data",
          "data": {
            "image/png": "[encoded data removed]",
            "text/plain": [
              "<Figure size 360x360 with 1 Axes>"
            ]
          },
          "metadata": {
            "tags": [],
            "needs_background": "light"
          }
        },
        {
          "output_type": "display_data",
          "data": {
            "image/png": "[encoded data removed]",
            "text/plain": [
              "<Figure size 720x288 with 1 Axes>"
            ]
          },
          "metadata": {
            "tags": [],
            "needs_background": "light"
          }
        }
      ]
    },
    {
      "cell_type": "markdown",
      "metadata": {
        "id": "PXkqwBpdScaZ"
      },
      "source": [
        "## Export to BigQuery"
      ]
    },
    {
      "cell_type": "code",
      "metadata": {
        "id": "89r4f6RnScAR",
        "colab": {
          "base_uri": "https://localhost:8080/"
        },
        "outputId": "a0479042-cce6-4adc-a108-6747b3b5b8e3"
      },
      "source": [
        "from google.cloud import bigquery\n",
        "\n",
        "# Save table locally\n",
        "inventory_data.to_csv('ss_forecasts.csv')\n",
        "\n",
        "# Specify project and destination \n",
        "project_id = 'iowa-liquor-sales-266301'\n",
        "bq_dataset_name = \"forecasting\"\n",
        "\n",
        "# Local path of file to be uploaded\n",
        "forecasts_path = \"/content/ss_forecasts.csv\"\n",
        "\n",
        "file_paths = [forecasts_path]\n",
        "table_names = [\"ml_forecasts\"]\n",
        "\n",
        "# Construct a BigQuery client object\n",
        "client = bigquery.Client(project = project_id)\n",
        "\n",
        "# Batch load tables\n",
        "for file_path,tb_name in zip(file_paths,table_names):\n",
        "  \n",
        "  table_id = \"{}.{}.{}\".format(project_id,bq_dataset_name,tb_name)\n",
        "\n",
        "  job_config = bigquery.LoadJobConfig(\n",
        "      source_format=bigquery.SourceFormat.CSV, \n",
        "      skip_leading_rows=1, \n",
        "      autodetect=True,\n",
        "  )\n",
        "\n",
        "  job_config.write_disposition = 'WRITE_TRUNCATE' # Replace data\n",
        "\n",
        "  with open(file_path, \"rb\") as source_file:\n",
        "      job = client.load_table_from_file(source_file, table_id,job_config=job_config)\n",
        "      \n",
        "  job.result()  # Waits for the job to complete.\n",
        "\n",
        "  table = client.get_table(table_id)  # Make an API request.\n",
        "\n",
        "  print(\n",
        "      \"Loaded {} rows and {} columns to {}\".format(\n",
        "          table.num_rows, len(table.schema), table_id\n",
        "      )\n",
        "  )"
      ],
      "execution_count": null,
      "outputs": [
        {
          "output_type": "stream",
          "text": [
            "Loaded 246206 rows and 19 columns to iowa-liquor-sales-266301.forecasting.ml_forecasts\n"
          ],
          "name": "stdout"
        }
      ]
    },
    {
      "cell_type": "markdown",
      "metadata": {
        "id": "GTiUNWLAizrb"
      },
      "source": [
        "View report in dashboard here:\n",
        "https://datastudio.google.com/s/nCK2GUtM2Ls\n"
      ]
    }
  ]
}