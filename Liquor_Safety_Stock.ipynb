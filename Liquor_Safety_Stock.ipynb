{
  "nbformat": 4,
  "nbformat_minor": 0,
  "metadata": {
    "colab": {
      "name": "Liquor Safety Stock",
      "provenance": [],
      "toc_visible": true,
      "mount_file_id": "11sOpyXTMQcqzg8teHoKyZ5A-waReskFZ",
      "authorship_tag": "ABX9TyMz7OIIFnethcXS+Cx0tXZa",
      "include_colab_link": true
    },
    "kernelspec": {
      "name": "python3",
      "display_name": "Python 3"
    }
  },
  "cells": [
    {
      "cell_type": "markdown",
      "metadata": {
        "id": "view-in-github",
        "colab_type": "text"
      },
      "source": [
        "<a href=\"https://colab.research.google.com/github/vjacobsen/Liquor-Sales-Inventory-Forecast/blob/main/Liquor_Safety_Stock.ipynb\" target=\"_parent\"><img src=\"https://colab.research.google.com/assets/colab-badge.svg\" alt=\"Open In Colab\"/></a>"
      ]
    },
    {
      "cell_type": "code",
      "metadata": {
        "id": "mQeBZK2EBARb"
      },
      "source": [
        ""
      ],
      "execution_count": null,
      "outputs": []
    },
    {
      "cell_type": "markdown",
      "metadata": {
        "id": "blnFHycDMtVO"
      },
      "source": [
        "# Safety Stock Calculation\n",
        "\n",
        "The approach used considers forecast error as the only factor requiring buffer inventory. \n",
        "\n",
        "Also, forecast error is assumed to be normally distributed.\n",
        "\n",
        "In a real world scenario, additional variables such as supplier lead time would also need to be added."
      ]
    },
    {
      "cell_type": "code",
      "metadata": {
        "id": "u69py_CuM3TX"
      },
      "source": [
        "import os\n",
        "import pandas as pd\n",
        "import seaborn as sns\n",
        "from scipy import stats\n",
        "import matplotlib.pyplot as plt\n",
        "import numpy as np\n",
        "import datetime "
      ],
      "execution_count": 177,
      "outputs": []
    },
    {
      "cell_type": "markdown",
      "metadata": {
        "id": "gWZdPNLRRhh6"
      },
      "source": [
        "#### Query\n",
        "This is the forecast table loaded to Google Cloud in the previous notebook"
      ]
    },
    {
      "cell_type": "code",
      "metadata": {
        "id": "mGcXCvTMMD9X",
        "colab": {
          "base_uri": "https://localhost:8080/"
        },
        "outputId": "ae99f6bb-857a-4747-d6ba-14c466e3656a"
      },
      "source": [
        "### Provide your credentials to the runtime\n",
        "from google.colab import auth\n",
        "from google.cloud import bigquery\n",
        "\n",
        "auth.authenticate_user()\n",
        "print('Authenticated')\n",
        "\n",
        "project_id = 'iowa-liquor-sales-266301'\n",
        "bq_dataset_name = \"forecasting\"\n",
        "\n",
        "# Construct a BigQuery client object\n",
        "client = bigquery.Client(project = project_id,)"
      ],
      "execution_count": 2,
      "outputs": [
        {
          "output_type": "stream",
          "text": [
            "Authenticated\n"
          ],
          "name": "stdout"
        }
      ]
    },
    {
      "cell_type": "code",
      "metadata": {
        "id": "0wf30rPGRT0Z"
      },
      "source": [
        "# Run query for forecast dataset\n",
        "forecasts_query = client.query('''\n",
        "SELECT *\n",
        "FROM \n",
        "`iowa-liquor-sales-266301.forecasting.ml_forecasts`\n",
        "''').to_dataframe()"
      ],
      "execution_count": 91,
      "outputs": []
    },
    {
      "cell_type": "code",
      "metadata": {
        "colab": {
          "base_uri": "https://localhost:8080/",
          "height": 609
        },
        "id": "eVCkwERouQlk",
        "outputId": "beb452c3-dae3-48a6-d4c7-750a7cda8d5f"
      },
      "source": [
        "forecasts_query"
      ],
      "execution_count": 247,
      "outputs": [
        {
          "output_type": "execute_result",
          "data": {
            "text/html": [
              "<div>\n",
              "<style scoped>\n",
              "    .dataframe tbody tr th:only-of-type {\n",
              "        vertical-align: middle;\n",
              "    }\n",
              "\n",
              "    .dataframe tbody tr th {\n",
              "        vertical-align: top;\n",
              "    }\n",
              "\n",
              "    .dataframe thead th {\n",
              "        text-align: right;\n",
              "    }\n",
              "</style>\n",
              "<table border=\"1\" class=\"dataframe\">\n",
              "  <thead>\n",
              "    <tr style=\"text-align: right;\">\n",
              "      <th></th>\n",
              "      <th>forecast_key</th>\n",
              "      <th>week_date</th>\n",
              "      <th>forecast</th>\n",
              "      <th>mape</th>\n",
              "      <th>best_model</th>\n",
              "      <th>trim_date</th>\n",
              "      <th>type</th>\n",
              "      <th>week_end_date</th>\n",
              "      <th>date</th>\n",
              "      <th>is_holiday</th>\n",
              "      <th>day_of_week</th>\n",
              "      <th>sales_bottles</th>\n",
              "      <th>item_number</th>\n",
              "      <th>category_name</th>\n",
              "      <th>item_description</th>\n",
              "      <th>vendor_number</th>\n",
              "    </tr>\n",
              "  </thead>\n",
              "  <tbody>\n",
              "    <tr>\n",
              "      <th>0</th>\n",
              "      <td>67586</td>\n",
              "      <td>2016-11-13</td>\n",
              "      <td>22.0</td>\n",
              "      <td>0.26</td>\n",
              "      <td>ElasticNet</td>\n",
              "      <td>2020-01-12</td>\n",
              "      <td>train</td>\n",
              "      <td>2016-11-13</td>\n",
              "      <td>2016-11-07</td>\n",
              "      <td>0</td>\n",
              "      <td>0</td>\n",
              "      <td>12.0</td>\n",
              "      <td>67586</td>\n",
              "      <td>Coffee Liqueurs</td>\n",
              "      <td>Kapali Coffee Liqueur</td>\n",
              "      <td>421</td>\n",
              "    </tr>\n",
              "    <tr>\n",
              "      <th>1</th>\n",
              "      <td>67586</td>\n",
              "      <td>2016-11-20</td>\n",
              "      <td>28.0</td>\n",
              "      <td>0.26</td>\n",
              "      <td>ElasticNet</td>\n",
              "      <td>2020-01-12</td>\n",
              "      <td>train</td>\n",
              "      <td>2016-11-20</td>\n",
              "      <td>2016-11-14</td>\n",
              "      <td>0</td>\n",
              "      <td>0</td>\n",
              "      <td>16.0</td>\n",
              "      <td>67586</td>\n",
              "      <td>Coffee Liqueurs</td>\n",
              "      <td>Kapali Coffee Liqueur</td>\n",
              "      <td>421</td>\n",
              "    </tr>\n",
              "    <tr>\n",
              "      <th>2</th>\n",
              "      <td>67586</td>\n",
              "      <td>2016-11-27</td>\n",
              "      <td>22.0</td>\n",
              "      <td>0.26</td>\n",
              "      <td>ElasticNet</td>\n",
              "      <td>2020-01-12</td>\n",
              "      <td>train</td>\n",
              "      <td>2016-11-27</td>\n",
              "      <td>2016-11-21</td>\n",
              "      <td>0</td>\n",
              "      <td>0</td>\n",
              "      <td>60.0</td>\n",
              "      <td>67586</td>\n",
              "      <td>Coffee Liqueurs</td>\n",
              "      <td>Kapali Coffee Liqueur</td>\n",
              "      <td>421</td>\n",
              "    </tr>\n",
              "    <tr>\n",
              "      <th>3</th>\n",
              "      <td>67586</td>\n",
              "      <td>2016-12-04</td>\n",
              "      <td>25.0</td>\n",
              "      <td>0.26</td>\n",
              "      <td>ElasticNet</td>\n",
              "      <td>2020-01-12</td>\n",
              "      <td>train</td>\n",
              "      <td>2016-12-04</td>\n",
              "      <td>2016-11-28</td>\n",
              "      <td>0</td>\n",
              "      <td>0</td>\n",
              "      <td>0.0</td>\n",
              "      <td>67586</td>\n",
              "      <td>Coffee Liqueurs</td>\n",
              "      <td>Kapali Coffee Liqueur</td>\n",
              "      <td>421</td>\n",
              "    </tr>\n",
              "    <tr>\n",
              "      <th>4</th>\n",
              "      <td>67586</td>\n",
              "      <td>2016-12-11</td>\n",
              "      <td>22.0</td>\n",
              "      <td>0.26</td>\n",
              "      <td>ElasticNet</td>\n",
              "      <td>2020-01-12</td>\n",
              "      <td>train</td>\n",
              "      <td>2016-12-11</td>\n",
              "      <td>2016-12-05</td>\n",
              "      <td>0</td>\n",
              "      <td>0</td>\n",
              "      <td>0.0</td>\n",
              "      <td>67586</td>\n",
              "      <td>Coffee Liqueurs</td>\n",
              "      <td>Kapali Coffee Liqueur</td>\n",
              "      <td>421</td>\n",
              "    </tr>\n",
              "    <tr>\n",
              "      <th>...</th>\n",
              "      <td>...</td>\n",
              "      <td>...</td>\n",
              "      <td>...</td>\n",
              "      <td>...</td>\n",
              "      <td>...</td>\n",
              "      <td>...</td>\n",
              "      <td>...</td>\n",
              "      <td>...</td>\n",
              "      <td>...</td>\n",
              "      <td>...</td>\n",
              "      <td>...</td>\n",
              "      <td>...</td>\n",
              "      <td>...</td>\n",
              "      <td>...</td>\n",
              "      <td>...</td>\n",
              "      <td>...</td>\n",
              "    </tr>\n",
              "    <tr>\n",
              "      <th>231931</th>\n",
              "      <td>69631</td>\n",
              "      <td>2021-09-26</td>\n",
              "      <td>0.0</td>\n",
              "      <td>0.25</td>\n",
              "      <td>XGBoost_Trended</td>\n",
              "      <td>2020-01-12</td>\n",
              "      <td>forecast</td>\n",
              "      <td>2021-09-26</td>\n",
              "      <td>2021-09-26</td>\n",
              "      <td>0</td>\n",
              "      <td>6</td>\n",
              "      <td>NaN</td>\n",
              "      <td>69631</td>\n",
              "      <td>Imported Schnapps</td>\n",
              "      <td>Dr McGillicuddys Cherry Mini</td>\n",
              "      <td>421</td>\n",
              "    </tr>\n",
              "    <tr>\n",
              "      <th>231932</th>\n",
              "      <td>69631</td>\n",
              "      <td>2021-10-03</td>\n",
              "      <td>0.0</td>\n",
              "      <td>0.25</td>\n",
              "      <td>XGBoost_Trended</td>\n",
              "      <td>2020-01-12</td>\n",
              "      <td>forecast</td>\n",
              "      <td>2021-10-03</td>\n",
              "      <td>2021-10-03</td>\n",
              "      <td>0</td>\n",
              "      <td>6</td>\n",
              "      <td>NaN</td>\n",
              "      <td>69631</td>\n",
              "      <td>Imported Schnapps</td>\n",
              "      <td>Dr McGillicuddys Cherry Mini</td>\n",
              "      <td>421</td>\n",
              "    </tr>\n",
              "    <tr>\n",
              "      <th>231933</th>\n",
              "      <td>69631</td>\n",
              "      <td>2021-10-10</td>\n",
              "      <td>0.0</td>\n",
              "      <td>0.25</td>\n",
              "      <td>XGBoost_Trended</td>\n",
              "      <td>2020-01-12</td>\n",
              "      <td>forecast</td>\n",
              "      <td>2021-10-10</td>\n",
              "      <td>2021-10-10</td>\n",
              "      <td>0</td>\n",
              "      <td>6</td>\n",
              "      <td>NaN</td>\n",
              "      <td>69631</td>\n",
              "      <td>Imported Schnapps</td>\n",
              "      <td>Dr McGillicuddys Cherry Mini</td>\n",
              "      <td>421</td>\n",
              "    </tr>\n",
              "    <tr>\n",
              "      <th>231934</th>\n",
              "      <td>69631</td>\n",
              "      <td>2021-10-17</td>\n",
              "      <td>0.0</td>\n",
              "      <td>0.25</td>\n",
              "      <td>XGBoost_Trended</td>\n",
              "      <td>2020-01-12</td>\n",
              "      <td>forecast</td>\n",
              "      <td>2021-10-17</td>\n",
              "      <td>2021-10-17</td>\n",
              "      <td>0</td>\n",
              "      <td>6</td>\n",
              "      <td>NaN</td>\n",
              "      <td>69631</td>\n",
              "      <td>Imported Schnapps</td>\n",
              "      <td>Dr McGillicuddys Cherry Mini</td>\n",
              "      <td>421</td>\n",
              "    </tr>\n",
              "    <tr>\n",
              "      <th>231935</th>\n",
              "      <td>69631</td>\n",
              "      <td>2021-10-24</td>\n",
              "      <td>0.0</td>\n",
              "      <td>0.25</td>\n",
              "      <td>XGBoost_Trended</td>\n",
              "      <td>2020-01-12</td>\n",
              "      <td>forecast</td>\n",
              "      <td>2021-10-24</td>\n",
              "      <td>2021-10-24</td>\n",
              "      <td>0</td>\n",
              "      <td>6</td>\n",
              "      <td>NaN</td>\n",
              "      <td>69631</td>\n",
              "      <td>Imported Schnapps</td>\n",
              "      <td>Dr McGillicuddys Cherry Mini</td>\n",
              "      <td>421</td>\n",
              "    </tr>\n",
              "  </tbody>\n",
              "</table>\n",
              "<p>231936 rows × 16 columns</p>\n",
              "</div>"
            ],
            "text/plain": [
              "        forecast_key   week_date  ...              item_description  vendor_number\n",
              "0              67586  2016-11-13  ...         Kapali Coffee Liqueur            421\n",
              "1              67586  2016-11-20  ...         Kapali Coffee Liqueur            421\n",
              "2              67586  2016-11-27  ...         Kapali Coffee Liqueur            421\n",
              "3              67586  2016-12-04  ...         Kapali Coffee Liqueur            421\n",
              "4              67586  2016-12-11  ...         Kapali Coffee Liqueur            421\n",
              "...              ...         ...  ...                           ...            ...\n",
              "231931         69631  2021-09-26  ...  Dr McGillicuddys Cherry Mini            421\n",
              "231932         69631  2021-10-03  ...  Dr McGillicuddys Cherry Mini            421\n",
              "231933         69631  2021-10-10  ...  Dr McGillicuddys Cherry Mini            421\n",
              "231934         69631  2021-10-17  ...  Dr McGillicuddys Cherry Mini            421\n",
              "231935         69631  2021-10-24  ...  Dr McGillicuddys Cherry Mini            421\n",
              "\n",
              "[231936 rows x 16 columns]"
            ]
          },
          "metadata": {
            "tags": []
          },
          "execution_count": 247
        }
      ]
    },
    {
      "cell_type": "markdown",
      "metadata": {
        "id": "lxzr-JkVRjYe"
      },
      "source": [
        "## Transform data\n",
        "\n",
        "Data is grouped by month-year and forecast error is calulated at this level"
      ]
    },
    {
      "cell_type": "code",
      "metadata": {
        "id": "3Rm3lyIC8b7N",
        "colab": {
          "base_uri": "https://localhost:8080/",
          "height": 204
        },
        "outputId": "317e4084-fcf8-403f-86bd-74871fc00cc2"
      },
      "source": [
        "forecasts = forecasts_query.copy()\n",
        "\n",
        "# Convert string to date\n",
        "forecasts['date'] = pd.to_datetime(forecasts_query['date'])\n",
        "\n",
        "# Convert key number to str\n",
        "forecasts['forecast_key'] = forecasts['forecast_key'].astype(str)\n",
        "\n",
        "# Group by month-year\n",
        "forecasts['month_year'] = forecasts['date'].dt.month.astype(str) +  \"_\" + forecasts['date'].dt.year.astype(str)\n",
        "forecasts['year'] = forecasts['date'].dt.year.astype(str)\n",
        "\n",
        "monthly_forecasts = forecasts.groupby(['forecast_key','month_year','type','year']).agg({\"sales_bottles\":sum,\"forecast\":sum,\"date\":max}).reset_index()\n",
        "monthly_forecasts.rename(columns={'date':'month_end'},inplace=True)\n",
        "\n",
        "# Historical only\n",
        "historical = monthly_forecasts[monthly_forecasts['type']!='forecast'] \n",
        "\n",
        "# Future forecast only\n",
        "forecasts_weekly = forecasts[forecasts['type']=='forecast'] \n",
        "monthly_forecasts = monthly_forecasts[monthly_forecasts['type']=='forecast'] \n",
        "\n",
        "target_value = 'sales_bottles'\n",
        "\n",
        "historical['error'] = historical['forecast'] - historical[target_value]  # Error\n",
        "historical.head()"
      ],
      "execution_count": 314,
      "outputs": [
        {
          "output_type": "execute_result",
          "data": {
            "text/html": [
              "<div>\n",
              "<style scoped>\n",
              "    .dataframe tbody tr th:only-of-type {\n",
              "        vertical-align: middle;\n",
              "    }\n",
              "\n",
              "    .dataframe tbody tr th {\n",
              "        vertical-align: top;\n",
              "    }\n",
              "\n",
              "    .dataframe thead th {\n",
              "        text-align: right;\n",
              "    }\n",
              "</style>\n",
              "<table border=\"1\" class=\"dataframe\">\n",
              "  <thead>\n",
              "    <tr style=\"text-align: right;\">\n",
              "      <th></th>\n",
              "      <th>forecast_key</th>\n",
              "      <th>month_year</th>\n",
              "      <th>type</th>\n",
              "      <th>year</th>\n",
              "      <th>sales_bottles</th>\n",
              "      <th>forecast</th>\n",
              "      <th>month_end</th>\n",
              "      <th>error</th>\n",
              "    </tr>\n",
              "  </thead>\n",
              "  <tbody>\n",
              "    <tr>\n",
              "      <th>0</th>\n",
              "      <td>100015</td>\n",
              "      <td>10_2017</td>\n",
              "      <td>train</td>\n",
              "      <td>2017</td>\n",
              "      <td>291.0</td>\n",
              "      <td>171.0</td>\n",
              "      <td>2017-10-31</td>\n",
              "      <td>-120.0</td>\n",
              "    </tr>\n",
              "    <tr>\n",
              "      <th>1</th>\n",
              "      <td>100015</td>\n",
              "      <td>10_2018</td>\n",
              "      <td>train</td>\n",
              "      <td>2018</td>\n",
              "      <td>188.0</td>\n",
              "      <td>174.0</td>\n",
              "      <td>2018-10-31</td>\n",
              "      <td>-14.0</td>\n",
              "    </tr>\n",
              "    <tr>\n",
              "      <th>2</th>\n",
              "      <td>100015</td>\n",
              "      <td>10_2019</td>\n",
              "      <td>train</td>\n",
              "      <td>2019</td>\n",
              "      <td>0.0</td>\n",
              "      <td>153.0</td>\n",
              "      <td>2019-10-31</td>\n",
              "      <td>153.0</td>\n",
              "    </tr>\n",
              "    <tr>\n",
              "      <th>4</th>\n",
              "      <td>100015</td>\n",
              "      <td>10_2020</td>\n",
              "      <td>test</td>\n",
              "      <td>2020</td>\n",
              "      <td>93.0</td>\n",
              "      <td>135.0</td>\n",
              "      <td>2020-10-25</td>\n",
              "      <td>42.0</td>\n",
              "    </tr>\n",
              "    <tr>\n",
              "      <th>6</th>\n",
              "      <td>100015</td>\n",
              "      <td>11_2017</td>\n",
              "      <td>train</td>\n",
              "      <td>2017</td>\n",
              "      <td>136.0</td>\n",
              "      <td>75.0</td>\n",
              "      <td>2017-11-30</td>\n",
              "      <td>-61.0</td>\n",
              "    </tr>\n",
              "  </tbody>\n",
              "</table>\n",
              "</div>"
            ],
            "text/plain": [
              "  forecast_key month_year   type  ... forecast  month_end  error\n",
              "0       100015    10_2017  train  ...    171.0 2017-10-31 -120.0\n",
              "1       100015    10_2018  train  ...    174.0 2018-10-31  -14.0\n",
              "2       100015    10_2019  train  ...    153.0 2019-10-31  153.0\n",
              "4       100015    10_2020   test  ...    135.0 2020-10-25   42.0\n",
              "6       100015    11_2017  train  ...     75.0 2017-11-30  -61.0\n",
              "\n",
              "[5 rows x 8 columns]"
            ]
          },
          "metadata": {
            "tags": []
          },
          "execution_count": 314
        }
      ]
    },
    {
      "cell_type": "markdown",
      "metadata": {
        "id": "00jwSk9tPo3i"
      },
      "source": [
        "## Inventory Optimization\n",
        "### Historical Error distribution\n",
        "We'll look at percetage error to allow for better comparison"
      ]
    },
    {
      "cell_type": "code",
      "metadata": {
        "colab": {
          "base_uri": "https://localhost:8080/",
          "height": 297
        },
        "id": "AwZtSSbQPvck",
        "outputId": "07ab3d1b-a7ca-413d-8922-fa34b6cde6e3"
      },
      "source": [
        "# Calculate MAPE\n",
        "historical['mape_pcnt'] = (np.divide(historical['error'],historical['sales_bottles']).abs()).round(2)\n",
        "\n",
        "# Infinite MAPE values are generated when error is 0, replace with 0\n",
        "non_infinite_mask = ~historical['mape_pcnt'].isin([np.inf,-np.inf])\n",
        "\n",
        "historical['mape_pcnt'] = historical['mape_pcnt'].where(non_infinite_mask,other=0)\n",
        "\n",
        "# Summary\n",
        "historical.describe().round(2)"
      ],
      "execution_count": 315,
      "outputs": [
        {
          "output_type": "execute_result",
          "data": {
            "text/html": [
              "<div>\n",
              "<style scoped>\n",
              "    .dataframe tbody tr th:only-of-type {\n",
              "        vertical-align: middle;\n",
              "    }\n",
              "\n",
              "    .dataframe tbody tr th {\n",
              "        vertical-align: top;\n",
              "    }\n",
              "\n",
              "    .dataframe thead th {\n",
              "        text-align: right;\n",
              "    }\n",
              "</style>\n",
              "<table border=\"1\" class=\"dataframe\">\n",
              "  <thead>\n",
              "    <tr style=\"text-align: right;\">\n",
              "      <th></th>\n",
              "      <th>sales_bottles</th>\n",
              "      <th>forecast</th>\n",
              "      <th>error</th>\n",
              "      <th>mape_pcnt</th>\n",
              "    </tr>\n",
              "  </thead>\n",
              "  <tbody>\n",
              "    <tr>\n",
              "      <th>count</th>\n",
              "      <td>5924.00</td>\n",
              "      <td>5924.00</td>\n",
              "      <td>5924.00</td>\n",
              "      <td>5499.00</td>\n",
              "    </tr>\n",
              "    <tr>\n",
              "      <th>mean</th>\n",
              "      <td>2327.72</td>\n",
              "      <td>2286.00</td>\n",
              "      <td>-41.72</td>\n",
              "      <td>0.41</td>\n",
              "    </tr>\n",
              "    <tr>\n",
              "      <th>std</th>\n",
              "      <td>11301.21</td>\n",
              "      <td>11212.37</td>\n",
              "      <td>969.62</td>\n",
              "      <td>3.43</td>\n",
              "    </tr>\n",
              "    <tr>\n",
              "      <th>min</th>\n",
              "      <td>0.00</td>\n",
              "      <td>-517.00</td>\n",
              "      <td>-17425.00</td>\n",
              "      <td>0.00</td>\n",
              "    </tr>\n",
              "    <tr>\n",
              "      <th>25%</th>\n",
              "      <td>69.00</td>\n",
              "      <td>80.00</td>\n",
              "      <td>-56.00</td>\n",
              "      <td>0.05</td>\n",
              "    </tr>\n",
              "    <tr>\n",
              "      <th>50%</th>\n",
              "      <td>338.00</td>\n",
              "      <td>340.00</td>\n",
              "      <td>0.00</td>\n",
              "      <td>0.14</td>\n",
              "    </tr>\n",
              "    <tr>\n",
              "      <th>75%</th>\n",
              "      <td>1234.00</td>\n",
              "      <td>1158.50</td>\n",
              "      <td>52.00</td>\n",
              "      <td>0.34</td>\n",
              "    </tr>\n",
              "    <tr>\n",
              "      <th>max</th>\n",
              "      <td>186832.00</td>\n",
              "      <td>187566.00</td>\n",
              "      <td>11955.00</td>\n",
              "      <td>175.17</td>\n",
              "    </tr>\n",
              "  </tbody>\n",
              "</table>\n",
              "</div>"
            ],
            "text/plain": [
              "       sales_bottles   forecast     error  mape_pcnt\n",
              "count        5924.00    5924.00   5924.00    5499.00\n",
              "mean         2327.72    2286.00    -41.72       0.41\n",
              "std         11301.21   11212.37    969.62       3.43\n",
              "min             0.00    -517.00 -17425.00       0.00\n",
              "25%            69.00      80.00    -56.00       0.05\n",
              "50%           338.00     340.00      0.00       0.14\n",
              "75%          1234.00    1158.50     52.00       0.34\n",
              "max        186832.00  187566.00  11955.00     175.17"
            ]
          },
          "metadata": {
            "tags": []
          },
          "execution_count": 315
        }
      ]
    },
    {
      "cell_type": "markdown",
      "metadata": {
        "id": "GsKOHF45dr13"
      },
      "source": [
        "Looking at the summary table, we notice some extreme error values"
      ]
    },
    {
      "cell_type": "code",
      "metadata": {
        "colab": {
          "base_uri": "https://localhost:8080/",
          "height": 423
        },
        "id": "d8krswUmVJI_",
        "outputId": "1d73642f-dcac-4bcf-a5e4-91c601ad6945"
      },
      "source": [
        "sns.set_context('talk')\n",
        "\n",
        "# Violin plot without extreme values\n",
        "data = historical[historical['mape_pcnt']<1.5]\n",
        "\n",
        "# Plot\n",
        "plt.figure(figsize=(6,5))\n",
        "sns.violinplot(x=data['type'],y=data['mape_pcnt'])\n",
        "plt.show()\n",
        "\n",
        "# How many item - months have MAPE error above 150%?\n",
        "print(\"\\n {} item-months have error above 150%\".format(len(historical[historical['mape_pcnt']>1.5])))\n",
        "\n",
        "percent_of_total =  (len(historical[historical['mape_pcnt']>1.5])/len(historical))*100\n",
        "print(\"\\n They represent {}% of total items-month keys\".format(round(percent_of_total,1)))"
      ],
      "execution_count": 316,
      "outputs": [
        {
          "output_type": "display_data",
          "data": {
            "image/png": "[encoded data removed]",
            "text/plain": [
              "<Figure size 432x360 with 1 Axes>"
            ]
          },
          "metadata": {
            "tags": [],
            "needs_background": "light"
          }
        },
        {
          "output_type": "stream",
          "text": [
            "\n",
            " 118 item-months have error above 150%\n",
            "\n",
            " They represent 2.0% of total items-month keys\n"
          ],
          "name": "stdout"
        }
      ]
    },
    {
      "cell_type": "markdown",
      "metadata": {
        "id": "kVwo8J_ZYQn7"
      },
      "source": [
        "### Calculate Reorder Quantity\n",
        "\n",
        "We'll use the Minimum Order Quantity formula:\n",
        "\n",
        "$ EOQ = \\sqrt{2 *\\dfrac{Annual Demand * Cost per Order}{Annual Holding Cost  per Unit}} $\n",
        "\n",
        "\n",
        "* Annual holding cost is set at 15% of the bottle's cost\n",
        "* The bottle cost is 60% of the retail value  \n",
        "\n",
        "\n",
        "It is known that the main limitation against the use of this formula is that demand needs to be constant throughout time, which is not the case for this project but the formula is still used for simplicity.\n",
        "\n",
        "We must first get the average bottle price by querying the sales data in the last year"
      ]
    },
    {
      "cell_type": "code",
      "metadata": {
        "colab": {
          "base_uri": "https://localhost:8080/",
          "height": 142
        },
        "id": "dMZBcpmWYQF9",
        "outputId": "9ae32dc0-04eb-4308-e02d-2bd085b330ef"
      },
      "source": [
        "item_price = client.query('''\n",
        "\n",
        "  SELECT \n",
        "    item_number,\n",
        "    item_description,\n",
        "    category_name, \n",
        "    SUM(sale_dollars)/SUM(bottles_sold) as avg_price\n",
        "\n",
        "  FROM `bigquery-public-data.iowa_liquor_sales.sales`\n",
        "\n",
        "  WHERE \n",
        "    date > DATE_SUB((SELECT MAX(date) FROM `bigquery-public-data.iowa_liquor_sales.sales`), INTERVAL 1 YEAR) AND \n",
        "    vendor_number = '421'\n",
        "\n",
        "  GROUP BY\n",
        "    item_number, \n",
        "    category_name, \n",
        "    item_description\n",
        "\n",
        "''').to_dataframe()\n",
        "\n",
        "# Create dictionary to aid in lookup\n",
        "item_price_dict = item_price.set_index('item_number')['avg_price'].to_dict()\n",
        "item_price.sample(3)"
      ],
      "execution_count": 317,
      "outputs": [
        {
          "output_type": "execute_result",
          "data": {
            "text/html": [
              "<div>\n",
              "<style scoped>\n",
              "    .dataframe tbody tr th:only-of-type {\n",
              "        vertical-align: middle;\n",
              "    }\n",
              "\n",
              "    .dataframe tbody tr th {\n",
              "        vertical-align: top;\n",
              "    }\n",
              "\n",
              "    .dataframe thead th {\n",
              "        text-align: right;\n",
              "    }\n",
              "</style>\n",
              "<table border=\"1\" class=\"dataframe\">\n",
              "  <thead>\n",
              "    <tr style=\"text-align: right;\">\n",
              "      <th></th>\n",
              "      <th>item_number</th>\n",
              "      <th>item_description</th>\n",
              "      <th>category_name</th>\n",
              "      <th>avg_price</th>\n",
              "    </tr>\n",
              "  </thead>\n",
              "  <tbody>\n",
              "    <tr>\n",
              "      <th>42</th>\n",
              "      <td>938081</td>\n",
              "      <td>Platinum 7x Vodka Mini</td>\n",
              "      <td>American Vodka</td>\n",
              "      <td>9.00</td>\n",
              "    </tr>\n",
              "    <tr>\n",
              "      <th>62</th>\n",
              "      <td>89301</td>\n",
              "      <td>Dorado Gold Tequila</td>\n",
              "      <td>Mixto Tequila</td>\n",
              "      <td>7.68</td>\n",
              "    </tr>\n",
              "    <tr>\n",
              "      <th>72</th>\n",
              "      <td>73140</td>\n",
              "      <td>Chila Orchata</td>\n",
              "      <td>Cream Liqueurs</td>\n",
              "      <td>13.01</td>\n",
              "    </tr>\n",
              "  </tbody>\n",
              "</table>\n",
              "</div>"
            ],
            "text/plain": [
              "   item_number        item_description   category_name  avg_price\n",
              "42      938081  Platinum 7x Vodka Mini  American Vodka       9.00\n",
              "62       89301     Dorado Gold Tequila   Mixto Tequila       7.68\n",
              "72       73140           Chila Orchata  Cream Liqueurs      13.01"
            ]
          },
          "metadata": {
            "tags": []
          },
          "execution_count": 317
        }
      ]
    },
    {
      "cell_type": "markdown",
      "metadata": {
        "id": "bVnx3SoTpVd3"
      },
      "source": [
        "We are looking to calculate the reorder quantity for the next year. To do that, first we query the data to include only the next year's forecasts.\n"
      ]
    },
    {
      "cell_type": "code",
      "metadata": {
        "colab": {
          "base_uri": "https://localhost:8080/",
          "height": 142
        },
        "id": "J3ByoJFum4Lr",
        "outputId": "22aa7e55-ba35-42a3-989a-ee5a7ee0c8fa"
      },
      "source": [
        "# Annual demand by key query\n",
        "year_forecast = client.query('''\n",
        "\n",
        "  SELECT \n",
        "    forecast_key,\n",
        "    SUM(forecast) as annual_forecast\n",
        "\n",
        "  FROM `iowa-liquor-sales-266301.forecasting.ml_forecasts`\n",
        "  WHERE\n",
        "    type = 'forecast'\n",
        "  GROUP BY\n",
        "    forecast_key\n",
        "\n",
        "''').to_dataframe()\n",
        "\n",
        "\n",
        "# Calculate unit cost and merge\n",
        "\n",
        "unit_cost_pcnt = 0.5 # percent of item price\n",
        "holding_cost = 0.10\n",
        "\n",
        "year_forecast['forecast_key']  = year_forecast['forecast_key'].astype(str)\n",
        "year_forecast['item_price'] =  [round(item_price_dict.get(key),2) \\\n",
        "                                 for key in year_forecast['forecast_key']] # lookup price\n",
        "\n",
        "year_forecast['item_cost'] = (unit_cost_pcnt*year_forecast['item_price']).round(2)\n",
        "year_forecast['holding_cost'] = year_forecast['item_cost'] * holding_cost\n",
        "item_holding_cost_dict = year_forecast.set_index('forecast_key')['holding_cost']\n",
        "\n",
        "year_forecast.sample(3)"
      ],
      "execution_count": 371,
      "outputs": [
        {
          "output_type": "execute_result",
          "data": {
            "text/html": [
              "<div>\n",
              "<style scoped>\n",
              "    .dataframe tbody tr th:only-of-type {\n",
              "        vertical-align: middle;\n",
              "    }\n",
              "\n",
              "    .dataframe tbody tr th {\n",
              "        vertical-align: top;\n",
              "    }\n",
              "\n",
              "    .dataframe thead th {\n",
              "        text-align: right;\n",
              "    }\n",
              "</style>\n",
              "<table border=\"1\" class=\"dataframe\">\n",
              "  <thead>\n",
              "    <tr style=\"text-align: right;\">\n",
              "      <th></th>\n",
              "      <th>forecast_key</th>\n",
              "      <th>annual_forecast</th>\n",
              "      <th>item_price</th>\n",
              "      <th>item_cost</th>\n",
              "      <th>holding_cost</th>\n",
              "    </tr>\n",
              "  </thead>\n",
              "  <tbody>\n",
              "    <tr>\n",
              "      <th>136</th>\n",
              "      <td>38089</td>\n",
              "      <td>41620.0</td>\n",
              "      <td>1.34</td>\n",
              "      <td>0.67</td>\n",
              "      <td>0.067</td>\n",
              "    </tr>\n",
              "    <tr>\n",
              "      <th>150</th>\n",
              "      <td>21986</td>\n",
              "      <td>535.0</td>\n",
              "      <td>13.50</td>\n",
              "      <td>6.75</td>\n",
              "      <td>0.675</td>\n",
              "    </tr>\n",
              "    <tr>\n",
              "      <th>122</th>\n",
              "      <td>902588</td>\n",
              "      <td>145.0</td>\n",
              "      <td>18.74</td>\n",
              "      <td>9.37</td>\n",
              "      <td>0.937</td>\n",
              "    </tr>\n",
              "  </tbody>\n",
              "</table>\n",
              "</div>"
            ],
            "text/plain": [
              "    forecast_key  annual_forecast  item_price  item_cost  holding_cost\n",
              "136        38089          41620.0        1.34       0.67         0.067\n",
              "150        21986            535.0       13.50       6.75         0.675\n",
              "122       902588            145.0       18.74       9.37         0.937"
            ]
          },
          "metadata": {
            "tags": []
          },
          "execution_count": 371
        }
      ]
    },
    {
      "cell_type": "markdown",
      "metadata": {
        "id": "eecm39cEwS1H"
      },
      "source": [
        "**Now it's possible to calculate the EOQ:**"
      ]
    },
    {
      "cell_type": "code",
      "metadata": {
        "colab": {
          "base_uri": "https://localhost:8080/",
          "height": 238
        },
        "id": "btw2e8-7wOiq",
        "outputId": "ba5729a7-839e-4706-c0a2-d9b2d5dc6160"
      },
      "source": [
        "year_forecast['order_quantity'] = np.sqrt(2*(year_forecast['item_cost']*year_forecast['annual_forecast'])\\\n",
        "                                          /year_forecast['holding_cost']).round(2)\n",
        "\n",
        "eoq_dict = year_forecast[['forecast_key','order_quantity']].set_index('forecast_key').to_dict()\n",
        "year_forecast.sample(5)"
      ],
      "execution_count": 372,
      "outputs": [
        {
          "output_type": "stream",
          "text": [
            "/usr/local/lib/python3.6/dist-packages/pandas/core/series.py:726: RuntimeWarning: invalid value encountered in sqrt\n",
            "  result = getattr(ufunc, method)(*inputs, **kwargs)\n"
          ],
          "name": "stderr"
        },
        {
          "output_type": "execute_result",
          "data": {
            "text/html": [
              "<div>\n",
              "<style scoped>\n",
              "    .dataframe tbody tr th:only-of-type {\n",
              "        vertical-align: middle;\n",
              "    }\n",
              "\n",
              "    .dataframe tbody tr th {\n",
              "        vertical-align: top;\n",
              "    }\n",
              "\n",
              "    .dataframe thead th {\n",
              "        text-align: right;\n",
              "    }\n",
              "</style>\n",
              "<table border=\"1\" class=\"dataframe\">\n",
              "  <thead>\n",
              "    <tr style=\"text-align: right;\">\n",
              "      <th></th>\n",
              "      <th>forecast_key</th>\n",
              "      <th>annual_forecast</th>\n",
              "      <th>item_price</th>\n",
              "      <th>item_cost</th>\n",
              "      <th>holding_cost</th>\n",
              "      <th>order_quantity</th>\n",
              "    </tr>\n",
              "  </thead>\n",
              "  <tbody>\n",
              "    <tr>\n",
              "      <th>63</th>\n",
              "      <td>64863</td>\n",
              "      <td>515745.0</td>\n",
              "      <td>3.75</td>\n",
              "      <td>1.88</td>\n",
              "      <td>0.188</td>\n",
              "      <td>3211.68</td>\n",
              "    </tr>\n",
              "    <tr>\n",
              "      <th>81</th>\n",
              "      <td>86637</td>\n",
              "      <td>10000.0</td>\n",
              "      <td>4.52</td>\n",
              "      <td>2.26</td>\n",
              "      <td>0.226</td>\n",
              "      <td>447.21</td>\n",
              "    </tr>\n",
              "    <tr>\n",
              "      <th>49</th>\n",
              "      <td>66636</td>\n",
              "      <td>25170.0</td>\n",
              "      <td>20.25</td>\n",
              "      <td>10.12</td>\n",
              "      <td>1.012</td>\n",
              "      <td>709.51</td>\n",
              "    </tr>\n",
              "    <tr>\n",
              "      <th>10</th>\n",
              "      <td>82957</td>\n",
              "      <td>5245.0</td>\n",
              "      <td>14.81</td>\n",
              "      <td>7.40</td>\n",
              "      <td>0.740</td>\n",
              "      <td>323.88</td>\n",
              "    </tr>\n",
              "    <tr>\n",
              "      <th>24</th>\n",
              "      <td>89887</td>\n",
              "      <td>27195.0</td>\n",
              "      <td>9.95</td>\n",
              "      <td>4.97</td>\n",
              "      <td>0.497</td>\n",
              "      <td>737.50</td>\n",
              "    </tr>\n",
              "  </tbody>\n",
              "</table>\n",
              "</div>"
            ],
            "text/plain": [
              "   forecast_key  annual_forecast  ...  holding_cost  order_quantity\n",
              "63        64863         515745.0  ...         0.188         3211.68\n",
              "81        86637          10000.0  ...         0.226          447.21\n",
              "49        66636          25170.0  ...         1.012          709.51\n",
              "10        82957           5245.0  ...         0.740          323.88\n",
              "24        89887          27195.0  ...         0.497          737.50\n",
              "\n",
              "[5 rows x 6 columns]"
            ]
          },
          "metadata": {
            "tags": []
          },
          "execution_count": 372
        }
      ]
    },
    {
      "cell_type": "markdown",
      "metadata": {
        "id": "mBbpV8o-PjrJ"
      },
      "source": [
        "### Optimize Safety Stock\n",
        "\n",
        "We'll optimize safety stock by minimizing the cost function defined as:\n",
        "\n",
        "> $C(x) = SS(sl)* IC + (1-sl) * FCST$\n",
        "\n",
        "Where:\n",
        "\n",
        "* _SS: Total safety stock for all items, a function of the service level (sl)_   \n",
        "* _sl: Service level, a decimal value between 0.01 and 1_  \n",
        "* _IC: Inventory holding cost for the items_  \n",
        "* _FCST: Sales forecast for the period, used to estimate lost sales_  \n",
        "\n",
        "  \n",
        "\n",
        "---\n",
        "\n",
        "\n",
        "\n"
      ]
    },
    {
      "cell_type": "code",
      "metadata": {
        "colab": {
          "base_uri": "https://localhost:8080/"
        },
        "id": "ixiAZ_tf1952",
        "outputId": "93c49ebb-41dd-49a0-843f-f596b02a218b"
      },
      "source": [
        "def safety_stock_func(df,service_level):\n",
        "    \n",
        "    # variables\n",
        "    k = stats.norm.ppf(service_level) \n",
        "    std = np.std(df['error'])\n",
        "    \n",
        "    # safety stock formula\n",
        "    ss_calculation = k * std\n",
        "    \n",
        "    return ss_calculation\n",
        "  \n",
        "# Service level values to be tested\n",
        "service_levels_list = np.arange(.85,.9999,.005)\n",
        "print(\"Service levels to be tested: \\n \\n\",service_levels_list)\n",
        "\n",
        "# Total annual sales value (used for lost sales estimation)\n",
        "profit_margin = 1.15\n",
        "revenue = (year_forecast['annual_forecast']*year_forecast['item_cost']*profit_margin).sum()\n",
        "print(\"\\n 2021 revenue estimate: ${}\".format(round(revenue)))"
      ],
      "execution_count": 411,
      "outputs": [
        {
          "output_type": "stream",
          "text": [
            "Service levels to be tested: \n",
            " \n",
            " [0.85  0.855 0.86  0.865 0.87  0.875 0.88  0.885 0.89  0.895 0.9   0.905\n",
            " 0.91  0.915 0.92  0.925 0.93  0.935 0.94  0.945 0.95  0.955 0.96  0.965\n",
            " 0.97  0.975 0.98  0.985 0.99  0.995]\n",
            "\n",
            " 2021 revenue estimate: $44280524.0\n"
          ],
          "name": "stdout"
        }
      ]
    },
    {
      "cell_type": "code",
      "metadata": {
        "id": "CdrSe0-Y2HBS"
      },
      "source": [
        "# Optimize inventory \n",
        "ss_cost_list = []\n",
        "lost_sales_list = []\n",
        "\n",
        "for sl in service_levels_list:\n",
        "  \n",
        "  # Calculate ss for each service level\n",
        "  historical.groupby('forecast_key').apply(lambda x: safety_stock_func(x,sl))\n",
        "  safety_stock = historical.groupby('forecast_key').apply(lambda x: safety_stock_func(x,sl))\n",
        "  safety_stock = pd.DataFrame(safety_stock,columns=['safety_stock']).round()\n",
        "\n",
        "  # Safety stock holding cost\n",
        "  holding_cost= [item_holding_cost_dict.get(key) for key in safety_stock.index]\n",
        "\n",
        "  safety_stock_cost = sum(holding_cost*safety_stock['safety_stock'])\n",
        "  ss_cost_list.append(safety_stock_cost) \n",
        "  \n",
        "  # Lost sales estimate\n",
        "  lost_sales = (1-sl)*revenue\n",
        "  lost_sales_list.append(lost_sales)"
      ],
      "execution_count": 403,
      "outputs": []
    },
    {
      "cell_type": "code",
      "metadata": {
        "colab": {
          "base_uri": "https://localhost:8080/",
          "height": 204
        },
        "id": "LOAsok87DvwD",
        "outputId": "60db96ba-3ba6-40ca-b9ae-a9c1c8c4dcff"
      },
      "source": [
        "inventory_cost_levels = pd.DataFrame({'lost_sales':lost_sales_list,'safety_stock_cost':ss_cost_list},service_levels_list*100)\n",
        "inventory_cost_levels['total_cost'] = inventory_cost_levels['lost_sales'] + inventory_cost_levels['safety_stock_cost']\n",
        "inventory_cost_levels.round(2).head()"
      ],
      "execution_count": 410,
      "outputs": [
        {
          "output_type": "execute_result",
          "data": {
            "text/html": [
              "<div>\n",
              "<style scoped>\n",
              "    .dataframe tbody tr th:only-of-type {\n",
              "        vertical-align: middle;\n",
              "    }\n",
              "\n",
              "    .dataframe tbody tr th {\n",
              "        vertical-align: top;\n",
              "    }\n",
              "\n",
              "    .dataframe thead th {\n",
              "        text-align: right;\n",
              "    }\n",
              "</style>\n",
              "<table border=\"1\" class=\"dataframe\">\n",
              "  <thead>\n",
              "    <tr style=\"text-align: right;\">\n",
              "      <th></th>\n",
              "      <th>lost_sales</th>\n",
              "      <th>safety_stock_cost</th>\n",
              "      <th>total_cost</th>\n",
              "    </tr>\n",
              "  </thead>\n",
              "  <tbody>\n",
              "    <tr>\n",
              "      <th>85.0</th>\n",
              "      <td>7638390.32</td>\n",
              "      <td>33752.89</td>\n",
              "      <td>7672143.21</td>\n",
              "    </tr>\n",
              "    <tr>\n",
              "      <th>85.5</th>\n",
              "      <td>7383777.31</td>\n",
              "      <td>34456.68</td>\n",
              "      <td>7418234.00</td>\n",
              "    </tr>\n",
              "    <tr>\n",
              "      <th>86.0</th>\n",
              "      <td>7129164.30</td>\n",
              "      <td>35180.15</td>\n",
              "      <td>7164344.45</td>\n",
              "    </tr>\n",
              "    <tr>\n",
              "      <th>86.5</th>\n",
              "      <td>6874551.29</td>\n",
              "      <td>35921.10</td>\n",
              "      <td>6910472.39</td>\n",
              "    </tr>\n",
              "    <tr>\n",
              "      <th>87.0</th>\n",
              "      <td>6619938.28</td>\n",
              "      <td>36671.96</td>\n",
              "      <td>6656610.24</td>\n",
              "    </tr>\n",
              "  </tbody>\n",
              "</table>\n",
              "</div>"
            ],
            "text/plain": [
              "      lost_sales  safety_stock_cost  total_cost\n",
              "85.0  7638390.32           33752.89  7672143.21\n",
              "85.5  7383777.31           34456.68  7418234.00\n",
              "86.0  7129164.30           35180.15  7164344.45\n",
              "86.5  6874551.29           35921.10  6910472.39\n",
              "87.0  6619938.28           36671.96  6656610.24"
            ]
          },
          "metadata": {
            "tags": []
          },
          "execution_count": 410
        }
      ]
    },
    {
      "cell_type": "code",
      "metadata": {
        "colab": {
          "base_uri": "https://localhost:8080/",
          "height": 296
        },
        "id": "h6HPn3bHAMmq",
        "outputId": "39128e1d-849d-478c-897f-5acce2b96f23"
      },
      "source": [
        "sns.lineplot(x=inventory_cost_levels.index,y=inventory_cost_levels['total_cost'])\n",
        "plt.show()"
      ],
      "execution_count": 409,
      "outputs": [
        {
          "output_type": "display_data",
          "data": {
            "image/png": "[encoded data removed]",
            "text/plain": [
              "<Figure size 432x288 with 1 Axes>"
            ]
          },
          "metadata": {
            "tags": [],
            "needs_background": "light"
          }
        }
      ]
    },
    {
      "cell_type": "code",
      "metadata": {
        "colab": {
          "base_uri": "https://localhost:8080/"
        },
        "id": "bC25Wjq15LX6",
        "outputId": "afc211d6-293c-4487-cde9-1d70cb54867f"
      },
      "source": [
        "type(ss_cost_list)"
      ],
      "execution_count": 344,
      "outputs": [
        {
          "output_type": "execute_result",
          "data": {
            "text/plain": [
              "list"
            ]
          },
          "metadata": {
            "tags": []
          },
          "execution_count": 344
        }
      ]
    },
    {
      "cell_type": "markdown",
      "metadata": {
        "id": "yqBmGOmucS9B"
      },
      "source": [
        "#### Calculate Safety Stock with optimal service level"
      ]
    },
    {
      "cell_type": "code",
      "metadata": {
        "id": "Aok0fsaKM2Bi",
        "colab": {
          "base_uri": "https://localhost:8080/"
        },
        "outputId": "5173eef4-b8b4-4350-a5a1-0e009380429b"
      },
      "source": [
        "# Desired service level\n",
        "sl = .975\n",
        "safety_stock = historical.groupby('forecast_key').apply(lambda x: safety_stock_func(x,sl))\n",
        "safety_stock = pd.DataFrame(safety_stock,columns=['safety_stock']).round()\n",
        "safety_stock['holding_cost'] = [item_holding_cost_dict.get(key) for key in safety_stock.index]\n",
        "safety_stock_cost = sum(safety_stock['holding_cost']*safety_stock['safety_stock'])\n",
        "safety_stock_cost"
      ],
      "execution_count": 332,
      "outputs": [
        {
          "output_type": "execute_result",
          "data": {
            "text/plain": [
              "76588.821"
            ]
          },
          "metadata": {
            "tags": []
          },
          "execution_count": 332
        }
      ]
    },
    {
      "cell_type": "code",
      "metadata": {
        "id": "7gCQOryC20O4"
      },
      "source": [
        "\n",
        "# Add safety stock to dataset\n",
        "safety_stock.reset_index()\n",
        "forecasts = forecasts.set_index(\"forecast_key\").join(safety_stock)\n",
        "\n",
        "print('\\n SS Calcualted! \\n Median SS: \\n {}'.format(round(safety_stock['safety_stock'].median())) )"
      ],
      "execution_count": null,
      "outputs": []
    },
    {
      "cell_type": "markdown",
      "metadata": {
        "id": "jbYOQG1UcbXU"
      },
      "source": [
        "### Plot"
      ]
    },
    {
      "cell_type": "code",
      "metadata": {
        "id": "m_2NnwH8rhk-",
        "colab": {
          "base_uri": "https://localhost:8080/",
          "height": 750
        },
        "outputId": "5ce38a6d-c5f9-47b8-a3bf-4ed7f9abbd2d"
      },
      "source": [
        "from scipy.stats import norm\n",
        "\n",
        "# Plot\n",
        "sns.set_context('talk')\n",
        "subset = historical[historical['forecast_key'].isin(historical['forecast_key'].drop_duplicates().sample())] \n",
        "subset = historical[historical['forecast_key'].isin(['64870'])] \n",
        "print('Number of Obs:',len(subset))\n",
        "\n",
        "# Histogram\n",
        "plt.figure(figsize=(5,5))\n",
        "plt.title('Forecast Error Histogram')\n",
        "sns.distplot(subset['error'],bins=10,fit=norm)\n",
        "plt.show()\n",
        "\n",
        "# Error plot\n",
        "plt.figure(figsize=(10,4))\n",
        "plt.title('Forecast Error')\n",
        "sns.lineplot(y='error',x='month_year', data=subset)\n",
        "plt.axhline(0, ls='--',color='red')\n",
        "plt.show()"
      ],
      "execution_count": null,
      "outputs": [
        {
          "output_type": "stream",
          "text": [
            "Number of Obs: 62\n"
          ],
          "name": "stdout"
        },
        {
          "output_type": "stream",
          "text": [
            "/usr/local/lib/python3.6/dist-packages/seaborn/distributions.py:2551: FutureWarning: `distplot` is a deprecated function and will be removed in a future version. Please adapt your code to use either `displot` (a figure-level function with similar flexibility) or `histplot` (an axes-level function for histograms).\n",
            "  warnings.warn(msg, FutureWarning)\n"
          ],
          "name": "stderr"
        },
        {
          "output_type": "display_data",
          "data": {
            "image/png": "[encoded data removed]",
            "text/plain": [
              "<Figure size 360x360 with 1 Axes>"
            ]
          },
          "metadata": {
            "tags": [],
            "needs_background": "light"
          }
        },
        {
          "output_type": "display_data",
          "data": {
            "image/png": "[encoded data removed]",
            "text/plain": [
              "<Figure size 720x288 with 1 Axes>"
            ]
          },
          "metadata": {
            "tags": [],
            "needs_background": "light"
          }
        }
      ]
    },
    {
      "cell_type": "markdown",
      "metadata": {
        "id": "PXkqwBpdScaZ"
      },
      "source": [
        "## Export to BigQuery"
      ]
    },
    {
      "cell_type": "code",
      "metadata": {
        "id": "89r4f6RnScAR",
        "colab": {
          "base_uri": "https://localhost:8080/"
        },
        "outputId": "6ce679a2-a023-4075-8c6e-4f37c4ce8c34"
      },
      "source": [
        "from google.cloud import bigquery\n",
        "\n",
        "# Save table locally\n",
        "forecasts.to_csv('ss_forecasts.csv')\n",
        "\n",
        "# Specify project and destination \n",
        "project_id = 'iowa-liquor-sales-266301'\n",
        "bq_dataset_name = \"forecasting\"\n",
        "\n",
        "# Local path of file to be uploaded\n",
        "forecasts_path = \"/content/ss_forecasts.csv\"\n",
        "\n",
        "file_paths = [forecasts_path]\n",
        "table_names = [\"ml_forecasts\"]\n",
        "\n",
        "# Construct a BigQuery client object\n",
        "client = bigquery.Client(project = project_id)\n",
        "\n",
        "# Batch load tables\n",
        "for file_path,tb_name in zip(file_paths,table_names):\n",
        "  \n",
        "  table_id = \"{}.{}.{}\".format(project_id,bq_dataset_name,tb_name)\n",
        "\n",
        "  job_config = bigquery.LoadJobConfig(\n",
        "      source_format=bigquery.SourceFormat.CSV, \n",
        "      skip_leading_rows=1, \n",
        "      autodetect=True,\n",
        "  )\n",
        "\n",
        "  job_config.write_disposition = 'WRITE_TRUNCATE' # Replace data\n",
        "\n",
        "  with open(file_path, \"rb\") as source_file:\n",
        "      job = client.load_table_from_file(source_file, table_id,job_config=job_config)\n",
        "      \n",
        "  job.result()  # Waits for the job to complete.\n",
        "\n",
        "  table = client.get_table(table_id)  # Make an API request.\n",
        "\n",
        "  print(\n",
        "      \"Loaded {} rows and {} columns to {}\".format(\n",
        "          table.num_rows, len(table.schema), table_id\n",
        "      )\n",
        "  )"
      ],
      "execution_count": null,
      "outputs": [
        {
          "output_type": "stream",
          "text": [
            "Loaded 232097 rows and 19 columns to iowa-liquor-sales-266301.forecasting.ml_forecasts\n"
          ],
          "name": "stdout"
        }
      ]
    },
    {
      "cell_type": "code",
      "metadata": {
        "id": "HYlFqP7b0WDe"
      },
      "source": [
        ""
      ],
      "execution_count": null,
      "outputs": []
    },
    {
      "cell_type": "code",
      "metadata": {
        "id": "h3PB-rRO0dRu"
      },
      "source": [
        ""
      ],
      "execution_count": null,
      "outputs": []
    },
    {
      "cell_type": "code",
      "metadata": {
        "id": "KoeFxRCO0g2T"
      },
      "source": [
        ""
      ],
      "execution_count": null,
      "outputs": []
    },
    {
      "cell_type": "code",
      "metadata": {
        "id": "2d4774cB1IeG"
      },
      "source": [
        ""
      ],
      "execution_count": null,
      "outputs": []
    },
    {
      "cell_type": "code",
      "metadata": {
        "id": "dttFraHH1Pew"
      },
      "source": [
        ""
      ],
      "execution_count": null,
      "outputs": []
    }
  ]
}