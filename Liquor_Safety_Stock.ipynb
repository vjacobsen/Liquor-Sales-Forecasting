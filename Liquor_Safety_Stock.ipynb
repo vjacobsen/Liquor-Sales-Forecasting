{
  "nbformat": 4,
  "nbformat_minor": 0,
  "metadata": {
    "colab": {
      "name": "Liquor Safety Stock",
      "provenance": [],
      "collapsed_sections": [],
      "mount_file_id": "11sOpyXTMQcqzg8teHoKyZ5A-waReskFZ",
      "authorship_tag": "ABX9TyPFKB3TUzRG0UJIL4ZNrqWQ",
      "include_colab_link": true
    },
    "kernelspec": {
      "name": "python3",
      "display_name": "Python 3"
    }
  },
  "cells": [
    {
      "cell_type": "markdown",
      "metadata": {
        "id": "view-in-github",
        "colab_type": "text"
      },
      "source": [
        "<a href=\"https://colab.research.google.com/github/vjacobsen/Liquor-Sales-Inventory-Forecast/blob/main/Liquor_Safety_Stock.ipynb\" target=\"_parent\"><img src=\"https://colab.research.google.com/assets/colab-badge.svg\" alt=\"Open In Colab\"/></a>"
      ]
    },
    {
      "cell_type": "code",
      "metadata": {
        "id": "AcO2sKgfgcEz"
      },
      "source": [
        ""
      ],
      "execution_count": null,
      "outputs": []
    },
    {
      "cell_type": "code",
      "metadata": {
        "id": "pWH7PjgtEjDo"
      },
      "source": [
        ""
      ],
      "execution_count": 122,
      "outputs": []
    },
    {
      "cell_type": "markdown",
      "metadata": {
        "id": "blnFHycDMtVO"
      },
      "source": [
        "# Safety Stock Calculation\n",
        "\n",
        "The approach used considers forecast error as the only factor requiring buffer inventory. \n",
        "\n",
        "Also, forecast error is assumed to be normally distributed.\n",
        "\n",
        "In a real world scenario, additional variables such as supplier lead time would also need to be added."
      ]
    },
    {
      "cell_type": "code",
      "metadata": {
        "id": "u69py_CuM3TX",
        "colab": {
          "base_uri": "https://localhost:8080/"
        },
        "outputId": "08c446fe-7227-43db-f62e-798e7e041593"
      },
      "source": [
        "import os\n",
        "import pandas as pd\n",
        "import seaborn as sns\n",
        "from scipy import stats\n",
        "import matplotlib.pyplot as plt\n",
        "import numpy as np\n",
        "import datetime \n",
        "\n",
        "\n",
        "## Optional: Enable data table display\n",
        "%load_ext google.colab.data_table"
      ],
      "execution_count": 123,
      "outputs": [
        {
          "output_type": "stream",
          "text": [
            "The google.colab.data_table extension is already loaded. To reload it, use:\n",
            "  %reload_ext google.colab.data_table\n"
          ],
          "name": "stdout"
        }
      ]
    },
    {
      "cell_type": "markdown",
      "metadata": {
        "id": "gWZdPNLRRhh6"
      },
      "source": [
        "#### Query\n",
        "This is the forecast table loaded to Google Cloud in the previous notebook"
      ]
    },
    {
      "cell_type": "code",
      "metadata": {
        "id": "mGcXCvTMMD9X",
        "colab": {
          "base_uri": "https://localhost:8080/"
        },
        "outputId": "e5953f51-8d5e-41e5-9066-f6d966add402"
      },
      "source": [
        "### Provide your credentials to the runtime\n",
        "from google.colab import auth\n",
        "from google.cloud import bigquery\n",
        "\n",
        "auth.authenticate_user()\n",
        "print('Authenticated')\n",
        "\n",
        "project_id = 'iowa-liquor-sales-266301'\n",
        "bq_dataset_name = \"forecasting\"\n",
        "\n",
        "# Construct a BigQuery client object\n",
        "client = bigquery.Client(project = project_id,)"
      ],
      "execution_count": 124,
      "outputs": [
        {
          "output_type": "stream",
          "text": [
            "Authenticated\n"
          ],
          "name": "stdout"
        }
      ]
    },
    {
      "cell_type": "code",
      "metadata": {
        "id": "0wf30rPGRT0Z"
      },
      "source": [
        "# Run query for forecast dataset\n",
        "forecasts_query = client.query('''\n",
        "\n",
        "  SELECT * FROM `iowa-liquor-sales-266301.forecasting.ml_forecasts`\n",
        "\n",
        "''').to_dataframe()"
      ],
      "execution_count": 125,
      "outputs": []
    },
    {
      "cell_type": "code",
      "metadata": {
        "colab": {
          "base_uri": "https://localhost:8080/",
          "height": 289
        },
        "id": "eVCkwERouQlk",
        "outputId": "2e018e7f-089a-41f8-fac2-63bc1be1e407"
      },
      "source": [
        "forecasts_query.head()"
      ],
      "execution_count": 126,
      "outputs": [
        {
          "output_type": "execute_result",
          "data": {
            "application/vnd.google.colaboratory.module+javascript": "\n      import \"https://ssl.gstatic.com/colaboratory/data_table/a6224c040fa35dcf/data_table.js\";\n\n      window.createDataTable({\n        data: [[{\n            'v': 0,\n            'f': \"0\",\n        },\n{\n            'v': 10008,\n            'f': \"10008\",\n        },\n\"2019-02-10\",\n{\n            'v': 53.0,\n            'f': \"53.0\",\n        },\n{\n            'v': 0.13,\n            'f': \"0.13\",\n        },\n\"KNN\",\n\"2020-06-21\",\n\"train\",\n\"2019-02-10\",\n\"2019-02-04\",\n{\n            'v': 0,\n            'f': \"0\",\n        },\n{\n            'v': 0,\n            'f': \"0\",\n        },\n{\n            'v': 48.0,\n            'f': \"48.0\",\n        },\n{\n            'v': 10008,\n            'f': \"10008\",\n        },\n\"Scotch Whiskies\",\n\"Scoresby Rare Scotch\",\n{\n            'v': 421,\n            'f': \"421\",\n        },\n\"2_2019\",\n{\n            'v': 2019,\n            'f': \"2019\",\n        },\n{\n            'v': 258.0,\n            'f': \"258.0\",\n        },\n{\n            'v': 0.788,\n            'f': \"0.788\",\n        }],\n [{\n            'v': 1,\n            'f': \"1\",\n        },\n{\n            'v': 10008,\n            'f': \"10008\",\n        },\n\"2019-02-17\",\n{\n            'v': 55.0,\n            'f': \"55.0\",\n        },\n{\n            'v': 0.13,\n            'f': \"0.13\",\n        },\n\"KNN\",\n\"2020-06-21\",\n\"train\",\n\"2019-02-17\",\n\"2019-02-11\",\n{\n            'v': 0,\n            'f': \"0\",\n        },\n{\n            'v': 0,\n            'f': \"0\",\n        },\n{\n            'v': 72.0,\n            'f': \"72.0\",\n        },\n{\n            'v': 10008,\n            'f': \"10008\",\n        },\n\"Scotch Whiskies\",\n\"Scoresby Rare Scotch\",\n{\n            'v': 421,\n            'f': \"421\",\n        },\n\"2_2019\",\n{\n            'v': 2019,\n            'f': \"2019\",\n        },\n{\n            'v': 258.0,\n            'f': \"258.0\",\n        },\n{\n            'v': 0.788,\n            'f': \"0.788\",\n        }],\n [{\n            'v': 2,\n            'f': \"2\",\n        },\n{\n            'v': 10008,\n            'f': \"10008\",\n        },\n\"2019-02-24\",\n{\n            'v': 54.0,\n            'f': \"54.0\",\n        },\n{\n            'v': 0.13,\n            'f': \"0.13\",\n        },\n\"KNN\",\n\"2020-06-21\",\n\"train\",\n\"2019-02-24\",\n\"2019-02-18\",\n{\n            'v': 1,\n            'f': \"1\",\n        },\n{\n            'v': 0,\n            'f': \"0\",\n        },\n{\n            'v': 54.0,\n            'f': \"54.0\",\n        },\n{\n            'v': 10008,\n            'f': \"10008\",\n        },\n\"Scotch Whiskies\",\n\"Scoresby Rare Scotch\",\n{\n            'v': 421,\n            'f': \"421\",\n        },\n\"2_2019\",\n{\n            'v': 2019,\n            'f': \"2019\",\n        },\n{\n            'v': 258.0,\n            'f': \"258.0\",\n        },\n{\n            'v': 0.788,\n            'f': \"0.788\",\n        }],\n [{\n            'v': 3,\n            'f': \"3\",\n        },\n{\n            'v': 10008,\n            'f': \"10008\",\n        },\n\"2019-03-03\",\n{\n            'v': 65.0,\n            'f': \"65.0\",\n        },\n{\n            'v': 0.13,\n            'f': \"0.13\",\n        },\n\"KNN\",\n\"2020-06-21\",\n\"train\",\n\"2019-03-03\",\n\"2019-02-25\",\n{\n            'v': 0,\n            'f': \"0\",\n        },\n{\n            'v': 0,\n            'f': \"0\",\n        },\n{\n            'v': 52.0,\n            'f': \"52.0\",\n        },\n{\n            'v': 10008,\n            'f': \"10008\",\n        },\n\"Scotch Whiskies\",\n\"Scoresby Rare Scotch\",\n{\n            'v': 421,\n            'f': \"421\",\n        },\n\"2_2019\",\n{\n            'v': 2019,\n            'f': \"2019\",\n        },\n{\n            'v': 258.0,\n            'f': \"258.0\",\n        },\n{\n            'v': 0.788,\n            'f': \"0.788\",\n        }],\n [{\n            'v': 4,\n            'f': \"4\",\n        },\n{\n            'v': 10008,\n            'f': \"10008\",\n        },\n\"2019-03-10\",\n{\n            'v': 65.0,\n            'f': \"65.0\",\n        },\n{\n            'v': 0.13,\n            'f': \"0.13\",\n        },\n\"KNN\",\n\"2020-06-21\",\n\"train\",\n\"2019-03-10\",\n\"2019-03-04\",\n{\n            'v': 0,\n            'f': \"0\",\n        },\n{\n            'v': 0,\n            'f': \"0\",\n        },\n{\n            'v': 29.0,\n            'f': \"29.0\",\n        },\n{\n            'v': 10008,\n            'f': \"10008\",\n        },\n\"Scotch Whiskies\",\n\"Scoresby Rare Scotch\",\n{\n            'v': 421,\n            'f': \"421\",\n        },\n\"3_2019\",\n{\n            'v': 2019,\n            'f': \"2019\",\n        },\n{\n            'v': 258.0,\n            'f': \"258.0\",\n        },\n{\n            'v': 0.788,\n            'f': \"0.788\",\n        }]],\n        columns: [[\"number\", \"index\"], [\"number\", \"forecast_key\"], [\"string\", \"week_date\"], [\"number\", \"forecast\"], [\"number\", \"mape\"], [\"string\", \"best_model\"], [\"string\", \"trim_date\"], [\"string\", \"type\"], [\"string\", \"week_end_date\"], [\"string\", \"date\"], [\"number\", \"is_holiday\"], [\"number\", \"day_of_week\"], [\"number\", \"sales_bottles\"], [\"number\", \"item_number\"], [\"string\", \"category_name\"], [\"string\", \"item_description\"], [\"number\", \"vendor_number\"], [\"string\", \"month_year\"], [\"number\", \"year\"], [\"number\", \"safety_stock\"], [\"number\", \"holding_cost\"]],\n        columnOptions: [{\"width\": \"1px\", \"className\": \"index_column\"}],\n        rowsPerPage: 25,\n        helpUrl: \"https://colab.research.google.com/notebooks/data_table.ipynb\",\n        suppressOutputScrolling: true,\n        minimumWidth: undefined,\n      });\n    ",
            "text/html": [
              "<div>\n",
              "<style scoped>\n",
              "    .dataframe tbody tr th:only-of-type {\n",
              "        vertical-align: middle;\n",
              "    }\n",
              "\n",
              "    .dataframe tbody tr th {\n",
              "        vertical-align: top;\n",
              "    }\n",
              "\n",
              "    .dataframe thead th {\n",
              "        text-align: right;\n",
              "    }\n",
              "</style>\n",
              "<table border=\"1\" class=\"dataframe\">\n",
              "  <thead>\n",
              "    <tr style=\"text-align: right;\">\n",
              "      <th></th>\n",
              "      <th>forecast_key</th>\n",
              "      <th>week_date</th>\n",
              "      <th>forecast</th>\n",
              "      <th>mape</th>\n",
              "      <th>best_model</th>\n",
              "      <th>trim_date</th>\n",
              "      <th>type</th>\n",
              "      <th>week_end_date</th>\n",
              "      <th>date</th>\n",
              "      <th>is_holiday</th>\n",
              "      <th>day_of_week</th>\n",
              "      <th>sales_bottles</th>\n",
              "      <th>item_number</th>\n",
              "      <th>category_name</th>\n",
              "      <th>item_description</th>\n",
              "      <th>vendor_number</th>\n",
              "      <th>month_year</th>\n",
              "      <th>year</th>\n",
              "      <th>safety_stock</th>\n",
              "      <th>holding_cost</th>\n",
              "    </tr>\n",
              "  </thead>\n",
              "  <tbody>\n",
              "    <tr>\n",
              "      <th>0</th>\n",
              "      <td>10008</td>\n",
              "      <td>2019-02-10</td>\n",
              "      <td>53.0</td>\n",
              "      <td>0.13</td>\n",
              "      <td>KNN</td>\n",
              "      <td>2020-06-21</td>\n",
              "      <td>train</td>\n",
              "      <td>2019-02-10</td>\n",
              "      <td>2019-02-04</td>\n",
              "      <td>0</td>\n",
              "      <td>0</td>\n",
              "      <td>48.0</td>\n",
              "      <td>10008</td>\n",
              "      <td>Scotch Whiskies</td>\n",
              "      <td>Scoresby Rare Scotch</td>\n",
              "      <td>421</td>\n",
              "      <td>2_2019</td>\n",
              "      <td>2019</td>\n",
              "      <td>258.0</td>\n",
              "      <td>0.788</td>\n",
              "    </tr>\n",
              "    <tr>\n",
              "      <th>1</th>\n",
              "      <td>10008</td>\n",
              "      <td>2019-02-17</td>\n",
              "      <td>55.0</td>\n",
              "      <td>0.13</td>\n",
              "      <td>KNN</td>\n",
              "      <td>2020-06-21</td>\n",
              "      <td>train</td>\n",
              "      <td>2019-02-17</td>\n",
              "      <td>2019-02-11</td>\n",
              "      <td>0</td>\n",
              "      <td>0</td>\n",
              "      <td>72.0</td>\n",
              "      <td>10008</td>\n",
              "      <td>Scotch Whiskies</td>\n",
              "      <td>Scoresby Rare Scotch</td>\n",
              "      <td>421</td>\n",
              "      <td>2_2019</td>\n",
              "      <td>2019</td>\n",
              "      <td>258.0</td>\n",
              "      <td>0.788</td>\n",
              "    </tr>\n",
              "    <tr>\n",
              "      <th>2</th>\n",
              "      <td>10008</td>\n",
              "      <td>2019-02-24</td>\n",
              "      <td>54.0</td>\n",
              "      <td>0.13</td>\n",
              "      <td>KNN</td>\n",
              "      <td>2020-06-21</td>\n",
              "      <td>train</td>\n",
              "      <td>2019-02-24</td>\n",
              "      <td>2019-02-18</td>\n",
              "      <td>1</td>\n",
              "      <td>0</td>\n",
              "      <td>54.0</td>\n",
              "      <td>10008</td>\n",
              "      <td>Scotch Whiskies</td>\n",
              "      <td>Scoresby Rare Scotch</td>\n",
              "      <td>421</td>\n",
              "      <td>2_2019</td>\n",
              "      <td>2019</td>\n",
              "      <td>258.0</td>\n",
              "      <td>0.788</td>\n",
              "    </tr>\n",
              "    <tr>\n",
              "      <th>3</th>\n",
              "      <td>10008</td>\n",
              "      <td>2019-03-03</td>\n",
              "      <td>65.0</td>\n",
              "      <td>0.13</td>\n",
              "      <td>KNN</td>\n",
              "      <td>2020-06-21</td>\n",
              "      <td>train</td>\n",
              "      <td>2019-03-03</td>\n",
              "      <td>2019-02-25</td>\n",
              "      <td>0</td>\n",
              "      <td>0</td>\n",
              "      <td>52.0</td>\n",
              "      <td>10008</td>\n",
              "      <td>Scotch Whiskies</td>\n",
              "      <td>Scoresby Rare Scotch</td>\n",
              "      <td>421</td>\n",
              "      <td>2_2019</td>\n",
              "      <td>2019</td>\n",
              "      <td>258.0</td>\n",
              "      <td>0.788</td>\n",
              "    </tr>\n",
              "    <tr>\n",
              "      <th>4</th>\n",
              "      <td>10008</td>\n",
              "      <td>2019-03-10</td>\n",
              "      <td>65.0</td>\n",
              "      <td>0.13</td>\n",
              "      <td>KNN</td>\n",
              "      <td>2020-06-21</td>\n",
              "      <td>train</td>\n",
              "      <td>2019-03-10</td>\n",
              "      <td>2019-03-04</td>\n",
              "      <td>0</td>\n",
              "      <td>0</td>\n",
              "      <td>29.0</td>\n",
              "      <td>10008</td>\n",
              "      <td>Scotch Whiskies</td>\n",
              "      <td>Scoresby Rare Scotch</td>\n",
              "      <td>421</td>\n",
              "      <td>3_2019</td>\n",
              "      <td>2019</td>\n",
              "      <td>258.0</td>\n",
              "      <td>0.788</td>\n",
              "    </tr>\n",
              "  </tbody>\n",
              "</table>\n",
              "</div>"
            ],
            "text/plain": [
              "   forecast_key   week_date  forecast  ...  year safety_stock holding_cost\n",
              "0         10008  2019-02-10      53.0  ...  2019        258.0        0.788\n",
              "1         10008  2019-02-17      55.0  ...  2019        258.0        0.788\n",
              "2         10008  2019-02-24      54.0  ...  2019        258.0        0.788\n",
              "3         10008  2019-03-03      65.0  ...  2019        258.0        0.788\n",
              "4         10008  2019-03-10      65.0  ...  2019        258.0        0.788\n",
              "\n",
              "[5 rows x 20 columns]"
            ]
          },
          "metadata": {
            "tags": []
          },
          "execution_count": 126
        }
      ]
    },
    {
      "cell_type": "markdown",
      "metadata": {
        "id": "lxzr-JkVRjYe"
      },
      "source": [
        "## Transform data\n",
        "\n",
        "Data is grouped by month-year and forecast error is calulated at this level"
      ]
    },
    {
      "cell_type": "code",
      "metadata": {
        "id": "3Rm3lyIC8b7N",
        "colab": {
          "base_uri": "https://localhost:8080/",
          "height": 194
        },
        "outputId": "2e030e1a-a833-4cd9-f884-b72671bbb9fb"
      },
      "source": [
        "forecasts = forecasts_query.copy()\n",
        "\n",
        "# Convert string to date\n",
        "forecasts['date'] = pd.to_datetime(forecasts_query['date'])\n",
        "\n",
        "# Convert key number to str\n",
        "forecasts['forecast_key'] = forecasts['forecast_key'].astype(str)\n",
        "\n",
        "# Group by month-year\n",
        "forecasts['month_year'] = forecasts['date'].dt.month.astype(str) +  \"_\" + forecasts['date'].dt.year.astype(str)\n",
        "forecasts['year'] = forecasts['date'].dt.year.astype(str)\n",
        "\n",
        "monthly_forecasts = forecasts.groupby(['forecast_key','month_year','type','year']).agg({\"sales_bottles\":sum,\"forecast\":sum,\"date\":max}).reset_index()\n",
        "monthly_forecasts.rename(columns={'date':'month_end'},inplace=True)\n",
        "\n",
        "# Historical only\n",
        "historical = monthly_forecasts[monthly_forecasts['type']!='forecast'] \n",
        "\n",
        "# Future forecast only\n",
        "forecasts_weekly = forecasts[forecasts['type']=='forecast'] \n",
        "monthly_forecasts = monthly_forecasts[monthly_forecasts['type']=='forecast'] \n",
        "\n",
        "target_value = 'sales_bottles'\n",
        "\n",
        "historical['error'] = historical['forecast'] - historical[target_value]  # Error\n",
        "historical.head()"
      ],
      "execution_count": 127,
      "outputs": [
        {
          "output_type": "execute_result",
          "data": {
            "application/vnd.google.colaboratory.module+javascript": "\n      import \"https://ssl.gstatic.com/colaboratory/data_table/a6224c040fa35dcf/data_table.js\";\n\n      window.createDataTable({\n        data: [[{\n            'v': 0,\n            'f': \"0\",\n        },\n\"100015\",\n\"10_2017\",\n\"train\",\n\"2017\",\n{\n            'v': 291.0,\n            'f': \"291.0\",\n        },\n{\n            'v': 171.0,\n            'f': \"171.0\",\n        },\n\"2017-10-31 00:00:00\",\n{\n            'v': -120.0,\n            'f': \"-120.0\",\n        }],\n [{\n            'v': 1,\n            'f': \"1\",\n        },\n\"100015\",\n\"10_2018\",\n\"train\",\n\"2018\",\n{\n            'v': 188.0,\n            'f': \"188.0\",\n        },\n{\n            'v': 174.0,\n            'f': \"174.0\",\n        },\n\"2018-10-31 00:00:00\",\n{\n            'v': -14.0,\n            'f': \"-14.0\",\n        }],\n [{\n            'v': 2,\n            'f': \"2\",\n        },\n\"100015\",\n\"10_2019\",\n\"train\",\n\"2019\",\n{\n            'v': 0.0,\n            'f': \"0.0\",\n        },\n{\n            'v': 153.0,\n            'f': \"153.0\",\n        },\n\"2019-10-31 00:00:00\",\n{\n            'v': 153.0,\n            'f': \"153.0\",\n        }],\n [{\n            'v': 4,\n            'f': \"4\",\n        },\n\"100015\",\n\"10_2020\",\n\"test\",\n\"2020\",\n{\n            'v': 93.0,\n            'f': \"93.0\",\n        },\n{\n            'v': 135.0,\n            'f': \"135.0\",\n        },\n\"2020-10-25 00:00:00\",\n{\n            'v': 42.0,\n            'f': \"42.0\",\n        }],\n [{\n            'v': 6,\n            'f': \"6\",\n        },\n\"100015\",\n\"11_2017\",\n\"train\",\n\"2017\",\n{\n            'v': 136.0,\n            'f': \"136.0\",\n        },\n{\n            'v': 75.0,\n            'f': \"75.0\",\n        },\n\"2017-11-30 00:00:00\",\n{\n            'v': -61.0,\n            'f': \"-61.0\",\n        }]],\n        columns: [[\"number\", \"index\"], [\"string\", \"forecast_key\"], [\"string\", \"month_year\"], [\"string\", \"type\"], [\"string\", \"year\"], [\"number\", \"sales_bottles\"], [\"number\", \"forecast\"], [\"string\", \"month_end\"], [\"number\", \"error\"]],\n        columnOptions: [{\"width\": \"1px\", \"className\": \"index_column\"}],\n        rowsPerPage: 25,\n        helpUrl: \"https://colab.research.google.com/notebooks/data_table.ipynb\",\n        suppressOutputScrolling: true,\n        minimumWidth: undefined,\n      });\n    ",
            "text/html": [
              "<div>\n",
              "<style scoped>\n",
              "    .dataframe tbody tr th:only-of-type {\n",
              "        vertical-align: middle;\n",
              "    }\n",
              "\n",
              "    .dataframe tbody tr th {\n",
              "        vertical-align: top;\n",
              "    }\n",
              "\n",
              "    .dataframe thead th {\n",
              "        text-align: right;\n",
              "    }\n",
              "</style>\n",
              "<table border=\"1\" class=\"dataframe\">\n",
              "  <thead>\n",
              "    <tr style=\"text-align: right;\">\n",
              "      <th></th>\n",
              "      <th>forecast_key</th>\n",
              "      <th>month_year</th>\n",
              "      <th>type</th>\n",
              "      <th>year</th>\n",
              "      <th>sales_bottles</th>\n",
              "      <th>forecast</th>\n",
              "      <th>month_end</th>\n",
              "      <th>error</th>\n",
              "    </tr>\n",
              "  </thead>\n",
              "  <tbody>\n",
              "    <tr>\n",
              "      <th>0</th>\n",
              "      <td>100015</td>\n",
              "      <td>10_2017</td>\n",
              "      <td>train</td>\n",
              "      <td>2017</td>\n",
              "      <td>291.0</td>\n",
              "      <td>171.0</td>\n",
              "      <td>2017-10-31</td>\n",
              "      <td>-120.0</td>\n",
              "    </tr>\n",
              "    <tr>\n",
              "      <th>1</th>\n",
              "      <td>100015</td>\n",
              "      <td>10_2018</td>\n",
              "      <td>train</td>\n",
              "      <td>2018</td>\n",
              "      <td>188.0</td>\n",
              "      <td>174.0</td>\n",
              "      <td>2018-10-31</td>\n",
              "      <td>-14.0</td>\n",
              "    </tr>\n",
              "    <tr>\n",
              "      <th>2</th>\n",
              "      <td>100015</td>\n",
              "      <td>10_2019</td>\n",
              "      <td>train</td>\n",
              "      <td>2019</td>\n",
              "      <td>0.0</td>\n",
              "      <td>153.0</td>\n",
              "      <td>2019-10-31</td>\n",
              "      <td>153.0</td>\n",
              "    </tr>\n",
              "    <tr>\n",
              "      <th>4</th>\n",
              "      <td>100015</td>\n",
              "      <td>10_2020</td>\n",
              "      <td>test</td>\n",
              "      <td>2020</td>\n",
              "      <td>93.0</td>\n",
              "      <td>135.0</td>\n",
              "      <td>2020-10-25</td>\n",
              "      <td>42.0</td>\n",
              "    </tr>\n",
              "    <tr>\n",
              "      <th>6</th>\n",
              "      <td>100015</td>\n",
              "      <td>11_2017</td>\n",
              "      <td>train</td>\n",
              "      <td>2017</td>\n",
              "      <td>136.0</td>\n",
              "      <td>75.0</td>\n",
              "      <td>2017-11-30</td>\n",
              "      <td>-61.0</td>\n",
              "    </tr>\n",
              "  </tbody>\n",
              "</table>\n",
              "</div>"
            ],
            "text/plain": [
              "  forecast_key month_year   type  ... forecast  month_end  error\n",
              "0       100015    10_2017  train  ...    171.0 2017-10-31 -120.0\n",
              "1       100015    10_2018  train  ...    174.0 2018-10-31  -14.0\n",
              "2       100015    10_2019  train  ...    153.0 2019-10-31  153.0\n",
              "4       100015    10_2020   test  ...    135.0 2020-10-25   42.0\n",
              "6       100015    11_2017  train  ...     75.0 2017-11-30  -61.0\n",
              "\n",
              "[5 rows x 8 columns]"
            ]
          },
          "metadata": {
            "tags": []
          },
          "execution_count": 127
        }
      ]
    },
    {
      "cell_type": "markdown",
      "metadata": {
        "id": "00jwSk9tPo3i"
      },
      "source": [
        "## Inventory Optimization\n"
      ]
    },
    {
      "cell_type": "markdown",
      "metadata": {
        "id": "45a5P6xSdjV7"
      },
      "source": [
        "### Historical Error distribution\n",
        "Look at percetage error to allow for better comparison between items"
      ]
    },
    {
      "cell_type": "code",
      "metadata": {
        "colab": {
          "base_uri": "https://localhost:8080/",
          "height": 257
        },
        "id": "AwZtSSbQPvck",
        "outputId": "ace2699a-4e03-480b-8214-0c63eb27b0a9"
      },
      "source": [
        "# Calculate MAPE\n",
        "historical['mape_pcnt'] = (np.divide(historical['error'],historical['sales_bottles']).abs()).round(2)\n",
        "\n",
        "# Infinite MAPE values are generated when error is 0, replace with 0\n",
        "non_infinite_mask = ~historical['mape_pcnt'].isin([np.inf,-np.inf])\n",
        "\n",
        "historical['mape_pcnt'] = historical['mape_pcnt'].where(non_infinite_mask,other=0)\n",
        "\n",
        "# Summary\n",
        "historical.describe().round(2)"
      ],
      "execution_count": 128,
      "outputs": [
        {
          "output_type": "execute_result",
          "data": {
            "application/vnd.google.colaboratory.module+javascript": "\n      import \"https://ssl.gstatic.com/colaboratory/data_table/a6224c040fa35dcf/data_table.js\";\n\n      window.createDataTable({\n        data: [[\"count\",\n{\n            'v': 5924.0,\n            'f': \"5924.0\",\n        },\n{\n            'v': 5924.0,\n            'f': \"5924.0\",\n        },\n{\n            'v': 5924.0,\n            'f': \"5924.0\",\n        },\n{\n            'v': 5499.0,\n            'f': \"5499.0\",\n        }],\n [\"mean\",\n{\n            'v': 2327.72,\n            'f': \"2327.72\",\n        },\n{\n            'v': 2286.0,\n            'f': \"2286.0\",\n        },\n{\n            'v': -41.72,\n            'f': \"-41.72\",\n        },\n{\n            'v': 0.41,\n            'f': \"0.41\",\n        }],\n [\"std\",\n{\n            'v': 11301.21,\n            'f': \"11301.21\",\n        },\n{\n            'v': 11212.37,\n            'f': \"11212.37\",\n        },\n{\n            'v': 969.62,\n            'f': \"969.62\",\n        },\n{\n            'v': 3.43,\n            'f': \"3.43\",\n        }],\n [\"min\",\n{\n            'v': 0.0,\n            'f': \"0.0\",\n        },\n{\n            'v': -517.0,\n            'f': \"-517.0\",\n        },\n{\n            'v': -17425.0,\n            'f': \"-17425.0\",\n        },\n{\n            'v': 0.0,\n            'f': \"0.0\",\n        }],\n [\"25%\",\n{\n            'v': 69.0,\n            'f': \"69.0\",\n        },\n{\n            'v': 80.0,\n            'f': \"80.0\",\n        },\n{\n            'v': -56.0,\n            'f': \"-56.0\",\n        },\n{\n            'v': 0.05,\n            'f': \"0.05\",\n        }],\n [\"50%\",\n{\n            'v': 338.0,\n            'f': \"338.0\",\n        },\n{\n            'v': 340.0,\n            'f': \"340.0\",\n        },\n{\n            'v': 0.0,\n            'f': \"0.0\",\n        },\n{\n            'v': 0.14,\n            'f': \"0.14\",\n        }],\n [\"75%\",\n{\n            'v': 1234.0,\n            'f': \"1234.0\",\n        },\n{\n            'v': 1158.5,\n            'f': \"1158.5\",\n        },\n{\n            'v': 52.0,\n            'f': \"52.0\",\n        },\n{\n            'v': 0.34,\n            'f': \"0.34\",\n        }],\n [\"max\",\n{\n            'v': 186832.0,\n            'f': \"186832.0\",\n        },\n{\n            'v': 187566.0,\n            'f': \"187566.0\",\n        },\n{\n            'v': 11955.0,\n            'f': \"11955.0\",\n        },\n{\n            'v': 175.17,\n            'f': \"175.17\",\n        }]],\n        columns: [[\"string\", \"index\"], [\"number\", \"sales_bottles\"], [\"number\", \"forecast\"], [\"number\", \"error\"], [\"number\", \"mape_pcnt\"]],\n        columnOptions: [{\"width\": \"1px\", \"className\": \"index_column\"}],\n        rowsPerPage: 25,\n        helpUrl: \"https://colab.research.google.com/notebooks/data_table.ipynb\",\n        suppressOutputScrolling: true,\n        minimumWidth: undefined,\n      });\n    ",
            "text/html": [
              "<div>\n",
              "<style scoped>\n",
              "    .dataframe tbody tr th:only-of-type {\n",
              "        vertical-align: middle;\n",
              "    }\n",
              "\n",
              "    .dataframe tbody tr th {\n",
              "        vertical-align: top;\n",
              "    }\n",
              "\n",
              "    .dataframe thead th {\n",
              "        text-align: right;\n",
              "    }\n",
              "</style>\n",
              "<table border=\"1\" class=\"dataframe\">\n",
              "  <thead>\n",
              "    <tr style=\"text-align: right;\">\n",
              "      <th></th>\n",
              "      <th>sales_bottles</th>\n",
              "      <th>forecast</th>\n",
              "      <th>error</th>\n",
              "      <th>mape_pcnt</th>\n",
              "    </tr>\n",
              "  </thead>\n",
              "  <tbody>\n",
              "    <tr>\n",
              "      <th>count</th>\n",
              "      <td>5924.00</td>\n",
              "      <td>5924.00</td>\n",
              "      <td>5924.00</td>\n",
              "      <td>5499.00</td>\n",
              "    </tr>\n",
              "    <tr>\n",
              "      <th>mean</th>\n",
              "      <td>2327.72</td>\n",
              "      <td>2286.00</td>\n",
              "      <td>-41.72</td>\n",
              "      <td>0.41</td>\n",
              "    </tr>\n",
              "    <tr>\n",
              "      <th>std</th>\n",
              "      <td>11301.21</td>\n",
              "      <td>11212.37</td>\n",
              "      <td>969.62</td>\n",
              "      <td>3.43</td>\n",
              "    </tr>\n",
              "    <tr>\n",
              "      <th>min</th>\n",
              "      <td>0.00</td>\n",
              "      <td>-517.00</td>\n",
              "      <td>-17425.00</td>\n",
              "      <td>0.00</td>\n",
              "    </tr>\n",
              "    <tr>\n",
              "      <th>25%</th>\n",
              "      <td>69.00</td>\n",
              "      <td>80.00</td>\n",
              "      <td>-56.00</td>\n",
              "      <td>0.05</td>\n",
              "    </tr>\n",
              "    <tr>\n",
              "      <th>50%</th>\n",
              "      <td>338.00</td>\n",
              "      <td>340.00</td>\n",
              "      <td>0.00</td>\n",
              "      <td>0.14</td>\n",
              "    </tr>\n",
              "    <tr>\n",
              "      <th>75%</th>\n",
              "      <td>1234.00</td>\n",
              "      <td>1158.50</td>\n",
              "      <td>52.00</td>\n",
              "      <td>0.34</td>\n",
              "    </tr>\n",
              "    <tr>\n",
              "      <th>max</th>\n",
              "      <td>186832.00</td>\n",
              "      <td>187566.00</td>\n",
              "      <td>11955.00</td>\n",
              "      <td>175.17</td>\n",
              "    </tr>\n",
              "  </tbody>\n",
              "</table>\n",
              "</div>"
            ],
            "text/plain": [
              "       sales_bottles   forecast     error  mape_pcnt\n",
              "count        5924.00    5924.00   5924.00    5499.00\n",
              "mean         2327.72    2286.00    -41.72       0.41\n",
              "std         11301.21   11212.37    969.62       3.43\n",
              "min             0.00    -517.00 -17425.00       0.00\n",
              "25%            69.00      80.00    -56.00       0.05\n",
              "50%           338.00     340.00      0.00       0.14\n",
              "75%          1234.00    1158.50     52.00       0.34\n",
              "max        186832.00  187566.00  11955.00     175.17"
            ]
          },
          "metadata": {
            "tags": []
          },
          "execution_count": 128
        }
      ]
    },
    {
      "cell_type": "markdown",
      "metadata": {
        "id": "GsKOHF45dr13"
      },
      "source": [
        "Looking at the summary table, we notice some extreme error values"
      ]
    },
    {
      "cell_type": "code",
      "metadata": {
        "colab": {
          "base_uri": "https://localhost:8080/",
          "height": 443
        },
        "id": "d8krswUmVJI_",
        "outputId": "40339166-8058-4c0b-d3c2-c2b46a8f6f93"
      },
      "source": [
        "# Violin plot without extreme values\n",
        "sns.set_context('talk')\n",
        "data = historical[historical['mape_pcnt']<1.5]\n",
        "plt.figure(figsize=(6,5))\n",
        "plt.title('Historical Error')\n",
        "sns.violinplot(x=data['type'],y=data['mape_pcnt'])\n",
        "plt.show()\n",
        "\n",
        "# How many item - months have MAPE error above 150%?\n",
        "print(\"\\n {} item-months have error above 150%\".format(len(historical[historical['mape_pcnt']>1.5])))\n",
        "\n",
        "percent_of_total =  (len(historical[historical['mape_pcnt']>1.5])/len(historical))*100\n",
        "print(\"\\n They represent {}% of total items-month keys\".format(round(percent_of_total,1)))"
      ],
      "execution_count": 129,
      "outputs": [
        {
          "output_type": "display_data",
          "data": {
            "image/png": "[encoded data removed]",
            "text/plain": [
              "<Figure size 432x360 with 1 Axes>"
            ]
          },
          "metadata": {
            "tags": [],
            "needs_background": "light"
          }
        },
        {
          "output_type": "stream",
          "text": [
            "\n",
            " 118 item-months have error above 150%\n",
            "\n",
            " They represent 2.0% of total items-month keys\n"
          ],
          "name": "stdout"
        }
      ]
    },
    {
      "cell_type": "markdown",
      "metadata": {
        "id": "kVwo8J_ZYQn7"
      },
      "source": [
        "### Reorder Quantity\n",
        "\n",
        "We'll use the Minimum Order Quantity formula:\n",
        "\n",
        "$ EOQ = \\sqrt{2 *\\dfrac{Annual \\ Demand * Cost \\ per \\ Order}{Annual \\ Holding \\ Cost \\ per \\ Unit}} $\n",
        "\n",
        "\n",
        "* Annual holding cost is set at 15% of the bottle's cost\n",
        "* The bottle cost is 60% of the retail value  \n",
        "\n",
        "\n",
        "It is known that the main limitation against the use of this formula is that demand needs to be constant throughout time, which is not the case for this project but the formula is still used for simplicity.\n",
        "\n",
        "We must first get the average bottle price by querying the sales data in the last year"
      ]
    },
    {
      "cell_type": "markdown",
      "metadata": {
        "id": "tIn2MAjzfby_"
      },
      "source": [
        "#### Bottle price - query"
      ]
    },
    {
      "cell_type": "code",
      "metadata": {
        "colab": {
          "base_uri": "https://localhost:8080/",
          "height": 152
        },
        "id": "dMZBcpmWYQF9",
        "outputId": "006a4242-0ae0-4333-ea3c-b974c826438e"
      },
      "source": [
        "item_price = client.query('''\n",
        "\n",
        "  SELECT \n",
        "    item_number,\n",
        "    item_description,\n",
        "    category_name, \n",
        "    SUM(sale_dollars)/SUM(bottles_sold) as avg_price\n",
        "  FROM \n",
        "    `bigquery-public-data.iowa_liquor_sales.sales`\n",
        "  WHERE \n",
        "    date > DATE_SUB((SELECT MAX(date) FROM `bigquery-public-data.iowa_liquor_sales.sales`), INTERVAL 1 YEAR) AND \n",
        "    vendor_number = '421'\n",
        "  GROUP BY\n",
        "    item_number, \n",
        "    category_name, \n",
        "    item_description\n",
        "\n",
        "''').to_dataframe()\n",
        "\n",
        "# Create dictionary to aid in lookup\n",
        "item_price_dict = item_price.set_index('item_number')['avg_price'].to_dict()\n",
        "item_price.sample(3)"
      ],
      "execution_count": 130,
      "outputs": [
        {
          "output_type": "execute_result",
          "data": {
            "application/vnd.google.colaboratory.module+javascript": "\n      import \"https://ssl.gstatic.com/colaboratory/data_table/a6224c040fa35dcf/data_table.js\";\n\n      window.createDataTable({\n        data: [[{\n            'v': 282,\n            'f': \"282\",\n        },\n\"903563\",\n\"Rain Vodka\",\n\"Special Order Items\",\n{\n            'v': 11.25,\n            'f': \"11.25\",\n        }],\n [{\n            'v': 263,\n            'f': \"263\",\n        },\n\"920186\",\n\"Weller Full Proof Barrel\",\n\"Straight Bourbon Whiskies\",\n{\n            'v': 37.5,\n            'f': \"37.5\",\n        }],\n [{\n            'v': 168,\n            'f': \"168\",\n        },\n\"69658\",\n\"Dr McGillicuddys Mentholmint\",\n\"Imported Schnapps\",\n{\n            'v': 21.989999999999988,\n            'f': \"21.989999999999988\",\n        }]],\n        columns: [[\"number\", \"index\"], [\"string\", \"item_number\"], [\"string\", \"item_description\"], [\"string\", \"category_name\"], [\"number\", \"avg_price\"]],\n        columnOptions: [{\"width\": \"1px\", \"className\": \"index_column\"}],\n        rowsPerPage: 25,\n        helpUrl: \"https://colab.research.google.com/notebooks/data_table.ipynb\",\n        suppressOutputScrolling: true,\n        minimumWidth: undefined,\n      });\n    ",
            "text/html": [
              "<div>\n",
              "<style scoped>\n",
              "    .dataframe tbody tr th:only-of-type {\n",
              "        vertical-align: middle;\n",
              "    }\n",
              "\n",
              "    .dataframe tbody tr th {\n",
              "        vertical-align: top;\n",
              "    }\n",
              "\n",
              "    .dataframe thead th {\n",
              "        text-align: right;\n",
              "    }\n",
              "</style>\n",
              "<table border=\"1\" class=\"dataframe\">\n",
              "  <thead>\n",
              "    <tr style=\"text-align: right;\">\n",
              "      <th></th>\n",
              "      <th>item_number</th>\n",
              "      <th>item_description</th>\n",
              "      <th>category_name</th>\n",
              "      <th>avg_price</th>\n",
              "    </tr>\n",
              "  </thead>\n",
              "  <tbody>\n",
              "    <tr>\n",
              "      <th>282</th>\n",
              "      <td>903563</td>\n",
              "      <td>Rain Vodka</td>\n",
              "      <td>Special Order Items</td>\n",
              "      <td>11.25</td>\n",
              "    </tr>\n",
              "    <tr>\n",
              "      <th>263</th>\n",
              "      <td>920186</td>\n",
              "      <td>Weller Full Proof Barrel</td>\n",
              "      <td>Straight Bourbon Whiskies</td>\n",
              "      <td>37.50</td>\n",
              "    </tr>\n",
              "    <tr>\n",
              "      <th>168</th>\n",
              "      <td>69658</td>\n",
              "      <td>Dr McGillicuddys Mentholmint</td>\n",
              "      <td>Imported Schnapps</td>\n",
              "      <td>21.99</td>\n",
              "    </tr>\n",
              "  </tbody>\n",
              "</table>\n",
              "</div>"
            ],
            "text/plain": [
              "    item_number  ... avg_price\n",
              "282      903563  ...     11.25\n",
              "263      920186  ...     37.50\n",
              "168       69658  ...     21.99\n",
              "\n",
              "[3 rows x 4 columns]"
            ]
          },
          "metadata": {
            "tags": []
          },
          "execution_count": 130
        }
      ]
    },
    {
      "cell_type": "markdown",
      "metadata": {
        "id": "bVnx3SoTpVd3"
      },
      "source": [
        "We are looking to calculate the reorder quantity for the next year. To do that, first we query the data to include only the next year's forecasts.\n"
      ]
    },
    {
      "cell_type": "markdown",
      "metadata": {
        "id": "1rbXxqXUficA"
      },
      "source": [
        "#### Annual demand by item"
      ]
    },
    {
      "cell_type": "code",
      "metadata": {
        "colab": {
          "base_uri": "https://localhost:8080/",
          "height": 194
        },
        "id": "u4o2cp3Vf7Vf",
        "outputId": "c0a7be69-6874-4157-a8c3-258ade513480"
      },
      "source": [
        "# Annual demand by key query\n",
        "year_forecast = client.query('''\n",
        "\n",
        "  SELECT \n",
        "    forecast_key,\n",
        "    SUM(forecast) as annual_forecast\n",
        "  FROM \n",
        "    `iowa-liquor-sales-266301.forecasting.ml_forecasts`\n",
        "  WHERE\n",
        "    type = 'forecast'\n",
        "  GROUP BY\n",
        "    forecast_key\n",
        "\n",
        "''').to_dataframe()\n",
        "\n",
        "year_forecast['forecast_key']  = year_forecast['forecast_key'].astype(str)\n",
        "year_forecast.head()"
      ],
      "execution_count": 131,
      "outputs": [
        {
          "output_type": "execute_result",
          "data": {
            "application/vnd.google.colaboratory.module+javascript": "\n      import \"https://ssl.gstatic.com/colaboratory/data_table/a6224c040fa35dcf/data_table.js\";\n\n      window.createDataTable({\n        data: [[{\n            'v': 0,\n            'f': \"0\",\n        },\n\"10008\",\n{\n            'v': 17265.0,\n            'f': \"17265.0\",\n        }],\n [{\n            'v': 1,\n            'f': \"1\",\n        },\n\"10009\",\n{\n            'v': 2330.0,\n            'f': \"2330.0\",\n        }],\n [{\n            'v': 2,\n            'f': \"2\",\n        },\n\"37418\",\n{\n            'v': 15805.0,\n            'f': \"15805.0\",\n        }],\n [{\n            'v': 3,\n            'f': \"3\",\n        },\n\"43648\",\n{\n            'v': 2260.0,\n            'f': \"2260.0\",\n        }],\n [{\n            'v': 4,\n            'f': \"4\",\n        },\n\"66636\",\n{\n            'v': 11250.0,\n            'f': \"11250.0\",\n        }]],\n        columns: [[\"number\", \"index\"], [\"string\", \"forecast_key\"], [\"number\", \"annual_forecast\"]],\n        columnOptions: [{\"width\": \"1px\", \"className\": \"index_column\"}],\n        rowsPerPage: 25,\n        helpUrl: \"https://colab.research.google.com/notebooks/data_table.ipynb\",\n        suppressOutputScrolling: true,\n        minimumWidth: undefined,\n      });\n    ",
            "text/html": [
              "<div>\n",
              "<style scoped>\n",
              "    .dataframe tbody tr th:only-of-type {\n",
              "        vertical-align: middle;\n",
              "    }\n",
              "\n",
              "    .dataframe tbody tr th {\n",
              "        vertical-align: top;\n",
              "    }\n",
              "\n",
              "    .dataframe thead th {\n",
              "        text-align: right;\n",
              "    }\n",
              "</style>\n",
              "<table border=\"1\" class=\"dataframe\">\n",
              "  <thead>\n",
              "    <tr style=\"text-align: right;\">\n",
              "      <th></th>\n",
              "      <th>forecast_key</th>\n",
              "      <th>annual_forecast</th>\n",
              "    </tr>\n",
              "  </thead>\n",
              "  <tbody>\n",
              "    <tr>\n",
              "      <th>0</th>\n",
              "      <td>10008</td>\n",
              "      <td>17265.0</td>\n",
              "    </tr>\n",
              "    <tr>\n",
              "      <th>1</th>\n",
              "      <td>10009</td>\n",
              "      <td>2330.0</td>\n",
              "    </tr>\n",
              "    <tr>\n",
              "      <th>2</th>\n",
              "      <td>37418</td>\n",
              "      <td>15805.0</td>\n",
              "    </tr>\n",
              "    <tr>\n",
              "      <th>3</th>\n",
              "      <td>43648</td>\n",
              "      <td>2260.0</td>\n",
              "    </tr>\n",
              "    <tr>\n",
              "      <th>4</th>\n",
              "      <td>66636</td>\n",
              "      <td>11250.0</td>\n",
              "    </tr>\n",
              "  </tbody>\n",
              "</table>\n",
              "</div>"
            ],
            "text/plain": [
              "  forecast_key  annual_forecast\n",
              "0        10008          17265.0\n",
              "1        10009           2330.0\n",
              "2        37418          15805.0\n",
              "3        43648           2260.0\n",
              "4        66636          11250.0"
            ]
          },
          "metadata": {
            "tags": []
          },
          "execution_count": 131
        }
      ]
    },
    {
      "cell_type": "code",
      "metadata": {
        "colab": {
          "base_uri": "https://localhost:8080/",
          "height": 586
        },
        "id": "kkW5-hUjeqVA",
        "outputId": "08db8f38-b2a9-45c1-cfd1-207f53a8a467"
      },
      "source": [
        "# Set up variables\n",
        "unit_cost_pcnt = 0.4 # direct unit cost, as percent of item price\n",
        "holding_cost = 0.3 # as percent of item cost - per year.\n",
        "cost_per_order = 3 # dollars\n",
        "\n",
        "# Calculated columns\n",
        "year_forecast['item_price'] =  [round(item_price_dict.get(key),2) for key in year_forecast['forecast_key']] # lookup price\n",
        "year_forecast['item_cost'] = year_forecast['item_price'] * unit_cost_pcnt\n",
        "year_forecast['holding_cost_unit'] = year_forecast['item_cost'] * holding_cost\n",
        "\n",
        "# Now it's possible to calculate the economic order quantity\n",
        "year_forecast['economic_order_qty'] = np.sqrt(2*(cost_per_order*year_forecast['annual_forecast'])\\\n",
        "                                                /year_forecast['holding_cost_unit']).round(0)\n",
        "\n",
        "year_forecast['orders_per_year'] = year_forecast['annual_forecast']/year_forecast['economic_order_qty']\n",
        "\n",
        "# Plot\n",
        "plt.title('Average Orders per Year per Item')\n",
        "sns.distplot(year_forecast['orders_per_year'])\n",
        "plt.show()\n",
        "\n",
        "year_forecast.head()"
      ],
      "execution_count": 132,
      "outputs": [
        {
          "output_type": "stream",
          "text": [
            "/usr/local/lib/python3.6/dist-packages/pandas/core/series.py:726: RuntimeWarning: invalid value encountered in sqrt\n",
            "  result = getattr(ufunc, method)(*inputs, **kwargs)\n",
            "/usr/local/lib/python3.6/dist-packages/seaborn/distributions.py:2551: FutureWarning: `distplot` is a deprecated function and will be removed in a future version. Please adapt your code to use either `displot` (a figure-level function with similar flexibility) or `histplot` (an axes-level function for histograms).\n",
            "  warnings.warn(msg, FutureWarning)\n"
          ],
          "name": "stderr"
        },
        {
          "output_type": "display_data",
          "data": {
            "image/png": "[encoded data removed]",
            "text/plain": [
              "<Figure size 432x288 with 1 Axes>"
            ]
          },
          "metadata": {
            "tags": [],
            "needs_background": "light"
          }
        },
        {
          "output_type": "execute_result",
          "data": {
            "application/vnd.google.colaboratory.module+javascript": "\n      import \"https://ssl.gstatic.com/colaboratory/data_table/a6224c040fa35dcf/data_table.js\";\n\n      window.createDataTable({\n        data: [[{\n            'v': 0,\n            'f': \"0\",\n        },\n\"10008\",\n{\n            'v': 17265.0,\n            'f': \"17265.0\",\n        },\n{\n            'v': 15.75,\n            'f': \"15.75\",\n        },\n{\n            'v': 6.300000000000001,\n            'f': \"6.300000000000001\",\n        },\n{\n            'v': 1.8900000000000001,\n            'f': \"1.8900000000000001\",\n        },\n{\n            'v': 234.0,\n            'f': \"234.0\",\n        },\n{\n            'v': 73.78205128205128,\n            'f': \"73.78205128205128\",\n        }],\n [{\n            'v': 1,\n            'f': \"1\",\n        },\n\"10009\",\n{\n            'v': 2330.0,\n            'f': \"2330.0\",\n        },\n{\n            'v': 10.11,\n            'f': \"10.11\",\n        },\n{\n            'v': 4.044,\n            'f': \"4.044\",\n        },\n{\n            'v': 1.2131999999999998,\n            'f': \"1.2131999999999998\",\n        },\n{\n            'v': 107.0,\n            'f': \"107.0\",\n        },\n{\n            'v': 21.77570093457944,\n            'f': \"21.77570093457944\",\n        }],\n [{\n            'v': 2,\n            'f': \"2\",\n        },\n\"37418\",\n{\n            'v': 15805.0,\n            'f': \"15805.0\",\n        },\n{\n            'v': 12.75,\n            'f': \"12.75\",\n        },\n{\n            'v': 5.1000000000000005,\n            'f': \"5.1000000000000005\",\n        },\n{\n            'v': 1.53,\n            'f': \"1.53\",\n        },\n{\n            'v': 249.0,\n            'f': \"249.0\",\n        },\n{\n            'v': 63.47389558232932,\n            'f': \"63.47389558232932\",\n        }],\n [{\n            'v': 3,\n            'f': \"3\",\n        },\n\"43648\",\n{\n            'v': 2260.0,\n            'f': \"2260.0\",\n        },\n{\n            'v': 10.82,\n            'f': \"10.82\",\n        },\n{\n            'v': 4.328,\n            'f': \"4.328\",\n        },\n{\n            'v': 1.2984,\n            'f': \"1.2984\",\n        },\n{\n            'v': 102.0,\n            'f': \"102.0\",\n        },\n{\n            'v': 22.15686274509804,\n            'f': \"22.15686274509804\",\n        }],\n [{\n            'v': 4,\n            'f': \"4\",\n        },\n\"66636\",\n{\n            'v': 11250.0,\n            'f': \"11250.0\",\n        },\n{\n            'v': 20.25,\n            'f': \"20.25\",\n        },\n{\n            'v': 8.1,\n            'f': \"8.1\",\n        },\n{\n            'v': 2.4299999999999997,\n            'f': \"2.4299999999999997\",\n        },\n{\n            'v': 167.0,\n            'f': \"167.0\",\n        },\n{\n            'v': 67.36526946107784,\n            'f': \"67.36526946107784\",\n        }]],\n        columns: [[\"number\", \"index\"], [\"string\", \"forecast_key\"], [\"number\", \"annual_forecast\"], [\"number\", \"item_price\"], [\"number\", \"item_cost\"], [\"number\", \"holding_cost_unit\"], [\"number\", \"economic_order_qty\"], [\"number\", \"orders_per_year\"]],\n        columnOptions: [{\"width\": \"1px\", \"className\": \"index_column\"}],\n        rowsPerPage: 25,\n        helpUrl: \"https://colab.research.google.com/notebooks/data_table.ipynb\",\n        suppressOutputScrolling: true,\n        minimumWidth: undefined,\n      });\n    ",
            "text/html": [
              "<div>\n",
              "<style scoped>\n",
              "    .dataframe tbody tr th:only-of-type {\n",
              "        vertical-align: middle;\n",
              "    }\n",
              "\n",
              "    .dataframe tbody tr th {\n",
              "        vertical-align: top;\n",
              "    }\n",
              "\n",
              "    .dataframe thead th {\n",
              "        text-align: right;\n",
              "    }\n",
              "</style>\n",
              "<table border=\"1\" class=\"dataframe\">\n",
              "  <thead>\n",
              "    <tr style=\"text-align: right;\">\n",
              "      <th></th>\n",
              "      <th>forecast_key</th>\n",
              "      <th>annual_forecast</th>\n",
              "      <th>item_price</th>\n",
              "      <th>item_cost</th>\n",
              "      <th>holding_cost_unit</th>\n",
              "      <th>economic_order_qty</th>\n",
              "      <th>orders_per_year</th>\n",
              "    </tr>\n",
              "  </thead>\n",
              "  <tbody>\n",
              "    <tr>\n",
              "      <th>0</th>\n",
              "      <td>10008</td>\n",
              "      <td>17265.0</td>\n",
              "      <td>15.75</td>\n",
              "      <td>6.300</td>\n",
              "      <td>1.8900</td>\n",
              "      <td>234.0</td>\n",
              "      <td>73.782051</td>\n",
              "    </tr>\n",
              "    <tr>\n",
              "      <th>1</th>\n",
              "      <td>10009</td>\n",
              "      <td>2330.0</td>\n",
              "      <td>10.11</td>\n",
              "      <td>4.044</td>\n",
              "      <td>1.2132</td>\n",
              "      <td>107.0</td>\n",
              "      <td>21.775701</td>\n",
              "    </tr>\n",
              "    <tr>\n",
              "      <th>2</th>\n",
              "      <td>37418</td>\n",
              "      <td>15805.0</td>\n",
              "      <td>12.75</td>\n",
              "      <td>5.100</td>\n",
              "      <td>1.5300</td>\n",
              "      <td>249.0</td>\n",
              "      <td>63.473896</td>\n",
              "    </tr>\n",
              "    <tr>\n",
              "      <th>3</th>\n",
              "      <td>43648</td>\n",
              "      <td>2260.0</td>\n",
              "      <td>10.82</td>\n",
              "      <td>4.328</td>\n",
              "      <td>1.2984</td>\n",
              "      <td>102.0</td>\n",
              "      <td>22.156863</td>\n",
              "    </tr>\n",
              "    <tr>\n",
              "      <th>4</th>\n",
              "      <td>66636</td>\n",
              "      <td>11250.0</td>\n",
              "      <td>20.25</td>\n",
              "      <td>8.100</td>\n",
              "      <td>2.4300</td>\n",
              "      <td>167.0</td>\n",
              "      <td>67.365269</td>\n",
              "    </tr>\n",
              "  </tbody>\n",
              "</table>\n",
              "</div>"
            ],
            "text/plain": [
              "  forecast_key  annual_forecast  ...  economic_order_qty  orders_per_year\n",
              "0        10008          17265.0  ...               234.0        73.782051\n",
              "1        10009           2330.0  ...               107.0        21.775701\n",
              "2        37418          15805.0  ...               249.0        63.473896\n",
              "3        43648           2260.0  ...               102.0        22.156863\n",
              "4        66636          11250.0  ...               167.0        67.365269\n",
              "\n",
              "[5 rows x 7 columns]"
            ]
          },
          "metadata": {
            "tags": []
          },
          "execution_count": 132
        }
      ]
    },
    {
      "cell_type": "markdown",
      "metadata": {
        "id": "_wI_cFX0sQ4o"
      },
      "source": [
        "As we can see, some items have extreme supplier order frequency suggested that averages more than one order per week, something is rarely feasible for the item type, at a distributor level. However, this is expected since the formula used doesn't take into account many other factors (demand variability, minimum order quantities, truckload utilization, etc...)\n",
        "\n",
        "We'll set a rule that caps the orders per year at a maximum of 16:"
      ]
    },
    {
      "cell_type": "code",
      "metadata": {
        "colab": {
          "base_uri": "https://localhost:8080/",
          "height": 194
        },
        "id": "IK2_A-sF-DrP",
        "outputId": "39afcc6d-394d-44c8-e012-07b8cddd976c"
      },
      "source": [
        "max_orders_per_year = 16\n",
        "\n",
        "# Replace values above 16\n",
        "year_forecast['orders_per_year'] = year_forecast['orders_per_year'].where(year_forecast['orders_per_year']<16,16)\n",
        "\n",
        "# Calculate actual order quantity\n",
        "year_forecast['actual_order_qty'] = (year_forecast['annual_forecast']/year_forecast['orders_per_year']).round(0)\n",
        "\n",
        "# Create lookup dictionaries for future use\n",
        "item_holding_cost_dict = year_forecast.set_index('forecast_key')['holding_cost_unit'].to_dict()\n",
        "oq_dict = year_forecast.set_index('forecast_key')['actual_order_qty'].to_dict()\n",
        "\n",
        "year_forecast.head()"
      ],
      "execution_count": 133,
      "outputs": [
        {
          "output_type": "execute_result",
          "data": {
            "application/vnd.google.colaboratory.module+javascript": "\n      import \"https://ssl.gstatic.com/colaboratory/data_table/a6224c040fa35dcf/data_table.js\";\n\n      window.createDataTable({\n        data: [[{\n            'v': 0,\n            'f': \"0\",\n        },\n\"10008\",\n{\n            'v': 17265.0,\n            'f': \"17265.0\",\n        },\n{\n            'v': 15.75,\n            'f': \"15.75\",\n        },\n{\n            'v': 6.300000000000001,\n            'f': \"6.300000000000001\",\n        },\n{\n            'v': 1.8900000000000001,\n            'f': \"1.8900000000000001\",\n        },\n{\n            'v': 234.0,\n            'f': \"234.0\",\n        },\n{\n            'v': 16.0,\n            'f': \"16.0\",\n        },\n{\n            'v': 1079.0,\n            'f': \"1079.0\",\n        }],\n [{\n            'v': 1,\n            'f': \"1\",\n        },\n\"10009\",\n{\n            'v': 2330.0,\n            'f': \"2330.0\",\n        },\n{\n            'v': 10.11,\n            'f': \"10.11\",\n        },\n{\n            'v': 4.044,\n            'f': \"4.044\",\n        },\n{\n            'v': 1.2131999999999998,\n            'f': \"1.2131999999999998\",\n        },\n{\n            'v': 107.0,\n            'f': \"107.0\",\n        },\n{\n            'v': 16.0,\n            'f': \"16.0\",\n        },\n{\n            'v': 146.0,\n            'f': \"146.0\",\n        }],\n [{\n            'v': 2,\n            'f': \"2\",\n        },\n\"37418\",\n{\n            'v': 15805.0,\n            'f': \"15805.0\",\n        },\n{\n            'v': 12.75,\n            'f': \"12.75\",\n        },\n{\n            'v': 5.1000000000000005,\n            'f': \"5.1000000000000005\",\n        },\n{\n            'v': 1.53,\n            'f': \"1.53\",\n        },\n{\n            'v': 249.0,\n            'f': \"249.0\",\n        },\n{\n            'v': 16.0,\n            'f': \"16.0\",\n        },\n{\n            'v': 988.0,\n            'f': \"988.0\",\n        }],\n [{\n            'v': 3,\n            'f': \"3\",\n        },\n\"43648\",\n{\n            'v': 2260.0,\n            'f': \"2260.0\",\n        },\n{\n            'v': 10.82,\n            'f': \"10.82\",\n        },\n{\n            'v': 4.328,\n            'f': \"4.328\",\n        },\n{\n            'v': 1.2984,\n            'f': \"1.2984\",\n        },\n{\n            'v': 102.0,\n            'f': \"102.0\",\n        },\n{\n            'v': 16.0,\n            'f': \"16.0\",\n        },\n{\n            'v': 141.0,\n            'f': \"141.0\",\n        }],\n [{\n            'v': 4,\n            'f': \"4\",\n        },\n\"66636\",\n{\n            'v': 11250.0,\n            'f': \"11250.0\",\n        },\n{\n            'v': 20.25,\n            'f': \"20.25\",\n        },\n{\n            'v': 8.1,\n            'f': \"8.1\",\n        },\n{\n            'v': 2.4299999999999997,\n            'f': \"2.4299999999999997\",\n        },\n{\n            'v': 167.0,\n            'f': \"167.0\",\n        },\n{\n            'v': 16.0,\n            'f': \"16.0\",\n        },\n{\n            'v': 703.0,\n            'f': \"703.0\",\n        }]],\n        columns: [[\"number\", \"index\"], [\"string\", \"forecast_key\"], [\"number\", \"annual_forecast\"], [\"number\", \"item_price\"], [\"number\", \"item_cost\"], [\"number\", \"holding_cost_unit\"], [\"number\", \"economic_order_qty\"], [\"number\", \"orders_per_year\"], [\"number\", \"actual_order_qty\"]],\n        columnOptions: [{\"width\": \"1px\", \"className\": \"index_column\"}],\n        rowsPerPage: 25,\n        helpUrl: \"https://colab.research.google.com/notebooks/data_table.ipynb\",\n        suppressOutputScrolling: true,\n        minimumWidth: undefined,\n      });\n    ",
            "text/html": [
              "<div>\n",
              "<style scoped>\n",
              "    .dataframe tbody tr th:only-of-type {\n",
              "        vertical-align: middle;\n",
              "    }\n",
              "\n",
              "    .dataframe tbody tr th {\n",
              "        vertical-align: top;\n",
              "    }\n",
              "\n",
              "    .dataframe thead th {\n",
              "        text-align: right;\n",
              "    }\n",
              "</style>\n",
              "<table border=\"1\" class=\"dataframe\">\n",
              "  <thead>\n",
              "    <tr style=\"text-align: right;\">\n",
              "      <th></th>\n",
              "      <th>forecast_key</th>\n",
              "      <th>annual_forecast</th>\n",
              "      <th>item_price</th>\n",
              "      <th>item_cost</th>\n",
              "      <th>holding_cost_unit</th>\n",
              "      <th>economic_order_qty</th>\n",
              "      <th>orders_per_year</th>\n",
              "      <th>actual_order_qty</th>\n",
              "    </tr>\n",
              "  </thead>\n",
              "  <tbody>\n",
              "    <tr>\n",
              "      <th>0</th>\n",
              "      <td>10008</td>\n",
              "      <td>17265.0</td>\n",
              "      <td>15.75</td>\n",
              "      <td>6.300</td>\n",
              "      <td>1.8900</td>\n",
              "      <td>234.0</td>\n",
              "      <td>16.0</td>\n",
              "      <td>1079.0</td>\n",
              "    </tr>\n",
              "    <tr>\n",
              "      <th>1</th>\n",
              "      <td>10009</td>\n",
              "      <td>2330.0</td>\n",
              "      <td>10.11</td>\n",
              "      <td>4.044</td>\n",
              "      <td>1.2132</td>\n",
              "      <td>107.0</td>\n",
              "      <td>16.0</td>\n",
              "      <td>146.0</td>\n",
              "    </tr>\n",
              "    <tr>\n",
              "      <th>2</th>\n",
              "      <td>37418</td>\n",
              "      <td>15805.0</td>\n",
              "      <td>12.75</td>\n",
              "      <td>5.100</td>\n",
              "      <td>1.5300</td>\n",
              "      <td>249.0</td>\n",
              "      <td>16.0</td>\n",
              "      <td>988.0</td>\n",
              "    </tr>\n",
              "    <tr>\n",
              "      <th>3</th>\n",
              "      <td>43648</td>\n",
              "      <td>2260.0</td>\n",
              "      <td>10.82</td>\n",
              "      <td>4.328</td>\n",
              "      <td>1.2984</td>\n",
              "      <td>102.0</td>\n",
              "      <td>16.0</td>\n",
              "      <td>141.0</td>\n",
              "    </tr>\n",
              "    <tr>\n",
              "      <th>4</th>\n",
              "      <td>66636</td>\n",
              "      <td>11250.0</td>\n",
              "      <td>20.25</td>\n",
              "      <td>8.100</td>\n",
              "      <td>2.4300</td>\n",
              "      <td>167.0</td>\n",
              "      <td>16.0</td>\n",
              "      <td>703.0</td>\n",
              "    </tr>\n",
              "  </tbody>\n",
              "</table>\n",
              "</div>"
            ],
            "text/plain": [
              "  forecast_key  annual_forecast  ...  orders_per_year  actual_order_qty\n",
              "0        10008          17265.0  ...             16.0            1079.0\n",
              "1        10009           2330.0  ...             16.0             146.0\n",
              "2        37418          15805.0  ...             16.0             988.0\n",
              "3        43648           2260.0  ...             16.0             141.0\n",
              "4        66636          11250.0  ...             16.0             703.0\n",
              "\n",
              "[5 rows x 8 columns]"
            ]
          },
          "metadata": {
            "tags": []
          },
          "execution_count": 133
        }
      ]
    },
    {
      "cell_type": "markdown",
      "metadata": {
        "id": "lSOx7VhWzy2i"
      },
      "source": [
        "### Reorder Point\n",
        "\n",
        "$ Reorder Point = Lead \\ Time \\ Demand + Safety \\ Stock $\n",
        "\n",
        "Lead time demand will be different for each month due to demand fluctuation.\n",
        "\n",
        "<br>\n",
        "\n",
        "First, we'll calculate the average lead time demand throughout the year:"
      ]
    },
    {
      "cell_type": "code",
      "metadata": {
        "colab": {
          "base_uri": "https://localhost:8080/",
          "height": 194
        },
        "id": "sdBesqD1GcpA",
        "outputId": "9f7984b0-fea7-49b1-c8cd-1ffc9b4e640c"
      },
      "source": [
        "# Calculate mean lead time demand (will be used with safety stock later on)\n",
        "mean_lead_time_demand = monthly_forecasts.groupby('forecast_key')['forecast'].mean()\n",
        "mean_lead_time_demand.rename('mean_lt_demand',inplace=True)\n",
        "lt_demand_dict = mean_lead_time_demand.to_dict()\n",
        "\n",
        "# Join to main dataset\n",
        "year_forecast = year_forecast.set_index('forecast_key').join(mean_lead_time_demand).reset_index()\n",
        "\n",
        "# Remaining inventroy cost calculated from yearly dataset. Divided by two to average across periods. Exclude safety stock\n",
        "year_forecast['lt_stock_cost'] = (year_forecast['mean_lt_demand']*year_forecast['holding_cost_unit'])/2\n",
        "year_forecast['oq_stock_cost'] = (year_forecast['actual_order_qty']*year_forecast['holding_cost_unit'])/2\n",
        "\n",
        "year_forecast.head()"
      ],
      "execution_count": 134,
      "outputs": [
        {
          "output_type": "execute_result",
          "data": {
            "application/vnd.google.colaboratory.module+javascript": "\n      import \"https://ssl.gstatic.com/colaboratory/data_table/a6224c040fa35dcf/data_table.js\";\n\n      window.createDataTable({\n        data: [[{\n            'v': 0,\n            'f': \"0\",\n        },\n\"10008\",\n{\n            'v': 17265.0,\n            'f': \"17265.0\",\n        },\n{\n            'v': 15.75,\n            'f': \"15.75\",\n        },\n{\n            'v': 6.300000000000001,\n            'f': \"6.300000000000001\",\n        },\n{\n            'v': 1.8900000000000001,\n            'f': \"1.8900000000000001\",\n        },\n{\n            'v': 234.0,\n            'f': \"234.0\",\n        },\n{\n            'v': 16.0,\n            'f': \"16.0\",\n        },\n{\n            'v': 1079.0,\n            'f': \"1079.0\",\n        },\n{\n            'v': 1328.076923076923,\n            'f': \"1328.076923076923\",\n        },\n{\n            'v': 1255.0326923076925,\n            'f': \"1255.0326923076925\",\n        },\n{\n            'v': 1019.6550000000001,\n            'f': \"1019.6550000000001\",\n        }],\n [{\n            'v': 1,\n            'f': \"1\",\n        },\n\"10009\",\n{\n            'v': 2330.0,\n            'f': \"2330.0\",\n        },\n{\n            'v': 10.11,\n            'f': \"10.11\",\n        },\n{\n            'v': 4.044,\n            'f': \"4.044\",\n        },\n{\n            'v': 1.2131999999999998,\n            'f': \"1.2131999999999998\",\n        },\n{\n            'v': 107.0,\n            'f': \"107.0\",\n        },\n{\n            'v': 16.0,\n            'f': \"16.0\",\n        },\n{\n            'v': 146.0,\n            'f': \"146.0\",\n        },\n{\n            'v': 179.23076923076923,\n            'f': \"179.23076923076923\",\n        },\n{\n            'v': 108.7213846153846,\n            'f': \"108.7213846153846\",\n        },\n{\n            'v': 88.5636,\n            'f': \"88.5636\",\n        }],\n [{\n            'v': 2,\n            'f': \"2\",\n        },\n\"37418\",\n{\n            'v': 15805.0,\n            'f': \"15805.0\",\n        },\n{\n            'v': 12.75,\n            'f': \"12.75\",\n        },\n{\n            'v': 5.1000000000000005,\n            'f': \"5.1000000000000005\",\n        },\n{\n            'v': 1.53,\n            'f': \"1.53\",\n        },\n{\n            'v': 249.0,\n            'f': \"249.0\",\n        },\n{\n            'v': 16.0,\n            'f': \"16.0\",\n        },\n{\n            'v': 988.0,\n            'f': \"988.0\",\n        },\n{\n            'v': 1215.7692307692307,\n            'f': \"1215.7692307692307\",\n        },\n{\n            'v': 930.0634615384615,\n            'f': \"930.0634615384615\",\n        },\n{\n            'v': 755.82,\n            'f': \"755.82\",\n        }],\n [{\n            'v': 3,\n            'f': \"3\",\n        },\n\"43648\",\n{\n            'v': 2260.0,\n            'f': \"2260.0\",\n        },\n{\n            'v': 10.82,\n            'f': \"10.82\",\n        },\n{\n            'v': 4.328,\n            'f': \"4.328\",\n        },\n{\n            'v': 1.2984,\n            'f': \"1.2984\",\n        },\n{\n            'v': 102.0,\n            'f': \"102.0\",\n        },\n{\n            'v': 16.0,\n            'f': \"16.0\",\n        },\n{\n            'v': 141.0,\n            'f': \"141.0\",\n        },\n{\n            'v': 173.84615384615384,\n            'f': \"173.84615384615384\",\n        },\n{\n            'v': 112.86092307692307,\n            'f': \"112.86092307692307\",\n        },\n{\n            'v': 91.5372,\n            'f': \"91.5372\",\n        }],\n [{\n            'v': 4,\n            'f': \"4\",\n        },\n\"66636\",\n{\n            'v': 11250.0,\n            'f': \"11250.0\",\n        },\n{\n            'v': 20.25,\n            'f': \"20.25\",\n        },\n{\n            'v': 8.1,\n            'f': \"8.1\",\n        },\n{\n            'v': 2.4299999999999997,\n            'f': \"2.4299999999999997\",\n        },\n{\n            'v': 167.0,\n            'f': \"167.0\",\n        },\n{\n            'v': 16.0,\n            'f': \"16.0\",\n        },\n{\n            'v': 703.0,\n            'f': \"703.0\",\n        },\n{\n            'v': 865.3846153846154,\n            'f': \"865.3846153846154\",\n        },\n{\n            'v': 1051.4423076923076,\n            'f': \"1051.4423076923076\",\n        },\n{\n            'v': 854.1449999999999,\n            'f': \"854.1449999999999\",\n        }]],\n        columns: [[\"number\", \"index\"], [\"string\", \"forecast_key\"], [\"number\", \"annual_forecast\"], [\"number\", \"item_price\"], [\"number\", \"item_cost\"], [\"number\", \"holding_cost_unit\"], [\"number\", \"economic_order_qty\"], [\"number\", \"orders_per_year\"], [\"number\", \"actual_order_qty\"], [\"number\", \"mean_lt_demand\"], [\"number\", \"lt_stock_cost\"], [\"number\", \"oq_stock_cost\"]],\n        columnOptions: [{\"width\": \"1px\", \"className\": \"index_column\"}],\n        rowsPerPage: 25,\n        helpUrl: \"https://colab.research.google.com/notebooks/data_table.ipynb\",\n        suppressOutputScrolling: true,\n        minimumWidth: undefined,\n      });\n    ",
            "text/html": [
              "<div>\n",
              "<style scoped>\n",
              "    .dataframe tbody tr th:only-of-type {\n",
              "        vertical-align: middle;\n",
              "    }\n",
              "\n",
              "    .dataframe tbody tr th {\n",
              "        vertical-align: top;\n",
              "    }\n",
              "\n",
              "    .dataframe thead th {\n",
              "        text-align: right;\n",
              "    }\n",
              "</style>\n",
              "<table border=\"1\" class=\"dataframe\">\n",
              "  <thead>\n",
              "    <tr style=\"text-align: right;\">\n",
              "      <th></th>\n",
              "      <th>forecast_key</th>\n",
              "      <th>annual_forecast</th>\n",
              "      <th>item_price</th>\n",
              "      <th>item_cost</th>\n",
              "      <th>holding_cost_unit</th>\n",
              "      <th>economic_order_qty</th>\n",
              "      <th>orders_per_year</th>\n",
              "      <th>actual_order_qty</th>\n",
              "      <th>mean_lt_demand</th>\n",
              "      <th>lt_stock_cost</th>\n",
              "      <th>oq_stock_cost</th>\n",
              "    </tr>\n",
              "  </thead>\n",
              "  <tbody>\n",
              "    <tr>\n",
              "      <th>0</th>\n",
              "      <td>10008</td>\n",
              "      <td>17265.0</td>\n",
              "      <td>15.75</td>\n",
              "      <td>6.300</td>\n",
              "      <td>1.8900</td>\n",
              "      <td>234.0</td>\n",
              "      <td>16.0</td>\n",
              "      <td>1079.0</td>\n",
              "      <td>1328.076923</td>\n",
              "      <td>1255.032692</td>\n",
              "      <td>1019.6550</td>\n",
              "    </tr>\n",
              "    <tr>\n",
              "      <th>1</th>\n",
              "      <td>10009</td>\n",
              "      <td>2330.0</td>\n",
              "      <td>10.11</td>\n",
              "      <td>4.044</td>\n",
              "      <td>1.2132</td>\n",
              "      <td>107.0</td>\n",
              "      <td>16.0</td>\n",
              "      <td>146.0</td>\n",
              "      <td>179.230769</td>\n",
              "      <td>108.721385</td>\n",
              "      <td>88.5636</td>\n",
              "    </tr>\n",
              "    <tr>\n",
              "      <th>2</th>\n",
              "      <td>37418</td>\n",
              "      <td>15805.0</td>\n",
              "      <td>12.75</td>\n",
              "      <td>5.100</td>\n",
              "      <td>1.5300</td>\n",
              "      <td>249.0</td>\n",
              "      <td>16.0</td>\n",
              "      <td>988.0</td>\n",
              "      <td>1215.769231</td>\n",
              "      <td>930.063462</td>\n",
              "      <td>755.8200</td>\n",
              "    </tr>\n",
              "    <tr>\n",
              "      <th>3</th>\n",
              "      <td>43648</td>\n",
              "      <td>2260.0</td>\n",
              "      <td>10.82</td>\n",
              "      <td>4.328</td>\n",
              "      <td>1.2984</td>\n",
              "      <td>102.0</td>\n",
              "      <td>16.0</td>\n",
              "      <td>141.0</td>\n",
              "      <td>173.846154</td>\n",
              "      <td>112.860923</td>\n",
              "      <td>91.5372</td>\n",
              "    </tr>\n",
              "    <tr>\n",
              "      <th>4</th>\n",
              "      <td>66636</td>\n",
              "      <td>11250.0</td>\n",
              "      <td>20.25</td>\n",
              "      <td>8.100</td>\n",
              "      <td>2.4300</td>\n",
              "      <td>167.0</td>\n",
              "      <td>16.0</td>\n",
              "      <td>703.0</td>\n",
              "      <td>865.384615</td>\n",
              "      <td>1051.442308</td>\n",
              "      <td>854.1450</td>\n",
              "    </tr>\n",
              "  </tbody>\n",
              "</table>\n",
              "</div>"
            ],
            "text/plain": [
              "  forecast_key  annual_forecast  ...  lt_stock_cost  oq_stock_cost\n",
              "0        10008          17265.0  ...    1255.032692      1019.6550\n",
              "1        10009           2330.0  ...     108.721385        88.5636\n",
              "2        37418          15805.0  ...     930.063462       755.8200\n",
              "3        43648           2260.0  ...     112.860923        91.5372\n",
              "4        66636          11250.0  ...    1051.442308       854.1450\n",
              "\n",
              "[5 rows x 11 columns]"
            ]
          },
          "metadata": {
            "tags": []
          },
          "execution_count": 134
        }
      ]
    },
    {
      "cell_type": "markdown",
      "metadata": {
        "id": "wkWpd4CO1k5C"
      },
      "source": [
        "### Optimize Safety Stock\n",
        "\n"
      ]
    },
    {
      "cell_type": "markdown",
      "metadata": {
        "id": "HW9U2g71F8sy"
      },
      "source": [
        "We'll optimize safety stock by minimizing the cost function defined as:\n",
        "\n",
        "> $C(x) = SS(sl) \\times IC + LS$\n",
        "\n",
        "Where:\n",
        "\n",
        "* _SS: Total safety stock for all items, a function of the service level (sl)_   \n",
        "* _IC: Inventory holding cost (year)_  \n",
        "* _LS: Lost sales estimate for the period (year)_  \n",
        "\n",
        "  \n",
        "---\n",
        "\n",
        "<br>\n",
        "\n",
        "\n",
        "**Calculating Safety Stock with Demand Uncertainty**\n",
        "\n",
        "The calculation of the safety stock itself will consider the normal deviation of **demand forecast error** during lead time. \n",
        "\n",
        "The service level is defined as the percentage of the **time spent in stock** over a total period equal to the lead time.\n",
        "\n",
        "For simplicity purposes, the **lead time is assumed to be one month** for all items. If lead time was different, then forecast error would have to be measured across the lead time.\n",
        "\n",
        "Some safety stock formulas are calculated based on average demand during lead time. However, this will lead to extreme inventories since it will assume demand forecast is the mean of historical observations. Since we can explain some variation in the data by causal factors through forecasting, the forecast error is incorporated into the safety stock calculation. \n",
        "\n",
        "Safety stock forumla given by:\n",
        "\n",
        "> $ SS = Z \\times ∂F_{error} $\n",
        "\n",
        "Where:   \n",
        "* Z - Inverse probability function  \n",
        "* $∂F_{error}$ - Standard deviation of forecast error **during lead time**\n",
        "\n",
        "_Note: ideally the forecast error should be taken from actuals vs forecast. However, we don't have actual forecasts to compare the model to, so we'll use the test error deviation._\n",
        "\n",
        "Source: https://www.lokad.com/calculate-safety-stocks-with-sales-forecasting\n",
        "\n",
        "\n",
        "---\n",
        "\n",
        "<br>\n",
        "\n",
        "\n",
        "**Calculating Lost Sales**\n",
        "\n",
        "\n",
        "The serivce level in this case essentialy indicates the percentage of replenishment cycles that the warehouse will remain in stock for a given item during lead time. We can estimate the lost sales. If an item is ordered 100 times during the year, a service level of 95% indicates an out of stock occurence will happen 5 times.  \n",
        "\n",
        "If the lead time is one month, then the item is at risk of running out of stock due to unforeseen demand at any point during the 30 day lead time period. Since inventory is usually high at the beginning of the lead time period, out of stocks will tend to occur in later days.  \n",
        "\n",
        "For this project it is assumed that, on average, an out of stock result in lost sales equal to the forecast error in value. \n",
        "\n",
        "Lost sales can then be estimate by: \n",
        "\n",
        "> $LS = (1-sl) \\times OrdersPerYear \\times MAD_{forecast} \\times Unit Value$\n",
        "\n",
        "Where:  \n",
        "* sl - Service level \n",
        "* MAD - Mean absolute deviation of the forecast error\n",
        "\n",
        "Source: https://www.lokad.com/service-level-definition-and-formula"
      ]
    },
    {
      "cell_type": "code",
      "metadata": {
        "id": "CdrSe0-Y2HBS",
        "colab": {
          "base_uri": "https://localhost:8080/"
        },
        "outputId": "74cd3d44-33d1-4760-de77-179fb356b2d9"
      },
      "source": [
        "# First, we calculate the profit value of the mean forecast error\n",
        "# (how much the distributor would have expected to sell in a stockout period)\n",
        "\n",
        "profit_margin = .15\n",
        "mad_by_key = historical.groupby('forecast_key')['error'].apply(lambda x: np.mean(abs(x)))\n",
        "key_value = [item_price_dict.get(key) for key in mad_by_key.index]\n",
        "mad_profit_value = pd.DataFrame(mad_by_key * key_value * profit_margin)\n",
        "mad_profit_value = mad_profit_value.join(year_forecast.set_index('forecast_key')['orders_per_year']) \n",
        "\n",
        "# Next, the average number of orders per year is used to precalculate the probability of stock out\n",
        "stock_out_cost = (mad_profit_value['error'] * mad_profit_value['orders_per_year']).sum()\n",
        "\n",
        "\n",
        "# Create safety stock function that will be applied to each item\n",
        "def safety_stock_func(df,service_level):\n",
        "    z = stats.norm.ppf(service_level) \n",
        "    std_forecast_error = np.std(df['error'])\n",
        "    ss_calculation = z * std_forecast_error\n",
        "\n",
        "    return ss_calculation\n",
        "\n",
        "\n",
        "service_levels_list = np.arange(.90,.995,.001) # values to be looped\n",
        "\n",
        "# Initialize cost lists used to hold outputs\n",
        "safety_stock_cost_list = []\n",
        "lost_sales_list = []\n",
        "\n",
        "# Calculate lost sales and inventory cost for each service level\n",
        "for sl in service_levels_list:\n",
        "  \n",
        "  safety_stock = historical.groupby('forecast_key').apply(lambda x: safety_stock_func(x,sl))\n",
        "  \n",
        "  holding_cost = [item_holding_cost_dict.get(key) for key in safety_stock.index] # Lookup\n",
        "  \n",
        "  safety_stock_cost = sum(safety_stock*holding_cost)\n",
        "  \n",
        "  safety_stock_cost_list.append(safety_stock_cost)\n",
        "\n",
        "  lost_sales = (1-sl)*stock_out_cost # estimate per year.\n",
        "  \n",
        "  lost_sales_list.append(lost_sales)\n",
        "\n",
        "# Join cost data in data frame\n",
        "safety_stock_cost_levels = pd.DataFrame({'lost_sales':lost_sales_list,\n",
        "                                      'safety_stock_cost':safety_stock_cost_list},\n",
        "                                     service_levels_list*100)\n",
        "\n",
        "# Total cost function\n",
        "safety_stock_cost_levels['total_cost'] = safety_stock_cost_levels['lost_sales'] + safety_stock_cost_levels['safety_stock_cost']\n",
        "\n",
        "# Optimal service level\n",
        "optimal_sl = safety_stock_cost_levels['total_cost'].idxmin()\n",
        "optimal_sl_cost = safety_stock_cost_levels['total_cost'].min()\n",
        "print('Optimal service level: {}%'.format(optimal_sl))"
      ],
      "execution_count": 135,
      "outputs": [
        {
          "output_type": "stream",
          "text": [
            "Optimal service level: 97.2%\n"
          ],
          "name": "stdout"
        }
      ]
    },
    {
      "cell_type": "code",
      "metadata": {
        "colab": {
          "base_uri": "https://localhost:8080/",
          "height": 430
        },
        "id": "awomYq3Wk-_N",
        "outputId": "32c4c620-5fdc-4634-ada5-168aca1df1d8"
      },
      "source": [
        "# We now have the lost sales estimate and inventory cost  by service level. Plotting the results:\n",
        "plt.figure(figsize=(8,6))\n",
        "plt.title('Safety Stock Optimization')\n",
        "\n",
        "index = safety_stock_cost_levels.index\n",
        "\n",
        "sns.lineplot(x=index,y=(safety_stock_cost_levels['total_cost']))\n",
        "sns.lineplot(x=index,y=(safety_stock_cost_levels['safety_stock_cost']),color='orange')\n",
        "sns.lineplot(x=index,y=(safety_stock_cost_levels['lost_sales']),color='green')\n",
        "plt.scatter(optimal_sl, optimal_sl_cost, marker='o', s=70) # optimal point\n",
        "\n",
        "plt.annotate('Optimal SL: {}%'.format(optimal_sl), \n",
        "             xy=(optimal_sl,optimal_sl_cost),\n",
        "             xytext=(optimal_sl-2, (optimal_sl_cost)+11000)\n",
        "             )\n",
        "\n",
        "plt.legend(['Total cost','Safety stock cost','Lost sales'])\n",
        "plt.ylabel('Dollars')\n",
        "plt.xlabel('Service level %')\n",
        "plt.show()"
      ],
      "execution_count": 136,
      "outputs": [
        {
          "output_type": "display_data",
          "data": {
            "image/png": "[encoded data removed]",
            "text/plain": [
              "<Figure size 576x432 with 1 Axes>"
            ]
          },
          "metadata": {
            "tags": [],
            "needs_background": "light"
          }
        }
      ]
    },
    {
      "cell_type": "markdown",
      "metadata": {
        "id": "yqBmGOmucS9B"
      },
      "source": [
        "#### Calculate Safety Stock with optimal service level"
      ]
    },
    {
      "cell_type": "code",
      "metadata": {
        "id": "Aok0fsaKM2Bi",
        "colab": {
          "base_uri": "https://localhost:8080/",
          "height": 194
        },
        "outputId": "39392e5d-9598-44af-89a1-a37db16879db"
      },
      "source": [
        "# Desired service level\n",
        "sl = optimal_sl/100\n",
        "safety_stock = historical.groupby('forecast_key').apply(lambda x: safety_stock_func(x,sl))\n",
        "safety_stock = pd.DataFrame(safety_stock,columns=['safety_stock']).round()\n",
        "\n",
        "safety_stock['std_error'] = historical.groupby('forecast_key')['error'].apply(lambda x: np.std(x))\n",
        "safety_stock.head()"
      ],
      "execution_count": 137,
      "outputs": [
        {
          "output_type": "execute_result",
          "data": {
            "application/vnd.google.colaboratory.module+javascript": "\n      import \"https://ssl.gstatic.com/colaboratory/data_table/a6224c040fa35dcf/data_table.js\";\n\n      window.createDataTable({\n        data: [[\"100015\",\n{\n            'v': 118.0,\n            'f': \"118.0\",\n        },\n{\n            'v': 61.610018462909096,\n            'f': \"61.610018462909096\",\n        }],\n [\"10006\",\n{\n            'v': 81.0,\n            'f': \"81.0\",\n        },\n{\n            'v': 42.369293418623215,\n            'f': \"42.369293418623215\",\n        }],\n [\"10008\",\n{\n            'v': 252.0,\n            'f': \"252.0\",\n        },\n{\n            'v': 131.67286661135958,\n            'f': \"131.67286661135958\",\n        }],\n [\"10009\",\n{\n            'v': 89.0,\n            'f': \"89.0\",\n        },\n{\n            'v': 46.77290396644777,\n            'f': \"46.77290396644777\",\n        }],\n [\"100413\",\n{\n            'v': 136.0,\n            'f': \"136.0\",\n        },\n{\n            'v': 71.39682186792005,\n            'f': \"71.39682186792005\",\n        }]],\n        columns: [[\"string\", \"forecast_key\"], [\"number\", \"safety_stock\"], [\"number\", \"std_error\"]],\n        columnOptions: [{\"width\": \"1px\", \"className\": \"index_column\"}],\n        rowsPerPage: 25,\n        helpUrl: \"https://colab.research.google.com/notebooks/data_table.ipynb\",\n        suppressOutputScrolling: true,\n        minimumWidth: undefined,\n      });\n    ",
            "text/html": [
              "<div>\n",
              "<style scoped>\n",
              "    .dataframe tbody tr th:only-of-type {\n",
              "        vertical-align: middle;\n",
              "    }\n",
              "\n",
              "    .dataframe tbody tr th {\n",
              "        vertical-align: top;\n",
              "    }\n",
              "\n",
              "    .dataframe thead th {\n",
              "        text-align: right;\n",
              "    }\n",
              "</style>\n",
              "<table border=\"1\" class=\"dataframe\">\n",
              "  <thead>\n",
              "    <tr style=\"text-align: right;\">\n",
              "      <th></th>\n",
              "      <th>safety_stock</th>\n",
              "      <th>std_error</th>\n",
              "    </tr>\n",
              "    <tr>\n",
              "      <th>forecast_key</th>\n",
              "      <th></th>\n",
              "      <th></th>\n",
              "    </tr>\n",
              "  </thead>\n",
              "  <tbody>\n",
              "    <tr>\n",
              "      <th>100015</th>\n",
              "      <td>118.0</td>\n",
              "      <td>61.610018</td>\n",
              "    </tr>\n",
              "    <tr>\n",
              "      <th>10006</th>\n",
              "      <td>81.0</td>\n",
              "      <td>42.369293</td>\n",
              "    </tr>\n",
              "    <tr>\n",
              "      <th>10008</th>\n",
              "      <td>252.0</td>\n",
              "      <td>131.672867</td>\n",
              "    </tr>\n",
              "    <tr>\n",
              "      <th>10009</th>\n",
              "      <td>89.0</td>\n",
              "      <td>46.772904</td>\n",
              "    </tr>\n",
              "    <tr>\n",
              "      <th>100413</th>\n",
              "      <td>136.0</td>\n",
              "      <td>71.396822</td>\n",
              "    </tr>\n",
              "  </tbody>\n",
              "</table>\n",
              "</div>"
            ],
            "text/plain": [
              "              safety_stock   std_error\n",
              "forecast_key                          \n",
              "100015               118.0   61.610018\n",
              "10006                 81.0   42.369293\n",
              "10008                252.0  131.672867\n",
              "10009                 89.0   46.772904\n",
              "100413               136.0   71.396822"
            ]
          },
          "metadata": {
            "tags": []
          },
          "execution_count": 137
        }
      ]
    },
    {
      "cell_type": "code",
      "metadata": {
        "colab": {
          "base_uri": "https://localhost:8080/",
          "height": 194
        },
        "id": "wGunxG6BdZ7w",
        "outputId": "f8d51490-ece8-40d8-cc23-df8391f318d5"
      },
      "source": [
        "# Join other parameters\n",
        "inventory_data = safety_stock.join(year_forecast.set_index('forecast_key'))\n",
        "inventory_data.round(2).head()"
      ],
      "execution_count": 138,
      "outputs": [
        {
          "output_type": "execute_result",
          "data": {
            "application/vnd.google.colaboratory.module+javascript": "\n      import \"https://ssl.gstatic.com/colaboratory/data_table/a6224c040fa35dcf/data_table.js\";\n\n      window.createDataTable({\n        data: [[\"100015\",\n{\n            'v': 118.0,\n            'f': \"118.0\",\n        },\n{\n            'v': 61.61,\n            'f': \"61.61\",\n        },\n{\n            'v': 965.0,\n            'f': \"965.0\",\n        },\n{\n            'v': 45.0,\n            'f': \"45.0\",\n        },\n{\n            'v': 18.0,\n            'f': \"18.0\",\n        },\n{\n            'v': 5.4,\n            'f': \"5.4\",\n        },\n{\n            'v': 33.0,\n            'f': \"33.0\",\n        },\n{\n            'v': 16.0,\n            'f': \"16.0\",\n        },\n{\n            'v': 60.0,\n            'f': \"60.0\",\n        },\n{\n            'v': 74.23,\n            'f': \"74.23\",\n        },\n{\n            'v': 200.42,\n            'f': \"200.42\",\n        },\n{\n            'v': 162.0,\n            'f': \"162.0\",\n        }],\n [\"10006\",\n{\n            'v': 81.0,\n            'f': \"81.0\",\n        },\n{\n            'v': 42.37,\n            'f': \"42.37\",\n        },\n{\n            'v': 3815.0,\n            'f': \"3815.0\",\n        },\n{\n            'v': 7.7,\n            'f': \"7.7\",\n        },\n{\n            'v': 3.08,\n            'f': \"3.08\",\n        },\n{\n            'v': 0.92,\n            'f': \"0.92\",\n        },\n{\n            'v': 157.0,\n            'f': \"157.0\",\n        },\n{\n            'v': 16.0,\n            'f': \"16.0\",\n        },\n{\n            'v': 238.0,\n            'f': \"238.0\",\n        },\n{\n            'v': 293.46,\n            'f': \"293.46\",\n        },\n{\n            'v': 135.58,\n            'f': \"135.58\",\n        },\n{\n            'v': 109.96,\n            'f': \"109.96\",\n        }],\n [\"10008\",\n{\n            'v': 252.0,\n            'f': \"252.0\",\n        },\n{\n            'v': 131.67,\n            'f': \"131.67\",\n        },\n{\n            'v': 17265.0,\n            'f': \"17265.0\",\n        },\n{\n            'v': 15.75,\n            'f': \"15.75\",\n        },\n{\n            'v': 6.3,\n            'f': \"6.3\",\n        },\n{\n            'v': 1.89,\n            'f': \"1.89\",\n        },\n{\n            'v': 234.0,\n            'f': \"234.0\",\n        },\n{\n            'v': 16.0,\n            'f': \"16.0\",\n        },\n{\n            'v': 1079.0,\n            'f': \"1079.0\",\n        },\n{\n            'v': 1328.08,\n            'f': \"1328.08\",\n        },\n{\n            'v': 1255.03,\n            'f': \"1255.03\",\n        },\n{\n            'v': 1019.66,\n            'f': \"1019.66\",\n        }],\n [\"10009\",\n{\n            'v': 89.0,\n            'f': \"89.0\",\n        },\n{\n            'v': 46.77,\n            'f': \"46.77\",\n        },\n{\n            'v': 2330.0,\n            'f': \"2330.0\",\n        },\n{\n            'v': 10.11,\n            'f': \"10.11\",\n        },\n{\n            'v': 4.04,\n            'f': \"4.04\",\n        },\n{\n            'v': 1.21,\n            'f': \"1.21\",\n        },\n{\n            'v': 107.0,\n            'f': \"107.0\",\n        },\n{\n            'v': 16.0,\n            'f': \"16.0\",\n        },\n{\n            'v': 146.0,\n            'f': \"146.0\",\n        },\n{\n            'v': 179.23,\n            'f': \"179.23\",\n        },\n{\n            'v': 108.72,\n            'f': \"108.72\",\n        },\n{\n            'v': 88.56,\n            'f': \"88.56\",\n        }],\n [\"100413\",\n{\n            'v': 136.0,\n            'f': \"136.0\",\n        },\n{\n            'v': 71.4,\n            'f': \"71.4\",\n        },\n{\n            'v': 5520.0,\n            'f': \"5520.0\",\n        },\n{\n            'v': 90.0,\n            'f': \"90.0\",\n        },\n{\n            'v': 36.0,\n            'f': \"36.0\",\n        },\n{\n            'v': 10.8,\n            'f': \"10.8\",\n        },\n{\n            'v': 55.0,\n            'f': \"55.0\",\n        },\n{\n            'v': 16.0,\n            'f': \"16.0\",\n        },\n{\n            'v': 345.0,\n            'f': \"345.0\",\n        },\n{\n            'v': 424.62,\n            'f': \"424.62\",\n        },\n{\n            'v': 2292.92,\n            'f': \"2292.92\",\n        },\n{\n            'v': 1863.0,\n            'f': \"1863.0\",\n        }]],\n        columns: [[\"string\", \"forecast_key\"], [\"number\", \"safety_stock\"], [\"number\", \"std_error\"], [\"number\", \"annual_forecast\"], [\"number\", \"item_price\"], [\"number\", \"item_cost\"], [\"number\", \"holding_cost_unit\"], [\"number\", \"economic_order_qty\"], [\"number\", \"orders_per_year\"], [\"number\", \"actual_order_qty\"], [\"number\", \"mean_lt_demand\"], [\"number\", \"lt_stock_cost\"], [\"number\", \"oq_stock_cost\"]],\n        columnOptions: [{\"width\": \"1px\", \"className\": \"index_column\"}],\n        rowsPerPage: 25,\n        helpUrl: \"https://colab.research.google.com/notebooks/data_table.ipynb\",\n        suppressOutputScrolling: true,\n        minimumWidth: undefined,\n      });\n    ",
            "text/html": [
              "<div>\n",
              "<style scoped>\n",
              "    .dataframe tbody tr th:only-of-type {\n",
              "        vertical-align: middle;\n",
              "    }\n",
              "\n",
              "    .dataframe tbody tr th {\n",
              "        vertical-align: top;\n",
              "    }\n",
              "\n",
              "    .dataframe thead th {\n",
              "        text-align: right;\n",
              "    }\n",
              "</style>\n",
              "<table border=\"1\" class=\"dataframe\">\n",
              "  <thead>\n",
              "    <tr style=\"text-align: right;\">\n",
              "      <th></th>\n",
              "      <th>safety_stock</th>\n",
              "      <th>std_error</th>\n",
              "      <th>annual_forecast</th>\n",
              "      <th>item_price</th>\n",
              "      <th>item_cost</th>\n",
              "      <th>holding_cost_unit</th>\n",
              "      <th>economic_order_qty</th>\n",
              "      <th>orders_per_year</th>\n",
              "      <th>actual_order_qty</th>\n",
              "      <th>mean_lt_demand</th>\n",
              "      <th>lt_stock_cost</th>\n",
              "      <th>oq_stock_cost</th>\n",
              "    </tr>\n",
              "    <tr>\n",
              "      <th>forecast_key</th>\n",
              "      <th></th>\n",
              "      <th></th>\n",
              "      <th></th>\n",
              "      <th></th>\n",
              "      <th></th>\n",
              "      <th></th>\n",
              "      <th></th>\n",
              "      <th></th>\n",
              "      <th></th>\n",
              "      <th></th>\n",
              "      <th></th>\n",
              "      <th></th>\n",
              "    </tr>\n",
              "  </thead>\n",
              "  <tbody>\n",
              "    <tr>\n",
              "      <th>100015</th>\n",
              "      <td>118.0</td>\n",
              "      <td>61.61</td>\n",
              "      <td>965.0</td>\n",
              "      <td>45.00</td>\n",
              "      <td>18.00</td>\n",
              "      <td>5.40</td>\n",
              "      <td>33.0</td>\n",
              "      <td>16.0</td>\n",
              "      <td>60.0</td>\n",
              "      <td>74.23</td>\n",
              "      <td>200.42</td>\n",
              "      <td>162.00</td>\n",
              "    </tr>\n",
              "    <tr>\n",
              "      <th>10006</th>\n",
              "      <td>81.0</td>\n",
              "      <td>42.37</td>\n",
              "      <td>3815.0</td>\n",
              "      <td>7.70</td>\n",
              "      <td>3.08</td>\n",
              "      <td>0.92</td>\n",
              "      <td>157.0</td>\n",
              "      <td>16.0</td>\n",
              "      <td>238.0</td>\n",
              "      <td>293.46</td>\n",
              "      <td>135.58</td>\n",
              "      <td>109.96</td>\n",
              "    </tr>\n",
              "    <tr>\n",
              "      <th>10008</th>\n",
              "      <td>252.0</td>\n",
              "      <td>131.67</td>\n",
              "      <td>17265.0</td>\n",
              "      <td>15.75</td>\n",
              "      <td>6.30</td>\n",
              "      <td>1.89</td>\n",
              "      <td>234.0</td>\n",
              "      <td>16.0</td>\n",
              "      <td>1079.0</td>\n",
              "      <td>1328.08</td>\n",
              "      <td>1255.03</td>\n",
              "      <td>1019.66</td>\n",
              "    </tr>\n",
              "    <tr>\n",
              "      <th>10009</th>\n",
              "      <td>89.0</td>\n",
              "      <td>46.77</td>\n",
              "      <td>2330.0</td>\n",
              "      <td>10.11</td>\n",
              "      <td>4.04</td>\n",
              "      <td>1.21</td>\n",
              "      <td>107.0</td>\n",
              "      <td>16.0</td>\n",
              "      <td>146.0</td>\n",
              "      <td>179.23</td>\n",
              "      <td>108.72</td>\n",
              "      <td>88.56</td>\n",
              "    </tr>\n",
              "    <tr>\n",
              "      <th>100413</th>\n",
              "      <td>136.0</td>\n",
              "      <td>71.40</td>\n",
              "      <td>5520.0</td>\n",
              "      <td>90.00</td>\n",
              "      <td>36.00</td>\n",
              "      <td>10.80</td>\n",
              "      <td>55.0</td>\n",
              "      <td>16.0</td>\n",
              "      <td>345.0</td>\n",
              "      <td>424.62</td>\n",
              "      <td>2292.92</td>\n",
              "      <td>1863.00</td>\n",
              "    </tr>\n",
              "  </tbody>\n",
              "</table>\n",
              "</div>"
            ],
            "text/plain": [
              "              safety_stock  std_error  ...  lt_stock_cost  oq_stock_cost\n",
              "forecast_key                           ...                              \n",
              "100015               118.0      61.61  ...         200.42         162.00\n",
              "10006                 81.0      42.37  ...         135.58         109.96\n",
              "10008                252.0     131.67  ...        1255.03        1019.66\n",
              "10009                 89.0      46.77  ...         108.72          88.56\n",
              "100413               136.0      71.40  ...        2292.92        1863.00\n",
              "\n",
              "[5 rows x 12 columns]"
            ]
          },
          "metadata": {
            "tags": []
          },
          "execution_count": 138
        }
      ]
    },
    {
      "cell_type": "code",
      "metadata": {
        "id": "7gCQOryC20O4",
        "colab": {
          "base_uri": "https://localhost:8080/"
        },
        "outputId": "567ca467-9084-4fe8-d4c9-c83e42a2c3bf"
      },
      "source": [
        "# Subset to columns not in Big Query table\n",
        "forecasts = forecasts[forecasts.columns[~forecasts.columns.isin(inventory_data.columns)]]\n",
        "\n",
        "# Join safety stock data to dataset\n",
        "inventory_data = forecasts.set_index(\"forecast_key\").join(inventory_data[['safety_stock']])\n",
        "\n",
        "print('\\n SS Calcualted! \\n Median SS: \\n {}'.format(round(inventory_data['safety_stock'].median())) )"
      ],
      "execution_count": 149,
      "outputs": [
        {
          "output_type": "stream",
          "text": [
            "\n",
            " SS Calcualted! \n",
            " Median SS: \n",
            " 174\n"
          ],
          "name": "stdout"
        }
      ]
    },
    {
      "cell_type": "markdown",
      "metadata": {
        "id": "jbYOQG1UcbXU"
      },
      "source": [
        "### Plot"
      ]
    },
    {
      "cell_type": "code",
      "metadata": {
        "id": "m_2NnwH8rhk-",
        "colab": {
          "base_uri": "https://localhost:8080/",
          "height": 750
        },
        "outputId": "fc48ae66-3b3f-4104-ccac-1858487e485b"
      },
      "source": [
        "from scipy.stats import norm\n",
        "\n",
        "specific_key = '64870'\n",
        "\n",
        "# Plot\n",
        "sns.set_context('talk')\n",
        "sample_dataset = historical[historical['forecast_key'].isin(historical['forecast_key']\\\n",
        "                                                            .drop_duplicates().sample())] # random key\n",
        "\n",
        "sample_dataset = historical[historical['forecast_key'].isin([specific_key])]  \n",
        "print('Number of Obs:',len(sample_dataset))\n",
        "\n",
        "# Histogram\n",
        "plt.figure(figsize=(5,5))\n",
        "plt.title('Forecast Error Histogram')\n",
        "sns.distplot(sample_dataset['error'],bins=10,fit=norm)\n",
        "plt.show()\n",
        "\n",
        "# Error plot\n",
        "plt.figure(figsize=(10,4))\n",
        "plt.title('Forecast Error')\n",
        "sns.lineplot(y='error',x='month_year', data=sample_dataset)\n",
        "plt.axhline(0, ls='--',color='red')\n",
        "plt.show()"
      ],
      "execution_count": 159,
      "outputs": [
        {
          "output_type": "stream",
          "text": [
            "Number of Obs: 49\n"
          ],
          "name": "stdout"
        },
        {
          "output_type": "stream",
          "text": [
            "/usr/local/lib/python3.6/dist-packages/seaborn/distributions.py:2551: FutureWarning: `distplot` is a deprecated function and will be removed in a future version. Please adapt your code to use either `displot` (a figure-level function with similar flexibility) or `histplot` (an axes-level function for histograms).\n",
            "  warnings.warn(msg, FutureWarning)\n"
          ],
          "name": "stderr"
        },
        {
          "output_type": "display_data",
          "data": {
            "image/png": "[encoded data removed]",
            "text/plain": [
              "<Figure size 360x360 with 1 Axes>"
            ]
          },
          "metadata": {
            "tags": [],
            "needs_background": "light"
          }
        },
        {
          "output_type": "display_data",
          "data": {
            "image/png": "[encoded data removed]",
            "text/plain": [
              "<Figure size 720x288 with 1 Axes>"
            ]
          },
          "metadata": {
            "tags": [],
            "needs_background": "light"
          }
        }
      ]
    },
    {
      "cell_type": "markdown",
      "metadata": {
        "id": "PXkqwBpdScaZ"
      },
      "source": [
        "## Export to BigQuery"
      ]
    },
    {
      "cell_type": "code",
      "metadata": {
        "id": "89r4f6RnScAR",
        "colab": {
          "base_uri": "https://localhost:8080/"
        },
        "outputId": "3e41f6e9-33a3-4909-d47a-79084bc64609"
      },
      "source": [
        "from google.cloud import bigquery\n",
        "\n",
        "# Save table locally\n",
        "inventory_data.to_csv('ss_forecasts.csv')\n",
        "\n",
        "# Specify project and destination \n",
        "project_id = 'iowa-liquor-sales-266301'\n",
        "bq_dataset_name = \"forecasting\"\n",
        "\n",
        "# Local path of file to be uploaded\n",
        "forecasts_path = \"/content/ss_forecasts.csv\"\n",
        "\n",
        "file_paths = [forecasts_path]\n",
        "table_names = [\"ml_forecasts\"]\n",
        "\n",
        "# Construct a BigQuery client object\n",
        "client = bigquery.Client(project = project_id)\n",
        "\n",
        "# Batch load tables\n",
        "for file_path,tb_name in zip(file_paths,table_names):\n",
        "  \n",
        "  table_id = \"{}.{}.{}\".format(project_id,bq_dataset_name,tb_name)\n",
        "\n",
        "  job_config = bigquery.LoadJobConfig(\n",
        "      source_format=bigquery.SourceFormat.CSV, \n",
        "      skip_leading_rows=1, \n",
        "      autodetect=True,\n",
        "  )\n",
        "\n",
        "  job_config.write_disposition = 'WRITE_TRUNCATE' # Replace data\n",
        "\n",
        "  with open(file_path, \"rb\") as source_file:\n",
        "      job = client.load_table_from_file(source_file, table_id,job_config=job_config)\n",
        "      \n",
        "  job.result()  # Waits for the job to complete.\n",
        "\n",
        "  table = client.get_table(table_id)  # Make an API request.\n",
        "\n",
        "  print(\n",
        "      \"Loaded {} rows and {} columns to {}\".format(\n",
        "          table.num_rows, len(table.schema), table_id\n",
        "      )\n",
        "  )"
      ],
      "execution_count": 160,
      "outputs": [
        {
          "output_type": "stream",
          "text": [
            "Loaded 231936 rows and 20 columns to iowa-liquor-sales-266301.forecasting.ml_forecasts\n"
          ],
          "name": "stdout"
        }
      ]
    },
    {
      "cell_type": "code",
      "metadata": {
        "id": "sc-SvHIthF9y"
      },
      "source": [
        ""
      ],
      "execution_count": null,
      "outputs": []
    }
  ]
}